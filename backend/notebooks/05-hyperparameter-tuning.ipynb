{
 "cells": [
  {
   "cell_type": "markdown",
   "metadata": {},
   "source": [
    "# Hyper Parameter Tune\n",
    "\n",
    "In this notebook we'll close the cycle and find the best parameters for the model that we built in previously. This process is called **Hyper Parameter Optimization** and involves some steps:\n",
    "\n",
    "1. Choose a optimization metric.\n",
    "2. Create a objective function to minimize/maximize.\n",
    "3. Define a parameter search space.\n",
    "4. Execute the paramter search.\n",
    "5. Check the results. If the found parameters gives a satisfactory model performance, then we are done and proceed to use the model. Otherwise, get back to step 3 and repeat util you find a model that best suits your needs.\n",
    "\n",
    "In this project will the [Optuna Framework](https://optuna.org/), one of the best Hyper Parameter Optimization framework out there. Personally, I like Optana for its easy to use (I'll see it in a bit), but there are other great libraries that serves the same purposes very well. Some examples are:\n",
    "\n",
    "- [Hyperopt](http://hyperopt.github.io/hyperopt/)\n",
    "- [Ray Tune](https://docs.ray.io/en/latest/tune/index.html)\n",
    "- [Scikit-Optimize](https://scikit-optimize.github.io/stable/)\n",
    "- Scikit-learn itself, through [GridSearchCV](https://scikit-learn.org/stable/modules/generated/sklearn.model_selection.GridSearchCV.html) and [RandomizedSearchCV](https://scikit-learn.org/stable/modules/generated/sklearn.model_selection.RandomizedSearchCV.html).\n",
    "\n",
    "With some adjustments, the concepts that will be presented are easily extendable for other frameworks as well. So, feel free to use test what I will do here with any other framework you want.\n",
    "\n",
    "**OBSERVATION:** This notebook will certainly take a at least 2 hours to run if you run all the optimzation code. It's totally normal.\n",
    "\n",
    "**OBSERVATION 2:** If you want to save time and just train the final model, begin by running this notebook until section [Hyperparameter Optimization with Optuna](#hyperparameter-optimization-with-optuna). After that jump right into section [Voting Regressor Update](#voting-regressor-update) and run the remaining cells."
   ]
  },
  {
   "cell_type": "code",
   "execution_count": 1,
   "metadata": {
    "tags": []
   },
   "outputs": [],
   "source": [
    "import os.path as P\n",
    "import pickle\n",
    "\n",
    "import cloudpickle\n",
    "import matplotlib.pyplot as plt\n",
    "import numpy as np\n",
    "import optuna\n",
    "import pandas as pd\n",
    "import seaborn as sns\n",
    "import sklearn\n",
    "from catboost import CatBoostRegressor\n",
    "from lightgbm import LGBMRegressor\n",
    "from sklearn.ensemble import RandomForestRegressor, VotingRegressor\n",
    "from sklearn.metrics import make_scorer, mean_absolute_error, mean_squared_error\n",
    "from sklearn.model_selection import cross_val_score, train_test_split\n",
    "from xgboost import XGBRegressor"
   ]
  },
  {
   "cell_type": "code",
   "execution_count": 2,
   "metadata": {},
   "outputs": [],
   "source": [
    "sklearn.set_config(transform_output=\"pandas\")"
   ]
  },
  {
   "cell_type": "code",
   "execution_count": 3,
   "metadata": {},
   "outputs": [],
   "source": [
    "random_state = 42"
   ]
  },
  {
   "cell_type": "markdown",
   "metadata": {},
   "source": [
    "# Data Loading\n",
    "\n",
    "## Preprocessing Pipeline\n",
    "\n",
    "Let's first load our preprocessing pipeline:\n"
   ]
  },
  {
   "cell_type": "code",
   "execution_count": 4,
   "metadata": {},
   "outputs": [],
   "source": [
    "artifacts_root_dir = P.join(P.dirname(P.abspath(\"\")), \"artifacts\")\n"
   ]
  },
  {
   "cell_type": "code",
   "execution_count": 5,
   "metadata": {},
   "outputs": [
    {
     "data": {
      "text/html": [
       "<style>#sk-container-id-1 {color: black;}#sk-container-id-1 pre{padding: 0;}#sk-container-id-1 div.sk-toggleable {background-color: white;}#sk-container-id-1 label.sk-toggleable__label {cursor: pointer;display: block;width: 100%;margin-bottom: 0;padding: 0.3em;box-sizing: border-box;text-align: center;}#sk-container-id-1 label.sk-toggleable__label-arrow:before {content: \"▸\";float: left;margin-right: 0.25em;color: #696969;}#sk-container-id-1 label.sk-toggleable__label-arrow:hover:before {color: black;}#sk-container-id-1 div.sk-estimator:hover label.sk-toggleable__label-arrow:before {color: black;}#sk-container-id-1 div.sk-toggleable__content {max-height: 0;max-width: 0;overflow: hidden;text-align: left;background-color: #f0f8ff;}#sk-container-id-1 div.sk-toggleable__content pre {margin: 0.2em;color: black;border-radius: 0.25em;background-color: #f0f8ff;}#sk-container-id-1 input.sk-toggleable__control:checked~div.sk-toggleable__content {max-height: 200px;max-width: 100%;overflow: auto;}#sk-container-id-1 input.sk-toggleable__control:checked~label.sk-toggleable__label-arrow:before {content: \"▾\";}#sk-container-id-1 div.sk-estimator input.sk-toggleable__control:checked~label.sk-toggleable__label {background-color: #d4ebff;}#sk-container-id-1 div.sk-label input.sk-toggleable__control:checked~label.sk-toggleable__label {background-color: #d4ebff;}#sk-container-id-1 input.sk-hidden--visually {border: 0;clip: rect(1px 1px 1px 1px);clip: rect(1px, 1px, 1px, 1px);height: 1px;margin: -1px;overflow: hidden;padding: 0;position: absolute;width: 1px;}#sk-container-id-1 div.sk-estimator {font-family: monospace;background-color: #f0f8ff;border: 1px dotted black;border-radius: 0.25em;box-sizing: border-box;margin-bottom: 0.5em;}#sk-container-id-1 div.sk-estimator:hover {background-color: #d4ebff;}#sk-container-id-1 div.sk-parallel-item::after {content: \"\";width: 100%;border-bottom: 1px solid gray;flex-grow: 1;}#sk-container-id-1 div.sk-label:hover label.sk-toggleable__label {background-color: #d4ebff;}#sk-container-id-1 div.sk-serial::before {content: \"\";position: absolute;border-left: 1px solid gray;box-sizing: border-box;top: 0;bottom: 0;left: 50%;z-index: 0;}#sk-container-id-1 div.sk-serial {display: flex;flex-direction: column;align-items: center;background-color: white;padding-right: 0.2em;padding-left: 0.2em;position: relative;}#sk-container-id-1 div.sk-item {position: relative;z-index: 1;}#sk-container-id-1 div.sk-parallel {display: flex;align-items: stretch;justify-content: center;background-color: white;position: relative;}#sk-container-id-1 div.sk-item::before, #sk-container-id-1 div.sk-parallel-item::before {content: \"\";position: absolute;border-left: 1px solid gray;box-sizing: border-box;top: 0;bottom: 0;left: 50%;z-index: -1;}#sk-container-id-1 div.sk-parallel-item {display: flex;flex-direction: column;z-index: 1;position: relative;background-color: white;}#sk-container-id-1 div.sk-parallel-item:first-child::after {align-self: flex-end;width: 50%;}#sk-container-id-1 div.sk-parallel-item:last-child::after {align-self: flex-start;width: 50%;}#sk-container-id-1 div.sk-parallel-item:only-child::after {width: 0;}#sk-container-id-1 div.sk-dashed-wrapped {border: 1px dashed gray;margin: 0 0.4em 0.5em 0.4em;box-sizing: border-box;padding-bottom: 0.4em;background-color: white;}#sk-container-id-1 div.sk-label label {font-family: monospace;font-weight: bold;display: inline-block;line-height: 1.2em;}#sk-container-id-1 div.sk-label-container {text-align: center;}#sk-container-id-1 div.sk-container {/* jupyter's `normalize.less` sets `[hidden] { display: none; }` but bootstrap.min.css set `[hidden] { display: none !important; }` so we also need the `!important` here to be able to override the default hidden behavior on the sphinx rendered scikit-learn.org. See: https://github.com/scikit-learn/scikit-learn/issues/21755 */display: inline-block !important;position: relative;}#sk-container-id-1 div.sk-text-repr-fallback {display: none;}</style><div id=\"sk-container-id-1\" class=\"sk-top-container\"><div class=\"sk-text-repr-fallback\"><pre>Pipeline(steps=[(&#x27;columntransformer-1&#x27;,\n",
       "                 ColumnTransformer(remainder=&#x27;passthrough&#x27;,\n",
       "                                   transformers=[(&#x27;simpleimputer-1&#x27;,\n",
       "                                                  SimpleImputer(fill_value=0.0),\n",
       "                                                  [&#x27;condominium_fee&#x27;, &#x27;suites&#x27;,\n",
       "                                                   &#x27;parking_spots&#x27;, &#x27;bedrooms&#x27;,\n",
       "                                                   &#x27;bathrooms&#x27;]),\n",
       "                                                 (&#x27;simpleimputer-2&#x27;,\n",
       "                                                  SimpleImputer(),\n",
       "                                                  [&#x27;annual_iptu_tax&#x27;,\n",
       "                                                   &#x27;usable_area&#x27;])],\n",
       "                                   verbose_feature_names_out=False)),\n",
       "                (&#x27;featureunion-1&#x27;,\n",
       "                 FeatureUnion(t...\n",
       "                (&#x27;functiontransformer&#x27;,\n",
       "                 FunctionTransformer(func=&lt;function &lt;lambda&gt; at 0x7f89f66a0310&gt;)),\n",
       "                (&#x27;columntransformer-2&#x27;,\n",
       "                 ColumnTransformer(remainder=MinMaxScaler(),\n",
       "                                   transformers=[(&#x27;onehotencoder&#x27;,\n",
       "                                                  OneHotEncoder(sparse_output=False),\n",
       "                                                  [&#x27;property_type&#x27;]),\n",
       "                                                 (&#x27;standardscaler&#x27;,\n",
       "                                                  StandardScaler(),\n",
       "                                                  [&#x27;usable_area&#x27;,\n",
       "                                                   &#x27;neighborhood_general_tax_score&#x27;])],\n",
       "                                   verbose_feature_names_out=False))])</pre><b>In a Jupyter environment, please rerun this cell to show the HTML representation or trust the notebook. <br />On GitHub, the HTML representation is unable to render, please try loading this page with nbviewer.org.</b></div><div class=\"sk-container\" hidden><div class=\"sk-item sk-dashed-wrapped\"><div class=\"sk-label-container\"><div class=\"sk-label sk-toggleable\"><input class=\"sk-toggleable__control sk-hidden--visually\" id=\"sk-estimator-id-1\" type=\"checkbox\" ><label for=\"sk-estimator-id-1\" class=\"sk-toggleable__label sk-toggleable__label-arrow\">Pipeline</label><div class=\"sk-toggleable__content\"><pre>Pipeline(steps=[(&#x27;columntransformer-1&#x27;,\n",
       "                 ColumnTransformer(remainder=&#x27;passthrough&#x27;,\n",
       "                                   transformers=[(&#x27;simpleimputer-1&#x27;,\n",
       "                                                  SimpleImputer(fill_value=0.0),\n",
       "                                                  [&#x27;condominium_fee&#x27;, &#x27;suites&#x27;,\n",
       "                                                   &#x27;parking_spots&#x27;, &#x27;bedrooms&#x27;,\n",
       "                                                   &#x27;bathrooms&#x27;]),\n",
       "                                                 (&#x27;simpleimputer-2&#x27;,\n",
       "                                                  SimpleImputer(),\n",
       "                                                  [&#x27;annual_iptu_tax&#x27;,\n",
       "                                                   &#x27;usable_area&#x27;])],\n",
       "                                   verbose_feature_names_out=False)),\n",
       "                (&#x27;featureunion-1&#x27;,\n",
       "                 FeatureUnion(t...\n",
       "                (&#x27;functiontransformer&#x27;,\n",
       "                 FunctionTransformer(func=&lt;function &lt;lambda&gt; at 0x7f89f66a0310&gt;)),\n",
       "                (&#x27;columntransformer-2&#x27;,\n",
       "                 ColumnTransformer(remainder=MinMaxScaler(),\n",
       "                                   transformers=[(&#x27;onehotencoder&#x27;,\n",
       "                                                  OneHotEncoder(sparse_output=False),\n",
       "                                                  [&#x27;property_type&#x27;]),\n",
       "                                                 (&#x27;standardscaler&#x27;,\n",
       "                                                  StandardScaler(),\n",
       "                                                  [&#x27;usable_area&#x27;,\n",
       "                                                   &#x27;neighborhood_general_tax_score&#x27;])],\n",
       "                                   verbose_feature_names_out=False))])</pre></div></div></div><div class=\"sk-serial\"><div class=\"sk-item sk-dashed-wrapped\"><div class=\"sk-label-container\"><div class=\"sk-label sk-toggleable\"><input class=\"sk-toggleable__control sk-hidden--visually\" id=\"sk-estimator-id-2\" type=\"checkbox\" ><label for=\"sk-estimator-id-2\" class=\"sk-toggleable__label sk-toggleable__label-arrow\">columntransformer-1: ColumnTransformer</label><div class=\"sk-toggleable__content\"><pre>ColumnTransformer(remainder=&#x27;passthrough&#x27;,\n",
       "                  transformers=[(&#x27;simpleimputer-1&#x27;,\n",
       "                                 SimpleImputer(fill_value=0.0),\n",
       "                                 [&#x27;condominium_fee&#x27;, &#x27;suites&#x27;, &#x27;parking_spots&#x27;,\n",
       "                                  &#x27;bedrooms&#x27;, &#x27;bathrooms&#x27;]),\n",
       "                                (&#x27;simpleimputer-2&#x27;, SimpleImputer(),\n",
       "                                 [&#x27;annual_iptu_tax&#x27;, &#x27;usable_area&#x27;])],\n",
       "                  verbose_feature_names_out=False)</pre></div></div></div><div class=\"sk-parallel\"><div class=\"sk-parallel-item\"><div class=\"sk-item\"><div class=\"sk-label-container\"><div class=\"sk-label sk-toggleable\"><input class=\"sk-toggleable__control sk-hidden--visually\" id=\"sk-estimator-id-3\" type=\"checkbox\" ><label for=\"sk-estimator-id-3\" class=\"sk-toggleable__label sk-toggleable__label-arrow\">simpleimputer-1</label><div class=\"sk-toggleable__content\"><pre>[&#x27;condominium_fee&#x27;, &#x27;suites&#x27;, &#x27;parking_spots&#x27;, &#x27;bedrooms&#x27;, &#x27;bathrooms&#x27;]</pre></div></div></div><div class=\"sk-serial\"><div class=\"sk-item\"><div class=\"sk-estimator sk-toggleable\"><input class=\"sk-toggleable__control sk-hidden--visually\" id=\"sk-estimator-id-4\" type=\"checkbox\" ><label for=\"sk-estimator-id-4\" class=\"sk-toggleable__label sk-toggleable__label-arrow\">SimpleImputer</label><div class=\"sk-toggleable__content\"><pre>SimpleImputer(fill_value=0.0)</pre></div></div></div></div></div></div><div class=\"sk-parallel-item\"><div class=\"sk-item\"><div class=\"sk-label-container\"><div class=\"sk-label sk-toggleable\"><input class=\"sk-toggleable__control sk-hidden--visually\" id=\"sk-estimator-id-5\" type=\"checkbox\" ><label for=\"sk-estimator-id-5\" class=\"sk-toggleable__label sk-toggleable__label-arrow\">simpleimputer-2</label><div class=\"sk-toggleable__content\"><pre>[&#x27;annual_iptu_tax&#x27;, &#x27;usable_area&#x27;]</pre></div></div></div><div class=\"sk-serial\"><div class=\"sk-item\"><div class=\"sk-estimator sk-toggleable\"><input class=\"sk-toggleable__control sk-hidden--visually\" id=\"sk-estimator-id-6\" type=\"checkbox\" ><label for=\"sk-estimator-id-6\" class=\"sk-toggleable__label sk-toggleable__label-arrow\">SimpleImputer</label><div class=\"sk-toggleable__content\"><pre>SimpleImputer()</pre></div></div></div></div></div></div><div class=\"sk-parallel-item\"><div class=\"sk-item\"><div class=\"sk-label-container\"><div class=\"sk-label sk-toggleable\"><input class=\"sk-toggleable__control sk-hidden--visually\" id=\"sk-estimator-id-7\" type=\"checkbox\" ><label for=\"sk-estimator-id-7\" class=\"sk-toggleable__label sk-toggleable__label-arrow\">remainder</label><div class=\"sk-toggleable__content\"><pre>[&#x27;index&#x27;, &#x27;neighborhood&#x27;, &#x27;property_type&#x27;, &#x27;ad_date&#x27;]</pre></div></div></div><div class=\"sk-serial\"><div class=\"sk-item\"><div class=\"sk-estimator sk-toggleable\"><input class=\"sk-toggleable__control sk-hidden--visually\" id=\"sk-estimator-id-8\" type=\"checkbox\" ><label for=\"sk-estimator-id-8\" class=\"sk-toggleable__label sk-toggleable__label-arrow\">passthrough</label><div class=\"sk-toggleable__content\"><pre>passthrough</pre></div></div></div></div></div></div></div></div><div class=\"sk-item sk-dashed-wrapped\"><div class=\"sk-label-container\"><div class=\"sk-label sk-toggleable\"><input class=\"sk-toggleable__control sk-hidden--visually\" id=\"sk-estimator-id-9\" type=\"checkbox\" ><label for=\"sk-estimator-id-9\" class=\"sk-toggleable__label sk-toggleable__label-arrow\">featureunion-1: FeatureUnion</label><div class=\"sk-toggleable__content\"><pre>FeatureUnion(transformer_list=[(&#x27;passthrough&#x27;,\n",
       "                                FunctionTransformer(feature_names_out=&#x27;one-to-one&#x27;)),\n",
       "                               (&#x27;functiontransformer&#x27;,\n",
       "                                FunctionTransformer(func=&lt;function add_general_tax at 0x7f8a083c0ca0&gt;))])</pre></div></div></div><div class=\"sk-parallel\"><div class=\"sk-parallel-item\"><div class=\"sk-item\"><div class=\"sk-label-container\"><div class=\"sk-label sk-toggleable\"><label>passthrough</label></div></div><div class=\"sk-serial\"><div class=\"sk-item\"><div class=\"sk-estimator sk-toggleable\"><input class=\"sk-toggleable__control sk-hidden--visually\" id=\"sk-estimator-id-10\" type=\"checkbox\" ><label for=\"sk-estimator-id-10\" class=\"sk-toggleable__label sk-toggleable__label-arrow\">FunctionTransformer</label><div class=\"sk-toggleable__content\"><pre>FunctionTransformer(feature_names_out=&#x27;one-to-one&#x27;)</pre></div></div></div></div></div></div><div class=\"sk-parallel-item\"><div class=\"sk-item\"><div class=\"sk-label-container\"><div class=\"sk-label sk-toggleable\"><label>functiontransformer</label></div></div><div class=\"sk-serial\"><div class=\"sk-item\"><div class=\"sk-estimator sk-toggleable\"><input class=\"sk-toggleable__control sk-hidden--visually\" id=\"sk-estimator-id-11\" type=\"checkbox\" ><label for=\"sk-estimator-id-11\" class=\"sk-toggleable__label sk-toggleable__label-arrow\">FunctionTransformer</label><div class=\"sk-toggleable__content\"><pre>FunctionTransformer(func=&lt;function add_general_tax at 0x7f8a083c0ca0&gt;)</pre></div></div></div></div></div></div></div></div><div class=\"sk-item sk-dashed-wrapped\"><div class=\"sk-label-container\"><div class=\"sk-label sk-toggleable\"><input class=\"sk-toggleable__control sk-hidden--visually\" id=\"sk-estimator-id-12\" type=\"checkbox\" ><label for=\"sk-estimator-id-12\" class=\"sk-toggleable__label sk-toggleable__label-arrow\">featureunion-2: FeatureUnion</label><div class=\"sk-toggleable__content\"><pre>FeatureUnion(transformer_list=[(&#x27;passthrough&#x27;,\n",
       "                                FunctionTransformer(feature_names_out=&#x27;one-to-one&#x27;)),\n",
       "                               (&#x27;functiontransformer&#x27;,\n",
       "                                FunctionTransformer(func=&lt;function add_area_score at 0x7f89f6674550&gt;))])</pre></div></div></div><div class=\"sk-parallel\"><div class=\"sk-parallel-item\"><div class=\"sk-item\"><div class=\"sk-label-container\"><div class=\"sk-label sk-toggleable\"><label>passthrough</label></div></div><div class=\"sk-serial\"><div class=\"sk-item\"><div class=\"sk-estimator sk-toggleable\"><input class=\"sk-toggleable__control sk-hidden--visually\" id=\"sk-estimator-id-13\" type=\"checkbox\" ><label for=\"sk-estimator-id-13\" class=\"sk-toggleable__label sk-toggleable__label-arrow\">FunctionTransformer</label><div class=\"sk-toggleable__content\"><pre>FunctionTransformer(feature_names_out=&#x27;one-to-one&#x27;)</pre></div></div></div></div></div></div><div class=\"sk-parallel-item\"><div class=\"sk-item\"><div class=\"sk-label-container\"><div class=\"sk-label sk-toggleable\"><label>functiontransformer</label></div></div><div class=\"sk-serial\"><div class=\"sk-item\"><div class=\"sk-estimator sk-toggleable\"><input class=\"sk-toggleable__control sk-hidden--visually\" id=\"sk-estimator-id-14\" type=\"checkbox\" ><label for=\"sk-estimator-id-14\" class=\"sk-toggleable__label sk-toggleable__label-arrow\">FunctionTransformer</label><div class=\"sk-toggleable__content\"><pre>FunctionTransformer(func=&lt;function add_area_score at 0x7f89f6674550&gt;)</pre></div></div></div></div></div></div></div></div><div class=\"sk-item sk-dashed-wrapped\"><div class=\"sk-label-container\"><div class=\"sk-label sk-toggleable\"><input class=\"sk-toggleable__control sk-hidden--visually\" id=\"sk-estimator-id-15\" type=\"checkbox\" ><label for=\"sk-estimator-id-15\" class=\"sk-toggleable__label sk-toggleable__label-arrow\">featureunion-3: FeatureUnion</label><div class=\"sk-toggleable__content\"><pre>FeatureUnion(transformer_list=[(&#x27;passthrough&#x27;,\n",
       "                                FunctionTransformer(feature_names_out=&#x27;one-to-one&#x27;)),\n",
       "                               (&#x27;neighborhoodscores&#x27;, NeighborhoodScores())])</pre></div></div></div><div class=\"sk-parallel\"><div class=\"sk-parallel-item\"><div class=\"sk-item\"><div class=\"sk-label-container\"><div class=\"sk-label sk-toggleable\"><label>passthrough</label></div></div><div class=\"sk-serial\"><div class=\"sk-item\"><div class=\"sk-estimator sk-toggleable\"><input class=\"sk-toggleable__control sk-hidden--visually\" id=\"sk-estimator-id-16\" type=\"checkbox\" ><label for=\"sk-estimator-id-16\" class=\"sk-toggleable__label sk-toggleable__label-arrow\">FunctionTransformer</label><div class=\"sk-toggleable__content\"><pre>FunctionTransformer(feature_names_out=&#x27;one-to-one&#x27;)</pre></div></div></div></div></div></div><div class=\"sk-parallel-item\"><div class=\"sk-item\"><div class=\"sk-label-container\"><div class=\"sk-label sk-toggleable\"><label>neighborhoodscores</label></div></div><div class=\"sk-serial\"><div class=\"sk-item\"><div class=\"sk-estimator sk-toggleable\"><input class=\"sk-toggleable__control sk-hidden--visually\" id=\"sk-estimator-id-17\" type=\"checkbox\" ><label for=\"sk-estimator-id-17\" class=\"sk-toggleable__label sk-toggleable__label-arrow\">NeighborhoodScores</label><div class=\"sk-toggleable__content\"><pre>NeighborhoodScores()</pre></div></div></div></div></div></div></div></div><div class=\"sk-item sk-dashed-wrapped\"><div class=\"sk-label-container\"><div class=\"sk-label sk-toggleable\"><input class=\"sk-toggleable__control sk-hidden--visually\" id=\"sk-estimator-id-18\" type=\"checkbox\" ><label for=\"sk-estimator-id-18\" class=\"sk-toggleable__label sk-toggleable__label-arrow\">featureunion-4: FeatureUnion</label><div class=\"sk-toggleable__content\"><pre>FeatureUnion(transformer_list=[(&#x27;passthrough&#x27;,\n",
       "                                FunctionTransformer(feature_names_out=&#x27;one-to-one&#x27;)),\n",
       "                               (&#x27;functiontransformer&#x27;,\n",
       "                                FunctionTransformer(func=&lt;function add_number_of_features at 0x7f89f66a0280&gt;))])</pre></div></div></div><div class=\"sk-parallel\"><div class=\"sk-parallel-item\"><div class=\"sk-item\"><div class=\"sk-label-container\"><div class=\"sk-label sk-toggleable\"><label>passthrough</label></div></div><div class=\"sk-serial\"><div class=\"sk-item\"><div class=\"sk-estimator sk-toggleable\"><input class=\"sk-toggleable__control sk-hidden--visually\" id=\"sk-estimator-id-19\" type=\"checkbox\" ><label for=\"sk-estimator-id-19\" class=\"sk-toggleable__label sk-toggleable__label-arrow\">FunctionTransformer</label><div class=\"sk-toggleable__content\"><pre>FunctionTransformer(feature_names_out=&#x27;one-to-one&#x27;)</pre></div></div></div></div></div></div><div class=\"sk-parallel-item\"><div class=\"sk-item\"><div class=\"sk-label-container\"><div class=\"sk-label sk-toggleable\"><label>functiontransformer</label></div></div><div class=\"sk-serial\"><div class=\"sk-item\"><div class=\"sk-estimator sk-toggleable\"><input class=\"sk-toggleable__control sk-hidden--visually\" id=\"sk-estimator-id-20\" type=\"checkbox\" ><label for=\"sk-estimator-id-20\" class=\"sk-toggleable__label sk-toggleable__label-arrow\">FunctionTransformer</label><div class=\"sk-toggleable__content\"><pre>FunctionTransformer(func=&lt;function add_number_of_features at 0x7f89f66a0280&gt;)</pre></div></div></div></div></div></div></div></div><div class=\"sk-item\"><div class=\"sk-estimator sk-toggleable\"><input class=\"sk-toggleable__control sk-hidden--visually\" id=\"sk-estimator-id-21\" type=\"checkbox\" ><label for=\"sk-estimator-id-21\" class=\"sk-toggleable__label sk-toggleable__label-arrow\">FunctionTransformer</label><div class=\"sk-toggleable__content\"><pre>FunctionTransformer(func=&lt;function &lt;lambda&gt; at 0x7f89f66a0310&gt;)</pre></div></div></div><div class=\"sk-item sk-dashed-wrapped\"><div class=\"sk-label-container\"><div class=\"sk-label sk-toggleable\"><input class=\"sk-toggleable__control sk-hidden--visually\" id=\"sk-estimator-id-22\" type=\"checkbox\" ><label for=\"sk-estimator-id-22\" class=\"sk-toggleable__label sk-toggleable__label-arrow\">columntransformer-2: ColumnTransformer</label><div class=\"sk-toggleable__content\"><pre>ColumnTransformer(remainder=MinMaxScaler(),\n",
       "                  transformers=[(&#x27;onehotencoder&#x27;,\n",
       "                                 OneHotEncoder(sparse_output=False),\n",
       "                                 [&#x27;property_type&#x27;]),\n",
       "                                (&#x27;standardscaler&#x27;, StandardScaler(),\n",
       "                                 [&#x27;usable_area&#x27;,\n",
       "                                  &#x27;neighborhood_general_tax_score&#x27;])],\n",
       "                  verbose_feature_names_out=False)</pre></div></div></div><div class=\"sk-parallel\"><div class=\"sk-parallel-item\"><div class=\"sk-item\"><div class=\"sk-label-container\"><div class=\"sk-label sk-toggleable\"><input class=\"sk-toggleable__control sk-hidden--visually\" id=\"sk-estimator-id-23\" type=\"checkbox\" ><label for=\"sk-estimator-id-23\" class=\"sk-toggleable__label sk-toggleable__label-arrow\">onehotencoder</label><div class=\"sk-toggleable__content\"><pre>[&#x27;property_type&#x27;]</pre></div></div></div><div class=\"sk-serial\"><div class=\"sk-item\"><div class=\"sk-estimator sk-toggleable\"><input class=\"sk-toggleable__control sk-hidden--visually\" id=\"sk-estimator-id-24\" type=\"checkbox\" ><label for=\"sk-estimator-id-24\" class=\"sk-toggleable__label sk-toggleable__label-arrow\">OneHotEncoder</label><div class=\"sk-toggleable__content\"><pre>OneHotEncoder(sparse_output=False)</pre></div></div></div></div></div></div><div class=\"sk-parallel-item\"><div class=\"sk-item\"><div class=\"sk-label-container\"><div class=\"sk-label sk-toggleable\"><input class=\"sk-toggleable__control sk-hidden--visually\" id=\"sk-estimator-id-25\" type=\"checkbox\" ><label for=\"sk-estimator-id-25\" class=\"sk-toggleable__label sk-toggleable__label-arrow\">standardscaler</label><div class=\"sk-toggleable__content\"><pre>[&#x27;usable_area&#x27;, &#x27;neighborhood_general_tax_score&#x27;]</pre></div></div></div><div class=\"sk-serial\"><div class=\"sk-item\"><div class=\"sk-estimator sk-toggleable\"><input class=\"sk-toggleable__control sk-hidden--visually\" id=\"sk-estimator-id-26\" type=\"checkbox\" ><label for=\"sk-estimator-id-26\" class=\"sk-toggleable__label sk-toggleable__label-arrow\">StandardScaler</label><div class=\"sk-toggleable__content\"><pre>StandardScaler()</pre></div></div></div></div></div></div><div class=\"sk-parallel-item\"><div class=\"sk-item\"><div class=\"sk-label-container\"><div class=\"sk-label sk-toggleable\"><input class=\"sk-toggleable__control sk-hidden--visually\" id=\"sk-estimator-id-27\" type=\"checkbox\" ><label for=\"sk-estimator-id-27\" class=\"sk-toggleable__label sk-toggleable__label-arrow\">remainder</label><div class=\"sk-toggleable__content\"><pre>[&#x27;suites&#x27;, &#x27;parking_spots&#x27;, &#x27;bedrooms&#x27;, &#x27;bathrooms&#x27;, &#x27;index&#x27;, &#x27;has_suites&#x27;, &#x27;has_parking_spots&#x27;, &#x27;has_bedrooms&#x27;, &#x27;has_bathrooms&#x27;, &#x27;n_features&#x27;]</pre></div></div></div><div class=\"sk-serial\"><div class=\"sk-item\"><div class=\"sk-estimator sk-toggleable\"><input class=\"sk-toggleable__control sk-hidden--visually\" id=\"sk-estimator-id-28\" type=\"checkbox\" ><label for=\"sk-estimator-id-28\" class=\"sk-toggleable__label sk-toggleable__label-arrow\">MinMaxScaler</label><div class=\"sk-toggleable__content\"><pre>MinMaxScaler()</pre></div></div></div></div></div></div></div></div></div></div></div></div>"
      ],
      "text/plain": [
       "Pipeline(steps=[('columntransformer-1',\n",
       "                 ColumnTransformer(remainder='passthrough',\n",
       "                                   transformers=[('simpleimputer-1',\n",
       "                                                  SimpleImputer(fill_value=0.0),\n",
       "                                                  ['condominium_fee', 'suites',\n",
       "                                                   'parking_spots', 'bedrooms',\n",
       "                                                   'bathrooms']),\n",
       "                                                 ('simpleimputer-2',\n",
       "                                                  SimpleImputer(),\n",
       "                                                  ['annual_iptu_tax',\n",
       "                                                   'usable_area'])],\n",
       "                                   verbose_feature_names_out=False)),\n",
       "                ('featureunion-1',\n",
       "                 FeatureUnion(t...\n",
       "                ('functiontransformer',\n",
       "                 FunctionTransformer(func=<function <lambda> at 0x7f89f66a0310>)),\n",
       "                ('columntransformer-2',\n",
       "                 ColumnTransformer(remainder=MinMaxScaler(),\n",
       "                                   transformers=[('onehotencoder',\n",
       "                                                  OneHotEncoder(sparse_output=False),\n",
       "                                                  ['property_type']),\n",
       "                                                 ('standardscaler',\n",
       "                                                  StandardScaler(),\n",
       "                                                  ['usable_area',\n",
       "                                                   'neighborhood_general_tax_score'])],\n",
       "                                   verbose_feature_names_out=False))])"
      ]
     },
     "execution_count": 5,
     "metadata": {},
     "output_type": "execute_result"
    }
   ],
   "source": [
    "preprocessing_pipeline_path = P.join(\n",
    "    artifacts_root_dir, \"preprocessing_pipeline.pickle\"\n",
    ")\n",
    "\n",
    "with open(preprocessing_pipeline_path, \"rb\") as f:\n",
    "    preprocessing_pipeline = pickle.load(f)\n",
    "\n",
    "preprocessing_pipeline"
   ]
  },
  {
   "cell_type": "code",
   "execution_count": 6,
   "metadata": {},
   "outputs": [
    {
     "data": {
      "text/html": [
       "<style>#sk-container-id-2 {color: black;}#sk-container-id-2 pre{padding: 0;}#sk-container-id-2 div.sk-toggleable {background-color: white;}#sk-container-id-2 label.sk-toggleable__label {cursor: pointer;display: block;width: 100%;margin-bottom: 0;padding: 0.3em;box-sizing: border-box;text-align: center;}#sk-container-id-2 label.sk-toggleable__label-arrow:before {content: \"▸\";float: left;margin-right: 0.25em;color: #696969;}#sk-container-id-2 label.sk-toggleable__label-arrow:hover:before {color: black;}#sk-container-id-2 div.sk-estimator:hover label.sk-toggleable__label-arrow:before {color: black;}#sk-container-id-2 div.sk-toggleable__content {max-height: 0;max-width: 0;overflow: hidden;text-align: left;background-color: #f0f8ff;}#sk-container-id-2 div.sk-toggleable__content pre {margin: 0.2em;color: black;border-radius: 0.25em;background-color: #f0f8ff;}#sk-container-id-2 input.sk-toggleable__control:checked~div.sk-toggleable__content {max-height: 200px;max-width: 100%;overflow: auto;}#sk-container-id-2 input.sk-toggleable__control:checked~label.sk-toggleable__label-arrow:before {content: \"▾\";}#sk-container-id-2 div.sk-estimator input.sk-toggleable__control:checked~label.sk-toggleable__label {background-color: #d4ebff;}#sk-container-id-2 div.sk-label input.sk-toggleable__control:checked~label.sk-toggleable__label {background-color: #d4ebff;}#sk-container-id-2 input.sk-hidden--visually {border: 0;clip: rect(1px 1px 1px 1px);clip: rect(1px, 1px, 1px, 1px);height: 1px;margin: -1px;overflow: hidden;padding: 0;position: absolute;width: 1px;}#sk-container-id-2 div.sk-estimator {font-family: monospace;background-color: #f0f8ff;border: 1px dotted black;border-radius: 0.25em;box-sizing: border-box;margin-bottom: 0.5em;}#sk-container-id-2 div.sk-estimator:hover {background-color: #d4ebff;}#sk-container-id-2 div.sk-parallel-item::after {content: \"\";width: 100%;border-bottom: 1px solid gray;flex-grow: 1;}#sk-container-id-2 div.sk-label:hover label.sk-toggleable__label {background-color: #d4ebff;}#sk-container-id-2 div.sk-serial::before {content: \"\";position: absolute;border-left: 1px solid gray;box-sizing: border-box;top: 0;bottom: 0;left: 50%;z-index: 0;}#sk-container-id-2 div.sk-serial {display: flex;flex-direction: column;align-items: center;background-color: white;padding-right: 0.2em;padding-left: 0.2em;position: relative;}#sk-container-id-2 div.sk-item {position: relative;z-index: 1;}#sk-container-id-2 div.sk-parallel {display: flex;align-items: stretch;justify-content: center;background-color: white;position: relative;}#sk-container-id-2 div.sk-item::before, #sk-container-id-2 div.sk-parallel-item::before {content: \"\";position: absolute;border-left: 1px solid gray;box-sizing: border-box;top: 0;bottom: 0;left: 50%;z-index: -1;}#sk-container-id-2 div.sk-parallel-item {display: flex;flex-direction: column;z-index: 1;position: relative;background-color: white;}#sk-container-id-2 div.sk-parallel-item:first-child::after {align-self: flex-end;width: 50%;}#sk-container-id-2 div.sk-parallel-item:last-child::after {align-self: flex-start;width: 50%;}#sk-container-id-2 div.sk-parallel-item:only-child::after {width: 0;}#sk-container-id-2 div.sk-dashed-wrapped {border: 1px dashed gray;margin: 0 0.4em 0.5em 0.4em;box-sizing: border-box;padding-bottom: 0.4em;background-color: white;}#sk-container-id-2 div.sk-label label {font-family: monospace;font-weight: bold;display: inline-block;line-height: 1.2em;}#sk-container-id-2 div.sk-label-container {text-align: center;}#sk-container-id-2 div.sk-container {/* jupyter's `normalize.less` sets `[hidden] { display: none; }` but bootstrap.min.css set `[hidden] { display: none !important; }` so we also need the `!important` here to be able to override the default hidden behavior on the sphinx rendered scikit-learn.org. See: https://github.com/scikit-learn/scikit-learn/issues/21755 */display: inline-block !important;position: relative;}#sk-container-id-2 div.sk-text-repr-fallback {display: none;}</style><div id=\"sk-container-id-2\" class=\"sk-top-container\"><div class=\"sk-text-repr-fallback\"><pre>FunctionTransformer(func=&lt;ufunc &#x27;log&#x27;&gt;, inverse_func=&lt;ufunc &#x27;exp&#x27;&gt;)</pre><b>In a Jupyter environment, please rerun this cell to show the HTML representation or trust the notebook. <br />On GitHub, the HTML representation is unable to render, please try loading this page with nbviewer.org.</b></div><div class=\"sk-container\" hidden><div class=\"sk-item\"><div class=\"sk-estimator sk-toggleable\"><input class=\"sk-toggleable__control sk-hidden--visually\" id=\"sk-estimator-id-29\" type=\"checkbox\" checked><label for=\"sk-estimator-id-29\" class=\"sk-toggleable__label sk-toggleable__label-arrow\">FunctionTransformer</label><div class=\"sk-toggleable__content\"><pre>FunctionTransformer(func=&lt;ufunc &#x27;log&#x27;&gt;, inverse_func=&lt;ufunc &#x27;exp&#x27;&gt;)</pre></div></div></div></div></div>"
      ],
      "text/plain": [
       "FunctionTransformer(func=<ufunc 'log'>, inverse_func=<ufunc 'exp'>)"
      ]
     },
     "execution_count": 6,
     "metadata": {},
     "output_type": "execute_result"
    }
   ],
   "source": [
    "target_transform_path = P.join(artifacts_root_dir, \"target_transform.pickle\")\n",
    "\n",
    "with open(target_transform_path, \"rb\") as f:\n",
    "    target_transform = pickle.load(f)\n",
    "\n",
    "target_transform\n"
   ]
  },
  {
   "cell_type": "markdown",
   "metadata": {},
   "source": [
    "## Dataset\n",
    "\n",
    "Let's also load the dataset\n"
   ]
  },
  {
   "cell_type": "code",
   "execution_count": 7,
   "metadata": {},
   "outputs": [],
   "source": [
    "preprocessed_dataset_root_dir = P.join(P.dirname(P.abspath(\"\")), \"data\", \"processed\")\n"
   ]
  },
  {
   "cell_type": "code",
   "execution_count": 8,
   "metadata": {},
   "outputs": [
    {
     "data": {
      "text/html": [
       "<div>\n",
       "<style scoped>\n",
       "    .dataframe tbody tr th:only-of-type {\n",
       "        vertical-align: middle;\n",
       "    }\n",
       "\n",
       "    .dataframe tbody tr th {\n",
       "        vertical-align: top;\n",
       "    }\n",
       "\n",
       "    .dataframe thead th {\n",
       "        text-align: right;\n",
       "    }\n",
       "</style>\n",
       "<table border=\"1\" class=\"dataframe\">\n",
       "  <thead>\n",
       "    <tr style=\"text-align: right;\">\n",
       "      <th></th>\n",
       "      <th>index</th>\n",
       "      <th>neighborhood</th>\n",
       "      <th>property_type</th>\n",
       "      <th>usable_area</th>\n",
       "      <th>bathrooms</th>\n",
       "      <th>suites</th>\n",
       "      <th>bedrooms</th>\n",
       "      <th>parking_spots</th>\n",
       "      <th>ad_date</th>\n",
       "      <th>condominium_fee</th>\n",
       "      <th>annual_iptu_tax</th>\n",
       "    </tr>\n",
       "  </thead>\n",
       "  <tbody>\n",
       "    <tr>\n",
       "      <th>0</th>\n",
       "      <td>1</td>\n",
       "      <td>Vila Santa Teresa (Zona Sul)</td>\n",
       "      <td>House</td>\n",
       "      <td>129.0</td>\n",
       "      <td>2.0</td>\n",
       "      <td>1.0</td>\n",
       "      <td>3.0</td>\n",
       "      <td>2.0</td>\n",
       "      <td>2016-03-21</td>\n",
       "      <td>NaN</td>\n",
       "      <td>NaN</td>\n",
       "    </tr>\n",
       "    <tr>\n",
       "      <th>1</th>\n",
       "      <td>2</td>\n",
       "      <td>Vila Olimpia</td>\n",
       "      <td>Apartament</td>\n",
       "      <td>80.0</td>\n",
       "      <td>2.0</td>\n",
       "      <td>1.0</td>\n",
       "      <td>3.0</td>\n",
       "      <td>2.0</td>\n",
       "      <td>2018-10-26</td>\n",
       "      <td>686.0</td>\n",
       "      <td>1610.0</td>\n",
       "    </tr>\n",
       "    <tr>\n",
       "      <th>2</th>\n",
       "      <td>3</td>\n",
       "      <td>Pinheiros</td>\n",
       "      <td>Apartament</td>\n",
       "      <td>94.0</td>\n",
       "      <td>1.0</td>\n",
       "      <td>0.0</td>\n",
       "      <td>3.0</td>\n",
       "      <td>2.0</td>\n",
       "      <td>2018-05-29</td>\n",
       "      <td>1120.0</td>\n",
       "      <td>489.0</td>\n",
       "    </tr>\n",
       "    <tr>\n",
       "      <th>3</th>\n",
       "      <td>4</td>\n",
       "      <td>Vila Santa Clara</td>\n",
       "      <td>Condominium</td>\n",
       "      <td>110.0</td>\n",
       "      <td>1.0</td>\n",
       "      <td>1.0</td>\n",
       "      <td>3.0</td>\n",
       "      <td>2.0</td>\n",
       "      <td>2018-04-16</td>\n",
       "      <td>0.0</td>\n",
       "      <td>0.0</td>\n",
       "    </tr>\n",
       "    <tr>\n",
       "      <th>4</th>\n",
       "      <td>5</td>\n",
       "      <td>Aclimacao</td>\n",
       "      <td>Apartament</td>\n",
       "      <td>141.0</td>\n",
       "      <td>4.0</td>\n",
       "      <td>3.0</td>\n",
       "      <td>4.0</td>\n",
       "      <td>2.0</td>\n",
       "      <td>2019-01-09</td>\n",
       "      <td>0.0</td>\n",
       "      <td>0.0</td>\n",
       "    </tr>\n",
       "    <tr>\n",
       "      <th>...</th>\n",
       "      <td>...</td>\n",
       "      <td>...</td>\n",
       "      <td>...</td>\n",
       "      <td>...</td>\n",
       "      <td>...</td>\n",
       "      <td>...</td>\n",
       "      <td>...</td>\n",
       "      <td>...</td>\n",
       "      <td>...</td>\n",
       "      <td>...</td>\n",
       "      <td>...</td>\n",
       "    </tr>\n",
       "    <tr>\n",
       "      <th>82072</th>\n",
       "      <td>88742</td>\n",
       "      <td>Vila Carmosina</td>\n",
       "      <td>Apartament</td>\n",
       "      <td>48.0</td>\n",
       "      <td>1.0</td>\n",
       "      <td>0.0</td>\n",
       "      <td>2.0</td>\n",
       "      <td>1.0</td>\n",
       "      <td>2017-10-07</td>\n",
       "      <td>244.0</td>\n",
       "      <td>0.0</td>\n",
       "    </tr>\n",
       "    <tr>\n",
       "      <th>82073</th>\n",
       "      <td>88743</td>\n",
       "      <td>Bela Vista</td>\n",
       "      <td>Apartament</td>\n",
       "      <td>60.0</td>\n",
       "      <td>1.0</td>\n",
       "      <td>NaN</td>\n",
       "      <td>1.0</td>\n",
       "      <td>1.0</td>\n",
       "      <td>2017-12-13</td>\n",
       "      <td>273.0</td>\n",
       "      <td>86.0</td>\n",
       "    </tr>\n",
       "    <tr>\n",
       "      <th>82074</th>\n",
       "      <td>88744</td>\n",
       "      <td>Liberdade</td>\n",
       "      <td>Apartament</td>\n",
       "      <td>53.0</td>\n",
       "      <td>2.0</td>\n",
       "      <td>1.0</td>\n",
       "      <td>2.0</td>\n",
       "      <td>1.0</td>\n",
       "      <td>2018-11-28</td>\n",
       "      <td>210.0</td>\n",
       "      <td>0.0</td>\n",
       "    </tr>\n",
       "    <tr>\n",
       "      <th>82075</th>\n",
       "      <td>88745</td>\n",
       "      <td>Vila Lageado</td>\n",
       "      <td>Apartament</td>\n",
       "      <td>20.0</td>\n",
       "      <td>3.0</td>\n",
       "      <td>2.0</td>\n",
       "      <td>3.0</td>\n",
       "      <td>2.0</td>\n",
       "      <td>2019-02-06</td>\n",
       "      <td>NaN</td>\n",
       "      <td>NaN</td>\n",
       "    </tr>\n",
       "    <tr>\n",
       "      <th>82076</th>\n",
       "      <td>88746</td>\n",
       "      <td>Alto de Pinheiros</td>\n",
       "      <td>Two-story House</td>\n",
       "      <td>357.0</td>\n",
       "      <td>4.0</td>\n",
       "      <td>1.0</td>\n",
       "      <td>4.0</td>\n",
       "      <td>4.0</td>\n",
       "      <td>2018-04-14</td>\n",
       "      <td>0.0</td>\n",
       "      <td>665.0</td>\n",
       "    </tr>\n",
       "  </tbody>\n",
       "</table>\n",
       "<p>82077 rows × 11 columns</p>\n",
       "</div>"
      ],
      "text/plain": [
       "       index                  neighborhood    property_type  usable_area  \\\n",
       "0          1  Vila Santa Teresa (Zona Sul)            House        129.0   \n",
       "1          2                  Vila Olimpia       Apartament         80.0   \n",
       "2          3                     Pinheiros       Apartament         94.0   \n",
       "3          4              Vila Santa Clara      Condominium        110.0   \n",
       "4          5                     Aclimacao       Apartament        141.0   \n",
       "...      ...                           ...              ...          ...   \n",
       "82072  88742                Vila Carmosina       Apartament         48.0   \n",
       "82073  88743                    Bela Vista       Apartament         60.0   \n",
       "82074  88744                     Liberdade       Apartament         53.0   \n",
       "82075  88745                  Vila Lageado       Apartament         20.0   \n",
       "82076  88746             Alto de Pinheiros  Two-story House        357.0   \n",
       "\n",
       "       bathrooms  suites  bedrooms  parking_spots    ad_date  condominium_fee  \\\n",
       "0            2.0     1.0       3.0            2.0 2016-03-21              NaN   \n",
       "1            2.0     1.0       3.0            2.0 2018-10-26            686.0   \n",
       "2            1.0     0.0       3.0            2.0 2018-05-29           1120.0   \n",
       "3            1.0     1.0       3.0            2.0 2018-04-16              0.0   \n",
       "4            4.0     3.0       4.0            2.0 2019-01-09              0.0   \n",
       "...          ...     ...       ...            ...        ...              ...   \n",
       "82072        1.0     0.0       2.0            1.0 2017-10-07            244.0   \n",
       "82073        1.0     NaN       1.0            1.0 2017-12-13            273.0   \n",
       "82074        2.0     1.0       2.0            1.0 2018-11-28            210.0   \n",
       "82075        3.0     2.0       3.0            2.0 2019-02-06              NaN   \n",
       "82076        4.0     1.0       4.0            4.0 2018-04-14              0.0   \n",
       "\n",
       "       annual_iptu_tax  \n",
       "0                  NaN  \n",
       "1               1610.0  \n",
       "2                489.0  \n",
       "3                  0.0  \n",
       "4                  0.0  \n",
       "...                ...  \n",
       "82072              0.0  \n",
       "82073             86.0  \n",
       "82074              0.0  \n",
       "82075              NaN  \n",
       "82076            665.0  \n",
       "\n",
       "[82077 rows x 11 columns]"
      ]
     },
     "metadata": {},
     "output_type": "display_data"
    },
    {
     "data": {
      "text/plain": [
       "0         336000\n",
       "1         739643\n",
       "2         630700\n",
       "3         385000\n",
       "4        1106000\n",
       "          ...   \n",
       "82072     171150\n",
       "82073     251999\n",
       "82074     249782\n",
       "82075     623000\n",
       "82076    1820000\n",
       "Name: sale_price, Length: 82077, dtype: int64"
      ]
     },
     "metadata": {},
     "output_type": "display_data"
    }
   ],
   "source": [
    "df_file = P.join(preprocessed_dataset_root_dir, \"cleaned_sp_sales_data.parquet\")\n",
    "\n",
    "features = pd.read_parquet(df_file)\n",
    "target = features.pop(\"sale_price\")\n",
    "\n",
    "display(features)\n",
    "display(target)\n"
   ]
  },
  {
   "cell_type": "markdown",
   "metadata": {},
   "source": [
    "Let's also apply the data transformation pipeline.\n"
   ]
  },
  {
   "cell_type": "code",
   "execution_count": 9,
   "metadata": {},
   "outputs": [
    {
     "data": {
      "text/html": [
       "<div>\n",
       "<style scoped>\n",
       "    .dataframe tbody tr th:only-of-type {\n",
       "        vertical-align: middle;\n",
       "    }\n",
       "\n",
       "    .dataframe tbody tr th {\n",
       "        vertical-align: top;\n",
       "    }\n",
       "\n",
       "    .dataframe thead th {\n",
       "        text-align: right;\n",
       "    }\n",
       "</style>\n",
       "<table border=\"1\" class=\"dataframe\">\n",
       "  <thead>\n",
       "    <tr style=\"text-align: right;\">\n",
       "      <th></th>\n",
       "      <th>property_type_Apartament</th>\n",
       "      <th>property_type_Condominium</th>\n",
       "      <th>property_type_Flat</th>\n",
       "      <th>property_type_House</th>\n",
       "      <th>property_type_Penthouse</th>\n",
       "      <th>property_type_Two-story House</th>\n",
       "      <th>usable_area</th>\n",
       "      <th>neighborhood_general_tax_score</th>\n",
       "      <th>suites</th>\n",
       "      <th>parking_spots</th>\n",
       "      <th>bedrooms</th>\n",
       "      <th>bathrooms</th>\n",
       "      <th>index</th>\n",
       "      <th>has_suites</th>\n",
       "      <th>has_parking_spots</th>\n",
       "      <th>has_bedrooms</th>\n",
       "      <th>has_bathrooms</th>\n",
       "      <th>n_features</th>\n",
       "    </tr>\n",
       "  </thead>\n",
       "  <tbody>\n",
       "    <tr>\n",
       "      <th>0</th>\n",
       "      <td>0.0</td>\n",
       "      <td>0.0</td>\n",
       "      <td>0.0</td>\n",
       "      <td>1.0</td>\n",
       "      <td>0.0</td>\n",
       "      <td>0.0</td>\n",
       "      <td>0.311599</td>\n",
       "      <td>-0.208425</td>\n",
       "      <td>0.250000</td>\n",
       "      <td>0.50</td>\n",
       "      <td>0.666667</td>\n",
       "      <td>0.2</td>\n",
       "      <td>0.000000</td>\n",
       "      <td>1.0</td>\n",
       "      <td>1.0</td>\n",
       "      <td>0.0</td>\n",
       "      <td>0.0</td>\n",
       "      <td>1.0</td>\n",
       "    </tr>\n",
       "    <tr>\n",
       "      <th>1</th>\n",
       "      <td>1.0</td>\n",
       "      <td>0.0</td>\n",
       "      <td>0.0</td>\n",
       "      <td>0.0</td>\n",
       "      <td>0.0</td>\n",
       "      <td>0.0</td>\n",
       "      <td>-0.462635</td>\n",
       "      <td>0.947172</td>\n",
       "      <td>0.250000</td>\n",
       "      <td>0.50</td>\n",
       "      <td>0.666667</td>\n",
       "      <td>0.2</td>\n",
       "      <td>0.000011</td>\n",
       "      <td>1.0</td>\n",
       "      <td>1.0</td>\n",
       "      <td>0.0</td>\n",
       "      <td>0.0</td>\n",
       "      <td>1.0</td>\n",
       "    </tr>\n",
       "    <tr>\n",
       "      <th>2</th>\n",
       "      <td>1.0</td>\n",
       "      <td>0.0</td>\n",
       "      <td>0.0</td>\n",
       "      <td>0.0</td>\n",
       "      <td>0.0</td>\n",
       "      <td>0.0</td>\n",
       "      <td>-0.241425</td>\n",
       "      <td>0.575735</td>\n",
       "      <td>0.000000</td>\n",
       "      <td>0.50</td>\n",
       "      <td>0.666667</td>\n",
       "      <td>0.0</td>\n",
       "      <td>0.000023</td>\n",
       "      <td>0.0</td>\n",
       "      <td>1.0</td>\n",
       "      <td>0.0</td>\n",
       "      <td>0.0</td>\n",
       "      <td>0.5</td>\n",
       "    </tr>\n",
       "    <tr>\n",
       "      <th>3</th>\n",
       "      <td>0.0</td>\n",
       "      <td>1.0</td>\n",
       "      <td>0.0</td>\n",
       "      <td>0.0</td>\n",
       "      <td>0.0</td>\n",
       "      <td>0.0</td>\n",
       "      <td>0.011386</td>\n",
       "      <td>-0.332291</td>\n",
       "      <td>0.250000</td>\n",
       "      <td>0.50</td>\n",
       "      <td>0.666667</td>\n",
       "      <td>0.0</td>\n",
       "      <td>0.000034</td>\n",
       "      <td>1.0</td>\n",
       "      <td>1.0</td>\n",
       "      <td>0.0</td>\n",
       "      <td>0.0</td>\n",
       "      <td>1.0</td>\n",
       "    </tr>\n",
       "    <tr>\n",
       "      <th>4</th>\n",
       "      <td>1.0</td>\n",
       "      <td>0.0</td>\n",
       "      <td>0.0</td>\n",
       "      <td>0.0</td>\n",
       "      <td>0.0</td>\n",
       "      <td>0.0</td>\n",
       "      <td>0.501207</td>\n",
       "      <td>0.477077</td>\n",
       "      <td>0.750000</td>\n",
       "      <td>0.50</td>\n",
       "      <td>1.000000</td>\n",
       "      <td>0.6</td>\n",
       "      <td>0.000045</td>\n",
       "      <td>1.0</td>\n",
       "      <td>1.0</td>\n",
       "      <td>0.0</td>\n",
       "      <td>0.0</td>\n",
       "      <td>1.0</td>\n",
       "    </tr>\n",
       "    <tr>\n",
       "      <th>...</th>\n",
       "      <td>...</td>\n",
       "      <td>...</td>\n",
       "      <td>...</td>\n",
       "      <td>...</td>\n",
       "      <td>...</td>\n",
       "      <td>...</td>\n",
       "      <td>...</td>\n",
       "      <td>...</td>\n",
       "      <td>...</td>\n",
       "      <td>...</td>\n",
       "      <td>...</td>\n",
       "      <td>...</td>\n",
       "      <td>...</td>\n",
       "      <td>...</td>\n",
       "      <td>...</td>\n",
       "      <td>...</td>\n",
       "      <td>...</td>\n",
       "      <td>...</td>\n",
       "    </tr>\n",
       "    <tr>\n",
       "      <th>82072</th>\n",
       "      <td>1.0</td>\n",
       "      <td>0.0</td>\n",
       "      <td>0.0</td>\n",
       "      <td>0.0</td>\n",
       "      <td>0.0</td>\n",
       "      <td>0.0</td>\n",
       "      <td>-0.968257</td>\n",
       "      <td>-0.343076</td>\n",
       "      <td>0.000000</td>\n",
       "      <td>0.25</td>\n",
       "      <td>0.333333</td>\n",
       "      <td>0.0</td>\n",
       "      <td>0.999955</td>\n",
       "      <td>0.0</td>\n",
       "      <td>1.0</td>\n",
       "      <td>0.0</td>\n",
       "      <td>0.0</td>\n",
       "      <td>0.5</td>\n",
       "    </tr>\n",
       "    <tr>\n",
       "      <th>82073</th>\n",
       "      <td>1.0</td>\n",
       "      <td>0.0</td>\n",
       "      <td>0.0</td>\n",
       "      <td>0.0</td>\n",
       "      <td>0.0</td>\n",
       "      <td>0.0</td>\n",
       "      <td>-0.778649</td>\n",
       "      <td>-0.170300</td>\n",
       "      <td>0.260507</td>\n",
       "      <td>0.25</td>\n",
       "      <td>0.000000</td>\n",
       "      <td>0.0</td>\n",
       "      <td>0.999966</td>\n",
       "      <td>1.0</td>\n",
       "      <td>1.0</td>\n",
       "      <td>0.0</td>\n",
       "      <td>0.0</td>\n",
       "      <td>1.0</td>\n",
       "    </tr>\n",
       "    <tr>\n",
       "      <th>82074</th>\n",
       "      <td>1.0</td>\n",
       "      <td>0.0</td>\n",
       "      <td>0.0</td>\n",
       "      <td>0.0</td>\n",
       "      <td>0.0</td>\n",
       "      <td>0.0</td>\n",
       "      <td>-0.889253</td>\n",
       "      <td>-0.192438</td>\n",
       "      <td>0.250000</td>\n",
       "      <td>0.25</td>\n",
       "      <td>0.333333</td>\n",
       "      <td>0.2</td>\n",
       "      <td>0.999977</td>\n",
       "      <td>1.0</td>\n",
       "      <td>1.0</td>\n",
       "      <td>0.0</td>\n",
       "      <td>0.0</td>\n",
       "      <td>1.0</td>\n",
       "    </tr>\n",
       "    <tr>\n",
       "      <th>82075</th>\n",
       "      <td>1.0</td>\n",
       "      <td>0.0</td>\n",
       "      <td>0.0</td>\n",
       "      <td>0.0</td>\n",
       "      <td>0.0</td>\n",
       "      <td>0.0</td>\n",
       "      <td>-1.410676</td>\n",
       "      <td>-0.184797</td>\n",
       "      <td>0.500000</td>\n",
       "      <td>0.50</td>\n",
       "      <td>0.666667</td>\n",
       "      <td>0.4</td>\n",
       "      <td>0.999989</td>\n",
       "      <td>1.0</td>\n",
       "      <td>1.0</td>\n",
       "      <td>0.0</td>\n",
       "      <td>0.0</td>\n",
       "      <td>1.0</td>\n",
       "    </tr>\n",
       "    <tr>\n",
       "      <th>82076</th>\n",
       "      <td>0.0</td>\n",
       "      <td>0.0</td>\n",
       "      <td>0.0</td>\n",
       "      <td>0.0</td>\n",
       "      <td>0.0</td>\n",
       "      <td>1.0</td>\n",
       "      <td>3.914155</td>\n",
       "      <td>-0.260871</td>\n",
       "      <td>0.250000</td>\n",
       "      <td>1.00</td>\n",
       "      <td>1.000000</td>\n",
       "      <td>0.6</td>\n",
       "      <td>1.000000</td>\n",
       "      <td>1.0</td>\n",
       "      <td>1.0</td>\n",
       "      <td>0.0</td>\n",
       "      <td>0.0</td>\n",
       "      <td>1.0</td>\n",
       "    </tr>\n",
       "  </tbody>\n",
       "</table>\n",
       "<p>82077 rows × 18 columns</p>\n",
       "</div>"
      ],
      "text/plain": [
       "       property_type_Apartament  property_type_Condominium  \\\n",
       "0                           0.0                        0.0   \n",
       "1                           1.0                        0.0   \n",
       "2                           1.0                        0.0   \n",
       "3                           0.0                        1.0   \n",
       "4                           1.0                        0.0   \n",
       "...                         ...                        ...   \n",
       "82072                       1.0                        0.0   \n",
       "82073                       1.0                        0.0   \n",
       "82074                       1.0                        0.0   \n",
       "82075                       1.0                        0.0   \n",
       "82076                       0.0                        0.0   \n",
       "\n",
       "       property_type_Flat  property_type_House  property_type_Penthouse  \\\n",
       "0                     0.0                  1.0                      0.0   \n",
       "1                     0.0                  0.0                      0.0   \n",
       "2                     0.0                  0.0                      0.0   \n",
       "3                     0.0                  0.0                      0.0   \n",
       "4                     0.0                  0.0                      0.0   \n",
       "...                   ...                  ...                      ...   \n",
       "82072                 0.0                  0.0                      0.0   \n",
       "82073                 0.0                  0.0                      0.0   \n",
       "82074                 0.0                  0.0                      0.0   \n",
       "82075                 0.0                  0.0                      0.0   \n",
       "82076                 0.0                  0.0                      0.0   \n",
       "\n",
       "       property_type_Two-story House  usable_area  \\\n",
       "0                                0.0     0.311599   \n",
       "1                                0.0    -0.462635   \n",
       "2                                0.0    -0.241425   \n",
       "3                                0.0     0.011386   \n",
       "4                                0.0     0.501207   \n",
       "...                              ...          ...   \n",
       "82072                            0.0    -0.968257   \n",
       "82073                            0.0    -0.778649   \n",
       "82074                            0.0    -0.889253   \n",
       "82075                            0.0    -1.410676   \n",
       "82076                            1.0     3.914155   \n",
       "\n",
       "       neighborhood_general_tax_score    suites  parking_spots  bedrooms  \\\n",
       "0                           -0.208425  0.250000           0.50  0.666667   \n",
       "1                            0.947172  0.250000           0.50  0.666667   \n",
       "2                            0.575735  0.000000           0.50  0.666667   \n",
       "3                           -0.332291  0.250000           0.50  0.666667   \n",
       "4                            0.477077  0.750000           0.50  1.000000   \n",
       "...                               ...       ...            ...       ...   \n",
       "82072                       -0.343076  0.000000           0.25  0.333333   \n",
       "82073                       -0.170300  0.260507           0.25  0.000000   \n",
       "82074                       -0.192438  0.250000           0.25  0.333333   \n",
       "82075                       -0.184797  0.500000           0.50  0.666667   \n",
       "82076                       -0.260871  0.250000           1.00  1.000000   \n",
       "\n",
       "       bathrooms     index  has_suites  has_parking_spots  has_bedrooms  \\\n",
       "0            0.2  0.000000         1.0                1.0           0.0   \n",
       "1            0.2  0.000011         1.0                1.0           0.0   \n",
       "2            0.0  0.000023         0.0                1.0           0.0   \n",
       "3            0.0  0.000034         1.0                1.0           0.0   \n",
       "4            0.6  0.000045         1.0                1.0           0.0   \n",
       "...          ...       ...         ...                ...           ...   \n",
       "82072        0.0  0.999955         0.0                1.0           0.0   \n",
       "82073        0.0  0.999966         1.0                1.0           0.0   \n",
       "82074        0.2  0.999977         1.0                1.0           0.0   \n",
       "82075        0.4  0.999989         1.0                1.0           0.0   \n",
       "82076        0.6  1.000000         1.0                1.0           0.0   \n",
       "\n",
       "       has_bathrooms  n_features  \n",
       "0                0.0         1.0  \n",
       "1                0.0         1.0  \n",
       "2                0.0         0.5  \n",
       "3                0.0         1.0  \n",
       "4                0.0         1.0  \n",
       "...              ...         ...  \n",
       "82072            0.0         0.5  \n",
       "82073            0.0         1.0  \n",
       "82074            0.0         1.0  \n",
       "82075            0.0         1.0  \n",
       "82076            0.0         1.0  \n",
       "\n",
       "[82077 rows x 18 columns]"
      ]
     },
     "metadata": {},
     "output_type": "display_data"
    },
    {
     "data": {
      "text/plain": [
       "0        12.724866\n",
       "1        13.513923\n",
       "2        13.354586\n",
       "3        12.860999\n",
       "4        13.916260\n",
       "           ...    \n",
       "82072    12.050296\n",
       "82073    12.437180\n",
       "82074    12.428344\n",
       "82075    13.342302\n",
       "82076    14.414347\n",
       "Name: sale_price, Length: 82077, dtype: float64"
      ]
     },
     "metadata": {},
     "output_type": "display_data"
    }
   ],
   "source": [
    "transformed_features = preprocessing_pipeline.transform(features)\n",
    "transformed_target = target_transform.transform(target)\n",
    "\n",
    "display(transformed_features)\n",
    "display(transformed_target)\n"
   ]
  },
  {
   "cell_type": "markdown",
   "metadata": {},
   "source": [
    "## Train/Test Split\n",
    "\n",
    "As in the last notebook, we'll split the data into train (80% of the original data) and test (20% of the original data) sets.\n"
   ]
  },
  {
   "cell_type": "code",
   "execution_count": 10,
   "metadata": {},
   "outputs": [
    {
     "name": "stdout",
     "output_type": "stream",
     "text": [
      "[(65661, 18), (16416, 18), (65661,), (16416,)]\n"
     ]
    }
   ],
   "source": [
    "X_train, X_test, y_train, y_test = train_test_split(\n",
    "    transformed_features, transformed_target, test_size=0.2, random_state=random_state\n",
    ")\n",
    "\n",
    "print([t.shape for t in (X_train, X_test, y_train, y_test)])\n"
   ]
  },
  {
   "cell_type": "markdown",
   "metadata": {},
   "source": [
    "# Hyperparameter Optimization with Optuna\n",
    "\n",
    "Optuna uses a technique called [Bayesian Optimization](https://en.wikipedia.org/wiki/Bayesian_optimization) to find the best parameters for you model. To put it simply, it **learns** the best parameters combinations by, first, computing the value of an **objective function** given some random combination of parameters and, by checking the variation of the objetive function, finding the best optimization path. It them computes some new random combinations of hyperparameters that are closer to an optimal objective function value. This process is repeated some times until some stop criteria is met.\n",
    "\n",
    "Usually, the **objective function** is the value of the evaluation metric (in our case, the Mean Squared Logarithmic Error) of our model trained with the given set of hyperparameters.\n",
    "\n",
    "Now, we'll find the best parameters for each of the models that compose the **voting classifier** that we've trained in the last notebook.\n"
   ]
  },
  {
   "cell_type": "markdown",
   "metadata": {},
   "source": [
    "## CatBoost Regressor\n",
    "\n",
    "First, we need to choose which hyperparameters we want to optimize. Here's a description of the hyperparameters that I've chosen.\n"
   ]
  },
  {
   "cell_type": "markdown",
   "metadata": {},
   "source": [
    "### Hyperparameters Descriptions\n",
    "\n",
    "- **Number of Trees** (`iterations`): The maximum number of trees that can be built within the model. Represents the steps (or rounds of refinement) the algorithm takes to create a more accurate model that learns from the data. We'll use a fixed number, as we'll be also tuning the `learning_rate`.\n",
    "- **Learning Rate** (`learning_rate`): Technically, is used for reducing the gradient step. In other words, it scales the contribution of each decision tree to manage the overall balance and accuracy of the model. A range of 0.02 to 0.7 is a good starting point.\n",
    "- **Tree Depth** (`depth`): Depth of the tree. You can think as the complexity or “height” of decision trees in your CatBoost model. We'll try out values between 8 and 10\n",
    "- **Subsample** (`subsample`): is a technique used to randomly choose a fraction of the dataset when constructing each tree, promoting diversity among the trees and helping to reduce overfitting. We'll from 0.9 to 1.0.\n",
    "- **Feature Sampling by Level** (`colsample_bylevel`): The percentage of features to use at each split selection. The idea is the same as with `subsample`, but this time, we’re sampling features instead of rows. We'll use values between 0.5 and 0.7.\n",
    "- **Minimum Data in Leaf** (`min_data_in_leaf`): The minimum number of training samples in a leaf, effectively controlling the split creation process. We'll go for values between 220 and 230.\n"
   ]
  },
  {
   "cell_type": "markdown",
   "metadata": {},
   "source": [
    "### Objective function\n",
    "\n",
    "With the hyperparameters and search space chosen, it's time to define the objective function.\n"
   ]
  },
  {
   "cell_type": "code",
   "execution_count": 29,
   "metadata": {},
   "outputs": [],
   "source": [
    "def catboost_objective(trial):\n",
    "    params = {\n",
    "        \"iterations\": trial.suggest_int(\"iterations\", 2250, 2500),\n",
    "        \"learning_rate\": trial.suggest_float(\"learning_rate\", 0.1, 0.3, log=True),\n",
    "        \"depth\": trial.suggest_categorical(\"depth\", [7, 8, 9]),\n",
    "        \"subsample\": trial.suggest_float(\"subsample\", 0.75, 0.9),\n",
    "        \"colsample_bylevel\": trial.suggest_float(\"colsample_bylevel\", 0.85, 1.0),\n",
    "        \"min_data_in_leaf\": trial.suggest_int(\"min_data_in_leaf\", 100, 125),\n",
    "    }\n",
    "\n",
    "    model = CatBoostRegressor(\n",
    "        **params, silent=True, allow_writing_files=False, random_seed=random_state\n",
    "    )\n",
    "\n",
    "    scorer = make_scorer(mean_squared_error)\n",
    "    scores = cross_val_score(model, X_train, y_train, cv=5, scoring=scorer)\n",
    "\n",
    "    avg_msle = scores.mean()\n",
    "    return avg_msle"
   ]
  },
  {
   "cell_type": "markdown",
   "metadata": {},
   "source": [
    "Let's take a minute to analyze this code.\n"
   ]
  },
  {
   "cell_type": "markdown",
   "metadata": {},
   "source": [
    "```python\n",
    "def catboost_objective(trial):\n",
    "```\n",
    "\n",
    "Every objective function in Optuna receives a **Trial** object, that will hold all relevant information for a specific run of the function. E.g.: The hyperparameter combination set, timestamp of the function call, id of the call, etc.\n"
   ]
  },
  {
   "cell_type": "markdown",
   "metadata": {},
   "source": [
    "```python\n",
    "    params = {\n",
    "        \"iterations\": trial.suggest_categorical(\"iterations\", [1750, 2000, 2250]),\n",
    "        \"learning_rate\": trial.suggest_float(\"learning_rate\", 0.1, 0.3, log=True),\n",
    "        \"depth\": trial.suggest_categorical(\"depth\", [7, 8, 9]),\n",
    "        \"subsample\": trial.suggest_float(\"subsample\", 0.75, 0.9),\n",
    "        \"colsample_bylevel\": trial.suggest_float(\"colsample_bylevel\", 0.85, 1.0),\n",
    "        \"min_data_in_leaf\": trial.suggest_int(\"min_data_in_leaf\", 100, 125),\n",
    "    }\n",
    "```\n",
    "\n",
    "The search spaces in Optuna are defined inside the objective function. The **Trial** object will take care of \"suggesting\" the hyperparameters combination for the function call.\n"
   ]
  },
  {
   "cell_type": "markdown",
   "metadata": {},
   "source": [
    "```python\n",
    "    model = cb.CatBoostRegressor(\n",
    "        **params, silent=True, allow_writing_files=False, random_seed=random_state\n",
    "    )\n",
    "```\n",
    "\n",
    "Here the hyperparameters combination is supplied to the model (the `**` unpacks the `dict` items as function parameters). We also supply the parameters `silent=True` and `allow_writing_files=False` (that instructs the CatBoost regressor to not generate the training output files, we don't them), and the `random_seed` as weel, to ensure the reproductibility of the results.\n"
   ]
  },
  {
   "cell_type": "markdown",
   "metadata": {},
   "source": [
    "```python\n",
    "    scorer = make_scorer(mean_squared_error)\n",
    "    scores = cross_val_score(model, X_train, y_train, cv=5, scoring=scorer)\n",
    "\n",
    "    avg_msle = scores.mean()\n",
    "    return avg_msle\n",
    "```\n",
    "\n",
    "Next we compute the cross validation scores for 5-folds using the trainning set, compute the average score and return it.\n"
   ]
  },
  {
   "cell_type": "markdown",
   "metadata": {},
   "source": [
    "### Optimization\n",
    "\n",
    "With the objective function defined, we'll proceed to create the **Study**. In Optuna, the **Study** represents an optimization session, which comprises, among other things, the set of **Trials** objects.\n",
    "\n",
    "The **Study** object also receives the `direction` parameter, that indicates if type of optimization we want: minimization or maximization. In our case, we want to minimize the error.\n",
    "\n",
    "The **Study** is also responsible for the optimization process, by calling `optimize`.\n"
   ]
  },
  {
   "cell_type": "code",
   "execution_count": 30,
   "metadata": {},
   "outputs": [
    {
     "name": "stderr",
     "output_type": "stream",
     "text": [
      "[I 2023-08-10 07:47:10,579] A new study created in memory with name: no-name-b40dd820-9969-47cd-9b20-89f00cc37030\n",
      "[I 2023-08-10 07:47:45,234] Trial 0 finished with value: 0.04583448386014276 and parameters: {'iterations': 2344, 'learning_rate': 0.2841881747862225, 'depth': 7, 'subsample': 0.7733991780504303, 'colsample_bylevel': 0.8587125418252299, 'min_data_in_leaf': 122}. Best is trial 0 with value: 0.04583448386014276.\n",
      "[I 2023-08-10 07:48:28,328] Trial 1 finished with value: 0.04556953524757917 and parameters: {'iterations': 2400, 'learning_rate': 0.2176889961925566, 'depth': 8, 'subsample': 0.7818508666017414, 'colsample_bylevel': 0.877273745081065, 'min_data_in_leaf': 104}. Best is trial 1 with value: 0.04556953524757917.\n",
      "[I 2023-08-10 07:49:25,523] Trial 2 finished with value: 0.0454974776276905 and parameters: {'iterations': 2326, 'learning_rate': 0.17798051007506852, 'depth': 9, 'subsample': 0.7709240790978062, 'colsample_bylevel': 0.8938216972802827, 'min_data_in_leaf': 109}. Best is trial 2 with value: 0.0454974776276905.\n",
      "[I 2023-08-10 07:50:23,408] Trial 3 finished with value: 0.045810897426028584 and parameters: {'iterations': 2364, 'learning_rate': 0.23693222883062728, 'depth': 9, 'subsample': 0.7569675619079996, 'colsample_bylevel': 0.9411317277852157, 'min_data_in_leaf': 104}. Best is trial 2 with value: 0.0454974776276905.\n",
      "[I 2023-08-10 07:50:55,489] Trial 4 finished with value: 0.04597923128706556 and parameters: {'iterations': 2266, 'learning_rate': 0.2836177831555697, 'depth': 7, 'subsample': 0.7646508171009576, 'colsample_bylevel': 0.9526349539768235, 'min_data_in_leaf': 111}. Best is trial 2 with value: 0.0454974776276905.\n",
      "[I 2023-08-10 07:51:36,836] Trial 5 finished with value: 0.04524865977442989 and parameters: {'iterations': 2280, 'learning_rate': 0.17228974517582207, 'depth': 8, 'subsample': 0.8493783426530973, 'colsample_bylevel': 0.8967566614134116, 'min_data_in_leaf': 113}. Best is trial 5 with value: 0.04524865977442989.\n",
      "[I 2023-08-10 07:52:12,143] Trial 6 finished with value: 0.0454347082836718 and parameters: {'iterations': 2387, 'learning_rate': 0.12251746147057514, 'depth': 7, 'subsample': 0.8842241025641473, 'colsample_bylevel': 0.9396849968216627, 'min_data_in_leaf': 123}. Best is trial 5 with value: 0.04524865977442989.\n",
      "[I 2023-08-10 07:53:07,196] Trial 7 finished with value: 0.04525015623820207 and parameters: {'iterations': 2272, 'learning_rate': 0.1240245298001643, 'depth': 9, 'subsample': 0.7907023547660844, 'colsample_bylevel': 0.9743106263727894, 'min_data_in_leaf': 109}. Best is trial 5 with value: 0.04524865977442989.\n",
      "[I 2023-08-10 07:53:47,448] Trial 8 finished with value: 0.04530072568599153 and parameters: {'iterations': 2320, 'learning_rate': 0.18152307342939514, 'depth': 8, 'subsample': 0.8980330404900776, 'colsample_bylevel': 0.9658367153944987, 'min_data_in_leaf': 105}. Best is trial 5 with value: 0.04524865977442989.\n",
      "[I 2023-08-10 07:54:40,967] Trial 9 finished with value: 0.04591199793829455 and parameters: {'iterations': 2251, 'learning_rate': 0.24494804632059974, 'depth': 9, 'subsample': 0.7611066977601135, 'colsample_bylevel': 0.9037698592816409, 'min_data_in_leaf': 103}. Best is trial 5 with value: 0.04524865977442989.\n",
      "[I 2023-08-10 07:55:24,294] Trial 10 finished with value: 0.04521469348588662 and parameters: {'iterations': 2487, 'learning_rate': 0.14785774007331892, 'depth': 8, 'subsample': 0.8459697289690102, 'colsample_bylevel': 0.9146335462107035, 'min_data_in_leaf': 117}. Best is trial 10 with value: 0.04521469348588662.\n",
      "[I 2023-08-10 07:56:07,774] Trial 11 finished with value: 0.0451982008288513 and parameters: {'iterations': 2495, 'learning_rate': 0.14763458736840154, 'depth': 8, 'subsample': 0.8465569104935735, 'colsample_bylevel': 0.9133050127749304, 'min_data_in_leaf': 118}. Best is trial 11 with value: 0.0451982008288513.\n",
      "[I 2023-08-10 07:56:51,038] Trial 12 finished with value: 0.045078903293397074 and parameters: {'iterations': 2494, 'learning_rate': 0.13878835358182384, 'depth': 8, 'subsample': 0.8323670848251662, 'colsample_bylevel': 0.9207926030428274, 'min_data_in_leaf': 117}. Best is trial 12 with value: 0.045078903293397074.\n",
      "[I 2023-08-10 07:57:33,097] Trial 13 finished with value: 0.045282569385008214 and parameters: {'iterations': 2488, 'learning_rate': 0.10133028018980329, 'depth': 8, 'subsample': 0.8171090621517434, 'colsample_bylevel': 0.9950001170603684, 'min_data_in_leaf': 118}. Best is trial 12 with value: 0.045078903293397074.\n",
      "[I 2023-08-10 07:58:15,310] Trial 14 finished with value: 0.04504618205937242 and parameters: {'iterations': 2443, 'learning_rate': 0.14189955530903206, 'depth': 8, 'subsample': 0.819617389353853, 'colsample_bylevel': 0.9271334384759783, 'min_data_in_leaf': 117}. Best is trial 14 with value: 0.04504618205937242.\n",
      "[I 2023-08-10 07:58:57,507] Trial 15 finished with value: 0.045173198399426316 and parameters: {'iterations': 2444, 'learning_rate': 0.13601588931855033, 'depth': 8, 'subsample': 0.8159048792452788, 'colsample_bylevel': 0.9245628090416279, 'min_data_in_leaf': 115}. Best is trial 14 with value: 0.04504618205937242.\n",
      "[I 2023-08-10 07:59:39,442] Trial 16 finished with value: 0.045293811732240855 and parameters: {'iterations': 2434, 'learning_rate': 0.10276959469099525, 'depth': 8, 'subsample': 0.8041113031816187, 'colsample_bylevel': 0.9278462690252426, 'min_data_in_leaf': 120}. Best is trial 14 with value: 0.04504618205937242.\n",
      "[I 2023-08-10 08:00:21,842] Trial 17 finished with value: 0.045097755484852196 and parameters: {'iterations': 2451, 'learning_rate': 0.1551812669094806, 'depth': 8, 'subsample': 0.8344403897953409, 'colsample_bylevel': 0.9303354457483775, 'min_data_in_leaf': 125}. Best is trial 14 with value: 0.04504618205937242.\n",
      "[I 2023-08-10 08:01:03,242] Trial 18 finished with value: 0.045242108536891944 and parameters: {'iterations': 2416, 'learning_rate': 0.11948041497175761, 'depth': 8, 'subsample': 0.7993348372453938, 'colsample_bylevel': 0.950581771390733, 'min_data_in_leaf': 114}. Best is trial 14 with value: 0.04504618205937242.\n",
      "[I 2023-08-10 08:01:38,248] Trial 19 finished with value: 0.04546316614175649 and parameters: {'iterations': 2469, 'learning_rate': 0.16195266377287368, 'depth': 7, 'subsample': 0.8266546033694175, 'colsample_bylevel': 0.8882585603820844, 'min_data_in_leaf': 116}. Best is trial 14 with value: 0.04504618205937242.\n",
      "[I 2023-08-10 08:02:20,673] Trial 20 finished with value: 0.04520334530515917 and parameters: {'iterations': 2458, 'learning_rate': 0.13622873524518928, 'depth': 8, 'subsample': 0.8015310112033206, 'colsample_bylevel': 0.9154309256555553, 'min_data_in_leaf': 100}. Best is trial 14 with value: 0.04504618205937242.\n",
      "[I 2023-08-10 08:03:02,718] Trial 21 finished with value: 0.045179040979755114 and parameters: {'iterations': 2424, 'learning_rate': 0.15701708406070433, 'depth': 8, 'subsample': 0.8320590192128637, 'colsample_bylevel': 0.9313099225257826, 'min_data_in_leaf': 125}. Best is trial 14 with value: 0.04504618205937242.\n",
      "[I 2023-08-10 08:03:45,488] Trial 22 finished with value: 0.04508738095798677 and parameters: {'iterations': 2469, 'learning_rate': 0.13686210154153555, 'depth': 8, 'subsample': 0.8310827161492385, 'colsample_bylevel': 0.922817562587253, 'min_data_in_leaf': 121}. Best is trial 14 with value: 0.04504618205937242.\n",
      "[I 2023-08-10 08:04:28,408] Trial 23 finished with value: 0.04517296602584717 and parameters: {'iterations': 2471, 'learning_rate': 0.13538323871741595, 'depth': 8, 'subsample': 0.8171159261813855, 'colsample_bylevel': 0.906919084327203, 'min_data_in_leaf': 120}. Best is trial 14 with value: 0.04504618205937242.\n",
      "[I 2023-08-10 08:05:12,016] Trial 24 finished with value: 0.0451219180602501 and parameters: {'iterations': 2498, 'learning_rate': 0.11069246759956454, 'depth': 8, 'subsample': 0.8610763718543616, 'colsample_bylevel': 0.9195879396773036, 'min_data_in_leaf': 120}. Best is trial 14 with value: 0.04504618205937242.\n",
      "[I 2023-08-10 08:05:54,730] Trial 25 finished with value: 0.045227751198743824 and parameters: {'iterations': 2472, 'learning_rate': 0.12998571883591614, 'depth': 8, 'subsample': 0.8118793448918145, 'colsample_bylevel': 0.9040738700531314, 'min_data_in_leaf': 122}. Best is trial 14 with value: 0.04504618205937242.\n",
      "[I 2023-08-10 08:06:36,499] Trial 26 finished with value: 0.04524107838890639 and parameters: {'iterations': 2411, 'learning_rate': 0.1166487689927722, 'depth': 8, 'subsample': 0.8302836499491848, 'colsample_bylevel': 0.9231622713862652, 'min_data_in_leaf': 112}. Best is trial 14 with value: 0.04504618205937242.\n",
      "[I 2023-08-10 08:07:18,225] Trial 27 finished with value: 0.04515822277643522 and parameters: {'iterations': 2436, 'learning_rate': 0.1434725338859964, 'depth': 8, 'subsample': 0.7904169652550728, 'colsample_bylevel': 0.9365848462552331, 'min_data_in_leaf': 119}. Best is trial 14 with value: 0.04504618205937242.\n",
      "[I 2023-08-10 08:08:17,231] Trial 28 finished with value: 0.045119460675117504 and parameters: {'iterations': 2460, 'learning_rate': 0.12935705508366252, 'depth': 9, 'subsample': 0.8403663557065854, 'colsample_bylevel': 0.9416359924203029, 'min_data_in_leaf': 116}. Best is trial 14 with value: 0.04504618205937242.\n",
      "[I 2023-08-10 08:08:51,190] Trial 29 finished with value: 0.04562832886278946 and parameters: {'iterations': 2366, 'learning_rate': 0.11197231609185962, 'depth': 7, 'subsample': 0.8587191919708477, 'colsample_bylevel': 0.8746515478789254, 'min_data_in_leaf': 122}. Best is trial 14 with value: 0.04504618205937242.\n"
     ]
    }
   ],
   "source": [
    "catboost_study = optuna.create_study(\n",
    "    direction=\"minimize\", sampler=optuna.samplers.TPESampler(seed=random_state)\n",
    ")\n",
    "catboost_study.optimize(catboost_objective, n_trials=30)"
   ]
  },
  {
   "cell_type": "markdown",
   "metadata": {},
   "source": [
    "With the process finished, we can retrieve the found set of best parameters, as well of the optimizal value of the objective function.\n"
   ]
  },
  {
   "cell_type": "code",
   "execution_count": 31,
   "metadata": {},
   "outputs": [
    {
     "name": "stdout",
     "output_type": "stream",
     "text": [
      "Best hyperparameters:  {'iterations': 2443, 'learning_rate': 0.14189955530903206, 'depth': 8, 'subsample': 0.819617389353853, 'colsample_bylevel': 0.9271334384759783, 'min_data_in_leaf': 117}\n",
      "Best MSLE 0.04504618205937242\n"
     ]
    }
   ],
   "source": [
    "print(\"Best hyperparameters: \", catboost_study.best_params)\n",
    "print(\"Best MSLE\", catboost_study.best_value)\n"
   ]
  },
  {
   "cell_type": "markdown",
   "metadata": {},
   "source": [
    "Now we can train the CatBoost regressor with the best hyperparameters and evaluate the resulting model error using the test set.\n"
   ]
  },
  {
   "cell_type": "code",
   "execution_count": 32,
   "metadata": {},
   "outputs": [
    {
     "data": {
      "text/plain": [
       "0.04385333528735309"
      ]
     },
     "execution_count": 32,
     "metadata": {},
     "output_type": "execute_result"
    }
   ],
   "source": [
    "catboost_model = CatBoostRegressor(\n",
    "    **catboost_study.best_params,\n",
    "    silent=True,\n",
    "    allow_writing_files=False,\n",
    "    random_seed=random_state\n",
    ")\n",
    "catboost_model.fit(X_train, y_train)\n",
    "catboost_predictions = catboost_model.predict(X_test)\n",
    "mean_squared_error(y_test, catboost_predictions)\n"
   ]
  },
  {
   "cell_type": "markdown",
   "metadata": {},
   "source": [
    "This is already an improvement of the voting classifier that we've trained in the last notebook.\n",
    "\n",
    "Next, we'll proceed to execute the same parameter optimization process for the **XGBoost**, **Random Forest** and **LightGBM** regression models.\n"
   ]
  },
  {
   "cell_type": "markdown",
   "metadata": {},
   "source": [
    "## XGBoost Regressor\n",
    "\n",
    "As we did with the CatBoost regressor, we'll describe the hyperparameters that we want to optimize.\n"
   ]
  },
  {
   "cell_type": "markdown",
   "metadata": {},
   "source": [
    "### Hyperparameters Descriptions\n",
    "\n",
    "- **Number of estimators** (`n_estimators`): Similar to CatBoostm, is the maximum number of trees that can be built within the model. We'll also use a fixed number.\n",
    "- **Max depth** (`max_depth`): Also similar to the CatBoost. We'll use values between 9 and 11.\n",
    "- **Subsample** (`subsample`): Also similar to the CatBoost. We'll use values between 0.7 to 1.\n",
    "- **Learning rate** (`learning_rate`): Also similar to the CatBoost. We'll use values between 0.001 to 0.1.\n",
    "- **ColSample by level** (`colsample_bylevel`): Also similar to the CatBoost. We'll use values between 0.4 to 0.65.\n",
    "- **Min child weight** (`min_child_weight`): That is the most different than those we've talked about. Defines the minimum sum of weights of all observations required in a child, and is used to control over-fitting. Higher values prevent a model from learning relations that might be highly specific to the particular sample selected for a tree.\n"
   ]
  },
  {
   "cell_type": "markdown",
   "metadata": {},
   "source": [
    "### Objective function\n"
   ]
  },
  {
   "cell_type": "code",
   "execution_count": 33,
   "metadata": {},
   "outputs": [],
   "source": [
    "def xgboost_objective(trial):\n",
    "    params = {\n",
    "        \"n_estimators\": trial.suggest_int(\"n_estimators\", 1750, 2250),\n",
    "        \"learning_rate\": trial.suggest_float(\"learning_rate\", 0.09, 0.3, log=True),\n",
    "        \"max_depth\": trial.suggest_categorical(\"max_depth\", [4, 6, 8]),\n",
    "        \"subsample\": trial.suggest_float(\"subsample\", 0.75, 1.0),\n",
    "        \"min_child_weight\": trial.suggest_categorical(\"min_child_weight\", [1, 2, 3]),\n",
    "        \"colsample_bylevel\": trial.suggest_float(\"colsample_bylevel\", 0.75, 1.0),\n",
    "    }\n",
    "\n",
    "    model = XGBRegressor(**params, random_state=random_state)\n",
    "\n",
    "    scorer = make_scorer(mean_squared_error)\n",
    "    scores = cross_val_score(model, X_train, y_train, cv=5, scoring=scorer)\n",
    "\n",
    "    avg_msle = scores.mean()\n",
    "    return avg_msle"
   ]
  },
  {
   "cell_type": "markdown",
   "metadata": {},
   "source": [
    "### Optimization\n"
   ]
  },
  {
   "cell_type": "code",
   "execution_count": 34,
   "metadata": {},
   "outputs": [
    {
     "name": "stderr",
     "output_type": "stream",
     "text": [
      "[I 2023-08-10 08:09:00,764] A new study created in memory with name: no-name-1afbcb00-30ba-4460-b13f-0bffa61e683c\n",
      "[I 2023-08-10 08:09:57,508] Trial 0 finished with value: 0.042230546411328125 and parameters: {'n_estimators': 1937, 'learning_rate': 0.2827162769866164, 'max_depth': 4, 'subsample': 0.7889986300840507, 'min_child_weight': 2, 'colsample_bylevel': 0.9270181444490113}. Best is trial 0 with value: 0.042230546411328125.\n",
      "[I 2023-08-10 08:10:47,178] Trial 1 finished with value: 0.04249661527908618 and parameters: {'n_estimators': 1760, 'learning_rate': 0.28932619527549386, 'max_depth': 4, 'subsample': 0.7958511274633584, 'min_child_weight': 2, 'colsample_bylevel': 0.8228072850495105}. Best is trial 0 with value: 0.042230546411328125.\n",
      "[I 2023-08-10 08:12:33,294] Trial 2 finished with value: 0.04102052307296557 and parameters: {'n_estimators': 2056, 'learning_rate': 0.10645863276228418, 'max_depth': 8, 'subsample': 0.9462939903482535, 'min_child_weight': 3, 'colsample_bylevel': 0.7616126031799995}. Best is trial 2 with value: 0.04102052307296557.\n",
      "[I 2023-08-10 08:14:24,585] Trial 3 finished with value: 0.041124577920026786 and parameters: {'n_estimators': 2054, 'learning_rate': 0.11051111208215648, 'max_depth': 8, 'subsample': 0.9520993370291153, 'min_child_weight': 3, 'colsample_bylevel': 0.8600381234349004}. Best is trial 2 with value: 0.04102052307296557.\n",
      "[I 2023-08-10 08:15:35,142] Trial 4 finished with value: 0.040881536211642026 and parameters: {'n_estimators': 1811, 'learning_rate': 0.16336536630372336, 'max_depth': 6, 'subsample': 0.9156305710884955, 'min_child_weight': 3, 'colsample_bylevel': 0.7962136138813818}. Best is trial 4 with value: 0.040881536211642026.\n",
      "[I 2023-08-10 08:16:34,154] Trial 5 finished with value: 0.041507453279322294 and parameters: {'n_estimators': 2235, 'learning_rate': 0.22884582176298848, 'max_depth': 4, 'subsample': 0.9804685587557792, 'min_child_weight': 2, 'colsample_bylevel': 0.8313325826908161}. Best is trial 4 with value: 0.040881536211642026.\n",
      "[I 2023-08-10 08:17:29,089] Trial 6 finished with value: 0.04194876305868029 and parameters: {'n_estimators': 1944, 'learning_rate': 0.1247743024735819, 'max_depth': 4, 'subsample': 0.8856740207895621, 'min_child_weight': 2, 'colsample_bylevel': 0.9967217341501293}. Best is trial 4 with value: 0.040881536211642026.\n",
      "[I 2023-08-10 08:18:50,055] Trial 7 finished with value: 0.04029638770838008 and parameters: {'n_estimators': 2136, 'learning_rate': 0.11432644932394688, 'max_depth': 6, 'subsample': 0.9322517920102469, 'min_child_weight': 1, 'colsample_bylevel': 0.7789672648812824}. Best is trial 7 with value: 0.04029638770838008.\n",
      "[I 2023-08-10 08:19:52,167] Trial 8 finished with value: 0.041894678854280956 and parameters: {'n_estimators': 2182, 'learning_rate': 0.1906127082589114, 'max_depth': 4, 'subsample': 0.8312958305066868, 'min_child_weight': 3, 'colsample_bylevel': 0.8680537312904874}. Best is trial 7 with value: 0.04029638770838008.\n",
      "[I 2023-08-10 08:21:31,441] Trial 9 finished with value: 0.04415368073262962 and parameters: {'n_estimators': 1809, 'learning_rate': 0.2124139567540856, 'max_depth': 8, 'subsample': 0.8734488990910977, 'min_child_weight': 1, 'colsample_bylevel': 0.7769728567483261}. Best is trial 7 with value: 0.04029638770838008.\n",
      "[I 2023-08-10 08:22:58,317] Trial 10 finished with value: 0.040682280638372294 and parameters: {'n_estimators': 2139, 'learning_rate': 0.09065219179036858, 'max_depth': 6, 'subsample': 0.7544904689037049, 'min_child_weight': 1, 'colsample_bylevel': 0.7596812999902958}. Best is trial 7 with value: 0.04029638770838008.\n",
      "[I 2023-08-10 08:24:25,524] Trial 11 finished with value: 0.040666959029205606 and parameters: {'n_estimators': 2138, 'learning_rate': 0.09136592543084146, 'max_depth': 6, 'subsample': 0.7516951952427304, 'min_child_weight': 1, 'colsample_bylevel': 0.752219713876017}. Best is trial 7 with value: 0.04029638770838008.\n",
      "[I 2023-08-10 08:25:47,683] Trial 12 finished with value: 0.040596366341693016 and parameters: {'n_estimators': 2110, 'learning_rate': 0.09312331291119803, 'max_depth': 6, 'subsample': 0.8529294753766024, 'min_child_weight': 1, 'colsample_bylevel': 0.7510551002709371}. Best is trial 7 with value: 0.04029638770838008.\n",
      "[I 2023-08-10 08:27:05,583] Trial 13 finished with value: 0.040355968388934745 and parameters: {'n_estimators': 2063, 'learning_rate': 0.13794048398380115, 'max_depth': 6, 'subsample': 0.9995018460612398, 'min_child_weight': 1, 'colsample_bylevel': 0.8022058098860618}. Best is trial 7 with value: 0.04029638770838008.\n",
      "[I 2023-08-10 08:28:21,073] Trial 14 finished with value: 0.04045523675141976 and parameters: {'n_estimators': 2020, 'learning_rate': 0.13567028369114528, 'max_depth': 6, 'subsample': 0.9990041329368589, 'min_child_weight': 1, 'colsample_bylevel': 0.8056979047669931}. Best is trial 7 with value: 0.04029638770838008.\n",
      "[I 2023-08-10 08:29:36,177] Trial 15 finished with value: 0.040520769701677124 and parameters: {'n_estimators': 1954, 'learning_rate': 0.1457349494344055, 'max_depth': 6, 'subsample': 0.9581976339353995, 'min_child_weight': 1, 'colsample_bylevel': 0.7898827245767117}. Best is trial 7 with value: 0.04029638770838008.\n",
      "[I 2023-08-10 08:31:08,549] Trial 16 finished with value: 0.04031681769352773 and parameters: {'n_estimators': 2241, 'learning_rate': 0.1227297204613274, 'max_depth': 6, 'subsample': 0.9990042473403034, 'min_child_weight': 1, 'colsample_bylevel': 0.8388893624093205}. Best is trial 7 with value: 0.04029638770838008.\n",
      "[I 2023-08-10 08:32:53,594] Trial 17 finished with value: 0.04010240914793736 and parameters: {'n_estimators': 2241, 'learning_rate': 0.11247558043808131, 'max_depth': 6, 'subsample': 0.9243686261321852, 'min_child_weight': 1, 'colsample_bylevel': 0.841988776280478}. Best is trial 17 with value: 0.04010240914793736.\n",
      "[I 2023-08-10 08:34:39,924] Trial 18 finished with value: 0.04016203971422209 and parameters: {'n_estimators': 2196, 'learning_rate': 0.10938360701584662, 'max_depth': 6, 'subsample': 0.9133589729723576, 'min_child_weight': 1, 'colsample_bylevel': 0.8956277205610083}. Best is trial 17 with value: 0.04010240914793736.\n",
      "[I 2023-08-10 08:36:25,560] Trial 19 finished with value: 0.040205226902363805 and parameters: {'n_estimators': 2198, 'learning_rate': 0.10374161468404218, 'max_depth': 6, 'subsample': 0.9082898255061526, 'min_child_weight': 1, 'colsample_bylevel': 0.8942372934724194}. Best is trial 17 with value: 0.04010240914793736.\n",
      "[I 2023-08-10 08:38:36,230] Trial 20 finished with value: 0.0426001184476001 and parameters: {'n_estimators': 2196, 'learning_rate': 0.15492480022057545, 'max_depth': 8, 'subsample': 0.9047690965706657, 'min_child_weight': 1, 'colsample_bylevel': 0.9022138003920451}. Best is trial 17 with value: 0.04010240914793736.\n",
      "[I 2023-08-10 08:40:07,245] Trial 21 finished with value: 0.04024272314556343 and parameters: {'n_estimators': 2202, 'learning_rate': 0.10230955300327821, 'max_depth': 6, 'subsample': 0.9071052972970227, 'min_child_weight': 1, 'colsample_bylevel': 0.8966852841947123}. Best is trial 17 with value: 0.04010240914793736.\n",
      "[I 2023-08-10 08:41:37,773] Trial 22 finished with value: 0.040197339545787344 and parameters: {'n_estimators': 2250, 'learning_rate': 0.10245333724220915, 'max_depth': 6, 'subsample': 0.9187957741803097, 'min_child_weight': 1, 'colsample_bylevel': 0.8882876057342067}. Best is trial 17 with value: 0.04010240914793736.\n",
      "[I 2023-08-10 08:43:15,211] Trial 23 finished with value: 0.040247964448907436 and parameters: {'n_estimators': 2245, 'learning_rate': 0.12310918856893147, 'max_depth': 6, 'subsample': 0.9302241670736736, 'min_child_weight': 1, 'colsample_bylevel': 0.8502415594130623}. Best is trial 17 with value: 0.04010240914793736.\n",
      "[I 2023-08-10 08:45:01,734] Trial 24 finished with value: 0.04016143386362164 and parameters: {'n_estimators': 2180, 'learning_rate': 0.09840482455693196, 'max_depth': 6, 'subsample': 0.8884147841370865, 'min_child_weight': 1, 'colsample_bylevel': 0.8777224595834366}. Best is trial 17 with value: 0.04010240914793736.\n",
      "[I 2023-08-10 08:46:46,868] Trial 25 finished with value: 0.04045801561634356 and parameters: {'n_estimators': 2166, 'learning_rate': 0.12057138608019798, 'max_depth': 6, 'subsample': 0.883342340965465, 'min_child_weight': 1, 'colsample_bylevel': 0.8685751218129336}. Best is trial 17 with value: 0.04010240914793736.\n",
      "[I 2023-08-10 08:48:25,331] Trial 26 finished with value: 0.040122443671331914 and parameters: {'n_estimators': 2099, 'learning_rate': 0.09889994350335637, 'max_depth': 6, 'subsample': 0.8950492125596563, 'min_child_weight': 1, 'colsample_bylevel': 0.9195453108172733}. Best is trial 17 with value: 0.04010240914793736.\n",
      "[I 2023-08-10 08:49:51,524] Trial 27 finished with value: 0.04006292514705697 and parameters: {'n_estimators': 2094, 'learning_rate': 0.09783310789549944, 'max_depth': 6, 'subsample': 0.894317697746841, 'min_child_weight': 1, 'colsample_bylevel': 0.920743729299481}. Best is trial 27 with value: 0.04006292514705697.\n",
      "[I 2023-08-10 08:51:52,291] Trial 28 finished with value: 0.04108700058257117 and parameters: {'n_estimators': 2104, 'learning_rate': 0.09748547473901313, 'max_depth': 8, 'subsample': 0.8664531586407894, 'min_child_weight': 3, 'colsample_bylevel': 0.9215073098961337}. Best is trial 27 with value: 0.04006292514705697.\n",
      "[I 2023-08-10 08:53:14,666] Trial 29 finished with value: 0.04048726498482074 and parameters: {'n_estimators': 1983, 'learning_rate': 0.1149272325768112, 'max_depth': 6, 'subsample': 0.8529244181103883, 'min_child_weight': 2, 'colsample_bylevel': 0.9445141033038253}. Best is trial 27 with value: 0.04006292514705697.\n"
     ]
    }
   ],
   "source": [
    "xgboost_study = optuna.create_study(\n",
    "    direction=\"minimize\", sampler=optuna.samplers.TPESampler(seed=random_state)\n",
    ")\n",
    "xgboost_study.optimize(xgboost_objective, n_trials=30)"
   ]
  },
  {
   "cell_type": "code",
   "execution_count": 35,
   "metadata": {},
   "outputs": [
    {
     "name": "stdout",
     "output_type": "stream",
     "text": [
      "Best hyperparameters:  {'n_estimators': 2094, 'learning_rate': 0.09783310789549944, 'max_depth': 6, 'subsample': 0.894317697746841, 'min_child_weight': 1, 'colsample_bylevel': 0.920743729299481}\n",
      "Best MSLE 0.04006292514705697\n"
     ]
    }
   ],
   "source": [
    "print(\"Best hyperparameters: \", xgboost_study.best_params)\n",
    "print(\"Best MSLE\", xgboost_study.best_value)"
   ]
  },
  {
   "cell_type": "code",
   "execution_count": 36,
   "metadata": {},
   "outputs": [
    {
     "data": {
      "text/plain": [
       "0.03859046748310053"
      ]
     },
     "execution_count": 36,
     "metadata": {},
     "output_type": "execute_result"
    }
   ],
   "source": [
    "xgboost_model = XGBRegressor(**xgboost_study.best_params, random_state=random_state)\n",
    "xgboost_model.fit(X_train, y_train)\n",
    "xgboost_predictions = xgboost_model.predict(X_test)\n",
    "mean_squared_error(y_test, xgboost_predictions)"
   ]
  },
  {
   "cell_type": "markdown",
   "metadata": {},
   "source": [
    "Wonderful! Now XGBoost regressor is also better than the voting regressor.\n"
   ]
  },
  {
   "cell_type": "markdown",
   "metadata": {},
   "source": [
    "## Random Forest Regressor\n"
   ]
  },
  {
   "cell_type": "markdown",
   "metadata": {},
   "source": [
    "### Hyperparameter Descriptions\n",
    "\n",
    "- **Number of estimators** (`n_estimators`): Similar to CatBoost, is the maximum number of trees that can be built within the model.\n",
    "- **Depth** (`max_depth`): Also similar to the CatBoost.\n",
    "- **Min samples leaf** (`min_samples_leaf`): The minimum number of samples required to be at a leaf node.\n",
    "- **Min samples split** (`min_samples_split`): The minimum number of samples required to split an internal node"
   ]
  },
  {
   "cell_type": "markdown",
   "metadata": {},
   "source": [
    "### Objective Function\n"
   ]
  },
  {
   "cell_type": "code",
   "execution_count": 23,
   "metadata": {},
   "outputs": [],
   "source": [
    "def random_forest_objective(trial):\n",
    "    params = {\n",
    "        \"n_estimators\": trial.suggest_int(\"n_estimators\", 50, 1000),\n",
    "        \"max_depth\": trial.suggest_int(\"max_depth\", 20, 30),\n",
    "        'min_samples_leaf': trial.suggest_categorical(\"min_samples_leaf\", [2, 3]),\n",
    "        'min_samples_split': trial.suggest_categorical(\"min_samples_split\", [2, 3]),\n",
    "    }\n",
    "\n",
    "    model = RandomForestRegressor(**params, n_jobs=-1, random_state=random_state)\n",
    "\n",
    "    scorer = make_scorer(mean_squared_error)\n",
    "    scores = cross_val_score(model, X_train, y_train, cv=5, scoring=scorer)\n",
    "\n",
    "    avg_msle = scores.mean()\n",
    "    return avg_msle\n"
   ]
  },
  {
   "cell_type": "markdown",
   "metadata": {},
   "source": [
    "### Optimization\n"
   ]
  },
  {
   "cell_type": "code",
   "execution_count": 24,
   "metadata": {},
   "outputs": [
    {
     "name": "stderr",
     "output_type": "stream",
     "text": [
      "[I 2023-08-10 14:15:17,697] A new study created in memory with name: no-name-490ccdbf-1bd3-40a9-ad1d-dc0a3a3a10f1\n",
      "[I 2023-08-10 14:15:49,076] Trial 0 finished with value: 0.05012363668650728 and parameters: {'n_estimators': 406, 'max_depth': 30, 'min_samples_leaf': 2, 'min_samples_split': 2}. Best is trial 0 with value: 0.05012363668650728.\n",
      "[I 2023-08-10 14:15:56,776] Trial 1 finished with value: 0.05101688259278192 and parameters: {'n_estimators': 105, 'max_depth': 29, 'min_samples_leaf': 3, 'min_samples_split': 3}. Best is trial 0 with value: 0.05012363668650728.\n",
      "[I 2023-08-10 14:16:55,546] Trial 2 finished with value: 0.05082979140546632 and parameters: {'n_estimators': 841, 'max_depth': 22, 'min_samples_leaf': 3, 'min_samples_split': 3}. Best is trial 0 with value: 0.05012363668650728.\n",
      "[I 2023-08-10 14:17:30,084] Trial 3 finished with value: 0.05009228226618547 and parameters: {'n_estimators': 460, 'max_depth': 23, 'min_samples_leaf': 2, 'min_samples_split': 3}. Best is trial 3 with value: 0.05009228226618547.\n",
      "[I 2023-08-10 14:18:04,335] Trial 4 finished with value: 0.05082564430471352 and parameters: {'n_estimators': 483, 'max_depth': 28, 'min_samples_leaf': 3, 'min_samples_split': 2}. Best is trial 3 with value: 0.05009228226618547.\n",
      "[I 2023-08-10 14:18:48,330] Trial 5 finished with value: 0.05085302650975171 and parameters: {'n_estimators': 627, 'max_depth': 21, 'min_samples_leaf': 3, 'min_samples_split': 2}. Best is trial 3 with value: 0.05009228226618547.\n",
      "[I 2023-08-10 14:19:13,786] Trial 6 finished with value: 0.050160598672902165 and parameters: {'n_estimators': 339, 'max_depth': 21, 'min_samples_leaf': 2, 'min_samples_split': 3}. Best is trial 3 with value: 0.05009228226618547.\n",
      "[I 2023-08-10 14:19:19,899] Trial 7 finished with value: 0.051127393243875864 and parameters: {'n_estimators': 82, 'max_depth': 30, 'min_samples_leaf': 3, 'min_samples_split': 3}. Best is trial 3 with value: 0.05009228226618547.\n",
      "[I 2023-08-10 14:20:02,242] Trial 8 finished with value: 0.050073528576607365 and parameters: {'n_estimators': 569, 'max_depth': 22, 'min_samples_leaf': 2, 'min_samples_split': 2}. Best is trial 8 with value: 0.050073528576607365.\n",
      "[I 2023-08-10 14:20:45,857] Trial 9 finished with value: 0.05080944316202022 and parameters: {'n_estimators': 618, 'max_depth': 30, 'min_samples_leaf': 3, 'min_samples_split': 3}. Best is trial 8 with value: 0.050073528576607365.\n",
      "[I 2023-08-10 14:21:56,848] Trial 10 finished with value: 0.05008072026758342 and parameters: {'n_estimators': 948, 'max_depth': 25, 'min_samples_leaf': 2, 'min_samples_split': 2}. Best is trial 8 with value: 0.050073528576607365.\n",
      "[I 2023-08-10 14:23:09,252] Trial 11 finished with value: 0.05008170773997361 and parameters: {'n_estimators': 964, 'max_depth': 25, 'min_samples_leaf': 2, 'min_samples_split': 2}. Best is trial 8 with value: 0.050073528576607365.\n",
      "[I 2023-08-10 14:24:08,933] Trial 12 finished with value: 0.050078495142355496 and parameters: {'n_estimators': 795, 'max_depth': 25, 'min_samples_leaf': 2, 'min_samples_split': 2}. Best is trial 8 with value: 0.050073528576607365.\n",
      "[I 2023-08-10 14:25:03,999] Trial 13 finished with value: 0.05008341206222213 and parameters: {'n_estimators': 748, 'max_depth': 27, 'min_samples_leaf': 2, 'min_samples_split': 2}. Best is trial 8 with value: 0.050073528576607365.\n",
      "[I 2023-08-10 14:25:58,068] Trial 14 finished with value: 0.05006733777431742 and parameters: {'n_estimators': 740, 'max_depth': 23, 'min_samples_leaf': 2, 'min_samples_split': 2}. Best is trial 14 with value: 0.05006733777431742.\n",
      "[I 2023-08-10 14:26:43,534] Trial 15 finished with value: 0.05006536488047908 and parameters: {'n_estimators': 624, 'max_depth': 23, 'min_samples_leaf': 2, 'min_samples_split': 2}. Best is trial 15 with value: 0.05006536488047908.\n",
      "[I 2023-08-10 14:27:35,675] Trial 16 finished with value: 0.0500726048703091 and parameters: {'n_estimators': 716, 'max_depth': 23, 'min_samples_leaf': 2, 'min_samples_split': 2}. Best is trial 15 with value: 0.05006536488047908.\n",
      "[I 2023-08-10 14:27:55,878] Trial 17 finished with value: 0.05026182737760482 and parameters: {'n_estimators': 281, 'max_depth': 20, 'min_samples_leaf': 2, 'min_samples_split': 2}. Best is trial 15 with value: 0.05006536488047908.\n",
      "[I 2023-08-10 14:28:43,820] Trial 18 finished with value: 0.050075136729809344 and parameters: {'n_estimators': 659, 'max_depth': 24, 'min_samples_leaf': 2, 'min_samples_split': 2}. Best is trial 15 with value: 0.05006536488047908.\n",
      "[I 2023-08-10 14:29:45,838] Trial 19 finished with value: 0.05007565556203025 and parameters: {'n_estimators': 850, 'max_depth': 24, 'min_samples_leaf': 2, 'min_samples_split': 2}. Best is trial 15 with value: 0.05006536488047908.\n",
      "[I 2023-08-10 14:30:02,949] Trial 20 finished with value: 0.0501958518577215 and parameters: {'n_estimators': 232, 'max_depth': 27, 'min_samples_leaf': 2, 'min_samples_split': 2}. Best is trial 15 with value: 0.05006536488047908.\n",
      "[I 2023-08-10 14:30:54,847] Trial 21 finished with value: 0.05007126413330291 and parameters: {'n_estimators': 718, 'max_depth': 23, 'min_samples_leaf': 2, 'min_samples_split': 2}. Best is trial 15 with value: 0.05006536488047908.\n",
      "[I 2023-08-10 14:31:45,904] Trial 22 finished with value: 0.050074905447097064 and parameters: {'n_estimators': 708, 'max_depth': 23, 'min_samples_leaf': 2, 'min_samples_split': 2}. Best is trial 15 with value: 0.05006536488047908.\n",
      "[I 2023-08-10 14:32:25,900] Trial 23 finished with value: 0.05007013454701912 and parameters: {'n_estimators': 551, 'max_depth': 24, 'min_samples_leaf': 2, 'min_samples_split': 2}. Best is trial 15 with value: 0.05006536488047908.\n",
      "[I 2023-08-10 14:33:05,666] Trial 24 finished with value: 0.05008342336753833 and parameters: {'n_estimators': 546, 'max_depth': 26, 'min_samples_leaf': 2, 'min_samples_split': 2}. Best is trial 15 with value: 0.05006536488047908.\n",
      "[I 2023-08-10 14:33:45,911] Trial 25 finished with value: 0.05006969541358638 and parameters: {'n_estimators': 556, 'max_depth': 24, 'min_samples_leaf': 2, 'min_samples_split': 2}. Best is trial 15 with value: 0.05006536488047908.\n",
      "[I 2023-08-10 14:34:15,287] Trial 26 finished with value: 0.05010472312469118 and parameters: {'n_estimators': 406, 'max_depth': 22, 'min_samples_leaf': 2, 'min_samples_split': 2}. Best is trial 15 with value: 0.05006536488047908.\n",
      "[I 2023-08-10 14:35:20,483] Trial 27 finished with value: 0.050082634659000425 and parameters: {'n_estimators': 901, 'max_depth': 26, 'min_samples_leaf': 2, 'min_samples_split': 2}. Best is trial 15 with value: 0.05006536488047908.\n",
      "[I 2023-08-10 14:36:06,764] Trial 28 finished with value: 0.050169197458802814 and parameters: {'n_estimators': 657, 'max_depth': 20, 'min_samples_leaf': 2, 'min_samples_split': 2}. Best is trial 15 with value: 0.05006536488047908.\n",
      "[I 2023-08-10 14:36:41,787] Trial 29 finished with value: 0.050087179830564765 and parameters: {'n_estimators': 483, 'max_depth': 24, 'min_samples_leaf': 2, 'min_samples_split': 2}. Best is trial 15 with value: 0.05006536488047908.\n"
     ]
    }
   ],
   "source": [
    "random_forest_study = optuna.create_study(\n",
    "    direction=\"minimize\", sampler=optuna.samplers.TPESampler(seed=random_state)\n",
    ")\n",
    "random_forest_study.optimize(random_forest_objective, n_trials=30)"
   ]
  },
  {
   "cell_type": "code",
   "execution_count": 25,
   "metadata": {},
   "outputs": [
    {
     "name": "stdout",
     "output_type": "stream",
     "text": [
      "Best hyperparameters:  {'n_estimators': 624, 'max_depth': 23, 'min_samples_leaf': 2, 'min_samples_split': 2}\n",
      "Best MSLE 0.05006536488047908\n"
     ]
    }
   ],
   "source": [
    "print(\"Best hyperparameters: \", random_forest_study.best_params)\n",
    "print(\"Best MSLE\", random_forest_study.best_value)"
   ]
  },
  {
   "cell_type": "code",
   "execution_count": 26,
   "metadata": {},
   "outputs": [
    {
     "data": {
      "text/plain": [
       "0.047254064725881006"
      ]
     },
     "execution_count": 26,
     "metadata": {},
     "output_type": "execute_result"
    }
   ],
   "source": [
    "random_forest_model = RandomForestRegressor(\n",
    "    **random_forest_study.best_params, random_state=random_state\n",
    ")\n",
    "random_forest_model.fit(X_train, y_train)\n",
    "random_forest_model_predictions = random_forest_model.predict(X_test)\n",
    "mean_squared_error(y_test, random_forest_model_predictions)"
   ]
  },
  {
   "cell_type": "markdown",
   "metadata": {},
   "source": [
    "The improvement wasn't that much. Let's hope the improvement in other models be sufficient.\n"
   ]
  },
  {
   "cell_type": "markdown",
   "metadata": {},
   "source": [
    "## LightGbm Regressor\n",
    "\n",
    "At this point, the parameters that we'll optimize in the LightGBM regressor all have their respective counterparts in previous models and were already explained. So let's jump in the optimization function right away.\n"
   ]
  },
  {
   "cell_type": "markdown",
   "metadata": {},
   "source": [
    "### Optimization Function\n"
   ]
  },
  {
   "cell_type": "code",
   "execution_count": 46,
   "metadata": {},
   "outputs": [],
   "source": [
    "def lightgbm_objective(trial):\n",
    "    params = {\n",
    "        \"n_estimators\": trial.suggest_int(\"n_estimators\", 2000, 2200),\n",
    "        \"max_depth\": trial.suggest_int(\"max_depth\", 15, 25),\n",
    "        \"num_leaves\": trial.suggest_int(\"num_leaves\", 30, 40),\n",
    "        \"subsample\": trial.suggest_float(\"subsample\", 0.7, 1.0),\n",
    "        \"colsample_bytree\": trial.suggest_float(\"colsample_bytree\", 0.5, 0.8),\n",
    "    }\n",
    "\n",
    "    model = LGBMRegressor(**params, n_jobs=-1, random_state=random_state)\n",
    "\n",
    "    scorer = make_scorer(mean_squared_error)\n",
    "    scores = cross_val_score(model, X_train, y_train, cv=5, scoring=scorer)\n",
    "\n",
    "    avg_msle = scores.mean()\n",
    "    return avg_msle\n"
   ]
  },
  {
   "cell_type": "markdown",
   "metadata": {},
   "source": [
    "### Optimization\n"
   ]
  },
  {
   "cell_type": "code",
   "execution_count": 47,
   "metadata": {},
   "outputs": [
    {
     "name": "stderr",
     "output_type": "stream",
     "text": [
      "[I 2023-08-10 20:01:16,117] A new study created in memory with name: no-name-a6fa67ab-491d-44c7-a7db-460a2d084a01\n",
      "[I 2023-08-10 20:01:33,668] Trial 0 finished with value: 0.04533504688823096 and parameters: {'n_estimators': 2075, 'max_depth': 25, 'num_leaves': 38, 'subsample': 0.8795975452591109, 'colsample_bytree': 0.5468055921327309}. Best is trial 0 with value: 0.04533504688823096.\n",
      "[I 2023-08-10 20:01:49,422] Trial 1 finished with value: 0.044716165878559234 and parameters: {'n_estimators': 2031, 'max_depth': 15, 'num_leaves': 39, 'subsample': 0.8803345035229626, 'colsample_bytree': 0.7124217733388136}. Best is trial 1 with value: 0.044716165878559234.\n",
      "[I 2023-08-10 20:02:06,988] Trial 2 finished with value: 0.045116961674677304 and parameters: {'n_estimators': 2004, 'max_depth': 25, 'num_leaves': 39, 'subsample': 0.7637017332034828, 'colsample_bytree': 0.5545474901621302}. Best is trial 1 with value: 0.044716165878559234.\n",
      "[I 2023-08-10 20:02:21,775] Trial 3 finished with value: 0.045194876965047114 and parameters: {'n_estimators': 2036, 'max_depth': 18, 'num_leaves': 35, 'subsample': 0.8295835055926347, 'colsample_bytree': 0.5873687420594126}. Best is trial 1 with value: 0.044716165878559234.\n",
      "[I 2023-08-10 20:02:36,661] Trial 4 finished with value: 0.0448584700877465 and parameters: {'n_estimators': 2122, 'max_depth': 16, 'num_leaves': 33, 'subsample': 0.8099085529881075, 'colsample_bytree': 0.6368209952651108}. Best is trial 1 with value: 0.044716165878559234.\n",
      "[I 2023-08-10 20:02:53,173] Trial 5 finished with value: 0.04530489879942705 and parameters: {'n_estimators': 2157, 'max_depth': 17, 'num_leaves': 35, 'subsample': 0.8777243706586128, 'colsample_bytree': 0.5139351238159994}. Best is trial 1 with value: 0.044716165878559234.\n",
      "[I 2023-08-10 20:03:07,062] Trial 6 finished with value: 0.044646664987925314 and parameters: {'n_estimators': 2122, 'max_depth': 16, 'num_leaves': 30, 'subsample': 0.984665661176, 'colsample_bytree': 0.7896896099223678}. Best is trial 6 with value: 0.044646664987925314.\n",
      "[I 2023-08-10 20:03:22,143] Trial 7 finished with value: 0.04496151107029027 and parameters: {'n_estimators': 2162, 'max_depth': 18, 'num_leaves': 31, 'subsample': 0.905269907953647, 'colsample_bytree': 0.6320457481218804}. Best is trial 6 with value: 0.044646664987925314.\n",
      "[I 2023-08-10 20:03:35,739] Trial 8 finished with value: 0.045149227870321725 and parameters: {'n_estimators': 2024, 'max_depth': 20, 'num_leaves': 30, 'subsample': 0.9727961206236346, 'colsample_bytree': 0.5776339944800051}. Best is trial 6 with value: 0.044646664987925314.\n",
      "[I 2023-08-10 20:03:52,060] Trial 9 finished with value: 0.045207986915425005 and parameters: {'n_estimators': 2133, 'max_depth': 18, 'num_leaves': 35, 'subsample': 0.8640130838029838, 'colsample_bytree': 0.5554563366576581}. Best is trial 6 with value: 0.044646664987925314.\n",
      "[I 2023-08-10 20:04:07,216] Trial 10 finished with value: 0.04475837880960078 and parameters: {'n_estimators': 2192, 'max_depth': 22, 'num_leaves': 32, 'subsample': 0.9865434487124839, 'colsample_bytree': 0.7951688706260979}. Best is trial 6 with value: 0.044646664987925314.\n",
      "[I 2023-08-10 20:04:24,820] Trial 11 finished with value: 0.04482392218187746 and parameters: {'n_estimators': 2079, 'max_depth': 15, 'num_leaves': 40, 'subsample': 0.935088886344705, 'colsample_bytree': 0.746785151179027}. Best is trial 6 with value: 0.044646664987925314.\n",
      "[I 2023-08-10 20:04:40,751] Trial 12 finished with value: 0.044877013990051305 and parameters: {'n_estimators': 2069, 'max_depth': 15, 'num_leaves': 37, 'subsample': 0.9358999903617062, 'colsample_bytree': 0.7163548200893659}. Best is trial 6 with value: 0.044646664987925314.\n",
      "[I 2023-08-10 20:04:57,131] Trial 13 finished with value: 0.044761010361891715 and parameters: {'n_estimators': 2108, 'max_depth': 20, 'num_leaves': 37, 'subsample': 0.711470356303677, 'colsample_bytree': 0.7166537061745226}. Best is trial 6 with value: 0.044646664987925314.\n",
      "[I 2023-08-10 20:05:12,008] Trial 14 finished with value: 0.04481671124960056 and parameters: {'n_estimators': 2053, 'max_depth': 15, 'num_leaves': 34, 'subsample': 0.9806741785775179, 'colsample_bytree': 0.7971415949725132}. Best is trial 6 with value: 0.044646664987925314.\n",
      "[I 2023-08-10 20:05:27,689] Trial 15 finished with value: 0.04486973088647299 and parameters: {'n_estimators': 2095, 'max_depth': 22, 'num_leaves': 37, 'subsample': 0.914437891202365, 'colsample_bytree': 0.695617689793721}. Best is trial 6 with value: 0.044646664987925314.\n",
      "[I 2023-08-10 20:05:41,457] Trial 16 finished with value: 0.04482896422178889 and parameters: {'n_estimators': 2146, 'max_depth': 17, 'num_leaves': 30, 'subsample': 0.9975697469320397, 'colsample_bytree': 0.7613439472675884}. Best is trial 6 with value: 0.044646664987925314.\n",
      "[I 2023-08-10 20:05:58,209] Trial 17 finished with value: 0.04490170990852295 and parameters: {'n_estimators': 2195, 'max_depth': 16, 'num_leaves': 40, 'subsample': 0.9503189177548766, 'colsample_bytree': 0.6823674077012647}. Best is trial 6 with value: 0.044646664987925314.\n",
      "[I 2023-08-10 20:06:12,005] Trial 18 finished with value: 0.044705874496107634 and parameters: {'n_estimators': 2045, 'max_depth': 19, 'num_leaves': 32, 'subsample': 0.9067467468954586, 'colsample_bytree': 0.7641283753613786}. Best is trial 6 with value: 0.044646664987925314.\n",
      "[I 2023-08-10 20:06:26,387] Trial 19 finished with value: 0.044737451550139085 and parameters: {'n_estimators': 2097, 'max_depth': 20, 'num_leaves': 32, 'subsample': 0.9544418680795852, 'colsample_bytree': 0.7614559574472036}. Best is trial 6 with value: 0.044646664987925314.\n",
      "[I 2023-08-10 20:06:39,585] Trial 20 finished with value: 0.044780253123244004 and parameters: {'n_estimators': 2053, 'max_depth': 22, 'num_leaves': 31, 'subsample': 0.9209890278940162, 'colsample_bytree': 0.79643661455415}. Best is trial 6 with value: 0.044646664987925314.\n",
      "[I 2023-08-10 20:06:53,193] Trial 21 finished with value: 0.04479010533954388 and parameters: {'n_estimators': 2001, 'max_depth': 19, 'num_leaves': 33, 'subsample': 0.895610037446894, 'colsample_bytree': 0.7469901541792768}. Best is trial 6 with value: 0.044646664987925314.\n",
      "[I 2023-08-10 20:07:06,130] Trial 22 finished with value: 0.04469024219977792 and parameters: {'n_estimators': 2026, 'max_depth': 16, 'num_leaves': 31, 'subsample': 0.8478470699213387, 'colsample_bytree': 0.7685579663688603}. Best is trial 6 with value: 0.044646664987925314.\n",
      "[I 2023-08-10 20:07:19,412] Trial 23 finished with value: 0.04481105882340972 and parameters: {'n_estimators': 2050, 'max_depth': 17, 'num_leaves': 31, 'subsample': 0.8469658116987021, 'colsample_bytree': 0.7737995983118484}. Best is trial 6 with value: 0.044646664987925314.\n",
      "[I 2023-08-10 20:07:32,146] Trial 24 finished with value: 0.04472347811777939 and parameters: {'n_estimators': 2020, 'max_depth': 16, 'num_leaves': 30, 'subsample': 0.9512813238609189, 'colsample_bytree': 0.7399023801711972}. Best is trial 6 with value: 0.044646664987925314.\n",
      "[I 2023-08-10 20:07:46,826] Trial 25 finished with value: 0.0446910468955652 and parameters: {'n_estimators': 2114, 'max_depth': 19, 'num_leaves': 32, 'subsample': 0.8958654007917661, 'colsample_bytree': 0.7715226366991018}. Best is trial 6 with value: 0.044646664987925314.\n",
      "[I 2023-08-10 20:08:01,605] Trial 26 finished with value: 0.044847973193306315 and parameters: {'n_estimators': 2119, 'max_depth': 21, 'num_leaves': 33, 'subsample': 0.8346631876361709, 'colsample_bytree': 0.7748842502450247}. Best is trial 6 with value: 0.044646664987925314.\n",
      "[I 2023-08-10 20:08:15,949] Trial 27 finished with value: 0.04470093012487011 and parameters: {'n_estimators': 2137, 'max_depth': 24, 'num_leaves': 31, 'subsample': 0.9629803697424192, 'colsample_bytree': 0.7392543906368952}. Best is trial 6 with value: 0.044646664987925314.\n",
      "[I 2023-08-10 20:08:31,361] Trial 28 finished with value: 0.04473815798189139 and parameters: {'n_estimators': 2089, 'max_depth': 17, 'num_leaves': 34, 'subsample': 0.9300227603514266, 'colsample_bytree': 0.7796806849683213}. Best is trial 6 with value: 0.044646664987925314.\n",
      "[I 2023-08-10 20:08:45,128] Trial 29 finished with value: 0.044863059016848686 and parameters: {'n_estimators': 2070, 'max_depth': 19, 'num_leaves': 30, 'subsample': 0.9981528355149126, 'colsample_bytree': 0.6694915960694281}. Best is trial 6 with value: 0.044646664987925314.\n"
     ]
    }
   ],
   "source": [
    "lightgbm_study = optuna.create_study(\n",
    "    direction=\"minimize\", sampler=optuna.samplers.TPESampler(seed=random_state)\n",
    ")\n",
    "lightgbm_study.optimize(lightgbm_objective, n_trials=30)"
   ]
  },
  {
   "cell_type": "code",
   "execution_count": 48,
   "metadata": {},
   "outputs": [
    {
     "name": "stdout",
     "output_type": "stream",
     "text": [
      "Best hyperparameters:  {'n_estimators': 2122, 'max_depth': 16, 'num_leaves': 30, 'subsample': 0.984665661176, 'colsample_bytree': 0.7896896099223678}\n",
      "Best MSLE 0.044646664987925314\n"
     ]
    }
   ],
   "source": [
    "print(\"Best hyperparameters: \", lightgbm_study.best_params)\n",
    "print(\"Best MSLE\", lightgbm_study.best_value)"
   ]
  },
  {
   "cell_type": "code",
   "execution_count": 49,
   "metadata": {},
   "outputs": [
    {
     "data": {
      "text/plain": [
       "0.043558931460592365"
      ]
     },
     "execution_count": 49,
     "metadata": {},
     "output_type": "execute_result"
    }
   ],
   "source": [
    "lightgbm_model = LGBMRegressor(**lightgbm_study.best_params, random_state=random_state)\n",
    "lightgbm_model.fit(X_train, y_train)\n",
    "lightgbm_model_predictions = lightgbm_model.predict(X_test)\n",
    "mean_squared_error(y_test, lightgbm_model_predictions)"
   ]
  },
  {
   "cell_type": "markdown",
   "metadata": {},
   "source": [
    "How about that! LightGBM regressor, the least performant model of the previous notebook, for this experiment, is now the best one. Sure, our approach was rather simplistic, and is not sufficient to tell if this model is really the best one. But, to not extended this study more than necessary, we'll accept these results as they are.\n"
   ]
  },
  {
   "cell_type": "markdown",
   "metadata": {},
   "source": [
    "# Voting Regressor Update\n",
    "\n",
    "As before, we'll build our final final as a combination of models but, this time, to reduce the model artifact size, we'll use only the two best performant models that we've optimized: XGBoost and LightGBM regressors."
   ]
  },
  {
   "cell_type": "markdown",
   "metadata": {},
   "source": [
    "## Optimized Models\n",
    "\n",
    "For simplicity and time saving, I'll repost the all models with the optimal parameters that I found in my tests. Instead of  running all the optimization code above, you just need to run the following cell."
   ]
  },
  {
   "cell_type": "code",
   "execution_count": 11,
   "metadata": {},
   "outputs": [],
   "source": [
    "# catboost_model = CatBoostRegressor(\n",
    "#     **{\n",
    "#         \"iterations\": 2443,\n",
    "#         \"learning_rate\": 0.14189955530903206,\n",
    "#         \"depth\": 8,\n",
    "#         \"subsample\": 0.819617389353853,\n",
    "#         \"colsample_bylevel\": 0.9271334384759783,\n",
    "#         \"min_data_in_leaf\": 117,\n",
    "#     },\n",
    "#     allow_writing_files=False,\n",
    "#     silent=True,\n",
    "#     random_seed=random_state\n",
    "# )\n",
    "\n",
    "xgboost_model = XGBRegressor(\n",
    "    **{\n",
    "        \"n_estimators\": 2094,\n",
    "        \"learning_rate\": 0.09783310789549944,\n",
    "        \"max_depth\": 6,\n",
    "        \"subsample\": 0.894317697746841,\n",
    "        \"min_child_weight\": 1,\n",
    "        \"colsample_bylevel\": 0.920743729299481,\n",
    "    },\n",
    "    random_state=random_state\n",
    ")\n",
    "\n",
    "# random_forest_model = RandomForestRegressor(\n",
    "#     **{\n",
    "#         \"n_estimators\": 624,\n",
    "#         \"max_depth\": 23,\n",
    "#         \"min_samples_leaf\": 2,\n",
    "#         \"min_samples_split\": 2,\n",
    "#     },\n",
    "#     n_jobs=-1,\n",
    "#     random_state=random_state\n",
    "# )\n",
    "\n",
    "lightgbm_model = LGBMRegressor(\n",
    "    **{\n",
    "        \"n_estimators\": 2122,\n",
    "        \"max_depth\": 16,\n",
    "        \"num_leaves\": 30,\n",
    "        \"subsample\": 0.984665661176,\n",
    "        \"colsample_bytree\": 0.7896896099223678,\n",
    "    },\n",
    "    n_jobs=-1,\n",
    "    random_state=random_state\n",
    ")"
   ]
  },
  {
   "cell_type": "code",
   "execution_count": 12,
   "metadata": {},
   "outputs": [
    {
     "data": {
      "text/plain": [
       "0.038480330443879614"
      ]
     },
     "execution_count": 12,
     "metadata": {},
     "output_type": "execute_result"
    }
   ],
   "source": [
    "voting_regressor = VotingRegressor(\n",
    "    estimators=[\n",
    "        (model.__class__.__name__, model)\n",
    "        for model in (\n",
    "            # catboost_model,\n",
    "            xgboost_model,\n",
    "            # random_forest_model,\n",
    "            lightgbm_model,\n",
    "        )\n",
    "    ],\n",
    ")\n",
    "\n",
    "voting_regressor.fit(X_train, y_train)\n",
    "voting_regressor_predictions = voting_regressor.predict(X_test)\n",
    "mean_squared_error(y_test, voting_regressor_predictions)"
   ]
  },
  {
   "cell_type": "markdown",
   "metadata": {},
   "source": [
    "The error reduction wasn't that much this. Actually, if I were to choose, I would stick with the LightGBM Regressor or try different hyperparameter search spaces for the other models before using this model in a production environment, for example. But, for the sake of simplicity, we'll accept this model as the best one\n"
   ]
  },
  {
   "cell_type": "markdown",
   "metadata": {},
   "source": [
    "## Training with the whole dataset\n",
    "\n",
    "Now it's time to check how our regressor fares with the entire dataset.\n"
   ]
  },
  {
   "cell_type": "code",
   "execution_count": 13,
   "metadata": {},
   "outputs": [
    {
     "data": {
      "text/html": [
       "<style>#sk-container-id-3 {color: black;}#sk-container-id-3 pre{padding: 0;}#sk-container-id-3 div.sk-toggleable {background-color: white;}#sk-container-id-3 label.sk-toggleable__label {cursor: pointer;display: block;width: 100%;margin-bottom: 0;padding: 0.3em;box-sizing: border-box;text-align: center;}#sk-container-id-3 label.sk-toggleable__label-arrow:before {content: \"▸\";float: left;margin-right: 0.25em;color: #696969;}#sk-container-id-3 label.sk-toggleable__label-arrow:hover:before {color: black;}#sk-container-id-3 div.sk-estimator:hover label.sk-toggleable__label-arrow:before {color: black;}#sk-container-id-3 div.sk-toggleable__content {max-height: 0;max-width: 0;overflow: hidden;text-align: left;background-color: #f0f8ff;}#sk-container-id-3 div.sk-toggleable__content pre {margin: 0.2em;color: black;border-radius: 0.25em;background-color: #f0f8ff;}#sk-container-id-3 input.sk-toggleable__control:checked~div.sk-toggleable__content {max-height: 200px;max-width: 100%;overflow: auto;}#sk-container-id-3 input.sk-toggleable__control:checked~label.sk-toggleable__label-arrow:before {content: \"▾\";}#sk-container-id-3 div.sk-estimator input.sk-toggleable__control:checked~label.sk-toggleable__label {background-color: #d4ebff;}#sk-container-id-3 div.sk-label input.sk-toggleable__control:checked~label.sk-toggleable__label {background-color: #d4ebff;}#sk-container-id-3 input.sk-hidden--visually {border: 0;clip: rect(1px 1px 1px 1px);clip: rect(1px, 1px, 1px, 1px);height: 1px;margin: -1px;overflow: hidden;padding: 0;position: absolute;width: 1px;}#sk-container-id-3 div.sk-estimator {font-family: monospace;background-color: #f0f8ff;border: 1px dotted black;border-radius: 0.25em;box-sizing: border-box;margin-bottom: 0.5em;}#sk-container-id-3 div.sk-estimator:hover {background-color: #d4ebff;}#sk-container-id-3 div.sk-parallel-item::after {content: \"\";width: 100%;border-bottom: 1px solid gray;flex-grow: 1;}#sk-container-id-3 div.sk-label:hover label.sk-toggleable__label {background-color: #d4ebff;}#sk-container-id-3 div.sk-serial::before {content: \"\";position: absolute;border-left: 1px solid gray;box-sizing: border-box;top: 0;bottom: 0;left: 50%;z-index: 0;}#sk-container-id-3 div.sk-serial {display: flex;flex-direction: column;align-items: center;background-color: white;padding-right: 0.2em;padding-left: 0.2em;position: relative;}#sk-container-id-3 div.sk-item {position: relative;z-index: 1;}#sk-container-id-3 div.sk-parallel {display: flex;align-items: stretch;justify-content: center;background-color: white;position: relative;}#sk-container-id-3 div.sk-item::before, #sk-container-id-3 div.sk-parallel-item::before {content: \"\";position: absolute;border-left: 1px solid gray;box-sizing: border-box;top: 0;bottom: 0;left: 50%;z-index: -1;}#sk-container-id-3 div.sk-parallel-item {display: flex;flex-direction: column;z-index: 1;position: relative;background-color: white;}#sk-container-id-3 div.sk-parallel-item:first-child::after {align-self: flex-end;width: 50%;}#sk-container-id-3 div.sk-parallel-item:last-child::after {align-self: flex-start;width: 50%;}#sk-container-id-3 div.sk-parallel-item:only-child::after {width: 0;}#sk-container-id-3 div.sk-dashed-wrapped {border: 1px dashed gray;margin: 0 0.4em 0.5em 0.4em;box-sizing: border-box;padding-bottom: 0.4em;background-color: white;}#sk-container-id-3 div.sk-label label {font-family: monospace;font-weight: bold;display: inline-block;line-height: 1.2em;}#sk-container-id-3 div.sk-label-container {text-align: center;}#sk-container-id-3 div.sk-container {/* jupyter's `normalize.less` sets `[hidden] { display: none; }` but bootstrap.min.css set `[hidden] { display: none !important; }` so we also need the `!important` here to be able to override the default hidden behavior on the sphinx rendered scikit-learn.org. See: https://github.com/scikit-learn/scikit-learn/issues/21755 */display: inline-block !important;position: relative;}#sk-container-id-3 div.sk-text-repr-fallback {display: none;}</style><div id=\"sk-container-id-3\" class=\"sk-top-container\"><div class=\"sk-text-repr-fallback\"><pre>VotingRegressor(estimators=[(&#x27;XGBRegressor&#x27;,\n",
       "                             XGBRegressor(base_score=None, booster=None,\n",
       "                                          callbacks=None,\n",
       "                                          colsample_bylevel=0.920743729299481,\n",
       "                                          colsample_bynode=None,\n",
       "                                          colsample_bytree=None,\n",
       "                                          early_stopping_rounds=None,\n",
       "                                          enable_categorical=False,\n",
       "                                          eval_metric=None, feature_types=None,\n",
       "                                          gamma=None, gpu_id=None,\n",
       "                                          grow_policy=None,\n",
       "                                          importance_type=None,\n",
       "                                          interaction_constrai...\n",
       "                                          max_delta_step=None, max_depth=6,\n",
       "                                          max_leaves=None, min_child_weight=1,\n",
       "                                          missing=nan,\n",
       "                                          monotone_constraints=None,\n",
       "                                          n_estimators=2094, n_jobs=None,\n",
       "                                          num_parallel_tree=None,\n",
       "                                          predictor=None, random_state=42, ...)),\n",
       "                            (&#x27;LGBMRegressor&#x27;,\n",
       "                             LGBMRegressor(colsample_bytree=0.7896896099223678,\n",
       "                                           max_depth=16, n_estimators=2122,\n",
       "                                           num_leaves=30, random_state=42,\n",
       "                                           subsample=0.984665661176))])</pre><b>In a Jupyter environment, please rerun this cell to show the HTML representation or trust the notebook. <br />On GitHub, the HTML representation is unable to render, please try loading this page with nbviewer.org.</b></div><div class=\"sk-container\" hidden><div class=\"sk-item sk-dashed-wrapped\"><div class=\"sk-label-container\"><div class=\"sk-label sk-toggleable\"><input class=\"sk-toggleable__control sk-hidden--visually\" id=\"sk-estimator-id-30\" type=\"checkbox\" ><label for=\"sk-estimator-id-30\" class=\"sk-toggleable__label sk-toggleable__label-arrow\">VotingRegressor</label><div class=\"sk-toggleable__content\"><pre>VotingRegressor(estimators=[(&#x27;XGBRegressor&#x27;,\n",
       "                             XGBRegressor(base_score=None, booster=None,\n",
       "                                          callbacks=None,\n",
       "                                          colsample_bylevel=0.920743729299481,\n",
       "                                          colsample_bynode=None,\n",
       "                                          colsample_bytree=None,\n",
       "                                          early_stopping_rounds=None,\n",
       "                                          enable_categorical=False,\n",
       "                                          eval_metric=None, feature_types=None,\n",
       "                                          gamma=None, gpu_id=None,\n",
       "                                          grow_policy=None,\n",
       "                                          importance_type=None,\n",
       "                                          interaction_constrai...\n",
       "                                          max_delta_step=None, max_depth=6,\n",
       "                                          max_leaves=None, min_child_weight=1,\n",
       "                                          missing=nan,\n",
       "                                          monotone_constraints=None,\n",
       "                                          n_estimators=2094, n_jobs=None,\n",
       "                                          num_parallel_tree=None,\n",
       "                                          predictor=None, random_state=42, ...)),\n",
       "                            (&#x27;LGBMRegressor&#x27;,\n",
       "                             LGBMRegressor(colsample_bytree=0.7896896099223678,\n",
       "                                           max_depth=16, n_estimators=2122,\n",
       "                                           num_leaves=30, random_state=42,\n",
       "                                           subsample=0.984665661176))])</pre></div></div></div><div class=\"sk-parallel\"><div class=\"sk-parallel-item\"><div class=\"sk-item\"><div class=\"sk-label-container\"><div class=\"sk-label sk-toggleable\"><label>XGBRegressor</label></div></div><div class=\"sk-serial\"><div class=\"sk-item\"><div class=\"sk-estimator sk-toggleable\"><input class=\"sk-toggleable__control sk-hidden--visually\" id=\"sk-estimator-id-31\" type=\"checkbox\" ><label for=\"sk-estimator-id-31\" class=\"sk-toggleable__label sk-toggleable__label-arrow\">XGBRegressor</label><div class=\"sk-toggleable__content\"><pre>XGBRegressor(base_score=None, booster=None, callbacks=None,\n",
       "             colsample_bylevel=0.920743729299481, colsample_bynode=None,\n",
       "             colsample_bytree=None, early_stopping_rounds=None,\n",
       "             enable_categorical=False, eval_metric=None, feature_types=None,\n",
       "             gamma=None, gpu_id=None, grow_policy=None, importance_type=None,\n",
       "             interaction_constraints=None, learning_rate=0.09783310789549944,\n",
       "             max_bin=None, max_cat_threshold=None, max_cat_to_onehot=None,\n",
       "             max_delta_step=None, max_depth=6, max_leaves=None,\n",
       "             min_child_weight=1, missing=nan, monotone_constraints=None,\n",
       "             n_estimators=2094, n_jobs=None, num_parallel_tree=None,\n",
       "             predictor=None, random_state=42, ...)</pre></div></div></div></div></div></div><div class=\"sk-parallel-item\"><div class=\"sk-item\"><div class=\"sk-label-container\"><div class=\"sk-label sk-toggleable\"><label>LGBMRegressor</label></div></div><div class=\"sk-serial\"><div class=\"sk-item\"><div class=\"sk-estimator sk-toggleable\"><input class=\"sk-toggleable__control sk-hidden--visually\" id=\"sk-estimator-id-32\" type=\"checkbox\" ><label for=\"sk-estimator-id-32\" class=\"sk-toggleable__label sk-toggleable__label-arrow\">LGBMRegressor</label><div class=\"sk-toggleable__content\"><pre>LGBMRegressor(colsample_bytree=0.7896896099223678, max_depth=16,\n",
       "              n_estimators=2122, num_leaves=30, random_state=42,\n",
       "              subsample=0.984665661176)</pre></div></div></div></div></div></div></div></div></div></div>"
      ],
      "text/plain": [
       "VotingRegressor(estimators=[('XGBRegressor',\n",
       "                             XGBRegressor(base_score=None, booster=None,\n",
       "                                          callbacks=None,\n",
       "                                          colsample_bylevel=0.920743729299481,\n",
       "                                          colsample_bynode=None,\n",
       "                                          colsample_bytree=None,\n",
       "                                          early_stopping_rounds=None,\n",
       "                                          enable_categorical=False,\n",
       "                                          eval_metric=None, feature_types=None,\n",
       "                                          gamma=None, gpu_id=None,\n",
       "                                          grow_policy=None,\n",
       "                                          importance_type=None,\n",
       "                                          interaction_constrai...\n",
       "                                          max_delta_step=None, max_depth=6,\n",
       "                                          max_leaves=None, min_child_weight=1,\n",
       "                                          missing=nan,\n",
       "                                          monotone_constraints=None,\n",
       "                                          n_estimators=2094, n_jobs=None,\n",
       "                                          num_parallel_tree=None,\n",
       "                                          predictor=None, random_state=42, ...)),\n",
       "                            ('LGBMRegressor',\n",
       "                             LGBMRegressor(colsample_bytree=0.7896896099223678,\n",
       "                                           max_depth=16, n_estimators=2122,\n",
       "                                           num_leaves=30, random_state=42,\n",
       "                                           subsample=0.984665661176))])"
      ]
     },
     "execution_count": 13,
     "metadata": {},
     "output_type": "execute_result"
    }
   ],
   "source": [
    "voting_regressor.fit(transformed_features, transformed_target)"
   ]
  },
  {
   "cell_type": "code",
   "execution_count": 14,
   "metadata": {},
   "outputs": [
    {
     "data": {
      "text/plain": [
       "0.020293523973038442"
      ]
     },
     "execution_count": 14,
     "metadata": {},
     "output_type": "execute_result"
    }
   ],
   "source": [
    "all_predictions = voting_regressor.predict(transformed_features)\n",
    "mean_squared_error(transformed_target, all_predictions)"
   ]
  },
  {
   "cell_type": "markdown",
   "metadata": {},
   "source": [
    "OK. The error between the predictions and the transformed target is very small indeed. But we have to remember that the transformed target is, actually, the log value of the real house prices.\n",
    "\n",
    "So, let's check how the error really behaves if we apply the **inverse transform** to the target (in this case, exponential function).\n"
   ]
  },
  {
   "cell_type": "code",
   "execution_count": 15,
   "metadata": {},
   "outputs": [
    {
     "data": {
      "text/plain": [
       "58833.561921317916"
      ]
     },
     "execution_count": 15,
     "metadata": {},
     "output_type": "execute_result"
    }
   ],
   "source": [
    "transformed_predictions = target_transform.inverse_transform(all_predictions)\n",
    "mean_absolute_error(target, transformed_predictions)"
   ]
  },
  {
   "cell_type": "markdown",
   "metadata": {},
   "source": [
    "An average error of R$58833,56? Let's take a better look at the behavior of the error:"
   ]
  },
  {
   "cell_type": "code",
   "execution_count": 16,
   "metadata": {},
   "outputs": [
    {
     "data": {
      "text/html": [
       "<div>\n",
       "<style scoped>\n",
       "    .dataframe tbody tr th:only-of-type {\n",
       "        vertical-align: middle;\n",
       "    }\n",
       "\n",
       "    .dataframe tbody tr th {\n",
       "        vertical-align: top;\n",
       "    }\n",
       "\n",
       "    .dataframe thead th {\n",
       "        text-align: right;\n",
       "    }\n",
       "</style>\n",
       "<table border=\"1\" class=\"dataframe\">\n",
       "  <thead>\n",
       "    <tr style=\"text-align: right;\">\n",
       "      <th></th>\n",
       "      <th>property_type</th>\n",
       "      <th>error</th>\n",
       "    </tr>\n",
       "  </thead>\n",
       "  <tbody>\n",
       "    <tr>\n",
       "      <th>0</th>\n",
       "      <td>House</td>\n",
       "      <td>-29331.510353</td>\n",
       "    </tr>\n",
       "    <tr>\n",
       "      <th>1</th>\n",
       "      <td>Apartament</td>\n",
       "      <td>20475.447992</td>\n",
       "    </tr>\n",
       "    <tr>\n",
       "      <th>2</th>\n",
       "      <td>Apartament</td>\n",
       "      <td>8246.081027</td>\n",
       "    </tr>\n",
       "    <tr>\n",
       "      <th>3</th>\n",
       "      <td>Condominium</td>\n",
       "      <td>13890.242644</td>\n",
       "    </tr>\n",
       "    <tr>\n",
       "      <th>4</th>\n",
       "      <td>Apartament</td>\n",
       "      <td>74801.083597</td>\n",
       "    </tr>\n",
       "    <tr>\n",
       "      <th>...</th>\n",
       "      <td>...</td>\n",
       "      <td>...</td>\n",
       "    </tr>\n",
       "    <tr>\n",
       "      <th>82072</th>\n",
       "      <td>Apartament</td>\n",
       "      <td>12263.771755</td>\n",
       "    </tr>\n",
       "    <tr>\n",
       "      <th>82073</th>\n",
       "      <td>Apartament</td>\n",
       "      <td>-38816.596157</td>\n",
       "    </tr>\n",
       "    <tr>\n",
       "      <th>82074</th>\n",
       "      <td>Apartament</td>\n",
       "      <td>-57815.254150</td>\n",
       "    </tr>\n",
       "    <tr>\n",
       "      <th>82075</th>\n",
       "      <td>Apartament</td>\n",
       "      <td>1027.470879</td>\n",
       "    </tr>\n",
       "    <tr>\n",
       "      <th>82076</th>\n",
       "      <td>Two-story House</td>\n",
       "      <td>25466.378570</td>\n",
       "    </tr>\n",
       "  </tbody>\n",
       "</table>\n",
       "<p>82077 rows × 2 columns</p>\n",
       "</div>"
      ],
      "text/plain": [
       "         property_type         error\n",
       "0                House -29331.510353\n",
       "1           Apartament  20475.447992\n",
       "2           Apartament   8246.081027\n",
       "3          Condominium  13890.242644\n",
       "4           Apartament  74801.083597\n",
       "...                ...           ...\n",
       "82072       Apartament  12263.771755\n",
       "82073       Apartament -38816.596157\n",
       "82074       Apartament -57815.254150\n",
       "82075       Apartament   1027.470879\n",
       "82076  Two-story House  25466.378570\n",
       "\n",
       "[82077 rows x 2 columns]"
      ]
     },
     "execution_count": 16,
     "metadata": {},
     "output_type": "execute_result"
    }
   ],
   "source": [
    "errors = pd.DataFrame()\n",
    "errors[\"property_type\"] = features[\"property_type\"]\n",
    "errors[\"error\"] = target - transformed_predictions\n",
    "errors\n"
   ]
  },
  {
   "cell_type": "code",
   "execution_count": 17,
   "metadata": {},
   "outputs": [
    {
     "data": {
      "image/png": "[encoded data removed]",
      "text/plain": [
       "<Figure size 1300x400 with 2 Axes>"
      ]
     },
     "metadata": {},
     "output_type": "display_data"
    }
   ],
   "source": [
    "fig, (ax1, ax2) = plt.subplots(ncols=2, figsize=(13, 4))\n",
    "\n",
    "sns.boxplot(x=\"error\", data=errors, ax=ax1)\n",
    "sns.histplot(x=\"error\", data=errors, ax=ax2)\n",
    "\n",
    "plt.tight_layout();"
   ]
  },
  {
   "cell_type": "markdown",
   "metadata": {},
   "source": [
    "as we can see, we still have some significant errors, but now their magnitudes  are a bit lower (both plot are \"squeezed\" with relation to the corresponding graph of the last notebook model).\n",
    "\n",
    "Let's take a better look at the error behavior with relation to the property types."
   ]
  },
  {
   "cell_type": "markdown",
   "metadata": {},
   "source": [
    "### Error Analysis by Property Type"
   ]
  },
  {
   "cell_type": "code",
   "execution_count": 18,
   "metadata": {},
   "outputs": [
    {
     "data": {
      "image/png": "[encoded data removed]",
      "text/plain": [
       "<Figure size 1500x500 with 3 Axes>"
      ]
     },
     "metadata": {},
     "output_type": "display_data"
    }
   ],
   "source": [
    "fig, (ax1, ax2, ax3) = plt.subplots(ncols=3,figsize=(15, 5))\n",
    "\n",
    "maes = errors.groupby(\"property_type\").agg(MAE=(\"error\", np.average)).sort_values(\"MAE\", ascending=False)\n",
    "sns.barplot(x=maes.index, y=\"MAE\", data=maes, ax=ax1)\n",
    "ax1.set_xticklabels(ax1.get_xticklabels(), rotation=45, ha=\"right\")\n",
    "\n",
    "sns.boxplot(x=\"error\", y=\"property_type\", data=errors, order=maes.index, ax=ax2)\n",
    "\n",
    "prices = pd.DataFrame()\n",
    "prices[\"property_type\"] = features[\"property_type\"]\n",
    "prices[\"prices\"] = target\n",
    "sns.boxplot(x=\"prices\", y=\"property_type\", order=maes.index, data=prices, ax=ax3)\n",
    "\n",
    "plt.tight_layout();"
   ]
  },
  {
   "cell_type": "markdown",
   "metadata": {},
   "source": [
    "- The overall errors have decreased, as the highest property type error (**Penthouses**) is now almost half of the highest property error of the last notebook.\n",
    "- The three higher average error continue to be **residential buildings**, **penthouses'** and **houses**.\n",
    "- Now, **houses** have the highest error variation."
   ]
  },
  {
   "cell_type": "markdown",
   "metadata": {},
   "source": [
    "# Exporting the Final Model\n",
    "\n",
    "We'reached the end of our data analysis and model design. With those steps we've followed we can tackle almost any Data Science project.\n",
    "\n",
    "Now it's time to export our final model, so we can use it in the API service that we'll build. For this, we'll use [cloudpickle](https://github.com/cloudpipe/cloudpickle) once again."
   ]
  },
  {
   "cell_type": "code",
   "execution_count": 19,
   "metadata": {},
   "outputs": [],
   "source": [
    "model_path = P.join(\n",
    "    artifacts_root_dir, \"regression_model.pickle\"\n",
    ")\n",
    "\n",
    "with open(model_path, \"wb\") as f:\n",
    "    cloudpickle.dump(voting_regressor, f)"
   ]
  },
  {
   "cell_type": "markdown",
   "metadata": {},
   "source": [
    "And that's it. With our model exporte, we can put it to good use."
   ]
  },
  {
   "cell_type": "markdown",
   "metadata": {},
   "source": [
    "# Exporting API data\n",
    "\n",
    "We'll also need to exporting some data that will be used in the backend API.\n",
    "\n",
    "First, we'll export the list of all **property types**."
   ]
  },
  {
   "cell_type": "code",
   "execution_count": 25,
   "metadata": {},
   "outputs": [],
   "source": [
    "property_types_list = features[\"property_type\"].unique().tolist()\n",
    "\n",
    "property_types_path = P.join(artifacts_root_dir, \"property_types.pickle\")\n",
    "\n",
    "with open(property_types_path, \"wb\") as f:\n",
    "    cloudpickle.dump(property_types_list, f)"
   ]
  },
  {
   "cell_type": "markdown",
   "metadata": {},
   "source": [
    "Finally, we'll export the list of neighborhoods."
   ]
  },
  {
   "cell_type": "code",
   "execution_count": 26,
   "metadata": {},
   "outputs": [],
   "source": [
    "neighborhood_list = features[\"neighborhood\"].unique().tolist()\n",
    "\n",
    "neighborhood_path = P.join(artifacts_root_dir, \"neighborhoods.pickle\")\n",
    "\n",
    "with open(neighborhood_path, \"wb\") as f:\n",
    "    cloudpickle.dump(neighborhood_list, f)"
   ]
  }
 ],
 "metadata": {
  "kernelspec": {
   "display_name": ".venv",
   "language": "python",
   "name": "python3"
  },
  "language_info": {
   "codemirror_mode": {
    "name": "ipython",
    "version": 3
   },
   "file_extension": ".py",
   "mimetype": "text/x-python",
   "name": "python",
   "nbconvert_exporter": "python",
   "pygments_lexer": "ipython3",
   "version": "3.10.9"
  },
  "orig_nbformat": 4
 },
 "nbformat": 4,
 "nbformat_minor": 2
}
