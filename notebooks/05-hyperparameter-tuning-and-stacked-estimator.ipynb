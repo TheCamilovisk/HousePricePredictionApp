{
 "cells": [
  {
   "cell_type": "markdown",
   "metadata": {},
   "source": [
    "# Hyper Parameter Tune\n",
    "\n",
    "In this notebook we'll close the cycle and find the best parameters for the model that we built in previously. This process is called **Hyper Parameter Optimization** and involves some steps:\n",
    "\n",
    "1. Choose a optimization metric.\n",
    "2. Create a objective function to minimize/maximize.\n",
    "3. Define a parameter search space.\n",
    "4. Execute the paramter search.\n",
    "5. Check the results. If the found parameters gives a satisfactory model performance, then we are done and proceed to use the model. Otherwise, get back to step 3 and repeat util you find a model that best suits your needs.\n",
    "\n",
    "In this project will the [Optuna Framework](https://optuna.org/), one of the best Hyper Parameter Optimization framework out there. Personally, I like Optana for its easy to use (I'll see it in a bit), but there are other great libraries that serves the same purposes very well. Some examples are:\n",
    "\n",
    "- [Hyperopt](http://hyperopt.github.io/hyperopt/)\n",
    "- [Ray Tune](https://docs.ray.io/en/latest/tune/index.html)\n",
    "- [Scikit-Optimize](https://scikit-optimize.github.io/stable/)\n",
    "- Scikit-learn itself, through [GridSearchCV](https://scikit-learn.org/stable/modules/generated/sklearn.model_selection.GridSearchCV.html) and [RandomizedSearchCV](https://scikit-learn.org/stable/modules/generated/sklearn.model_selection.RandomizedSearchCV.html).\n",
    "\n",
    "With some adjustments, the concepts that will be presented are easily extendable for other frameworks as well. So, feel free to use test what I will do here with any other framework you want.\n"
   ]
  },
  {
   "cell_type": "code",
   "execution_count": 1,
   "metadata": {
    "tags": []
   },
   "outputs": [
    {
     "name": "stderr",
     "output_type": "stream",
     "text": [
      "/mnt/3273eabb-9e14-47b4-8ddd-ddb77dddcd30/workspace/HousePricePredictionApp/.venv/lib/python3.10/site-packages/tqdm/auto.py:21: TqdmWarning: IProgress not found. Please update jupyter and ipywidgets. See https://ipywidgets.readthedocs.io/en/stable/user_install.html\n",
      "  from .autonotebook import tqdm as notebook_tqdm\n"
     ]
    }
   ],
   "source": [
    "import os.path as P\n",
    "import pickle\n",
    "\n",
    "import matplotlib.pyplot as plt\n",
    "import numpy as np\n",
    "import optuna\n",
    "import pandas as pd\n",
    "import seaborn as sns\n",
    "import sklearn\n",
    "from catboost import CatBoostRegressor\n",
    "from lightgbm import LGBMRegressor\n",
    "from sklearn.ensemble import RandomForestRegressor, VotingRegressor\n",
    "from sklearn.metrics import make_scorer, mean_absolute_error, mean_squared_error\n",
    "from sklearn.model_selection import cross_val_score, train_test_split\n",
    "from xgboost import XGBRegressor"
   ]
  },
  {
   "cell_type": "code",
   "execution_count": 2,
   "metadata": {},
   "outputs": [],
   "source": [
    "sklearn.set_config(transform_output=\"pandas\")\n"
   ]
  },
  {
   "cell_type": "code",
   "execution_count": 3,
   "metadata": {},
   "outputs": [],
   "source": [
    "random_state = 42\n"
   ]
  },
  {
   "cell_type": "markdown",
   "metadata": {},
   "source": [
    "# Data Loading\n",
    "\n",
    "## Preprocessing Pipeline\n",
    "\n",
    "Let's first load our preprocessing pipeline:\n"
   ]
  },
  {
   "cell_type": "code",
   "execution_count": 4,
   "metadata": {},
   "outputs": [],
   "source": [
    "artifacts_root_dir = P.join(P.dirname(P.abspath(\"\")), \"artifacts\")\n"
   ]
  },
  {
   "cell_type": "code",
   "execution_count": 5,
   "metadata": {},
   "outputs": [
    {
     "data": {
      "text/html": [
       "<style>#sk-container-id-1 {color: black;}#sk-container-id-1 pre{padding: 0;}#sk-container-id-1 div.sk-toggleable {background-color: white;}#sk-container-id-1 label.sk-toggleable__label {cursor: pointer;display: block;width: 100%;margin-bottom: 0;padding: 0.3em;box-sizing: border-box;text-align: center;}#sk-container-id-1 label.sk-toggleable__label-arrow:before {content: \"▸\";float: left;margin-right: 0.25em;color: #696969;}#sk-container-id-1 label.sk-toggleable__label-arrow:hover:before {color: black;}#sk-container-id-1 div.sk-estimator:hover label.sk-toggleable__label-arrow:before {color: black;}#sk-container-id-1 div.sk-toggleable__content {max-height: 0;max-width: 0;overflow: hidden;text-align: left;background-color: #f0f8ff;}#sk-container-id-1 div.sk-toggleable__content pre {margin: 0.2em;color: black;border-radius: 0.25em;background-color: #f0f8ff;}#sk-container-id-1 input.sk-toggleable__control:checked~div.sk-toggleable__content {max-height: 200px;max-width: 100%;overflow: auto;}#sk-container-id-1 input.sk-toggleable__control:checked~label.sk-toggleable__label-arrow:before {content: \"▾\";}#sk-container-id-1 div.sk-estimator input.sk-toggleable__control:checked~label.sk-toggleable__label {background-color: #d4ebff;}#sk-container-id-1 div.sk-label input.sk-toggleable__control:checked~label.sk-toggleable__label {background-color: #d4ebff;}#sk-container-id-1 input.sk-hidden--visually {border: 0;clip: rect(1px 1px 1px 1px);clip: rect(1px, 1px, 1px, 1px);height: 1px;margin: -1px;overflow: hidden;padding: 0;position: absolute;width: 1px;}#sk-container-id-1 div.sk-estimator {font-family: monospace;background-color: #f0f8ff;border: 1px dotted black;border-radius: 0.25em;box-sizing: border-box;margin-bottom: 0.5em;}#sk-container-id-1 div.sk-estimator:hover {background-color: #d4ebff;}#sk-container-id-1 div.sk-parallel-item::after {content: \"\";width: 100%;border-bottom: 1px solid gray;flex-grow: 1;}#sk-container-id-1 div.sk-label:hover label.sk-toggleable__label {background-color: #d4ebff;}#sk-container-id-1 div.sk-serial::before {content: \"\";position: absolute;border-left: 1px solid gray;box-sizing: border-box;top: 0;bottom: 0;left: 50%;z-index: 0;}#sk-container-id-1 div.sk-serial {display: flex;flex-direction: column;align-items: center;background-color: white;padding-right: 0.2em;padding-left: 0.2em;position: relative;}#sk-container-id-1 div.sk-item {position: relative;z-index: 1;}#sk-container-id-1 div.sk-parallel {display: flex;align-items: stretch;justify-content: center;background-color: white;position: relative;}#sk-container-id-1 div.sk-item::before, #sk-container-id-1 div.sk-parallel-item::before {content: \"\";position: absolute;border-left: 1px solid gray;box-sizing: border-box;top: 0;bottom: 0;left: 50%;z-index: -1;}#sk-container-id-1 div.sk-parallel-item {display: flex;flex-direction: column;z-index: 1;position: relative;background-color: white;}#sk-container-id-1 div.sk-parallel-item:first-child::after {align-self: flex-end;width: 50%;}#sk-container-id-1 div.sk-parallel-item:last-child::after {align-self: flex-start;width: 50%;}#sk-container-id-1 div.sk-parallel-item:only-child::after {width: 0;}#sk-container-id-1 div.sk-dashed-wrapped {border: 1px dashed gray;margin: 0 0.4em 0.5em 0.4em;box-sizing: border-box;padding-bottom: 0.4em;background-color: white;}#sk-container-id-1 div.sk-label label {font-family: monospace;font-weight: bold;display: inline-block;line-height: 1.2em;}#sk-container-id-1 div.sk-label-container {text-align: center;}#sk-container-id-1 div.sk-container {/* jupyter's `normalize.less` sets `[hidden] { display: none; }` but bootstrap.min.css set `[hidden] { display: none !important; }` so we also need the `!important` here to be able to override the default hidden behavior on the sphinx rendered scikit-learn.org. See: https://github.com/scikit-learn/scikit-learn/issues/21755 */display: inline-block !important;position: relative;}#sk-container-id-1 div.sk-text-repr-fallback {display: none;}</style><div id=\"sk-container-id-1\" class=\"sk-top-container\"><div class=\"sk-text-repr-fallback\"><pre>Pipeline(steps=[(&#x27;columntransformer-1&#x27;,\n",
       "                 ColumnTransformer(remainder=&#x27;passthrough&#x27;,\n",
       "                                   transformers=[(&#x27;simpleimputer-1&#x27;,\n",
       "                                                  SimpleImputer(fill_value=0.0),\n",
       "                                                  [&#x27;condominium_fee&#x27;, &#x27;suites&#x27;,\n",
       "                                                   &#x27;parking_spots&#x27;, &#x27;bedrooms&#x27;,\n",
       "                                                   &#x27;bathrooms&#x27;]),\n",
       "                                                 (&#x27;simpleimputer-2&#x27;,\n",
       "                                                  SimpleImputer(),\n",
       "                                                  [&#x27;annual_iptu_tax&#x27;,\n",
       "                                                   &#x27;usable_area&#x27;])],\n",
       "                                   verbose_feature_names_out=False)),\n",
       "                (&#x27;featureunion-1&#x27;,\n",
       "                 FeatureUnion(t...\n",
       "                 ColumnTransformer(remainder=MinMaxScaler(),\n",
       "                                   transformers=[(&#x27;onehotencoder&#x27;,\n",
       "                                                  OneHotEncoder(sparse_output=False),\n",
       "                                                  [&#x27;property_type&#x27;]),\n",
       "                                                 (&#x27;standardscaler&#x27;,\n",
       "                                                  StandardScaler(),\n",
       "                                                  [&#x27;usable_area&#x27;,\n",
       "                                                   &#x27;condominium_fee&#x27;,\n",
       "                                                   &#x27;annual_iptu_tax&#x27;,\n",
       "                                                   &#x27;condominium_per_area&#x27;,\n",
       "                                                   &#x27;iptu_per_area&#x27;,\n",
       "                                                   &#x27;neighborhood_condominium_per_area&#x27;,\n",
       "                                                   &#x27;neighborhood_iptu_per_area&#x27;])],\n",
       "                                   verbose_feature_names_out=False))])</pre><b>In a Jupyter environment, please rerun this cell to show the HTML representation or trust the notebook. <br />On GitHub, the HTML representation is unable to render, please try loading this page with nbviewer.org.</b></div><div class=\"sk-container\" hidden><div class=\"sk-item sk-dashed-wrapped\"><div class=\"sk-label-container\"><div class=\"sk-label sk-toggleable\"><input class=\"sk-toggleable__control sk-hidden--visually\" id=\"sk-estimator-id-1\" type=\"checkbox\" ><label for=\"sk-estimator-id-1\" class=\"sk-toggleable__label sk-toggleable__label-arrow\">Pipeline</label><div class=\"sk-toggleable__content\"><pre>Pipeline(steps=[(&#x27;columntransformer-1&#x27;,\n",
       "                 ColumnTransformer(remainder=&#x27;passthrough&#x27;,\n",
       "                                   transformers=[(&#x27;simpleimputer-1&#x27;,\n",
       "                                                  SimpleImputer(fill_value=0.0),\n",
       "                                                  [&#x27;condominium_fee&#x27;, &#x27;suites&#x27;,\n",
       "                                                   &#x27;parking_spots&#x27;, &#x27;bedrooms&#x27;,\n",
       "                                                   &#x27;bathrooms&#x27;]),\n",
       "                                                 (&#x27;simpleimputer-2&#x27;,\n",
       "                                                  SimpleImputer(),\n",
       "                                                  [&#x27;annual_iptu_tax&#x27;,\n",
       "                                                   &#x27;usable_area&#x27;])],\n",
       "                                   verbose_feature_names_out=False)),\n",
       "                (&#x27;featureunion-1&#x27;,\n",
       "                 FeatureUnion(t...\n",
       "                 ColumnTransformer(remainder=MinMaxScaler(),\n",
       "                                   transformers=[(&#x27;onehotencoder&#x27;,\n",
       "                                                  OneHotEncoder(sparse_output=False),\n",
       "                                                  [&#x27;property_type&#x27;]),\n",
       "                                                 (&#x27;standardscaler&#x27;,\n",
       "                                                  StandardScaler(),\n",
       "                                                  [&#x27;usable_area&#x27;,\n",
       "                                                   &#x27;condominium_fee&#x27;,\n",
       "                                                   &#x27;annual_iptu_tax&#x27;,\n",
       "                                                   &#x27;condominium_per_area&#x27;,\n",
       "                                                   &#x27;iptu_per_area&#x27;,\n",
       "                                                   &#x27;neighborhood_condominium_per_area&#x27;,\n",
       "                                                   &#x27;neighborhood_iptu_per_area&#x27;])],\n",
       "                                   verbose_feature_names_out=False))])</pre></div></div></div><div class=\"sk-serial\"><div class=\"sk-item sk-dashed-wrapped\"><div class=\"sk-label-container\"><div class=\"sk-label sk-toggleable\"><input class=\"sk-toggleable__control sk-hidden--visually\" id=\"sk-estimator-id-2\" type=\"checkbox\" ><label for=\"sk-estimator-id-2\" class=\"sk-toggleable__label sk-toggleable__label-arrow\">columntransformer-1: ColumnTransformer</label><div class=\"sk-toggleable__content\"><pre>ColumnTransformer(remainder=&#x27;passthrough&#x27;,\n",
       "                  transformers=[(&#x27;simpleimputer-1&#x27;,\n",
       "                                 SimpleImputer(fill_value=0.0),\n",
       "                                 [&#x27;condominium_fee&#x27;, &#x27;suites&#x27;, &#x27;parking_spots&#x27;,\n",
       "                                  &#x27;bedrooms&#x27;, &#x27;bathrooms&#x27;]),\n",
       "                                (&#x27;simpleimputer-2&#x27;, SimpleImputer(),\n",
       "                                 [&#x27;annual_iptu_tax&#x27;, &#x27;usable_area&#x27;])],\n",
       "                  verbose_feature_names_out=False)</pre></div></div></div><div class=\"sk-parallel\"><div class=\"sk-parallel-item\"><div class=\"sk-item\"><div class=\"sk-label-container\"><div class=\"sk-label sk-toggleable\"><input class=\"sk-toggleable__control sk-hidden--visually\" id=\"sk-estimator-id-3\" type=\"checkbox\" ><label for=\"sk-estimator-id-3\" class=\"sk-toggleable__label sk-toggleable__label-arrow\">simpleimputer-1</label><div class=\"sk-toggleable__content\"><pre>[&#x27;condominium_fee&#x27;, &#x27;suites&#x27;, &#x27;parking_spots&#x27;, &#x27;bedrooms&#x27;, &#x27;bathrooms&#x27;]</pre></div></div></div><div class=\"sk-serial\"><div class=\"sk-item\"><div class=\"sk-estimator sk-toggleable\"><input class=\"sk-toggleable__control sk-hidden--visually\" id=\"sk-estimator-id-4\" type=\"checkbox\" ><label for=\"sk-estimator-id-4\" class=\"sk-toggleable__label sk-toggleable__label-arrow\">SimpleImputer</label><div class=\"sk-toggleable__content\"><pre>SimpleImputer(fill_value=0.0)</pre></div></div></div></div></div></div><div class=\"sk-parallel-item\"><div class=\"sk-item\"><div class=\"sk-label-container\"><div class=\"sk-label sk-toggleable\"><input class=\"sk-toggleable__control sk-hidden--visually\" id=\"sk-estimator-id-5\" type=\"checkbox\" ><label for=\"sk-estimator-id-5\" class=\"sk-toggleable__label sk-toggleable__label-arrow\">simpleimputer-2</label><div class=\"sk-toggleable__content\"><pre>[&#x27;annual_iptu_tax&#x27;, &#x27;usable_area&#x27;]</pre></div></div></div><div class=\"sk-serial\"><div class=\"sk-item\"><div class=\"sk-estimator sk-toggleable\"><input class=\"sk-toggleable__control sk-hidden--visually\" id=\"sk-estimator-id-6\" type=\"checkbox\" ><label for=\"sk-estimator-id-6\" class=\"sk-toggleable__label sk-toggleable__label-arrow\">SimpleImputer</label><div class=\"sk-toggleable__content\"><pre>SimpleImputer()</pre></div></div></div></div></div></div><div class=\"sk-parallel-item\"><div class=\"sk-item\"><div class=\"sk-label-container\"><div class=\"sk-label sk-toggleable\"><input class=\"sk-toggleable__control sk-hidden--visually\" id=\"sk-estimator-id-7\" type=\"checkbox\" ><label for=\"sk-estimator-id-7\" class=\"sk-toggleable__label sk-toggleable__label-arrow\">remainder</label><div class=\"sk-toggleable__content\"><pre>[&#x27;neighborhood&#x27;, &#x27;property_type&#x27;, &#x27;ad_date&#x27;]</pre></div></div></div><div class=\"sk-serial\"><div class=\"sk-item\"><div class=\"sk-estimator sk-toggleable\"><input class=\"sk-toggleable__control sk-hidden--visually\" id=\"sk-estimator-id-8\" type=\"checkbox\" ><label for=\"sk-estimator-id-8\" class=\"sk-toggleable__label sk-toggleable__label-arrow\">passthrough</label><div class=\"sk-toggleable__content\"><pre>passthrough</pre></div></div></div></div></div></div></div></div><div class=\"sk-item sk-dashed-wrapped\"><div class=\"sk-label-container\"><div class=\"sk-label sk-toggleable\"><input class=\"sk-toggleable__control sk-hidden--visually\" id=\"sk-estimator-id-9\" type=\"checkbox\" ><label for=\"sk-estimator-id-9\" class=\"sk-toggleable__label sk-toggleable__label-arrow\">featureunion-1: FeatureUnion</label><div class=\"sk-toggleable__content\"><pre>FeatureUnion(transformer_list=[(&#x27;passthrough&#x27;,\n",
       "                                FunctionTransformer(feature_names_out=&#x27;one-to-one&#x27;)),\n",
       "                               (&#x27;functiontransformer&#x27;,\n",
       "                                FunctionTransformer(func=&lt;function add_area_scores at 0x7f70d67efa30&gt;))])</pre></div></div></div><div class=\"sk-parallel\"><div class=\"sk-parallel-item\"><div class=\"sk-item\"><div class=\"sk-label-container\"><div class=\"sk-label sk-toggleable\"><label>passthrough</label></div></div><div class=\"sk-serial\"><div class=\"sk-item\"><div class=\"sk-estimator sk-toggleable\"><input class=\"sk-toggleable__control sk-hidden--visually\" id=\"sk-estimator-id-10\" type=\"checkbox\" ><label for=\"sk-estimator-id-10\" class=\"sk-toggleable__label sk-toggleable__label-arrow\">FunctionTransformer</label><div class=\"sk-toggleable__content\"><pre>FunctionTransformer(feature_names_out=&#x27;one-to-one&#x27;)</pre></div></div></div></div></div></div><div class=\"sk-parallel-item\"><div class=\"sk-item\"><div class=\"sk-label-container\"><div class=\"sk-label sk-toggleable\"><label>functiontransformer</label></div></div><div class=\"sk-serial\"><div class=\"sk-item\"><div class=\"sk-estimator sk-toggleable\"><input class=\"sk-toggleable__control sk-hidden--visually\" id=\"sk-estimator-id-11\" type=\"checkbox\" ><label for=\"sk-estimator-id-11\" class=\"sk-toggleable__label sk-toggleable__label-arrow\">FunctionTransformer</label><div class=\"sk-toggleable__content\"><pre>FunctionTransformer(func=&lt;function add_area_scores at 0x7f70d67efa30&gt;)</pre></div></div></div></div></div></div></div></div><div class=\"sk-item sk-dashed-wrapped\"><div class=\"sk-label-container\"><div class=\"sk-label sk-toggleable\"><input class=\"sk-toggleable__control sk-hidden--visually\" id=\"sk-estimator-id-12\" type=\"checkbox\" ><label for=\"sk-estimator-id-12\" class=\"sk-toggleable__label sk-toggleable__label-arrow\">featureunion-2: FeatureUnion</label><div class=\"sk-toggleable__content\"><pre>FeatureUnion(transformer_list=[(&#x27;passthrough&#x27;,\n",
       "                                FunctionTransformer(feature_names_out=&#x27;one-to-one&#x27;)),\n",
       "                               (&#x27;neighborhoodscores&#x27;, NeighborhoodScores())])</pre></div></div></div><div class=\"sk-parallel\"><div class=\"sk-parallel-item\"><div class=\"sk-item\"><div class=\"sk-label-container\"><div class=\"sk-label sk-toggleable\"><label>passthrough</label></div></div><div class=\"sk-serial\"><div class=\"sk-item\"><div class=\"sk-estimator sk-toggleable\"><input class=\"sk-toggleable__control sk-hidden--visually\" id=\"sk-estimator-id-13\" type=\"checkbox\" ><label for=\"sk-estimator-id-13\" class=\"sk-toggleable__label sk-toggleable__label-arrow\">FunctionTransformer</label><div class=\"sk-toggleable__content\"><pre>FunctionTransformer(feature_names_out=&#x27;one-to-one&#x27;)</pre></div></div></div></div></div></div><div class=\"sk-parallel-item\"><div class=\"sk-item\"><div class=\"sk-label-container\"><div class=\"sk-label sk-toggleable\"><label>neighborhoodscores</label></div></div><div class=\"sk-serial\"><div class=\"sk-item\"><div class=\"sk-estimator sk-toggleable\"><input class=\"sk-toggleable__control sk-hidden--visually\" id=\"sk-estimator-id-14\" type=\"checkbox\" ><label for=\"sk-estimator-id-14\" class=\"sk-toggleable__label sk-toggleable__label-arrow\">NeighborhoodScores</label><div class=\"sk-toggleable__content\"><pre>NeighborhoodScores()</pre></div></div></div></div></div></div></div></div><div class=\"sk-item\"><div class=\"sk-estimator sk-toggleable\"><input class=\"sk-toggleable__control sk-hidden--visually\" id=\"sk-estimator-id-15\" type=\"checkbox\" ><label for=\"sk-estimator-id-15\" class=\"sk-toggleable__label sk-toggleable__label-arrow\">FunctionTransformer</label><div class=\"sk-toggleable__content\"><pre>FunctionTransformer(func=&lt;function &lt;lambda&gt; at 0x7f70523d6050&gt;)</pre></div></div></div><div class=\"sk-item sk-dashed-wrapped\"><div class=\"sk-label-container\"><div class=\"sk-label sk-toggleable\"><input class=\"sk-toggleable__control sk-hidden--visually\" id=\"sk-estimator-id-16\" type=\"checkbox\" ><label for=\"sk-estimator-id-16\" class=\"sk-toggleable__label sk-toggleable__label-arrow\">columntransformer-2: ColumnTransformer</label><div class=\"sk-toggleable__content\"><pre>ColumnTransformer(remainder=MinMaxScaler(),\n",
       "                  transformers=[(&#x27;onehotencoder&#x27;,\n",
       "                                 OneHotEncoder(sparse_output=False),\n",
       "                                 [&#x27;property_type&#x27;]),\n",
       "                                (&#x27;standardscaler&#x27;, StandardScaler(),\n",
       "                                 [&#x27;usable_area&#x27;, &#x27;condominium_fee&#x27;,\n",
       "                                  &#x27;annual_iptu_tax&#x27;, &#x27;condominium_per_area&#x27;,\n",
       "                                  &#x27;iptu_per_area&#x27;,\n",
       "                                  &#x27;neighborhood_condominium_per_area&#x27;,\n",
       "                                  &#x27;neighborhood_iptu_per_area&#x27;])],\n",
       "                  verbose_feature_names_out=False)</pre></div></div></div><div class=\"sk-parallel\"><div class=\"sk-parallel-item\"><div class=\"sk-item\"><div class=\"sk-label-container\"><div class=\"sk-label sk-toggleable\"><input class=\"sk-toggleable__control sk-hidden--visually\" id=\"sk-estimator-id-17\" type=\"checkbox\" ><label for=\"sk-estimator-id-17\" class=\"sk-toggleable__label sk-toggleable__label-arrow\">onehotencoder</label><div class=\"sk-toggleable__content\"><pre>[&#x27;property_type&#x27;]</pre></div></div></div><div class=\"sk-serial\"><div class=\"sk-item\"><div class=\"sk-estimator sk-toggleable\"><input class=\"sk-toggleable__control sk-hidden--visually\" id=\"sk-estimator-id-18\" type=\"checkbox\" ><label for=\"sk-estimator-id-18\" class=\"sk-toggleable__label sk-toggleable__label-arrow\">OneHotEncoder</label><div class=\"sk-toggleable__content\"><pre>OneHotEncoder(sparse_output=False)</pre></div></div></div></div></div></div><div class=\"sk-parallel-item\"><div class=\"sk-item\"><div class=\"sk-label-container\"><div class=\"sk-label sk-toggleable\"><input class=\"sk-toggleable__control sk-hidden--visually\" id=\"sk-estimator-id-19\" type=\"checkbox\" ><label for=\"sk-estimator-id-19\" class=\"sk-toggleable__label sk-toggleable__label-arrow\">standardscaler</label><div class=\"sk-toggleable__content\"><pre>[&#x27;usable_area&#x27;, &#x27;condominium_fee&#x27;, &#x27;annual_iptu_tax&#x27;, &#x27;condominium_per_area&#x27;, &#x27;iptu_per_area&#x27;, &#x27;neighborhood_condominium_per_area&#x27;, &#x27;neighborhood_iptu_per_area&#x27;]</pre></div></div></div><div class=\"sk-serial\"><div class=\"sk-item\"><div class=\"sk-estimator sk-toggleable\"><input class=\"sk-toggleable__control sk-hidden--visually\" id=\"sk-estimator-id-20\" type=\"checkbox\" ><label for=\"sk-estimator-id-20\" class=\"sk-toggleable__label sk-toggleable__label-arrow\">StandardScaler</label><div class=\"sk-toggleable__content\"><pre>StandardScaler()</pre></div></div></div></div></div></div><div class=\"sk-parallel-item\"><div class=\"sk-item\"><div class=\"sk-label-container\"><div class=\"sk-label sk-toggleable\"><input class=\"sk-toggleable__control sk-hidden--visually\" id=\"sk-estimator-id-21\" type=\"checkbox\" ><label for=\"sk-estimator-id-21\" class=\"sk-toggleable__label sk-toggleable__label-arrow\">remainder</label><div class=\"sk-toggleable__content\"><pre>[&#x27;suites&#x27;, &#x27;parking_spots&#x27;, &#x27;bedrooms&#x27;, &#x27;bathrooms&#x27;]</pre></div></div></div><div class=\"sk-serial\"><div class=\"sk-item\"><div class=\"sk-estimator sk-toggleable\"><input class=\"sk-toggleable__control sk-hidden--visually\" id=\"sk-estimator-id-22\" type=\"checkbox\" ><label for=\"sk-estimator-id-22\" class=\"sk-toggleable__label sk-toggleable__label-arrow\">MinMaxScaler</label><div class=\"sk-toggleable__content\"><pre>MinMaxScaler()</pre></div></div></div></div></div></div></div></div></div></div></div></div>"
      ],
      "text/plain": [
       "Pipeline(steps=[('columntransformer-1',\n",
       "                 ColumnTransformer(remainder='passthrough',\n",
       "                                   transformers=[('simpleimputer-1',\n",
       "                                                  SimpleImputer(fill_value=0.0),\n",
       "                                                  ['condominium_fee', 'suites',\n",
       "                                                   'parking_spots', 'bedrooms',\n",
       "                                                   'bathrooms']),\n",
       "                                                 ('simpleimputer-2',\n",
       "                                                  SimpleImputer(),\n",
       "                                                  ['annual_iptu_tax',\n",
       "                                                   'usable_area'])],\n",
       "                                   verbose_feature_names_out=False)),\n",
       "                ('featureunion-1',\n",
       "                 FeatureUnion(t...\n",
       "                 ColumnTransformer(remainder=MinMaxScaler(),\n",
       "                                   transformers=[('onehotencoder',\n",
       "                                                  OneHotEncoder(sparse_output=False),\n",
       "                                                  ['property_type']),\n",
       "                                                 ('standardscaler',\n",
       "                                                  StandardScaler(),\n",
       "                                                  ['usable_area',\n",
       "                                                   'condominium_fee',\n",
       "                                                   'annual_iptu_tax',\n",
       "                                                   'condominium_per_area',\n",
       "                                                   'iptu_per_area',\n",
       "                                                   'neighborhood_condominium_per_area',\n",
       "                                                   'neighborhood_iptu_per_area'])],\n",
       "                                   verbose_feature_names_out=False))])"
      ]
     },
     "execution_count": 5,
     "metadata": {},
     "output_type": "execute_result"
    }
   ],
   "source": [
    "preprocessing_pipeline_path = P.join(\n",
    "    artifacts_root_dir, \"preprocessing_pipeline.pickle\"\n",
    ")\n",
    "\n",
    "with open(preprocessing_pipeline_path, \"rb\") as f:\n",
    "    preprocessing_pipeline = pickle.load(f)\n",
    "\n",
    "preprocessing_pipeline"
   ]
  },
  {
   "cell_type": "code",
   "execution_count": 6,
   "metadata": {},
   "outputs": [
    {
     "data": {
      "text/html": [
       "<style>#sk-container-id-2 {color: black;}#sk-container-id-2 pre{padding: 0;}#sk-container-id-2 div.sk-toggleable {background-color: white;}#sk-container-id-2 label.sk-toggleable__label {cursor: pointer;display: block;width: 100%;margin-bottom: 0;padding: 0.3em;box-sizing: border-box;text-align: center;}#sk-container-id-2 label.sk-toggleable__label-arrow:before {content: \"▸\";float: left;margin-right: 0.25em;color: #696969;}#sk-container-id-2 label.sk-toggleable__label-arrow:hover:before {color: black;}#sk-container-id-2 div.sk-estimator:hover label.sk-toggleable__label-arrow:before {color: black;}#sk-container-id-2 div.sk-toggleable__content {max-height: 0;max-width: 0;overflow: hidden;text-align: left;background-color: #f0f8ff;}#sk-container-id-2 div.sk-toggleable__content pre {margin: 0.2em;color: black;border-radius: 0.25em;background-color: #f0f8ff;}#sk-container-id-2 input.sk-toggleable__control:checked~div.sk-toggleable__content {max-height: 200px;max-width: 100%;overflow: auto;}#sk-container-id-2 input.sk-toggleable__control:checked~label.sk-toggleable__label-arrow:before {content: \"▾\";}#sk-container-id-2 div.sk-estimator input.sk-toggleable__control:checked~label.sk-toggleable__label {background-color: #d4ebff;}#sk-container-id-2 div.sk-label input.sk-toggleable__control:checked~label.sk-toggleable__label {background-color: #d4ebff;}#sk-container-id-2 input.sk-hidden--visually {border: 0;clip: rect(1px 1px 1px 1px);clip: rect(1px, 1px, 1px, 1px);height: 1px;margin: -1px;overflow: hidden;padding: 0;position: absolute;width: 1px;}#sk-container-id-2 div.sk-estimator {font-family: monospace;background-color: #f0f8ff;border: 1px dotted black;border-radius: 0.25em;box-sizing: border-box;margin-bottom: 0.5em;}#sk-container-id-2 div.sk-estimator:hover {background-color: #d4ebff;}#sk-container-id-2 div.sk-parallel-item::after {content: \"\";width: 100%;border-bottom: 1px solid gray;flex-grow: 1;}#sk-container-id-2 div.sk-label:hover label.sk-toggleable__label {background-color: #d4ebff;}#sk-container-id-2 div.sk-serial::before {content: \"\";position: absolute;border-left: 1px solid gray;box-sizing: border-box;top: 0;bottom: 0;left: 50%;z-index: 0;}#sk-container-id-2 div.sk-serial {display: flex;flex-direction: column;align-items: center;background-color: white;padding-right: 0.2em;padding-left: 0.2em;position: relative;}#sk-container-id-2 div.sk-item {position: relative;z-index: 1;}#sk-container-id-2 div.sk-parallel {display: flex;align-items: stretch;justify-content: center;background-color: white;position: relative;}#sk-container-id-2 div.sk-item::before, #sk-container-id-2 div.sk-parallel-item::before {content: \"\";position: absolute;border-left: 1px solid gray;box-sizing: border-box;top: 0;bottom: 0;left: 50%;z-index: -1;}#sk-container-id-2 div.sk-parallel-item {display: flex;flex-direction: column;z-index: 1;position: relative;background-color: white;}#sk-container-id-2 div.sk-parallel-item:first-child::after {align-self: flex-end;width: 50%;}#sk-container-id-2 div.sk-parallel-item:last-child::after {align-self: flex-start;width: 50%;}#sk-container-id-2 div.sk-parallel-item:only-child::after {width: 0;}#sk-container-id-2 div.sk-dashed-wrapped {border: 1px dashed gray;margin: 0 0.4em 0.5em 0.4em;box-sizing: border-box;padding-bottom: 0.4em;background-color: white;}#sk-container-id-2 div.sk-label label {font-family: monospace;font-weight: bold;display: inline-block;line-height: 1.2em;}#sk-container-id-2 div.sk-label-container {text-align: center;}#sk-container-id-2 div.sk-container {/* jupyter's `normalize.less` sets `[hidden] { display: none; }` but bootstrap.min.css set `[hidden] { display: none !important; }` so we also need the `!important` here to be able to override the default hidden behavior on the sphinx rendered scikit-learn.org. See: https://github.com/scikit-learn/scikit-learn/issues/21755 */display: inline-block !important;position: relative;}#sk-container-id-2 div.sk-text-repr-fallback {display: none;}</style><div id=\"sk-container-id-2\" class=\"sk-top-container\"><div class=\"sk-text-repr-fallback\"><pre>FunctionTransformer(func=&lt;ufunc &#x27;log&#x27;&gt;, inverse_func=&lt;ufunc &#x27;exp&#x27;&gt;)</pre><b>In a Jupyter environment, please rerun this cell to show the HTML representation or trust the notebook. <br />On GitHub, the HTML representation is unable to render, please try loading this page with nbviewer.org.</b></div><div class=\"sk-container\" hidden><div class=\"sk-item\"><div class=\"sk-estimator sk-toggleable\"><input class=\"sk-toggleable__control sk-hidden--visually\" id=\"sk-estimator-id-23\" type=\"checkbox\" checked><label for=\"sk-estimator-id-23\" class=\"sk-toggleable__label sk-toggleable__label-arrow\">FunctionTransformer</label><div class=\"sk-toggleable__content\"><pre>FunctionTransformer(func=&lt;ufunc &#x27;log&#x27;&gt;, inverse_func=&lt;ufunc &#x27;exp&#x27;&gt;)</pre></div></div></div></div></div>"
      ],
      "text/plain": [
       "FunctionTransformer(func=<ufunc 'log'>, inverse_func=<ufunc 'exp'>)"
      ]
     },
     "execution_count": 6,
     "metadata": {},
     "output_type": "execute_result"
    }
   ],
   "source": [
    "target_transform_path = P.join(artifacts_root_dir, \"target_transform.pickle\")\n",
    "\n",
    "with open(target_transform_path, \"rb\") as f:\n",
    "    target_transform = pickle.load(f)\n",
    "\n",
    "target_transform\n"
   ]
  },
  {
   "cell_type": "markdown",
   "metadata": {},
   "source": [
    "## Dataset\n",
    "\n",
    "Let's also load the dataset\n"
   ]
  },
  {
   "cell_type": "code",
   "execution_count": 7,
   "metadata": {},
   "outputs": [],
   "source": [
    "preprocessed_dataset_root_dir = P.join(P.dirname(P.abspath(\"\")), \"data\", \"processed\")\n"
   ]
  },
  {
   "cell_type": "code",
   "execution_count": 8,
   "metadata": {},
   "outputs": [
    {
     "data": {
      "text/html": [
       "<div>\n",
       "<style scoped>\n",
       "    .dataframe tbody tr th:only-of-type {\n",
       "        vertical-align: middle;\n",
       "    }\n",
       "\n",
       "    .dataframe tbody tr th {\n",
       "        vertical-align: top;\n",
       "    }\n",
       "\n",
       "    .dataframe thead th {\n",
       "        text-align: right;\n",
       "    }\n",
       "</style>\n",
       "<table border=\"1\" class=\"dataframe\">\n",
       "  <thead>\n",
       "    <tr style=\"text-align: right;\">\n",
       "      <th></th>\n",
       "      <th>neighborhood</th>\n",
       "      <th>property_type</th>\n",
       "      <th>usable_area</th>\n",
       "      <th>bathrooms</th>\n",
       "      <th>suites</th>\n",
       "      <th>bedrooms</th>\n",
       "      <th>parking_spots</th>\n",
       "      <th>ad_date</th>\n",
       "      <th>condominium_fee</th>\n",
       "      <th>annual_iptu_tax</th>\n",
       "    </tr>\n",
       "  </thead>\n",
       "  <tbody>\n",
       "    <tr>\n",
       "      <th>0</th>\n",
       "      <td>Jardim da Saude</td>\n",
       "      <td>Two-story House</td>\n",
       "      <td>388.0</td>\n",
       "      <td>3.0</td>\n",
       "      <td>1.0</td>\n",
       "      <td>4.0</td>\n",
       "      <td>6.0</td>\n",
       "      <td>2017-02-07</td>\n",
       "      <td>NaN</td>\n",
       "      <td>NaN</td>\n",
       "    </tr>\n",
       "    <tr>\n",
       "      <th>1</th>\n",
       "      <td>Vila Santa Teresa (Zona Sul)</td>\n",
       "      <td>House</td>\n",
       "      <td>129.0</td>\n",
       "      <td>2.0</td>\n",
       "      <td>1.0</td>\n",
       "      <td>3.0</td>\n",
       "      <td>2.0</td>\n",
       "      <td>2016-03-21</td>\n",
       "      <td>NaN</td>\n",
       "      <td>NaN</td>\n",
       "    </tr>\n",
       "    <tr>\n",
       "      <th>2</th>\n",
       "      <td>Vila Olimpia</td>\n",
       "      <td>Apartament</td>\n",
       "      <td>80.0</td>\n",
       "      <td>2.0</td>\n",
       "      <td>1.0</td>\n",
       "      <td>3.0</td>\n",
       "      <td>2.0</td>\n",
       "      <td>2018-10-26</td>\n",
       "      <td>686.0</td>\n",
       "      <td>1610.0</td>\n",
       "    </tr>\n",
       "    <tr>\n",
       "      <th>3</th>\n",
       "      <td>Pinheiros</td>\n",
       "      <td>Apartament</td>\n",
       "      <td>94.0</td>\n",
       "      <td>1.0</td>\n",
       "      <td>0.0</td>\n",
       "      <td>3.0</td>\n",
       "      <td>2.0</td>\n",
       "      <td>2018-05-29</td>\n",
       "      <td>1120.0</td>\n",
       "      <td>489.0</td>\n",
       "    </tr>\n",
       "    <tr>\n",
       "      <th>4</th>\n",
       "      <td>Vila Santa Clara</td>\n",
       "      <td>Condominium</td>\n",
       "      <td>110.0</td>\n",
       "      <td>1.0</td>\n",
       "      <td>1.0</td>\n",
       "      <td>3.0</td>\n",
       "      <td>2.0</td>\n",
       "      <td>2018-04-16</td>\n",
       "      <td>0.0</td>\n",
       "      <td>0.0</td>\n",
       "    </tr>\n",
       "    <tr>\n",
       "      <th>...</th>\n",
       "      <td>...</td>\n",
       "      <td>...</td>\n",
       "      <td>...</td>\n",
       "      <td>...</td>\n",
       "      <td>...</td>\n",
       "      <td>...</td>\n",
       "      <td>...</td>\n",
       "      <td>...</td>\n",
       "      <td>...</td>\n",
       "      <td>...</td>\n",
       "    </tr>\n",
       "    <tr>\n",
       "      <th>88742</th>\n",
       "      <td>Vila Carmosina</td>\n",
       "      <td>Apartament</td>\n",
       "      <td>48.0</td>\n",
       "      <td>1.0</td>\n",
       "      <td>0.0</td>\n",
       "      <td>2.0</td>\n",
       "      <td>1.0</td>\n",
       "      <td>2017-10-07</td>\n",
       "      <td>244.0</td>\n",
       "      <td>0.0</td>\n",
       "    </tr>\n",
       "    <tr>\n",
       "      <th>88743</th>\n",
       "      <td>Bela Vista</td>\n",
       "      <td>Apartament</td>\n",
       "      <td>60.0</td>\n",
       "      <td>1.0</td>\n",
       "      <td>NaN</td>\n",
       "      <td>1.0</td>\n",
       "      <td>1.0</td>\n",
       "      <td>2017-12-13</td>\n",
       "      <td>273.0</td>\n",
       "      <td>86.0</td>\n",
       "    </tr>\n",
       "    <tr>\n",
       "      <th>88744</th>\n",
       "      <td>Liberdade</td>\n",
       "      <td>Apartament</td>\n",
       "      <td>53.0</td>\n",
       "      <td>2.0</td>\n",
       "      <td>1.0</td>\n",
       "      <td>2.0</td>\n",
       "      <td>1.0</td>\n",
       "      <td>2018-11-28</td>\n",
       "      <td>210.0</td>\n",
       "      <td>0.0</td>\n",
       "    </tr>\n",
       "    <tr>\n",
       "      <th>88745</th>\n",
       "      <td>Vila Lageado</td>\n",
       "      <td>Apartament</td>\n",
       "      <td>20.0</td>\n",
       "      <td>3.0</td>\n",
       "      <td>2.0</td>\n",
       "      <td>3.0</td>\n",
       "      <td>2.0</td>\n",
       "      <td>2019-02-06</td>\n",
       "      <td>NaN</td>\n",
       "      <td>NaN</td>\n",
       "    </tr>\n",
       "    <tr>\n",
       "      <th>88746</th>\n",
       "      <td>Alto de Pinheiros</td>\n",
       "      <td>Two-story House</td>\n",
       "      <td>357.0</td>\n",
       "      <td>4.0</td>\n",
       "      <td>1.0</td>\n",
       "      <td>4.0</td>\n",
       "      <td>4.0</td>\n",
       "      <td>2018-04-14</td>\n",
       "      <td>0.0</td>\n",
       "      <td>665.0</td>\n",
       "    </tr>\n",
       "  </tbody>\n",
       "</table>\n",
       "<p>88747 rows × 10 columns</p>\n",
       "</div>"
      ],
      "text/plain": [
       "                       neighborhood    property_type  usable_area  bathrooms  \\\n",
       "0                   Jardim da Saude  Two-story House        388.0        3.0   \n",
       "1      Vila Santa Teresa (Zona Sul)            House        129.0        2.0   \n",
       "2                      Vila Olimpia       Apartament         80.0        2.0   \n",
       "3                         Pinheiros       Apartament         94.0        1.0   \n",
       "4                  Vila Santa Clara      Condominium        110.0        1.0   \n",
       "...                             ...              ...          ...        ...   \n",
       "88742                Vila Carmosina       Apartament         48.0        1.0   \n",
       "88743                    Bela Vista       Apartament         60.0        1.0   \n",
       "88744                     Liberdade       Apartament         53.0        2.0   \n",
       "88745                  Vila Lageado       Apartament         20.0        3.0   \n",
       "88746             Alto de Pinheiros  Two-story House        357.0        4.0   \n",
       "\n",
       "       suites  bedrooms  parking_spots    ad_date  condominium_fee  \\\n",
       "0         1.0       4.0            6.0 2017-02-07              NaN   \n",
       "1         1.0       3.0            2.0 2016-03-21              NaN   \n",
       "2         1.0       3.0            2.0 2018-10-26            686.0   \n",
       "3         0.0       3.0            2.0 2018-05-29           1120.0   \n",
       "4         1.0       3.0            2.0 2018-04-16              0.0   \n",
       "...       ...       ...            ...        ...              ...   \n",
       "88742     0.0       2.0            1.0 2017-10-07            244.0   \n",
       "88743     NaN       1.0            1.0 2017-12-13            273.0   \n",
       "88744     1.0       2.0            1.0 2018-11-28            210.0   \n",
       "88745     2.0       3.0            2.0 2019-02-06              NaN   \n",
       "88746     1.0       4.0            4.0 2018-04-14              0.0   \n",
       "\n",
       "       annual_iptu_tax  \n",
       "0                  NaN  \n",
       "1                  NaN  \n",
       "2               1610.0  \n",
       "3                489.0  \n",
       "4                  0.0  \n",
       "...                ...  \n",
       "88742              0.0  \n",
       "88743             86.0  \n",
       "88744              0.0  \n",
       "88745              NaN  \n",
       "88746            665.0  \n",
       "\n",
       "[88747 rows x 10 columns]"
      ]
     },
     "metadata": {},
     "output_type": "display_data"
    },
    {
     "data": {
      "text/plain": [
       "0         700000\n",
       "1         336000\n",
       "2         739643\n",
       "3         630700\n",
       "4         385000\n",
       "          ...   \n",
       "88742     171150\n",
       "88743     251999\n",
       "88744     249782\n",
       "88745     623000\n",
       "88746    1820000\n",
       "Name: sale_price, Length: 88747, dtype: int64"
      ]
     },
     "metadata": {},
     "output_type": "display_data"
    }
   ],
   "source": [
    "df_file = P.join(preprocessed_dataset_root_dir, \"sp_sales_data.parquet\")\n",
    "\n",
    "features = pd.read_parquet(df_file)\n",
    "target = features.pop(\"sale_price\")\n",
    "\n",
    "display(features)\n",
    "display(target)\n"
   ]
  },
  {
   "cell_type": "markdown",
   "metadata": {},
   "source": [
    "Let's also apply the data transformation pipeline.\n"
   ]
  },
  {
   "cell_type": "code",
   "execution_count": 9,
   "metadata": {},
   "outputs": [
    {
     "data": {
      "text/html": [
       "<div>\n",
       "<style scoped>\n",
       "    .dataframe tbody tr th:only-of-type {\n",
       "        vertical-align: middle;\n",
       "    }\n",
       "\n",
       "    .dataframe tbody tr th {\n",
       "        vertical-align: top;\n",
       "    }\n",
       "\n",
       "    .dataframe thead th {\n",
       "        text-align: right;\n",
       "    }\n",
       "</style>\n",
       "<table border=\"1\" class=\"dataframe\">\n",
       "  <thead>\n",
       "    <tr style=\"text-align: right;\">\n",
       "      <th></th>\n",
       "      <th>property_type_Apartament</th>\n",
       "      <th>property_type_Condominium</th>\n",
       "      <th>property_type_Flat</th>\n",
       "      <th>property_type_House</th>\n",
       "      <th>property_type_Penthouse</th>\n",
       "      <th>property_type_Residential Building</th>\n",
       "      <th>property_type_Studio Apartament</th>\n",
       "      <th>property_type_Two-story House</th>\n",
       "      <th>usable_area</th>\n",
       "      <th>condominium_fee</th>\n",
       "      <th>annual_iptu_tax</th>\n",
       "      <th>condominium_per_area</th>\n",
       "      <th>iptu_per_area</th>\n",
       "      <th>neighborhood_condominium_per_area</th>\n",
       "      <th>neighborhood_iptu_per_area</th>\n",
       "      <th>suites</th>\n",
       "      <th>parking_spots</th>\n",
       "      <th>bedrooms</th>\n",
       "      <th>bathrooms</th>\n",
       "    </tr>\n",
       "  </thead>\n",
       "  <tbody>\n",
       "    <tr>\n",
       "      <th>0</th>\n",
       "      <td>0.0</td>\n",
       "      <td>0.0</td>\n",
       "      <td>0.0</td>\n",
       "      <td>0.0</td>\n",
       "      <td>0.0</td>\n",
       "      <td>0.0</td>\n",
       "      <td>0.0</td>\n",
       "      <td>1.0</td>\n",
       "      <td>4.039322</td>\n",
       "      <td>4.616727e-18</td>\n",
       "      <td>0.000000</td>\n",
       "      <td>-0.031827</td>\n",
       "      <td>-0.015712</td>\n",
       "      <td>3.180273</td>\n",
       "      <td>0.073782</td>\n",
       "      <td>0.166667</td>\n",
       "      <td>0.857143</td>\n",
       "      <td>0.8</td>\n",
       "      <td>0.428571</td>\n",
       "    </tr>\n",
       "    <tr>\n",
       "      <th>1</th>\n",
       "      <td>0.0</td>\n",
       "      <td>0.0</td>\n",
       "      <td>0.0</td>\n",
       "      <td>1.0</td>\n",
       "      <td>0.0</td>\n",
       "      <td>0.0</td>\n",
       "      <td>0.0</td>\n",
       "      <td>0.0</td>\n",
       "      <td>0.229577</td>\n",
       "      <td>4.616727e-18</td>\n",
       "      <td>0.000000</td>\n",
       "      <td>-0.010645</td>\n",
       "      <td>-0.000007</td>\n",
       "      <td>-0.216482</td>\n",
       "      <td>0.135286</td>\n",
       "      <td>0.166667</td>\n",
       "      <td>0.285714</td>\n",
       "      <td>0.6</td>\n",
       "      <td>0.285714</td>\n",
       "    </tr>\n",
       "    <tr>\n",
       "      <th>2</th>\n",
       "      <td>1.0</td>\n",
       "      <td>0.0</td>\n",
       "      <td>0.0</td>\n",
       "      <td>0.0</td>\n",
       "      <td>0.0</td>\n",
       "      <td>0.0</td>\n",
       "      <td>0.0</td>\n",
       "      <td>0.0</td>\n",
       "      <td>-0.491186</td>\n",
       "      <td>-1.225603e-02</td>\n",
       "      <td>0.019209</td>\n",
       "      <td>-0.006842</td>\n",
       "      <td>0.059671</td>\n",
       "      <td>1.011119</td>\n",
       "      <td>-0.096446</td>\n",
       "      <td>0.166667</td>\n",
       "      <td>0.285714</td>\n",
       "      <td>0.6</td>\n",
       "      <td>0.285714</td>\n",
       "    </tr>\n",
       "    <tr>\n",
       "      <th>3</th>\n",
       "      <td>1.0</td>\n",
       "      <td>0.0</td>\n",
       "      <td>0.0</td>\n",
       "      <td>0.0</td>\n",
       "      <td>0.0</td>\n",
       "      <td>0.0</td>\n",
       "      <td>0.0</td>\n",
       "      <td>0.0</td>\n",
       "      <td>-0.285254</td>\n",
       "      <td>5.368350e-03</td>\n",
       "      <td>-0.005375</td>\n",
       "      <td>0.006999</td>\n",
       "      <td>-0.002027</td>\n",
       "      <td>0.616780</td>\n",
       "      <td>-0.083665</td>\n",
       "      <td>0.000000</td>\n",
       "      <td>0.285714</td>\n",
       "      <td>0.6</td>\n",
       "      <td>0.142857</td>\n",
       "    </tr>\n",
       "    <tr>\n",
       "      <th>4</th>\n",
       "      <td>0.0</td>\n",
       "      <td>1.0</td>\n",
       "      <td>0.0</td>\n",
       "      <td>0.0</td>\n",
       "      <td>0.0</td>\n",
       "      <td>0.0</td>\n",
       "      <td>0.0</td>\n",
       "      <td>0.0</td>\n",
       "      <td>-0.049903</td>\n",
       "      <td>-4.011391e-02</td>\n",
       "      <td>-0.016099</td>\n",
       "      <td>-0.042378</td>\n",
       "      <td>-0.023535</td>\n",
       "      <td>-0.325976</td>\n",
       "      <td>-0.147722</td>\n",
       "      <td>0.166667</td>\n",
       "      <td>0.285714</td>\n",
       "      <td>0.6</td>\n",
       "      <td>0.142857</td>\n",
       "    </tr>\n",
       "    <tr>\n",
       "      <th>...</th>\n",
       "      <td>...</td>\n",
       "      <td>...</td>\n",
       "      <td>...</td>\n",
       "      <td>...</td>\n",
       "      <td>...</td>\n",
       "      <td>...</td>\n",
       "      <td>...</td>\n",
       "      <td>...</td>\n",
       "      <td>...</td>\n",
       "      <td>...</td>\n",
       "      <td>...</td>\n",
       "      <td>...</td>\n",
       "      <td>...</td>\n",
       "      <td>...</td>\n",
       "      <td>...</td>\n",
       "      <td>...</td>\n",
       "      <td>...</td>\n",
       "      <td>...</td>\n",
       "      <td>...</td>\n",
       "    </tr>\n",
       "    <tr>\n",
       "      <th>88742</th>\n",
       "      <td>1.0</td>\n",
       "      <td>0.0</td>\n",
       "      <td>0.0</td>\n",
       "      <td>0.0</td>\n",
       "      <td>0.0</td>\n",
       "      <td>0.0</td>\n",
       "      <td>0.0</td>\n",
       "      <td>0.0</td>\n",
       "      <td>-0.961888</td>\n",
       "      <td>-3.020527e-02</td>\n",
       "      <td>-0.016099</td>\n",
       "      <td>-0.021312</td>\n",
       "      <td>-0.023535</td>\n",
       "      <td>-0.338419</td>\n",
       "      <td>-0.162822</td>\n",
       "      <td>0.000000</td>\n",
       "      <td>0.142857</td>\n",
       "      <td>0.4</td>\n",
       "      <td>0.142857</td>\n",
       "    </tr>\n",
       "    <tr>\n",
       "      <th>88743</th>\n",
       "      <td>1.0</td>\n",
       "      <td>0.0</td>\n",
       "      <td>0.0</td>\n",
       "      <td>0.0</td>\n",
       "      <td>0.0</td>\n",
       "      <td>0.0</td>\n",
       "      <td>0.0</td>\n",
       "      <td>0.0</td>\n",
       "      <td>-0.785375</td>\n",
       "      <td>-2.902761e-02</td>\n",
       "      <td>-0.014213</td>\n",
       "      <td>-0.023522</td>\n",
       "      <td>-0.017609</td>\n",
       "      <td>-0.139360</td>\n",
       "      <td>-0.105350</td>\n",
       "      <td>0.177136</td>\n",
       "      <td>0.142857</td>\n",
       "      <td>0.2</td>\n",
       "      <td>0.142857</td>\n",
       "    </tr>\n",
       "    <tr>\n",
       "      <th>88744</th>\n",
       "      <td>1.0</td>\n",
       "      <td>0.0</td>\n",
       "      <td>0.0</td>\n",
       "      <td>0.0</td>\n",
       "      <td>0.0</td>\n",
       "      <td>0.0</td>\n",
       "      <td>0.0</td>\n",
       "      <td>0.0</td>\n",
       "      <td>-0.888341</td>\n",
       "      <td>-3.158599e-02</td>\n",
       "      <td>-0.016099</td>\n",
       "      <td>-0.025958</td>\n",
       "      <td>-0.023535</td>\n",
       "      <td>-0.189627</td>\n",
       "      <td>-0.062737</td>\n",
       "      <td>0.166667</td>\n",
       "      <td>0.142857</td>\n",
       "      <td>0.4</td>\n",
       "      <td>0.285714</td>\n",
       "    </tr>\n",
       "    <tr>\n",
       "      <th>88745</th>\n",
       "      <td>1.0</td>\n",
       "      <td>0.0</td>\n",
       "      <td>0.0</td>\n",
       "      <td>0.0</td>\n",
       "      <td>0.0</td>\n",
       "      <td>0.0</td>\n",
       "      <td>0.0</td>\n",
       "      <td>0.0</td>\n",
       "      <td>-1.373752</td>\n",
       "      <td>4.616727e-18</td>\n",
       "      <td>0.000000</td>\n",
       "      <td>0.162300</td>\n",
       "      <td>0.128216</td>\n",
       "      <td>-0.181446</td>\n",
       "      <td>-0.077305</td>\n",
       "      <td>0.333333</td>\n",
       "      <td>0.285714</td>\n",
       "      <td>0.6</td>\n",
       "      <td>0.428571</td>\n",
       "    </tr>\n",
       "    <tr>\n",
       "      <th>88746</th>\n",
       "      <td>0.0</td>\n",
       "      <td>0.0</td>\n",
       "      <td>0.0</td>\n",
       "      <td>0.0</td>\n",
       "      <td>0.0</td>\n",
       "      <td>0.0</td>\n",
       "      <td>0.0</td>\n",
       "      <td>1.0</td>\n",
       "      <td>3.583329</td>\n",
       "      <td>-4.011391e-02</td>\n",
       "      <td>-0.001515</td>\n",
       "      <td>-0.042378</td>\n",
       "      <td>-0.015833</td>\n",
       "      <td>-0.264162</td>\n",
       "      <td>-0.050042</td>\n",
       "      <td>0.166667</td>\n",
       "      <td>0.571429</td>\n",
       "      <td>0.8</td>\n",
       "      <td>0.571429</td>\n",
       "    </tr>\n",
       "  </tbody>\n",
       "</table>\n",
       "<p>88747 rows × 19 columns</p>\n",
       "</div>"
      ],
      "text/plain": [
       "       property_type_Apartament  property_type_Condominium  \\\n",
       "0                           0.0                        0.0   \n",
       "1                           0.0                        0.0   \n",
       "2                           1.0                        0.0   \n",
       "3                           1.0                        0.0   \n",
       "4                           0.0                        1.0   \n",
       "...                         ...                        ...   \n",
       "88742                       1.0                        0.0   \n",
       "88743                       1.0                        0.0   \n",
       "88744                       1.0                        0.0   \n",
       "88745                       1.0                        0.0   \n",
       "88746                       0.0                        0.0   \n",
       "\n",
       "       property_type_Flat  property_type_House  property_type_Penthouse  \\\n",
       "0                     0.0                  0.0                      0.0   \n",
       "1                     0.0                  1.0                      0.0   \n",
       "2                     0.0                  0.0                      0.0   \n",
       "3                     0.0                  0.0                      0.0   \n",
       "4                     0.0                  0.0                      0.0   \n",
       "...                   ...                  ...                      ...   \n",
       "88742                 0.0                  0.0                      0.0   \n",
       "88743                 0.0                  0.0                      0.0   \n",
       "88744                 0.0                  0.0                      0.0   \n",
       "88745                 0.0                  0.0                      0.0   \n",
       "88746                 0.0                  0.0                      0.0   \n",
       "\n",
       "       property_type_Residential Building  property_type_Studio Apartament  \\\n",
       "0                                     0.0                              0.0   \n",
       "1                                     0.0                              0.0   \n",
       "2                                     0.0                              0.0   \n",
       "3                                     0.0                              0.0   \n",
       "4                                     0.0                              0.0   \n",
       "...                                   ...                              ...   \n",
       "88742                                 0.0                              0.0   \n",
       "88743                                 0.0                              0.0   \n",
       "88744                                 0.0                              0.0   \n",
       "88745                                 0.0                              0.0   \n",
       "88746                                 0.0                              0.0   \n",
       "\n",
       "       property_type_Two-story House  usable_area  condominium_fee  \\\n",
       "0                                1.0     4.039322     4.616727e-18   \n",
       "1                                0.0     0.229577     4.616727e-18   \n",
       "2                                0.0    -0.491186    -1.225603e-02   \n",
       "3                                0.0    -0.285254     5.368350e-03   \n",
       "4                                0.0    -0.049903    -4.011391e-02   \n",
       "...                              ...          ...              ...   \n",
       "88742                            0.0    -0.961888    -3.020527e-02   \n",
       "88743                            0.0    -0.785375    -2.902761e-02   \n",
       "88744                            0.0    -0.888341    -3.158599e-02   \n",
       "88745                            0.0    -1.373752     4.616727e-18   \n",
       "88746                            1.0     3.583329    -4.011391e-02   \n",
       "\n",
       "       annual_iptu_tax  condominium_per_area  iptu_per_area  \\\n",
       "0             0.000000             -0.031827      -0.015712   \n",
       "1             0.000000             -0.010645      -0.000007   \n",
       "2             0.019209             -0.006842       0.059671   \n",
       "3            -0.005375              0.006999      -0.002027   \n",
       "4            -0.016099             -0.042378      -0.023535   \n",
       "...                ...                   ...            ...   \n",
       "88742        -0.016099             -0.021312      -0.023535   \n",
       "88743        -0.014213             -0.023522      -0.017609   \n",
       "88744        -0.016099             -0.025958      -0.023535   \n",
       "88745         0.000000              0.162300       0.128216   \n",
       "88746        -0.001515             -0.042378      -0.015833   \n",
       "\n",
       "       neighborhood_condominium_per_area  neighborhood_iptu_per_area  \\\n",
       "0                               3.180273                    0.073782   \n",
       "1                              -0.216482                    0.135286   \n",
       "2                               1.011119                   -0.096446   \n",
       "3                               0.616780                   -0.083665   \n",
       "4                              -0.325976                   -0.147722   \n",
       "...                                  ...                         ...   \n",
       "88742                          -0.338419                   -0.162822   \n",
       "88743                          -0.139360                   -0.105350   \n",
       "88744                          -0.189627                   -0.062737   \n",
       "88745                          -0.181446                   -0.077305   \n",
       "88746                          -0.264162                   -0.050042   \n",
       "\n",
       "         suites  parking_spots  bedrooms  bathrooms  \n",
       "0      0.166667       0.857143       0.8   0.428571  \n",
       "1      0.166667       0.285714       0.6   0.285714  \n",
       "2      0.166667       0.285714       0.6   0.285714  \n",
       "3      0.000000       0.285714       0.6   0.142857  \n",
       "4      0.166667       0.285714       0.6   0.142857  \n",
       "...         ...            ...       ...        ...  \n",
       "88742  0.000000       0.142857       0.4   0.142857  \n",
       "88743  0.177136       0.142857       0.2   0.142857  \n",
       "88744  0.166667       0.142857       0.4   0.285714  \n",
       "88745  0.333333       0.285714       0.6   0.428571  \n",
       "88746  0.166667       0.571429       0.8   0.571429  \n",
       "\n",
       "[88747 rows x 19 columns]"
      ]
     },
     "metadata": {},
     "output_type": "display_data"
    },
    {
     "data": {
      "text/plain": [
       "0        13.458836\n",
       "1        12.724866\n",
       "2        13.513923\n",
       "3        13.354586\n",
       "4        12.860999\n",
       "           ...    \n",
       "88742    12.050296\n",
       "88743    12.437180\n",
       "88744    12.428344\n",
       "88745    13.342302\n",
       "88746    14.414347\n",
       "Name: sale_price, Length: 88747, dtype: float64"
      ]
     },
     "metadata": {},
     "output_type": "display_data"
    }
   ],
   "source": [
    "transformed_features = preprocessing_pipeline.transform(features)\n",
    "transformed_target = target_transform.transform(target)\n",
    "\n",
    "display(transformed_features)\n",
    "display(transformed_target)\n"
   ]
  },
  {
   "cell_type": "markdown",
   "metadata": {},
   "source": [
    "## Train/Test Split\n",
    "\n",
    "As in the last notebook, we'll split the data into train (80% of the original data) and test (20% of the original data) sets.\n"
   ]
  },
  {
   "cell_type": "code",
   "execution_count": 10,
   "metadata": {},
   "outputs": [
    {
     "name": "stdout",
     "output_type": "stream",
     "text": [
      "[(70997, 19), (17750, 19), (70997,), (17750,)]\n"
     ]
    }
   ],
   "source": [
    "X_train, X_test, y_train, y_test = train_test_split(\n",
    "    transformed_features, transformed_target, test_size=0.2, random_state=random_state\n",
    ")\n",
    "\n",
    "print([t.shape for t in (X_train, X_test, y_train, y_test)])\n"
   ]
  },
  {
   "cell_type": "markdown",
   "metadata": {},
   "source": [
    "# Hyperparameter Optimization with Optuna\n",
    "\n",
    "Optuna uses a technique called [Bayesian Optimization](https://en.wikipedia.org/wiki/Bayesian_optimization) to find the best parameters for you model. To put it simply, it **learns** the best parameters combinations by, first, computing the value of an **objective function** given some random combination of parameters and, by checking the variation of the objetive function, finding the best optimization path. It them computes some new random combinations of hyperparameters that are closer to an optimal objective function value. This process is repeated some times until some stop criteria is met.\n",
    "\n",
    "Usually, the **objective function** is the value of the evaluation metric (in our case, the Mean Squared Logarithmic Error) of our model trained with the given set of hyperparameters.\n",
    "\n",
    "Now, we'll find the best parameters for each of the models that compose the **voting classifier** that we've trained in the last notebook.\n"
   ]
  },
  {
   "cell_type": "markdown",
   "metadata": {},
   "source": [
    "## CatBoost Regressor\n",
    "\n",
    "First, we need to choose which hyperparameters we want to optimize. Here's a description of the hyperparameters that I've chosen.\n"
   ]
  },
  {
   "cell_type": "markdown",
   "metadata": {},
   "source": [
    "### Hyperparameters Descriptions\n",
    "\n",
    "- **Number of Trees** (`iterations`): The maximum number of trees that can be built within the model. Represents the steps (or rounds of refinement) the algorithm takes to create a more accurate model that learns from the data. We'll use a fixed number, as we'll be also tuning the `learning_rate`.\n",
    "- **Learning Rate** (`learning_rate`): Technically, is used for reducing the gradient step. In other words, it scales the contribution of each decision tree to manage the overall balance and accuracy of the model. A range of 0.001 to 0.1 is a good starting point.\n",
    "- **Tree Depth** (`depth`): Depth of the tree. You can think as the complexity or “height” of decision trees in your CatBoost model. It’s a good idea to try out values between 1 and 10\n",
    "- **Subsample** (`subsample`): is a technique used to randomly choose a fraction of the dataset when constructing each tree, promoting diversity among the trees and helping to reduce overfitting. We'll from 0.05 to 1.\n",
    "- **Feature Sampling by Level** (`colsample_bylevel`): The percentage of features to use at each split selection. The idea is the same as with `subsample`, but this time, we’re sampling features instead of rows. We'll use values between 0.05 and 1.0.\n",
    "- **Minimum Data in Leaf** (`min_data_in_leaf`): The minimum number of training samples in a leaf, effectively controlling the split creation process. We'll go for values between 1 and 100.\n"
   ]
  },
  {
   "cell_type": "markdown",
   "metadata": {},
   "source": [
    "### Objective function\n",
    "\n",
    "With the hyperparameters and search space chosen, it's time to define the objective function.\n"
   ]
  },
  {
   "cell_type": "code",
   "execution_count": 11,
   "metadata": {},
   "outputs": [],
   "source": [
    "def catboost_objective(trial):\n",
    "    params = {\n",
    "        \"iterations\": 1000,\n",
    "        \"learning_rate\": trial.suggest_float(\"learning_rate\", 1e-3, 0.1, log=True),\n",
    "        \"depth\": trial.suggest_int(\"depth\", 1, 10),\n",
    "        \"subsample\": trial.suggest_float(\"subsample\", 0.05, 1.0),\n",
    "        \"colsample_bylevel\": trial.suggest_float(\"colsample_bylevel\", 0.05, 1.0),\n",
    "        \"min_data_in_leaf\": trial.suggest_int(\"min_data_in_leaf\", 1, 100),\n",
    "    }\n",
    "\n",
    "    model = CatBoostRegressor(\n",
    "        **params, silent=True, allow_writing_files=False, random_seed=random_state\n",
    "    )\n",
    "\n",
    "    scorer = make_scorer(mean_squared_error)\n",
    "    scores = cross_val_score(model, X_train, y_train, cv=5, scoring=scorer)\n",
    "\n",
    "    avg_msle = scores.mean()\n",
    "    return avg_msle\n"
   ]
  },
  {
   "cell_type": "markdown",
   "metadata": {},
   "source": [
    "Let's take a minute to analyze this code.\n"
   ]
  },
  {
   "cell_type": "markdown",
   "metadata": {},
   "source": [
    "```python\n",
    "def catboost_objective(trial):\n",
    "```\n",
    "\n",
    "Every objective function in Optuna receives a **Trial** object, that will hold all relevant information for a specific run of the function. E.g.: The hyperparameter combination set, timestamp of the function call, id of the call, etc.\n"
   ]
  },
  {
   "cell_type": "markdown",
   "metadata": {},
   "source": [
    "```python\n",
    "    params = {\n",
    "        \"iterations\": 1000,\n",
    "        \"learning_rate\": trial.suggest_float(\"learning_rate\", 1e-3, 0.1, log=True),\n",
    "        \"depth\": trial.suggest_int(\"depth\", 1, 10),\n",
    "        \"subsample\": trial.suggest_float(\"subsample\", 0.05, 1.0),\n",
    "        \"colsample_bylevel\": trial.suggest_float(\"colsample_bylevel\", 0.05, 1.0),\n",
    "        \"min_data_in_leaf\": trial.suggest_int(\"min_data_in_leaf\", 1, 100),\n",
    "    }\n",
    "```\n",
    "\n",
    "The search spaces in Optuna are defined inside the objective function. The **Trial** object will take care of \"suggesting\" the hyperparameters combination for the function call.\n"
   ]
  },
  {
   "cell_type": "markdown",
   "metadata": {},
   "source": [
    "```python\n",
    "    model = cb.CatBoostRegressor(\n",
    "        **params, silent=True, allow_writing_files=False, random_seed=random_state\n",
    "    )\n",
    "```\n",
    "\n",
    "Here the hyperparameters combination is supplied to the model (the `**` unpacks the `dict` items as function parameters). We also supply the parameters `silent=True` and `allow_writing_files=False` (that instructs the CatBoost regressor to not generate the training output files, we don't them), and the `random_seed` as weel, to ensure the reproductibility of the results.\n"
   ]
  },
  {
   "cell_type": "markdown",
   "metadata": {},
   "source": [
    "```python\n",
    "    scorer = make_scorer(mean_squared_error)\n",
    "    scores = cross_val_score(model, X_train, y_train, cv=5, scoring=scorer)\n",
    "\n",
    "    avg_msle = scores.mean()\n",
    "    return avg_msle\n",
    "```\n",
    "\n",
    "Next we compute the cross validation scores for 5-folds using the trainning set, compute the average score and return it.\n"
   ]
  },
  {
   "cell_type": "markdown",
   "metadata": {},
   "source": [
    "### Optimization\n",
    "\n",
    "With the objective function defined, we'll proceed to create the **Study**. In Optuna, the **Study** represents an optimization session, which comprises, among other things, the set of **Trials** objects.\n",
    "\n",
    "The **Study** object also receives the `direction` parameter, that indicates if type of optimization we want: minimization or maximization. In our case, we want to minimize the error.\n",
    "\n",
    "The **Study** is also responsible for the optimization process, by calling `optimize`.\n"
   ]
  },
  {
   "cell_type": "code",
   "execution_count": 12,
   "metadata": {},
   "outputs": [
    {
     "name": "stderr",
     "output_type": "stream",
     "text": [
      "[I 2023-07-17 20:04:06,386] A new study created in memory with name: no-name-7634b2fc-b7e6-4761-a70b-77efb13a75f6\n",
      "[I 2023-07-17 20:04:16,145] Trial 0 finished with value: 0.08583877576563648 and parameters: {'learning_rate': 0.0030952462354568605, 'depth': 5, 'subsample': 0.36163452771564286, 'colsample_bylevel': 0.40012732456500183, 'min_data_in_leaf': 25}. Best is trial 0 with value: 0.08583877576563648.\n",
      "[I 2023-07-17 20:04:25,852] Trial 1 finished with value: 0.18609658329252443 and parameters: {'learning_rate': 0.0013656696664512604, 'depth': 8, 'subsample': 0.91851124132484, 'colsample_bylevel': 0.0858664565762019, 'min_data_in_leaf': 69}. Best is trial 0 with value: 0.08583877576563648.\n",
      "[I 2023-07-17 20:04:36,253] Trial 2 finished with value: 0.08007174173319957 and parameters: {'learning_rate': 0.003952922162192453, 'depth': 5, 'subsample': 0.5155460846488226, 'colsample_bylevel': 0.4281480873446582, 'min_data_in_leaf': 52}. Best is trial 2 with value: 0.08007174173319957.\n",
      "[I 2023-07-17 20:05:39,098] Trial 3 finished with value: 0.09463305898072574 and parameters: {'learning_rate': 0.0016196625941723459, 'depth': 10, 'subsample': 0.7987801549683365, 'colsample_bylevel': 0.9926809985820501, 'min_data_in_leaf': 9}. Best is trial 2 with value: 0.08007174173319957.\n",
      "[I 2023-07-17 20:05:46,404] Trial 4 finished with value: 0.11213677505455202 and parameters: {'learning_rate': 0.003327504765266155, 'depth': 2, 'subsample': 0.7347516211817984, 'colsample_bylevel': 0.2702601253621244, 'min_data_in_leaf': 90}. Best is trial 2 with value: 0.08007174173319957.\n",
      "[I 2023-07-17 20:06:36,206] Trial 5 finished with value: 0.08626917691720046 and parameters: {'learning_rate': 0.001910785743610575, 'depth': 10, 'subsample': 0.2494224709743625, 'colsample_bylevel': 0.7908530693831012, 'min_data_in_leaf': 24}. Best is trial 2 with value: 0.08007174173319957.\n",
      "[I 2023-07-17 20:06:50,046] Trial 6 finished with value: 0.05154294312097233 and parameters: {'learning_rate': 0.02033615761514777, 'depth': 7, 'subsample': 0.3206252489833601, 'colsample_bylevel': 0.7523205138979814, 'min_data_in_leaf': 17}. Best is trial 6 with value: 0.05154294312097233.\n",
      "[I 2023-07-17 20:07:01,727] Trial 7 finished with value: 0.046102676778604405 and parameters: {'learning_rate': 0.08030885444031508, 'depth': 7, 'subsample': 0.10683514254541908, 'colsample_bylevel': 0.48877419520525195, 'min_data_in_leaf': 73}. Best is trial 7 with value: 0.046102676778604405.\n",
      "[I 2023-07-17 20:07:11,083] Trial 8 finished with value: 0.06332573643660691 and parameters: {'learning_rate': 0.013941410302778325, 'depth': 5, 'subsample': 0.39842383386143876, 'colsample_bylevel': 0.325718887044945, 'min_data_in_leaf': 22}. Best is trial 7 with value: 0.046102676778604405.\n",
      "[I 2023-07-17 20:07:18,085] Trial 9 finished with value: 0.1544168471003819 and parameters: {'learning_rate': 0.0024034211930919923, 'depth': 4, 'subsample': 0.5969774183828128, 'colsample_bylevel': 0.08117721430859588, 'min_data_in_leaf': 34}. Best is trial 7 with value: 0.046102676778604405.\n",
      "[I 2023-07-17 20:07:23,357] Trial 10 finished with value: 0.06080792067568064 and parameters: {'learning_rate': 0.09424484411153433, 'depth': 2, 'subsample': 0.09395173020662888, 'colsample_bylevel': 0.6041572126772901, 'min_data_in_leaf': 97}. Best is trial 7 with value: 0.046102676778604405.\n",
      "[I 2023-07-17 20:07:35,032] Trial 11 finished with value: 0.048905618905119144 and parameters: {'learning_rate': 0.05026515573220826, 'depth': 7, 'subsample': 0.06884640358218835, 'colsample_bylevel': 0.6293269336947483, 'min_data_in_leaf': 67}. Best is trial 7 with value: 0.046102676778604405.\n",
      "[I 2023-07-17 20:07:52,058] Trial 12 finished with value: 0.04547272400344195 and parameters: {'learning_rate': 0.09246622110369333, 'depth': 8, 'subsample': 0.07960496687518478, 'colsample_bylevel': 0.5689260744009554, 'min_data_in_leaf': 71}. Best is trial 12 with value: 0.04547272400344195.\n",
      "[I 2023-07-17 20:08:09,384] Trial 13 finished with value: 0.04378435671042343 and parameters: {'learning_rate': 0.09055371293125325, 'depth': 8, 'subsample': 0.169694244932035, 'colsample_bylevel': 0.5001164213089326, 'min_data_in_leaf': 76}. Best is trial 13 with value: 0.04378435671042343.\n",
      "[I 2023-07-17 20:08:42,892] Trial 14 finished with value: 0.04615453881956719 and parameters: {'learning_rate': 0.03514100616944843, 'depth': 9, 'subsample': 0.19886186178185075, 'colsample_bylevel': 0.573664041727026, 'min_data_in_leaf': 82}. Best is trial 13 with value: 0.04378435671042343.\n",
      "[I 2023-07-17 20:09:00,447] Trial 15 finished with value: 0.04665529209936749 and parameters: {'learning_rate': 0.041232414697296986, 'depth': 8, 'subsample': 0.17777113911480907, 'colsample_bylevel': 0.5124159624022948, 'min_data_in_leaf': 51}. Best is trial 13 with value: 0.04378435671042343.\n",
      "[I 2023-07-17 20:09:26,867] Trial 16 finished with value: 0.04375361551411444 and parameters: {'learning_rate': 0.08936503214296158, 'depth': 9, 'subsample': 0.2449558899999187, 'colsample_bylevel': 0.26640247573001297, 'min_data_in_leaf': 61}. Best is trial 16 with value: 0.04375361551411444.\n",
      "[I 2023-07-17 20:09:51,650] Trial 17 finished with value: 0.050117370447378254 and parameters: {'learning_rate': 0.025521097546190617, 'depth': 9, 'subsample': 0.27692879818122973, 'colsample_bylevel': 0.22994416629043068, 'min_data_in_leaf': 39}. Best is trial 16 with value: 0.04375361551411444.\n",
      "[I 2023-07-17 20:10:03,049] Trial 18 finished with value: 0.04701925779155765 and parameters: {'learning_rate': 0.05523977593345166, 'depth': 6, 'subsample': 0.44110606201838864, 'colsample_bylevel': 0.3656481593412777, 'min_data_in_leaf': 58}. Best is trial 16 with value: 0.04375361551411444.\n",
      "[I 2023-07-17 20:10:22,699] Trial 19 finished with value: 0.06674761802950425 and parameters: {'learning_rate': 0.00651552568904539, 'depth': 9, 'subsample': 0.21892182560772444, 'colsample_bylevel': 0.17645256737728876, 'min_data_in_leaf': 83}. Best is trial 16 with value: 0.04375361551411444.\n",
      "[I 2023-07-17 20:11:06,346] Trial 20 finished with value: 0.043610806250972155 and parameters: {'learning_rate': 0.05728260410020407, 'depth': 10, 'subsample': 0.31087554615214674, 'colsample_bylevel': 0.31862133595177633, 'min_data_in_leaf': 59}. Best is trial 20 with value: 0.043610806250972155.\n",
      "[I 2023-07-17 20:11:44,693] Trial 21 finished with value: 0.04383569842719964 and parameters: {'learning_rate': 0.06295547565624134, 'depth': 10, 'subsample': 0.2646692188973458, 'colsample_bylevel': 0.29678141492798027, 'min_data_in_leaf': 60}. Best is trial 20 with value: 0.043610806250972155.\n",
      "[I 2023-07-17 20:12:06,026] Trial 22 finished with value: 0.049637538950349315 and parameters: {'learning_rate': 0.03358519279048345, 'depth': 9, 'subsample': 0.35599559553378946, 'colsample_bylevel': 0.17727629086519478, 'min_data_in_leaf': 42}. Best is trial 20 with value: 0.043610806250972155.\n",
      "[I 2023-07-17 20:12:47,211] Trial 23 finished with value: 0.044154635669054684 and parameters: {'learning_rate': 0.06918674024270292, 'depth': 10, 'subsample': 0.16846111993485616, 'colsample_bylevel': 0.40337042285291075, 'min_data_in_leaf': 80}. Best is trial 20 with value: 0.043610806250972155.\n",
      "[I 2023-07-17 20:13:03,452] Trial 24 finished with value: 0.04499034796498972 and parameters: {'learning_rate': 0.054665997276717025, 'depth': 8, 'subsample': 0.2971394760458714, 'colsample_bylevel': 0.34825360998548316, 'min_data_in_leaf': 60}. Best is trial 20 with value: 0.043610806250972155.\n",
      "[I 2023-07-17 20:13:34,038] Trial 25 finished with value: 0.04350661805102542 and parameters: {'learning_rate': 0.0995139343438888, 'depth': 9, 'subsample': 0.15276032045310758, 'colsample_bylevel': 0.4504408434539289, 'min_data_in_leaf': 45}. Best is trial 25 with value: 0.04350661805102542.\n",
      "[I 2023-07-17 20:13:39,319] Trial 26 finished with value: 0.08173721487193972 and parameters: {'learning_rate': 0.043467715137654316, 'depth': 1, 'subsample': 0.4323501005392947, 'colsample_bylevel': 0.24359515820616867, 'min_data_in_leaf': 44}. Best is trial 25 with value: 0.04350661805102542.\n",
      "[I 2023-07-17 20:14:11,356] Trial 27 finished with value: 0.04197739450912504 and parameters: {'learning_rate': 0.09899575020885905, 'depth': 9, 'subsample': 0.3135410374015273, 'colsample_bylevel': 0.434515073493983, 'min_data_in_leaf': 49}. Best is trial 27 with value: 0.04197739450912504.\n",
      "[I 2023-07-17 20:14:22,415] Trial 28 finished with value: 0.046278971806869094 and parameters: {'learning_rate': 0.06277651295404593, 'depth': 6, 'subsample': 0.3485476453529478, 'colsample_bylevel': 0.43456089020899547, 'min_data_in_leaf': 33}. Best is trial 27 with value: 0.04197739450912504.\n",
      "[I 2023-07-17 20:15:04,033] Trial 29 finished with value: 0.041894457963439616 and parameters: {'learning_rate': 0.0996478732760112, 'depth': 10, 'subsample': 0.34317043453635176, 'colsample_bylevel': 0.37384413309013576, 'min_data_in_leaf': 47}. Best is trial 29 with value: 0.041894457963439616.\n"
     ]
    }
   ],
   "source": [
    "catboost_study = optuna.create_study(direction=\"minimize\")\n",
    "catboost_study.optimize(catboost_objective, n_trials=30)"
   ]
  },
  {
   "cell_type": "markdown",
   "metadata": {},
   "source": [
    "With the process finished, we can retrieve the found set of best parameters, as well of the optimizal value of the objective function.\n"
   ]
  },
  {
   "cell_type": "code",
   "execution_count": 13,
   "metadata": {},
   "outputs": [
    {
     "name": "stdout",
     "output_type": "stream",
     "text": [
      "Best hyperparameters:  {'learning_rate': 0.0996478732760112, 'depth': 10, 'subsample': 0.34317043453635176, 'colsample_bylevel': 0.37384413309013576, 'min_data_in_leaf': 47}\n",
      "Best MSLE 0.041894457963439616\n"
     ]
    }
   ],
   "source": [
    "print(\"Best hyperparameters: \", catboost_study.best_params)\n",
    "print(\"Best MSLE\", catboost_study.best_value)\n"
   ]
  },
  {
   "cell_type": "markdown",
   "metadata": {},
   "source": [
    "Now we can train the CatBoost regressor with the best hyperparameters and evaluate the resulting model error using the test set.\n"
   ]
  },
  {
   "cell_type": "code",
   "execution_count": 14,
   "metadata": {},
   "outputs": [
    {
     "data": {
      "text/plain": [
       "0.041003498193351876"
      ]
     },
     "execution_count": 14,
     "metadata": {},
     "output_type": "execute_result"
    }
   ],
   "source": [
    "catboost_model = CatBoostRegressor(\n",
    "    **catboost_study.best_params,\n",
    "    silent=True,\n",
    "    allow_writing_files=False,\n",
    "    random_seed=random_state\n",
    ")\n",
    "catboost_model.fit(X_train, y_train)\n",
    "catboost_predictions = catboost_model.predict(X_test)\n",
    "mean_squared_error(y_test, catboost_predictions)\n"
   ]
  },
  {
   "cell_type": "markdown",
   "metadata": {},
   "source": [
    "This is already an improvement of the voting classifier that we've trained in the last notebook.\n",
    "\n",
    "Next, we'll proceed to execute the same parameter optimization process for the **XGBoost**, **Random Forest** and **LightGBM** regression models.\n"
   ]
  },
  {
   "cell_type": "markdown",
   "metadata": {},
   "source": [
    "## XGBoost Regressor\n",
    "\n",
    "As we did with the CatBoost regressor, we'll describe the hyperparameters that we want to optimize.\n"
   ]
  },
  {
   "cell_type": "markdown",
   "metadata": {},
   "source": [
    "### Hyperparameters Descriptions\n",
    "\n",
    "- **Number of estimators** (`n_estimators`): Similar to CatBoostm, is the maximum number of trees that can be built within the model. We'll also use a fixed number.\n",
    "- **Max depth** (`max_depth`): Also similar to the CatBoost. We'll use values between 1 and 10.\n",
    "- **Subsample** (`subsample`): Also similar to the CatBoost. We'll use values between 0.05 to 1.\n",
    "- **Learning rate** (`learning_rate`): Also similar to the CatBoost. We'll use values between 0.001 to 0.1.\n",
    "- **ColSample by level** (`colsample_bylevel`): Also similar to the CatBoost. We'll use values between 0.05 to 1.\n",
    "- **Min child weight** (`min_child_weight`): That is the most different than those we've talked about. Defines the minimum sum of weights of all observations required in a child, and is used to control over-fitting. Higher values prevent a model from learning relations that might be highly specific to the particular sample selected for a tree. We'll use values between 1 and 10.\n"
   ]
  },
  {
   "cell_type": "markdown",
   "metadata": {},
   "source": [
    "### Objective function\n"
   ]
  },
  {
   "cell_type": "code",
   "execution_count": 15,
   "metadata": {},
   "outputs": [],
   "source": [
    "def xgboost_objective(trial):\n",
    "    params = {\n",
    "        \"n_estimators\": trial.suggest_int(\"n_estimators\", 100, 500),\n",
    "        \"learning_rate\": trial.suggest_float(\"learning_rate\", 1e-3, 0.1, log=True),\n",
    "        \"max_depth\": trial.suggest_int(\"max_depth\", 1, 10),\n",
    "        \"subsample\": trial.suggest_float(\"subsample\", 0.05, 1.0),\n",
    "        \"min_child_weight\": trial.suggest_int(\"min_child_weight\", 1, 10),\n",
    "        \"colsample_bylevel\": trial.suggest_float(\"colsample_bylevel\", 0.05, 1.0),\n",
    "    }\n",
    "\n",
    "    model = XGBRegressor(**params, random_state=random_state)\n",
    "\n",
    "    scorer = make_scorer(mean_squared_error)\n",
    "    scores = cross_val_score(model, X_train, y_train, cv=5, scoring=scorer)\n",
    "\n",
    "    avg_msle = scores.mean()\n",
    "    return avg_msle"
   ]
  },
  {
   "cell_type": "markdown",
   "metadata": {},
   "source": [
    "### Optimization\n"
   ]
  },
  {
   "cell_type": "code",
   "execution_count": 16,
   "metadata": {},
   "outputs": [
    {
     "name": "stderr",
     "output_type": "stream",
     "text": [
      "[I 2023-07-17 20:15:11,841] A new study created in memory with name: no-name-f10f8a51-dea4-4d16-9b61-cf3469f6d0a3\n",
      "[I 2023-07-17 20:15:23,883] Trial 0 finished with value: 12.852388419916725 and parameters: {'n_estimators': 267, 'learning_rate': 0.0046906427304432615, 'max_depth': 7, 'subsample': 0.5673988485105902, 'min_child_weight': 4, 'colsample_bylevel': 0.7875930040844585}. Best is trial 0 with value: 12.852388419916725.\n",
      "[I 2023-07-17 20:15:32,882] Trial 1 finished with value: 2.1185821184409104 and parameters: {'n_estimators': 254, 'learning_rate': 0.00852925890858015, 'max_depth': 6, 'subsample': 0.6357396636114705, 'min_child_weight': 7, 'colsample_bylevel': 0.2069624249114697}. Best is trial 1 with value: 2.1185821184409104.\n",
      "[I 2023-07-17 20:15:39,146] Trial 2 finished with value: 37.251684201037236 and parameters: {'n_estimators': 220, 'learning_rate': 0.003272084027837817, 'max_depth': 6, 'subsample': 0.40613197860526007, 'min_child_weight': 10, 'colsample_bylevel': 0.1802371520752698}. Best is trial 1 with value: 2.1185821184409104.\n",
      "[I 2023-07-17 20:16:06,799] Trial 3 finished with value: 0.05109553141648373 and parameters: {'n_estimators': 437, 'learning_rate': 0.015414566986003485, 'max_depth': 8, 'subsample': 0.8585056279292317, 'min_child_weight': 5, 'colsample_bylevel': 0.5773953091210647}. Best is trial 3 with value: 0.05109553141648373.\n",
      "[I 2023-07-17 20:16:12,185] Trial 4 finished with value: 0.08753529186641053 and parameters: {'n_estimators': 367, 'learning_rate': 0.049716532619480384, 'max_depth': 1, 'subsample': 0.698577471898598, 'min_child_weight': 1, 'colsample_bylevel': 0.38417989352882875}. Best is trial 3 with value: 0.05109553141648373.\n",
      "[I 2023-07-17 20:16:17,843] Trial 5 finished with value: 33.32019376581602 and parameters: {'n_estimators': 312, 'learning_rate': 0.0024892617817375753, 'max_depth': 8, 'subsample': 0.07681712058806632, 'min_child_weight': 4, 'colsample_bylevel': 0.39897583763970884}. Best is trial 3 with value: 0.05109553141648373.\n",
      "[I 2023-07-17 20:16:38,500] Trial 6 finished with value: 4.408890790750718 and parameters: {'n_estimators': 494, 'learning_rate': 0.0036320920585924876, 'max_depth': 6, 'subsample': 0.32954877604587485, 'min_child_weight': 3, 'colsample_bylevel': 0.9278645171336497}. Best is trial 3 with value: 0.05109553141648373.\n",
      "[I 2023-07-17 20:16:41,809] Trial 7 finished with value: 0.06089008752402072 and parameters: {'n_estimators': 103, 'learning_rate': 0.08002943499510748, 'max_depth': 5, 'subsample': 0.10625308064803038, 'min_child_weight': 5, 'colsample_bylevel': 0.7917361034432238}. Best is trial 3 with value: 0.05109553141648373.\n",
      "[I 2023-07-17 20:16:45,203] Trial 8 finished with value: 0.09081464039428926 and parameters: {'n_estimators': 237, 'learning_rate': 0.057515388384711444, 'max_depth': 1, 'subsample': 0.9408047249098194, 'min_child_weight': 3, 'colsample_bylevel': 0.5098454384354788}. Best is trial 3 with value: 0.05109553141648373.\n",
      "[I 2023-07-17 20:16:59,525] Trial 9 finished with value: 0.05003652283637805 and parameters: {'n_estimators': 263, 'learning_rate': 0.03471354132209051, 'max_depth': 7, 'subsample': 0.865112729083558, 'min_child_weight': 1, 'colsample_bylevel': 0.5138785696954986}. Best is trial 9 with value: 0.05003652283637805.\n",
      "[I 2023-07-17 20:17:02,249] Trial 10 finished with value: 112.59862522437825 and parameters: {'n_estimators': 148, 'learning_rate': 0.0011244546920528968, 'max_depth': 10, 'subsample': 0.9708903608265513, 'min_child_weight': 1, 'colsample_bylevel': 0.09889657634786353}. Best is trial 9 with value: 0.05003652283637805.\n",
      "[I 2023-07-17 20:17:34,672] Trial 11 finished with value: 0.0435184630993377 and parameters: {'n_estimators': 430, 'learning_rate': 0.02444084088632013, 'max_depth': 9, 'subsample': 0.8125069499539668, 'min_child_weight': 7, 'colsample_bylevel': 0.6335127571071288}. Best is trial 11 with value: 0.0435184630993377.\n",
      "[I 2023-07-17 20:18:04,492] Trial 12 finished with value: 0.04290170163769941 and parameters: {'n_estimators': 369, 'learning_rate': 0.026742027036912138, 'max_depth': 10, 'subsample': 0.7640571038391383, 'min_child_weight': 8, 'colsample_bylevel': 0.6302636041493069}. Best is trial 12 with value: 0.04290170163769941.\n",
      "[I 2023-07-17 20:18:35,819] Trial 13 finished with value: 0.04416031813421865 and parameters: {'n_estimators': 378, 'learning_rate': 0.022205302148524723, 'max_depth': 10, 'subsample': 0.7457768406940133, 'min_child_weight': 8, 'colsample_bylevel': 0.68363332099554}. Best is trial 12 with value: 0.04290170163769941.\n",
      "[I 2023-07-17 20:19:07,774] Trial 14 finished with value: 0.04349242650134605 and parameters: {'n_estimators': 413, 'learning_rate': 0.0256491413585911, 'max_depth': 9, 'subsample': 0.7990074442027774, 'min_child_weight': 8, 'colsample_bylevel': 0.6647796184737761}. Best is trial 12 with value: 0.04290170163769941.\n",
      "[I 2023-07-17 20:19:17,616] Trial 15 finished with value: 0.05457337963742913 and parameters: {'n_estimators': 341, 'learning_rate': 0.09889380881599463, 'max_depth': 3, 'subsample': 0.7307475866577924, 'min_child_weight': 10, 'colsample_bylevel': 0.7304373595751772}. Best is trial 12 with value: 0.04290170163769941.\n",
      "[I 2023-07-17 20:19:53,172] Trial 16 finished with value: 0.057096245246387 and parameters: {'n_estimators': 412, 'learning_rate': 0.012171303705016087, 'max_depth': 10, 'subsample': 0.5767789788596958, 'min_child_weight': 8, 'colsample_bylevel': 0.9844137691358639}. Best is trial 12 with value: 0.04290170163769941.\n",
      "[I 2023-07-17 20:20:08,403] Trial 17 finished with value: 0.055468001041241055 and parameters: {'n_estimators': 483, 'learning_rate': 0.03240835394236895, 'max_depth': 4, 'subsample': 0.7922679157234671, 'min_child_weight': 9, 'colsample_bylevel': 0.8846238792012148}. Best is trial 12 with value: 0.04290170163769941.\n",
      "[I 2023-07-17 20:20:25,681] Trial 18 finished with value: 0.8009899806970646 and parameters: {'n_estimators': 322, 'learning_rate': 0.008301559293310971, 'max_depth': 9, 'subsample': 0.9819261832676327, 'min_child_weight': 7, 'colsample_bylevel': 0.6373741209459686}. Best is trial 12 with value: 0.04290170163769941.\n",
      "[I 2023-07-17 20:20:53,937] Trial 19 finished with value: 0.047731135592797694 and parameters: {'n_estimators': 386, 'learning_rate': 0.018107842228839516, 'max_depth': 9, 'subsample': 0.6453050035131607, 'min_child_weight': 8, 'colsample_bylevel': 0.8500509558613258}. Best is trial 12 with value: 0.04290170163769941.\n",
      "[I 2023-07-17 20:21:22,396] Trial 20 finished with value: 0.04141754501929127 and parameters: {'n_estimators': 457, 'learning_rate': 0.03729739545712663, 'max_depth': 8, 'subsample': 0.9034043094976155, 'min_child_weight': 6, 'colsample_bylevel': 0.748371444214013}. Best is trial 20 with value: 0.04141754501929127.\n",
      "[I 2023-07-17 20:21:51,043] Trial 21 finished with value: 0.04102057313823798 and parameters: {'n_estimators': 466, 'learning_rate': 0.039823654815075785, 'max_depth': 8, 'subsample': 0.8800650337352871, 'min_child_weight': 6, 'colsample_bylevel': 0.730014201504401}. Best is trial 21 with value: 0.04102057313823798.\n",
      "[I 2023-07-17 20:22:19,751] Trial 22 finished with value: 0.040280857898794965 and parameters: {'n_estimators': 459, 'learning_rate': 0.04695150974069946, 'max_depth': 8, 'subsample': 0.9011321383758456, 'min_child_weight': 6, 'colsample_bylevel': 0.7766298975299953}. Best is trial 22 with value: 0.040280857898794965.\n",
      "[I 2023-07-17 20:22:48,497] Trial 23 finished with value: 0.04051792706549753 and parameters: {'n_estimators': 463, 'learning_rate': 0.043908172005467504, 'max_depth': 8, 'subsample': 0.9092869362149302, 'min_child_weight': 6, 'colsample_bylevel': 0.7644853461921125}. Best is trial 22 with value: 0.040280857898794965.\n",
      "[I 2023-07-17 20:23:13,861] Trial 24 finished with value: 0.040440012149837126 and parameters: {'n_estimators': 469, 'learning_rate': 0.0652365504608305, 'max_depth': 7, 'subsample': 0.9871858936513058, 'min_child_weight': 6, 'colsample_bylevel': 0.8261381718553605}. Best is trial 22 with value: 0.040280857898794965.\n",
      "[I 2023-07-17 20:23:40,477] Trial 25 finished with value: 0.04053272119768802 and parameters: {'n_estimators': 494, 'learning_rate': 0.06215037682727067, 'max_depth': 7, 'subsample': 0.9873906279600309, 'min_child_weight': 6, 'colsample_bylevel': 0.8418367278145078}. Best is trial 22 with value: 0.040280857898794965.\n",
      "[I 2023-07-17 20:24:05,957] Trial 26 finished with value: 0.04052087321303226 and parameters: {'n_estimators': 449, 'learning_rate': 0.07109672691154675, 'max_depth': 7, 'subsample': 0.997842819879246, 'min_child_weight': 5, 'colsample_bylevel': 0.940908949139515}. Best is trial 22 with value: 0.040280857898794965.\n",
      "[I 2023-07-17 20:24:22,975] Trial 27 finished with value: 0.047769014723388674 and parameters: {'n_estimators': 411, 'learning_rate': 0.05021405776592683, 'max_depth': 5, 'subsample': 0.9084471867779782, 'min_child_weight': 4, 'colsample_bylevel': 0.9998077356175791}. Best is trial 22 with value: 0.040280857898794965.\n",
      "[I 2023-07-17 20:24:53,640] Trial 28 finished with value: 0.038518119991751254 and parameters: {'n_estimators': 471, 'learning_rate': 0.09465508477807004, 'max_depth': 8, 'subsample': 0.8411767831943324, 'min_child_weight': 6, 'colsample_bylevel': 0.8538026816245957}. Best is trial 28 with value: 0.038518119991751254.\n",
      "[I 2023-07-17 20:25:04,522] Trial 29 finished with value: 0.04274957555813005 and parameters: {'n_estimators': 196, 'learning_rate': 0.09844805549234743, 'max_depth': 7, 'subsample': 0.8320385218897447, 'min_child_weight': 3, 'colsample_bylevel': 0.8143799633049422}. Best is trial 28 with value: 0.038518119991751254.\n"
     ]
    }
   ],
   "source": [
    "xgboost_study = optuna.create_study(direction=\"minimize\")\n",
    "xgboost_study.optimize(xgboost_objective, n_trials=30)\n"
   ]
  },
  {
   "cell_type": "code",
   "execution_count": 17,
   "metadata": {},
   "outputs": [
    {
     "name": "stdout",
     "output_type": "stream",
     "text": [
      "Best hyperparameters:  {'n_estimators': 471, 'learning_rate': 0.09465508477807004, 'max_depth': 8, 'subsample': 0.8411767831943324, 'min_child_weight': 6, 'colsample_bylevel': 0.8538026816245957}\n",
      "Best MSLE 0.038518119991751254\n"
     ]
    }
   ],
   "source": [
    "print(\"Best hyperparameters: \", xgboost_study.best_params)\n",
    "print(\"Best MSLE\", xgboost_study.best_value)\n"
   ]
  },
  {
   "cell_type": "code",
   "execution_count": 18,
   "metadata": {},
   "outputs": [
    {
     "data": {
      "text/plain": [
       "0.037609084845406385"
      ]
     },
     "execution_count": 18,
     "metadata": {},
     "output_type": "execute_result"
    }
   ],
   "source": [
    "xgboost_model = XGBRegressor(**xgboost_study.best_params, random_state=random_state)\n",
    "xgboost_model.fit(X_train, y_train)\n",
    "xgboost_predictions = xgboost_model.predict(X_test)\n",
    "mean_squared_error(y_test, xgboost_predictions)"
   ]
  },
  {
   "cell_type": "markdown",
   "metadata": {},
   "source": [
    "Wonderful! Now XGBoost regressor is also better than the voting regressor.\n"
   ]
  },
  {
   "cell_type": "markdown",
   "metadata": {},
   "source": [
    "## Random Forest Regressor\n"
   ]
  },
  {
   "cell_type": "markdown",
   "metadata": {},
   "source": [
    "### Hyperparameter Descriptions\n",
    "\n",
    "For this model I could not find any other combinations of hyperparameters that could improve upon the vanilla model. So I'll just use to following two.\n",
    "\n",
    "- **Number of estimators** (`n_estimators`):Similar to CatBoostm, is the maximum number of trees that can be built within the model. We'll values between 100 a 500.\n",
    "- **Depth** (`max_depth`): Also similar to the CatBoost. We'll use values between 1 and 10.\n"
   ]
  },
  {
   "cell_type": "markdown",
   "metadata": {},
   "source": [
    "### Objective Function\n"
   ]
  },
  {
   "cell_type": "code",
   "execution_count": 19,
   "metadata": {},
   "outputs": [],
   "source": [
    "def random_forest_objective(trial):\n",
    "    params = {\n",
    "        \"n_estimators\": trial.suggest_int(\"n_estimators\", 70, 120),\n",
    "        \"max_depth\": trial.suggest_int(\"max_depth\", 1, 100),\n",
    "    }\n",
    "\n",
    "    model = RandomForestRegressor(**params, n_jobs=-1, random_state=random_state)\n",
    "\n",
    "    scorer = make_scorer(mean_squared_error)\n",
    "    scores = cross_val_score(model, X_train, y_train, cv=5, scoring=scorer)\n",
    "\n",
    "    avg_msle = scores.mean()\n",
    "    return avg_msle\n"
   ]
  },
  {
   "cell_type": "markdown",
   "metadata": {},
   "source": [
    "### Optimization\n"
   ]
  },
  {
   "cell_type": "code",
   "execution_count": 20,
   "metadata": {},
   "outputs": [
    {
     "name": "stderr",
     "output_type": "stream",
     "text": [
      "[I 2023-07-17 20:25:12,225] A new study created in memory with name: no-name-a0d6d781-4fef-4be6-ad09-b3bbfe26ab37\n",
      "[I 2023-07-17 20:25:14,727] Trial 0 finished with value: 0.16691115243335808 and parameters: {'n_estimators': 103, 'max_depth': 2}. Best is trial 0 with value: 0.16691115243335808.\n",
      "[I 2023-07-17 20:25:16,472] Trial 1 finished with value: 0.21848868136951274 and parameters: {'n_estimators': 112, 'max_depth': 1}. Best is trial 0 with value: 0.16691115243335808.\n",
      "[I 2023-07-17 20:25:20,681] Trial 2 finished with value: 0.09975722938620782 and parameters: {'n_estimators': 79, 'max_depth': 5}. Best is trial 2 with value: 0.09975722938620782.\n",
      "[I 2023-07-17 20:25:36,465] Trial 3 finished with value: 0.047328604015040215 and parameters: {'n_estimators': 99, 'max_depth': 43}. Best is trial 3 with value: 0.047328604015040215.\n",
      "[I 2023-07-17 20:25:43,437] Trial 4 finished with value: 0.07334451032219375 and parameters: {'n_estimators': 92, 'max_depth': 8}. Best is trial 3 with value: 0.047328604015040215.\n",
      "[I 2023-07-17 20:25:56,957] Trial 5 finished with value: 0.04768336873700371 and parameters: {'n_estimators': 96, 'max_depth': 19}. Best is trial 3 with value: 0.047328604015040215.\n",
      "[I 2023-07-17 20:26:10,991] Trial 6 finished with value: 0.04738879521230249 and parameters: {'n_estimators': 87, 'max_depth': 30}. Best is trial 3 with value: 0.047328604015040215.\n",
      "[I 2023-07-17 20:26:19,828] Trial 7 finished with value: 0.06300026054122684 and parameters: {'n_estimators': 97, 'max_depth': 10}. Best is trial 3 with value: 0.047328604015040215.\n",
      "[I 2023-07-17 20:26:33,002] Trial 8 finished with value: 0.047410318511812 and parameters: {'n_estimators': 83, 'max_depth': 33}. Best is trial 3 with value: 0.047328604015040215.\n",
      "[I 2023-07-17 20:26:48,767] Trial 9 finished with value: 0.0473236128703905 and parameters: {'n_estimators': 99, 'max_depth': 46}. Best is trial 9 with value: 0.0473236128703905.\n",
      "[I 2023-07-17 20:26:59,863] Trial 10 finished with value: 0.047545049788502915 and parameters: {'n_estimators': 70, 'max_depth': 71}. Best is trial 9 with value: 0.0473236128703905.\n",
      "[I 2023-07-17 20:27:17,470] Trial 11 finished with value: 0.04727225796600348 and parameters: {'n_estimators': 110, 'max_depth': 59}. Best is trial 11 with value: 0.04727225796600348.\n",
      "[I 2023-07-17 20:27:36,098] Trial 12 finished with value: 0.047220581544500116 and parameters: {'n_estimators': 119, 'max_depth': 66}. Best is trial 12 with value: 0.047220581544500116.\n",
      "[I 2023-07-17 20:27:55,382] Trial 13 finished with value: 0.047220959512157226 and parameters: {'n_estimators': 120, 'max_depth': 75}. Best is trial 12 with value: 0.047220581544500116.\n",
      "[I 2023-07-17 20:28:14,047] Trial 14 finished with value: 0.04722058154450011 and parameters: {'n_estimators': 119, 'max_depth': 94}. Best is trial 14 with value: 0.04722058154450011.\n",
      "[I 2023-07-17 20:28:32,934] Trial 15 finished with value: 0.047220959512157226 and parameters: {'n_estimators': 120, 'max_depth': 100}. Best is trial 14 with value: 0.04722058154450011.\n",
      "[I 2023-07-17 20:28:50,465] Trial 16 finished with value: 0.047255542736073984 and parameters: {'n_estimators': 112, 'max_depth': 99}. Best is trial 14 with value: 0.04722058154450011.\n",
      "[I 2023-07-17 20:29:07,680] Trial 17 finished with value: 0.047282910918882384 and parameters: {'n_estimators': 107, 'max_depth': 85}. Best is trial 14 with value: 0.04722058154450011.\n",
      "[I 2023-07-17 20:29:25,936] Trial 18 finished with value: 0.047242317824181125 and parameters: {'n_estimators': 117, 'max_depth': 61}. Best is trial 14 with value: 0.04722058154450011.\n",
      "[I 2023-07-17 20:29:44,058] Trial 19 finished with value: 0.04724482940121516 and parameters: {'n_estimators': 115, 'max_depth': 86}. Best is trial 14 with value: 0.04722058154450011.\n",
      "[I 2023-07-17 20:30:00,468] Trial 20 finished with value: 0.04727645295946283 and parameters: {'n_estimators': 105, 'max_depth': 87}. Best is trial 14 with value: 0.04722058154450011.\n",
      "[I 2023-07-17 20:30:19,241] Trial 21 finished with value: 0.047220959512157226 and parameters: {'n_estimators': 120, 'max_depth': 75}. Best is trial 14 with value: 0.04722058154450011.\n",
      "[I 2023-07-17 20:30:37,255] Trial 22 finished with value: 0.04724220938439366 and parameters: {'n_estimators': 116, 'max_depth': 72}. Best is trial 14 with value: 0.04722058154450011.\n",
      "[I 2023-07-17 20:30:55,905] Trial 23 finished with value: 0.047220959512157226 and parameters: {'n_estimators': 120, 'max_depth': 63}. Best is trial 14 with value: 0.04722058154450011.\n",
      "[I 2023-07-17 20:31:13,381] Trial 24 finished with value: 0.04728054124548377 and parameters: {'n_estimators': 109, 'max_depth': 79}. Best is trial 14 with value: 0.04722058154450011.\n",
      "[I 2023-07-17 20:31:31,274] Trial 25 finished with value: 0.04724329731057186 and parameters: {'n_estimators': 114, 'max_depth': 55}. Best is trial 14 with value: 0.04722058154450011.\n",
      "[I 2023-07-17 20:31:49,568] Trial 26 finished with value: 0.047242209384393656 and parameters: {'n_estimators': 116, 'max_depth': 93}. Best is trial 14 with value: 0.04722058154450011.\n",
      "[I 2023-07-17 20:32:05,962] Trial 27 finished with value: 0.04729021810180361 and parameters: {'n_estimators': 104, 'max_depth': 67}. Best is trial 14 with value: 0.04722058154450011.\n",
      "[I 2023-07-17 20:32:23,415] Trial 28 finished with value: 0.04728054124548377 and parameters: {'n_estimators': 109, 'max_depth': 78}. Best is trial 14 with value: 0.04722058154450011.\n",
      "[I 2023-07-17 20:32:39,596] Trial 29 finished with value: 0.04730118057569629 and parameters: {'n_estimators': 102, 'max_depth': 51}. Best is trial 14 with value: 0.04722058154450011.\n"
     ]
    }
   ],
   "source": [
    "random_forest_study = optuna.create_study(direction=\"minimize\")\n",
    "random_forest_study.optimize(random_forest_objective, n_trials=30)\n"
   ]
  },
  {
   "cell_type": "code",
   "execution_count": 21,
   "metadata": {},
   "outputs": [
    {
     "name": "stdout",
     "output_type": "stream",
     "text": [
      "Best hyperparameters:  {'n_estimators': 119, 'max_depth': 94}\n",
      "Best MSLE 0.04722058154450011\n"
     ]
    }
   ],
   "source": [
    "print(\"Best hyperparameters: \", random_forest_study.best_params)\n",
    "print(\"Best MSLE\", random_forest_study.best_value)\n"
   ]
  },
  {
   "cell_type": "code",
   "execution_count": 22,
   "metadata": {},
   "outputs": [
    {
     "data": {
      "text/plain": [
       "0.045125473789018496"
      ]
     },
     "execution_count": 22,
     "metadata": {},
     "output_type": "execute_result"
    }
   ],
   "source": [
    "random_forest_model = RandomForestRegressor(\n",
    "    **random_forest_study.best_params, random_state=random_state\n",
    ")\n",
    "random_forest_model.fit(X_train, y_train)\n",
    "random_forest_model_predictions = random_forest_model.predict(X_test)\n",
    "mean_squared_error(y_test, random_forest_model_predictions)"
   ]
  },
  {
   "cell_type": "markdown",
   "metadata": {},
   "source": [
    "The improvement wasn't that much. Let's hope the improvement in other models be sufficient.\n"
   ]
  },
  {
   "cell_type": "markdown",
   "metadata": {},
   "source": [
    "## LightGbm Regressor\n",
    "\n",
    "At this point, the parameters that we'll optimize in the LightGBM regressor all have their respective counterparts in previous models and were already explained. So let's jump in the optimization function right away.\n"
   ]
  },
  {
   "cell_type": "markdown",
   "metadata": {},
   "source": [
    "### Optimization Function\n"
   ]
  },
  {
   "cell_type": "code",
   "execution_count": 23,
   "metadata": {},
   "outputs": [],
   "source": [
    "def lightgbm_objective(trial):\n",
    "    params = {\n",
    "        \"n_estimators\": trial.suggest_int(\"n_estimators\", 100, 500),\n",
    "        \"max_depth\": trial.suggest_int(\"max_depth\", 1, 100),\n",
    "        \"num_leaves\": trial.suggest_int(\"num_leaves\", 20, 100),\n",
    "        \"subsample\": trial.suggest_float(\"subsample\", 0.05, 1.0),\n",
    "        \"colsample_bytree\": trial.suggest_float(\"colsample_bytree\", 0.5, 1.0),\n",
    "    }\n",
    "\n",
    "    model = LGBMRegressor(**params, n_jobs=-1, random_state=random_state)\n",
    "\n",
    "    scorer = make_scorer(mean_squared_error)\n",
    "    scores = cross_val_score(model, X_train, y_train, cv=5, scoring=scorer)\n",
    "\n",
    "    avg_msle = scores.mean()\n",
    "    return avg_msle\n"
   ]
  },
  {
   "cell_type": "markdown",
   "metadata": {},
   "source": [
    "### Optimization\n"
   ]
  },
  {
   "cell_type": "code",
   "execution_count": 24,
   "metadata": {},
   "outputs": [
    {
     "name": "stderr",
     "output_type": "stream",
     "text": [
      "[I 2023-07-17 20:33:17,576] A new study created in memory with name: no-name-c7ca44e7-4c35-422c-b99c-1368baf784af\n",
      "[I 2023-07-17 20:33:18,875] Trial 0 finished with value: 0.04736727853418539 and parameters: {'n_estimators': 101, 'max_depth': 39, 'num_leaves': 49, 'subsample': 0.8018776752301703, 'colsample_bytree': 0.9819020413167994}. Best is trial 0 with value: 0.04736727853418539.\n",
      "[I 2023-07-17 20:33:20,658] Trial 1 finished with value: 0.04417923681535034 and parameters: {'n_estimators': 130, 'max_depth': 52, 'num_leaves': 66, 'subsample': 0.9681222295552883, 'colsample_bytree': 0.9145842779075984}. Best is trial 1 with value: 0.04417923681535034.\n",
      "[I 2023-07-17 20:33:22,034] Trial 2 finished with value: 0.04637616529299841 and parameters: {'n_estimators': 174, 'max_depth': 21, 'num_leaves': 32, 'subsample': 0.594303970679537, 'colsample_bytree': 0.6503650089719788}. Best is trial 1 with value: 0.04417923681535034.\n",
      "[I 2023-07-17 20:33:23,960] Trial 3 finished with value: 0.045635369136983815 and parameters: {'n_estimators': 324, 'max_depth': 72, 'num_leaves': 21, 'subsample': 0.8880649879725176, 'colsample_bytree': 0.5167034704226624}. Best is trial 1 with value: 0.04417923681535034.\n",
      "[I 2023-07-17 20:33:27,406] Trial 4 finished with value: 0.040664652281068914 and parameters: {'n_estimators': 242, 'max_depth': 46, 'num_leaves': 91, 'subsample': 0.9934243430940468, 'colsample_bytree': 0.7249369153244212}. Best is trial 4 with value: 0.040664652281068914.\n",
      "[I 2023-07-17 20:33:30,040] Trial 5 finished with value: 0.04250504838945126 and parameters: {'n_estimators': 315, 'max_depth': 64, 'num_leaves': 40, 'subsample': 0.34116840505127866, 'colsample_bytree': 0.7165240583566825}. Best is trial 4 with value: 0.040664652281068914.\n",
      "[I 2023-07-17 20:33:35,003] Trial 6 finished with value: 0.040011062277237795 and parameters: {'n_estimators': 448, 'max_depth': 20, 'num_leaves': 64, 'subsample': 0.8109999469606534, 'colsample_bytree': 0.7959570535969869}. Best is trial 6 with value: 0.040011062277237795.\n",
      "[I 2023-07-17 20:33:37,816] Trial 7 finished with value: 0.04110461505250797 and parameters: {'n_estimators': 230, 'max_depth': 13, 'num_leaves': 83, 'subsample': 0.23133849217495822, 'colsample_bytree': 0.6707841692394865}. Best is trial 6 with value: 0.040011062277237795.\n",
      "[I 2023-07-17 20:33:43,883] Trial 8 finished with value: 0.03963257741848135 and parameters: {'n_estimators': 428, 'max_depth': 41, 'num_leaves': 87, 'subsample': 0.7006407336003965, 'colsample_bytree': 0.598311508430355}. Best is trial 8 with value: 0.03963257741848135.\n",
      "[I 2023-07-17 20:33:46,500] Trial 9 finished with value: 0.04179073564646473 and parameters: {'n_estimators': 185, 'max_depth': 25, 'num_leaves': 79, 'subsample': 0.2780504799693256, 'colsample_bytree': 0.7228032517361973}. Best is trial 8 with value: 0.03963257741848135.\n",
      "[I 2023-07-17 20:33:53,292] Trial 10 finished with value: 0.03921560399741415 and parameters: {'n_estimators': 500, 'max_depth': 100, 'num_leaves': 98, 'subsample': 0.5997625354628994, 'colsample_bytree': 0.5015032591269786}. Best is trial 10 with value: 0.03921560399741415.\n",
      "[I 2023-07-17 20:34:00,915] Trial 11 finished with value: 0.03919580718456865 and parameters: {'n_estimators': 493, 'max_depth': 99, 'num_leaves': 100, 'subsample': 0.6043778656242178, 'colsample_bytree': 0.5002747830062425}. Best is trial 11 with value: 0.03919580718456865.\n",
      "[I 2023-07-17 20:34:08,795] Trial 12 finished with value: 0.039174335670603765 and parameters: {'n_estimators': 497, 'max_depth': 99, 'num_leaves': 100, 'subsample': 0.5191366421410408, 'colsample_bytree': 0.5026566405316439}. Best is trial 12 with value: 0.039174335670603765.\n",
      "[I 2023-07-17 20:34:14,916] Trial 13 finished with value: 0.03937226639885468 and parameters: {'n_estimators': 406, 'max_depth': 98, 'num_leaves': 99, 'subsample': 0.47496659687901255, 'colsample_bytree': 0.5642098540493562}. Best is trial 12 with value: 0.039174335670603765.\n",
      "[I 2023-07-17 20:34:20,709] Trial 14 finished with value: 0.03962823439261076 and parameters: {'n_estimators': 495, 'max_depth': 83, 'num_leaves': 72, 'subsample': 0.4492007461796469, 'colsample_bytree': 0.5764847878913475}. Best is trial 12 with value: 0.039174335670603765.\n",
      "[I 2023-07-17 20:34:24,422] Trial 15 finished with value: 0.041103957334623895 and parameters: {'n_estimators': 370, 'max_depth': 87, 'num_leaves': 54, 'subsample': 0.3849968919548501, 'colsample_bytree': 0.5007553166200636}. Best is trial 12 with value: 0.039174335670603765.\n",
      "[I 2023-07-17 20:34:29,617] Trial 16 finished with value: 0.039510709014976386 and parameters: {'n_estimators': 369, 'max_depth': 83, 'num_leaves': 99, 'subsample': 0.6068259535630715, 'colsample_bytree': 0.6197867931293738}. Best is trial 12 with value: 0.039174335670603765.\n",
      "[I 2023-07-17 20:34:35,673] Trial 17 finished with value: 0.03974374745844929 and parameters: {'n_estimators': 473, 'max_depth': 69, 'num_leaves': 75, 'subsample': 0.08291070669691236, 'colsample_bytree': 0.5606176758034576}. Best is trial 12 with value: 0.039174335670603765.\n",
      "[I 2023-07-17 20:34:41,163] Trial 18 finished with value: 0.0397954737238333 and parameters: {'n_estimators': 386, 'max_depth': 91, 'num_leaves': 90, 'subsample': 0.518681785846084, 'colsample_bytree': 0.548483008797979}. Best is trial 12 with value: 0.039174335670603765.\n",
      "[I 2023-07-17 20:34:42,694] Trial 19 finished with value: 0.05221712139035384 and parameters: {'n_estimators': 450, 'max_depth': 3, 'num_leaves': 93, 'subsample': 0.6929667622504473, 'colsample_bytree': 0.6208224694725752}. Best is trial 12 with value: 0.039174335670603765.\n",
      "[I 2023-07-17 20:34:46,595] Trial 20 finished with value: 0.040813830152251415 and parameters: {'n_estimators': 278, 'max_depth': 76, 'num_leaves': 83, 'subsample': 0.44641527158834227, 'colsample_bytree': 0.5437831288583134}. Best is trial 12 with value: 0.039174335670603765.\n",
      "[I 2023-07-17 20:34:53,841] Trial 21 finished with value: 0.039172081673881455 and parameters: {'n_estimators': 500, 'max_depth': 99, 'num_leaves': 100, 'subsample': 0.5859959009489037, 'colsample_bytree': 0.5010500797248736}. Best is trial 21 with value: 0.039172081673881455.\n",
      "[I 2023-07-17 20:35:00,421] Trial 22 finished with value: 0.039280186564686605 and parameters: {'n_estimators': 465, 'max_depth': 95, 'num_leaves': 99, 'subsample': 0.5457626108454992, 'colsample_bytree': 0.5010609983549571}. Best is trial 21 with value: 0.039172081673881455.\n",
      "[I 2023-07-17 20:35:06,262] Trial 23 finished with value: 0.039651104409389036 and parameters: {'n_estimators': 418, 'max_depth': 60, 'num_leaves': 90, 'subsample': 0.6840387515778193, 'colsample_bytree': 0.546515921553693}. Best is trial 21 with value: 0.039172081673881455.\n",
      "[I 2023-07-17 20:35:12,975] Trial 24 finished with value: 0.039378936310067225 and parameters: {'n_estimators': 500, 'max_depth': 78, 'num_leaves': 83, 'subsample': 0.5444092232911039, 'colsample_bytree': 0.5972151083392558}. Best is trial 21 with value: 0.039172081673881455.\n",
      "[I 2023-07-17 20:35:18,121] Trial 25 finished with value: 0.03993630655749544 and parameters: {'n_estimators': 348, 'max_depth': 90, 'num_leaves': 93, 'subsample': 0.6373978501855172, 'colsample_bytree': 0.5348537711240112}. Best is trial 21 with value: 0.039172081673881455.\n",
      "[I 2023-07-17 20:35:23,362] Trial 26 finished with value: 0.03988956232698334 and parameters: {'n_estimators': 437, 'max_depth': 98, 'num_leaves': 72, 'subsample': 0.750229233711651, 'colsample_bytree': 0.5708922587110478}. Best is trial 21 with value: 0.039172081673881455.\n",
      "[I 2023-07-17 20:35:30,346] Trial 27 finished with value: 0.039271770483969695 and parameters: {'n_estimators': 471, 'max_depth': 83, 'num_leaves': 100, 'subsample': 0.4987094117447676, 'colsample_bytree': 0.5293142316072083}. Best is trial 21 with value: 0.039172081673881455.\n",
      "[I 2023-07-17 20:35:34,865] Trial 28 finished with value: 0.03986127304552052 and parameters: {'n_estimators': 402, 'max_depth': 89, 'num_leaves': 78, 'subsample': 0.6386177728506721, 'colsample_bytree': 0.6476550136944833}. Best is trial 21 with value: 0.039172081673881455.\n",
      "[I 2023-07-17 20:35:39,598] Trial 29 finished with value: 0.04028617048052324 and parameters: {'n_estimators': 472, 'max_depth': 59, 'num_leaves': 58, 'subsample': 0.7573136113589556, 'colsample_bytree': 0.5009535202027052}. Best is trial 21 with value: 0.039172081673881455.\n"
     ]
    }
   ],
   "source": [
    "lightgbm_study = optuna.create_study(direction=\"minimize\")\n",
    "lightgbm_study.optimize(lightgbm_objective, n_trials=30)\n"
   ]
  },
  {
   "cell_type": "code",
   "execution_count": 25,
   "metadata": {},
   "outputs": [
    {
     "name": "stdout",
     "output_type": "stream",
     "text": [
      "Best hyperparameters:  {'n_estimators': 500, 'max_depth': 99, 'num_leaves': 100, 'subsample': 0.5859959009489037, 'colsample_bytree': 0.5010500797248736}\n",
      "Best MSLE 0.039172081673881455\n"
     ]
    }
   ],
   "source": [
    "print(\"Best hyperparameters: \", lightgbm_study.best_params)\n",
    "print(\"Best MSLE\", lightgbm_study.best_value)\n"
   ]
  },
  {
   "cell_type": "code",
   "execution_count": 26,
   "metadata": {},
   "outputs": [
    {
     "data": {
      "text/plain": [
       "0.038597659468959614"
      ]
     },
     "execution_count": 26,
     "metadata": {},
     "output_type": "execute_result"
    }
   ],
   "source": [
    "lightgbm_model = LGBMRegressor(**lightgbm_study.best_params, random_state=random_state)\n",
    "lightgbm_model.fit(X_train, y_train)\n",
    "lightgbm_model_predictions = lightgbm_model.predict(X_test)\n",
    "mean_squared_error(y_test, lightgbm_model_predictions)"
   ]
  },
  {
   "cell_type": "markdown",
   "metadata": {},
   "source": [
    "How about that! LightGBM regressor, the least performant model of the previous notebook, for this experiment, is now the best one. Sure, our approach was rather simplistic, and is not sufficient to tell if this model is really the best one. But, to not extended this study more than necessary, we'll accept these results as they are.\n"
   ]
  },
  {
   "cell_type": "markdown",
   "metadata": {},
   "source": [
    "# Vorting Regressor Update\n",
    "\n",
    "As before, we'll build our final final as a combination of the four models that we've discussed here, but, this time, they are optimized for our problem.\n"
   ]
  },
  {
   "cell_type": "code",
   "execution_count": 27,
   "metadata": {},
   "outputs": [
    {
     "data": {
      "text/plain": [
       "0.037653638392292466"
      ]
     },
     "execution_count": 27,
     "metadata": {},
     "output_type": "execute_result"
    }
   ],
   "source": [
    "voting_regressor = VotingRegressor(\n",
    "    estimators=[\n",
    "        (model.__class__.__name__, model)\n",
    "        for model in (\n",
    "            catboost_model,\n",
    "            xgboost_model,\n",
    "            random_forest_model,\n",
    "            lightgbm_model,\n",
    "        )\n",
    "    ],\n",
    "    n_jobs=-1,\n",
    ")\n",
    "\n",
    "voting_regressor.fit(X_train, y_train)\n",
    "voting_regressor_predictions = voting_regressor.predict(X_test)\n",
    "mean_squared_error(y_test, voting_regressor_predictions)"
   ]
  },
  {
   "cell_type": "markdown",
   "metadata": {},
   "source": [
    "The error reduction wasn't that much this. Actually, if I were to choose, I would stick with the LightGBM Regressor or try different hyperparameter search spaces for the other models before using this model in a production environment, for example. But, for the sake of simplicity, we'll accept this model as the best one\n"
   ]
  },
  {
   "cell_type": "markdown",
   "metadata": {},
   "source": [
    "## Training with the whole dataset\n",
    "\n",
    "Now it's time to check how our regressor fares with the entire dataset.\n"
   ]
  },
  {
   "cell_type": "code",
   "execution_count": 28,
   "metadata": {},
   "outputs": [
    {
     "data": {
      "text/html": [
       "<style>#sk-container-id-3 {color: black;}#sk-container-id-3 pre{padding: 0;}#sk-container-id-3 div.sk-toggleable {background-color: white;}#sk-container-id-3 label.sk-toggleable__label {cursor: pointer;display: block;width: 100%;margin-bottom: 0;padding: 0.3em;box-sizing: border-box;text-align: center;}#sk-container-id-3 label.sk-toggleable__label-arrow:before {content: \"▸\";float: left;margin-right: 0.25em;color: #696969;}#sk-container-id-3 label.sk-toggleable__label-arrow:hover:before {color: black;}#sk-container-id-3 div.sk-estimator:hover label.sk-toggleable__label-arrow:before {color: black;}#sk-container-id-3 div.sk-toggleable__content {max-height: 0;max-width: 0;overflow: hidden;text-align: left;background-color: #f0f8ff;}#sk-container-id-3 div.sk-toggleable__content pre {margin: 0.2em;color: black;border-radius: 0.25em;background-color: #f0f8ff;}#sk-container-id-3 input.sk-toggleable__control:checked~div.sk-toggleable__content {max-height: 200px;max-width: 100%;overflow: auto;}#sk-container-id-3 input.sk-toggleable__control:checked~label.sk-toggleable__label-arrow:before {content: \"▾\";}#sk-container-id-3 div.sk-estimator input.sk-toggleable__control:checked~label.sk-toggleable__label {background-color: #d4ebff;}#sk-container-id-3 div.sk-label input.sk-toggleable__control:checked~label.sk-toggleable__label {background-color: #d4ebff;}#sk-container-id-3 input.sk-hidden--visually {border: 0;clip: rect(1px 1px 1px 1px);clip: rect(1px, 1px, 1px, 1px);height: 1px;margin: -1px;overflow: hidden;padding: 0;position: absolute;width: 1px;}#sk-container-id-3 div.sk-estimator {font-family: monospace;background-color: #f0f8ff;border: 1px dotted black;border-radius: 0.25em;box-sizing: border-box;margin-bottom: 0.5em;}#sk-container-id-3 div.sk-estimator:hover {background-color: #d4ebff;}#sk-container-id-3 div.sk-parallel-item::after {content: \"\";width: 100%;border-bottom: 1px solid gray;flex-grow: 1;}#sk-container-id-3 div.sk-label:hover label.sk-toggleable__label {background-color: #d4ebff;}#sk-container-id-3 div.sk-serial::before {content: \"\";position: absolute;border-left: 1px solid gray;box-sizing: border-box;top: 0;bottom: 0;left: 50%;z-index: 0;}#sk-container-id-3 div.sk-serial {display: flex;flex-direction: column;align-items: center;background-color: white;padding-right: 0.2em;padding-left: 0.2em;position: relative;}#sk-container-id-3 div.sk-item {position: relative;z-index: 1;}#sk-container-id-3 div.sk-parallel {display: flex;align-items: stretch;justify-content: center;background-color: white;position: relative;}#sk-container-id-3 div.sk-item::before, #sk-container-id-3 div.sk-parallel-item::before {content: \"\";position: absolute;border-left: 1px solid gray;box-sizing: border-box;top: 0;bottom: 0;left: 50%;z-index: -1;}#sk-container-id-3 div.sk-parallel-item {display: flex;flex-direction: column;z-index: 1;position: relative;background-color: white;}#sk-container-id-3 div.sk-parallel-item:first-child::after {align-self: flex-end;width: 50%;}#sk-container-id-3 div.sk-parallel-item:last-child::after {align-self: flex-start;width: 50%;}#sk-container-id-3 div.sk-parallel-item:only-child::after {width: 0;}#sk-container-id-3 div.sk-dashed-wrapped {border: 1px dashed gray;margin: 0 0.4em 0.5em 0.4em;box-sizing: border-box;padding-bottom: 0.4em;background-color: white;}#sk-container-id-3 div.sk-label label {font-family: monospace;font-weight: bold;display: inline-block;line-height: 1.2em;}#sk-container-id-3 div.sk-label-container {text-align: center;}#sk-container-id-3 div.sk-container {/* jupyter's `normalize.less` sets `[hidden] { display: none; }` but bootstrap.min.css set `[hidden] { display: none !important; }` so we also need the `!important` here to be able to override the default hidden behavior on the sphinx rendered scikit-learn.org. See: https://github.com/scikit-learn/scikit-learn/issues/21755 */display: inline-block !important;position: relative;}#sk-container-id-3 div.sk-text-repr-fallback {display: none;}</style><div id=\"sk-container-id-3\" class=\"sk-top-container\"><div class=\"sk-text-repr-fallback\"><pre>VotingRegressor(estimators=[(&#x27;CatBoostRegressor&#x27;,\n",
       "                             &lt;catboost.core.CatBoostRegressor object at 0x7f6fdd924850&gt;),\n",
       "                            (&#x27;XGBRegressor&#x27;,\n",
       "                             XGBRegressor(base_score=None, booster=None,\n",
       "                                          callbacks=None,\n",
       "                                          colsample_bylevel=0.8538026816245957,\n",
       "                                          colsample_bynode=None,\n",
       "                                          colsample_bytree=None,\n",
       "                                          early_stopping_rounds=None,\n",
       "                                          enable_categorical=False,\n",
       "                                          eval_metric=None, feature_types=None,\n",
       "                                          ga...\n",
       "                                          n_estimators=471, n_jobs=None,\n",
       "                                          num_parallel_tree=None,\n",
       "                                          predictor=None, random_state=42, ...)),\n",
       "                            (&#x27;RandomForestRegressor&#x27;,\n",
       "                             RandomForestRegressor(max_depth=94,\n",
       "                                                   n_estimators=119,\n",
       "                                                   random_state=42)),\n",
       "                            (&#x27;LGBMRegressor&#x27;,\n",
       "                             LGBMRegressor(colsample_bytree=0.5010500797248736,\n",
       "                                           max_depth=99, n_estimators=500,\n",
       "                                           num_leaves=100, random_state=42,\n",
       "                                           subsample=0.5859959009489037))],\n",
       "                n_jobs=-1)</pre><b>In a Jupyter environment, please rerun this cell to show the HTML representation or trust the notebook. <br />On GitHub, the HTML representation is unable to render, please try loading this page with nbviewer.org.</b></div><div class=\"sk-container\" hidden><div class=\"sk-item sk-dashed-wrapped\"><div class=\"sk-label-container\"><div class=\"sk-label sk-toggleable\"><input class=\"sk-toggleable__control sk-hidden--visually\" id=\"sk-estimator-id-24\" type=\"checkbox\" ><label for=\"sk-estimator-id-24\" class=\"sk-toggleable__label sk-toggleable__label-arrow\">VotingRegressor</label><div class=\"sk-toggleable__content\"><pre>VotingRegressor(estimators=[(&#x27;CatBoostRegressor&#x27;,\n",
       "                             &lt;catboost.core.CatBoostRegressor object at 0x7f6fdd924850&gt;),\n",
       "                            (&#x27;XGBRegressor&#x27;,\n",
       "                             XGBRegressor(base_score=None, booster=None,\n",
       "                                          callbacks=None,\n",
       "                                          colsample_bylevel=0.8538026816245957,\n",
       "                                          colsample_bynode=None,\n",
       "                                          colsample_bytree=None,\n",
       "                                          early_stopping_rounds=None,\n",
       "                                          enable_categorical=False,\n",
       "                                          eval_metric=None, feature_types=None,\n",
       "                                          ga...\n",
       "                                          n_estimators=471, n_jobs=None,\n",
       "                                          num_parallel_tree=None,\n",
       "                                          predictor=None, random_state=42, ...)),\n",
       "                            (&#x27;RandomForestRegressor&#x27;,\n",
       "                             RandomForestRegressor(max_depth=94,\n",
       "                                                   n_estimators=119,\n",
       "                                                   random_state=42)),\n",
       "                            (&#x27;LGBMRegressor&#x27;,\n",
       "                             LGBMRegressor(colsample_bytree=0.5010500797248736,\n",
       "                                           max_depth=99, n_estimators=500,\n",
       "                                           num_leaves=100, random_state=42,\n",
       "                                           subsample=0.5859959009489037))],\n",
       "                n_jobs=-1)</pre></div></div></div><div class=\"sk-parallel\"><div class=\"sk-parallel-item\"><div class=\"sk-item\"><div class=\"sk-label-container\"><div class=\"sk-label sk-toggleable\"><label>CatBoostRegressor</label></div></div><div class=\"sk-serial\"><div class=\"sk-item\"><div class=\"sk-estimator sk-toggleable\"><input class=\"sk-toggleable__control sk-hidden--visually\" id=\"sk-estimator-id-25\" type=\"checkbox\" ><label for=\"sk-estimator-id-25\" class=\"sk-toggleable__label sk-toggleable__label-arrow\">CatBoostRegressor</label><div class=\"sk-toggleable__content\"><pre>&lt;catboost.core.CatBoostRegressor object at 0x7f6fdd924850&gt;</pre></div></div></div></div></div></div><div class=\"sk-parallel-item\"><div class=\"sk-item\"><div class=\"sk-label-container\"><div class=\"sk-label sk-toggleable\"><label>XGBRegressor</label></div></div><div class=\"sk-serial\"><div class=\"sk-item\"><div class=\"sk-estimator sk-toggleable\"><input class=\"sk-toggleable__control sk-hidden--visually\" id=\"sk-estimator-id-26\" type=\"checkbox\" ><label for=\"sk-estimator-id-26\" class=\"sk-toggleable__label sk-toggleable__label-arrow\">XGBRegressor</label><div class=\"sk-toggleable__content\"><pre>XGBRegressor(base_score=None, booster=None, callbacks=None,\n",
       "             colsample_bylevel=0.8538026816245957, colsample_bynode=None,\n",
       "             colsample_bytree=None, early_stopping_rounds=None,\n",
       "             enable_categorical=False, eval_metric=None, feature_types=None,\n",
       "             gamma=None, gpu_id=None, grow_policy=None, importance_type=None,\n",
       "             interaction_constraints=None, learning_rate=0.09465508477807004,\n",
       "             max_bin=None, max_cat_threshold=None, max_cat_to_onehot=None,\n",
       "             max_delta_step=None, max_depth=8, max_leaves=None,\n",
       "             min_child_weight=6, missing=nan, monotone_constraints=None,\n",
       "             n_estimators=471, n_jobs=None, num_parallel_tree=None,\n",
       "             predictor=None, random_state=42, ...)</pre></div></div></div></div></div></div><div class=\"sk-parallel-item\"><div class=\"sk-item\"><div class=\"sk-label-container\"><div class=\"sk-label sk-toggleable\"><label>RandomForestRegressor</label></div></div><div class=\"sk-serial\"><div class=\"sk-item\"><div class=\"sk-estimator sk-toggleable\"><input class=\"sk-toggleable__control sk-hidden--visually\" id=\"sk-estimator-id-27\" type=\"checkbox\" ><label for=\"sk-estimator-id-27\" class=\"sk-toggleable__label sk-toggleable__label-arrow\">RandomForestRegressor</label><div class=\"sk-toggleable__content\"><pre>RandomForestRegressor(max_depth=94, n_estimators=119, random_state=42)</pre></div></div></div></div></div></div><div class=\"sk-parallel-item\"><div class=\"sk-item\"><div class=\"sk-label-container\"><div class=\"sk-label sk-toggleable\"><label>LGBMRegressor</label></div></div><div class=\"sk-serial\"><div class=\"sk-item\"><div class=\"sk-estimator sk-toggleable\"><input class=\"sk-toggleable__control sk-hidden--visually\" id=\"sk-estimator-id-28\" type=\"checkbox\" ><label for=\"sk-estimator-id-28\" class=\"sk-toggleable__label sk-toggleable__label-arrow\">LGBMRegressor</label><div class=\"sk-toggleable__content\"><pre>LGBMRegressor(colsample_bytree=0.5010500797248736, max_depth=99,\n",
       "              n_estimators=500, num_leaves=100, random_state=42,\n",
       "              subsample=0.5859959009489037)</pre></div></div></div></div></div></div></div></div></div></div>"
      ],
      "text/plain": [
       "VotingRegressor(estimators=[('CatBoostRegressor',\n",
       "                             <catboost.core.CatBoostRegressor object at 0x7f6fdd924850>),\n",
       "                            ('XGBRegressor',\n",
       "                             XGBRegressor(base_score=None, booster=None,\n",
       "                                          callbacks=None,\n",
       "                                          colsample_bylevel=0.8538026816245957,\n",
       "                                          colsample_bynode=None,\n",
       "                                          colsample_bytree=None,\n",
       "                                          early_stopping_rounds=None,\n",
       "                                          enable_categorical=False,\n",
       "                                          eval_metric=None, feature_types=None,\n",
       "                                          ga...\n",
       "                                          n_estimators=471, n_jobs=None,\n",
       "                                          num_parallel_tree=None,\n",
       "                                          predictor=None, random_state=42, ...)),\n",
       "                            ('RandomForestRegressor',\n",
       "                             RandomForestRegressor(max_depth=94,\n",
       "                                                   n_estimators=119,\n",
       "                                                   random_state=42)),\n",
       "                            ('LGBMRegressor',\n",
       "                             LGBMRegressor(colsample_bytree=0.5010500797248736,\n",
       "                                           max_depth=99, n_estimators=500,\n",
       "                                           num_leaves=100, random_state=42,\n",
       "                                           subsample=0.5859959009489037))],\n",
       "                n_jobs=-1)"
      ]
     },
     "execution_count": 28,
     "metadata": {},
     "output_type": "execute_result"
    }
   ],
   "source": [
    "voting_regressor.fit(transformed_features, transformed_target)\n"
   ]
  },
  {
   "cell_type": "code",
   "execution_count": 29,
   "metadata": {},
   "outputs": [
    {
     "data": {
      "text/plain": [
       "0.017275435953329997"
      ]
     },
     "execution_count": 29,
     "metadata": {},
     "output_type": "execute_result"
    }
   ],
   "source": [
    "all_predictions = voting_regressor.predict(transformed_features)\n",
    "mean_squared_error(transformed_target, all_predictions)\n"
   ]
  },
  {
   "cell_type": "markdown",
   "metadata": {},
   "source": [
    "OK. The error between the predictions and the transformed target is very small indeed. But we have to remember that the transformed target is, actually, the log value of the real house prices.\n",
    "\n",
    "So, lets check how the error really behavior if we apply the **inverse transform** to the target (in this case, exponential function).\n"
   ]
  },
  {
   "cell_type": "code",
   "execution_count": 30,
   "metadata": {},
   "outputs": [
    {
     "data": {
      "text/plain": [
       "54051.04630951264"
      ]
     },
     "execution_count": 30,
     "metadata": {},
     "output_type": "execute_result"
    }
   ],
   "source": [
    "transformed_predictions = target_transform.inverse_transform(all_predictions)\n",
    "mean_absolute_error(target, transformed_predictions)\n"
   ]
  },
  {
   "cell_type": "markdown",
   "metadata": {},
   "source": [
    "Wow! An average error of R$58000,00? Let's take a better look at the behavior of the error:\n"
   ]
  },
  {
   "cell_type": "code",
   "execution_count": 31,
   "metadata": {},
   "outputs": [
    {
     "data": {
      "text/html": [
       "<div>\n",
       "<style scoped>\n",
       "    .dataframe tbody tr th:only-of-type {\n",
       "        vertical-align: middle;\n",
       "    }\n",
       "\n",
       "    .dataframe tbody tr th {\n",
       "        vertical-align: top;\n",
       "    }\n",
       "\n",
       "    .dataframe thead th {\n",
       "        text-align: right;\n",
       "    }\n",
       "</style>\n",
       "<table border=\"1\" class=\"dataframe\">\n",
       "  <thead>\n",
       "    <tr style=\"text-align: right;\">\n",
       "      <th></th>\n",
       "      <th>property_type</th>\n",
       "      <th>error</th>\n",
       "    </tr>\n",
       "  </thead>\n",
       "  <tbody>\n",
       "    <tr>\n",
       "      <th>0</th>\n",
       "      <td>Two-story House</td>\n",
       "      <td>-95161.688411</td>\n",
       "    </tr>\n",
       "    <tr>\n",
       "      <th>1</th>\n",
       "      <td>House</td>\n",
       "      <td>-79555.503987</td>\n",
       "    </tr>\n",
       "    <tr>\n",
       "      <th>2</th>\n",
       "      <td>Apartament</td>\n",
       "      <td>813.773231</td>\n",
       "    </tr>\n",
       "    <tr>\n",
       "      <th>3</th>\n",
       "      <td>Apartament</td>\n",
       "      <td>-52140.343640</td>\n",
       "    </tr>\n",
       "    <tr>\n",
       "      <th>4</th>\n",
       "      <td>Condominium</td>\n",
       "      <td>13874.353809</td>\n",
       "    </tr>\n",
       "    <tr>\n",
       "      <th>...</th>\n",
       "      <td>...</td>\n",
       "      <td>...</td>\n",
       "    </tr>\n",
       "    <tr>\n",
       "      <th>88742</th>\n",
       "      <td>Apartament</td>\n",
       "      <td>6670.154858</td>\n",
       "    </tr>\n",
       "    <tr>\n",
       "      <th>88743</th>\n",
       "      <td>Apartament</td>\n",
       "      <td>-63600.033845</td>\n",
       "    </tr>\n",
       "    <tr>\n",
       "      <th>88744</th>\n",
       "      <td>Apartament</td>\n",
       "      <td>-46688.472516</td>\n",
       "    </tr>\n",
       "    <tr>\n",
       "      <th>88745</th>\n",
       "      <td>Apartament</td>\n",
       "      <td>15794.512946</td>\n",
       "    </tr>\n",
       "    <tr>\n",
       "      <th>88746</th>\n",
       "      <td>Two-story House</td>\n",
       "      <td>165657.426694</td>\n",
       "    </tr>\n",
       "  </tbody>\n",
       "</table>\n",
       "<p>88747 rows × 2 columns</p>\n",
       "</div>"
      ],
      "text/plain": [
       "         property_type          error\n",
       "0      Two-story House  -95161.688411\n",
       "1                House  -79555.503987\n",
       "2           Apartament     813.773231\n",
       "3           Apartament  -52140.343640\n",
       "4          Condominium   13874.353809\n",
       "...                ...            ...\n",
       "88742       Apartament    6670.154858\n",
       "88743       Apartament  -63600.033845\n",
       "88744       Apartament  -46688.472516\n",
       "88745       Apartament   15794.512946\n",
       "88746  Two-story House  165657.426694\n",
       "\n",
       "[88747 rows x 2 columns]"
      ]
     },
     "execution_count": 31,
     "metadata": {},
     "output_type": "execute_result"
    }
   ],
   "source": [
    "errors = pd.DataFrame()\n",
    "errors[\"property_type\"] = features[\"property_type\"]\n",
    "errors[\"error\"] = target - transformed_predictions\n",
    "errors\n"
   ]
  },
  {
   "cell_type": "code",
   "execution_count": 32,
   "metadata": {},
   "outputs": [
    {
     "data": {
      "text/plain": [
       "<Axes: xlabel='error'>"
      ]
     },
     "execution_count": 32,
     "metadata": {},
     "output_type": "execute_result"
    },
    {
     "data": {
      "image/png": "[encoded data removed]",
      "text/plain": [
       "<Figure size 640x480 with 1 Axes>"
      ]
     },
     "metadata": {},
     "output_type": "display_data"
    }
   ],
   "source": [
    "sns.boxplot(x=\"error\", data=errors)\n"
   ]
  },
  {
   "cell_type": "code",
   "execution_count": 33,
   "metadata": {},
   "outputs": [
    {
     "data": {
      "image/png": "[encoded data removed]",
      "text/plain": [
       "<Figure size 1500x500 with 3 Axes>"
      ]
     },
     "metadata": {},
     "output_type": "display_data"
    }
   ],
   "source": [
    "fig, (ax1, ax2, ax3) = plt.subplots(ncols=3,figsize=(15, 5))\n",
    "\n",
    "maes = errors.groupby(\"property_type\").agg(MAE=(\"error\", np.average)).sort_values(\"MAE\", ascending=False)\n",
    "sns.barplot(x=maes.index, y=\"MAE\", data=maes, ax=ax1)\n",
    "ax1.set_xticklabels(ax1.get_xticklabels(), rotation=45, ha=\"right\")\n",
    "\n",
    "sns.boxplot(x=\"error\", y=\"property_type\", data=errors, order=maes.index, ax=ax2)\n",
    "\n",
    "prices = pd.DataFrame()\n",
    "prices[\"property_type\"] = features[\"property_type\"]\n",
    "prices[\"prices\"] = target\n",
    "sns.boxplot(x=\"prices\", y=\"property_type\", order=maes.index, data=prices, ax=ax3)\n",
    "\n",
    "plt.tight_layout();"
   ]
  },
  {
   "cell_type": "code",
   "execution_count": 34,
   "metadata": {},
   "outputs": [
    {
     "data": {
      "text/plain": [
       "<Axes: xlabel='prices', ylabel='property_type'>"
      ]
     },
     "execution_count": 34,
     "metadata": {},
     "output_type": "execute_result"
    },
    {
     "data": {
      "image/png": "[encoded data removed]",
      "text/plain": [
       "<Figure size 640x480 with 1 Axes>"
      ]
     },
     "metadata": {},
     "output_type": "display_data"
    }
   ],
   "source": [
    "prices = pd.DataFrame()\n",
    "prices[\"property_type\"] = features[\"property_type\"]\n",
    "prices[\"prices\"] = target\n",
    "sns.boxplot(x=\"prices\", y=\"property_type\", data=prices)\n"
   ]
  },
  {
   "cell_type": "code",
   "execution_count": null,
   "metadata": {},
   "outputs": [],
   "source": []
  }
 ],
 "metadata": {
  "kernelspec": {
   "display_name": ".venv",
   "language": "python",
   "name": "python3"
  },
  "language_info": {
   "codemirror_mode": {
    "name": "ipython",
    "version": 3
   },
   "file_extension": ".py",
   "mimetype": "text/x-python",
   "name": "python",
   "nbconvert_exporter": "python",
   "pygments_lexer": "ipython3",
   "version": "3.10.9"
  },
  "orig_nbformat": 4
 },
 "nbformat": 4,
 "nbformat_minor": 2
}
