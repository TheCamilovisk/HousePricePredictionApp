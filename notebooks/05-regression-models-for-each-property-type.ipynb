{
 "cells": [
  {
   "cell_type": "markdown",
   "metadata": {},
   "source": [
    "# Regression Models for each Property Type\n",
    "\n",
    "IN the last notebook our analysis concluded that the regression errors have different behavior for each property type. This has leaded us to the necessity to handle the regression problem differently for each property type.\n",
    "\n",
    "In this notebook we'll address this problem by testing different regression models and selecting the best ones for each property type."
   ]
  },
  {
   "cell_type": "code",
   "execution_count": 1,
   "metadata": {},
   "outputs": [
    {
     "name": "stderr",
     "output_type": "stream",
     "text": [
      "<frozen importlib._bootstrap>:241: RuntimeWarning: numpy.ufunc size changed, may indicate binary incompatibility. Expected 216 from C header, got 232 from PyObject\n"
     ]
    }
   ],
   "source": [
    "import os\n",
    "import os.path as P\n",
    "import pickle\n",
    "import typing as T\n",
    "\n",
    "import matplotlib.pyplot as plt\n",
    "import numpy as np\n",
    "import pandas as pd\n",
    "import seaborn as sns\n",
    "import sklearn\n",
    "from catboost import CatBoostRegressor\n",
    "from lightgbm import LGBMRegressor\n",
    "from sklearn.ensemble import ExtraTreesRegressor, RandomForestRegressor, VotingRegressor\n",
    "from sklearn.linear_model import BayesianRidge, ElasticNet, Lasso, Ridge\n",
    "from sklearn.metrics import PredictionErrorDisplay, make_scorer, mean_squared_log_error\n",
    "from sklearn.model_selection import cross_val_score, train_test_split\n",
    "from sklearn.pipeline import make_pipeline\n",
    "from sklearn.preprocessing import PolynomialFeatures\n",
    "from xgboost import XGBRegressor"
   ]
  },
  {
   "cell_type": "code",
   "execution_count": 2,
   "metadata": {},
   "outputs": [],
   "source": [
    "sklearn.set_config(transform_output=\"pandas\")"
   ]
  },
  {
   "cell_type": "code",
   "execution_count": 3,
   "metadata": {},
   "outputs": [],
   "source": [
    "random_state = 42"
   ]
  },
  {
   "cell_type": "markdown",
   "metadata": {},
   "source": [
    "# Models Evaluation\n",
    "\n",
    "## Evaluation Function\n",
    "\n",
    "We'll bring our evaluation function (from the last notebook) back to the game."
   ]
  },
  {
   "cell_type": "code",
   "execution_count": 4,
   "metadata": {},
   "outputs": [],
   "source": [
    "class Predictor(T.Protocol):\n",
    "    def fit(self, X: T.Any, y: T.Any, *args, **kwargs) -> None:\n",
    "        raise NotImplementedError\n",
    "\n",
    "    def predict(self, X: T.Any) -> T.Any:\n",
    "        raise NotImplementedError\n",
    "\n",
    "\n",
    "def evaluate_models(\n",
    "    X: pd.DataFrame, y: pd.Series, test_models: T.Iterable[T.Tuple[str, Predictor]]\n",
    ") -> pd.DataFrame:\n",
    "    results = []\n",
    "    for model_name, model in test_models:\n",
    "        scorer = make_scorer(mean_squared_log_error)\n",
    "\n",
    "        scorer = cross_val_score(model, X, y, cv=5, scoring=scorer)\n",
    "        avg_msle = scorer.mean()\n",
    "\n",
    "        results.append({\"Model\": model_name, \"Avg MSLE\": avg_msle})\n",
    "\n",
    "    results_df = pd.DataFrame(results).sort_values(by=\"Avg MSLE\").reset_index(drop=True)\n",
    "\n",
    "    return results_df"
   ]
  },
  {
   "cell_type": "markdown",
   "metadata": {},
   "source": [
    "Just to rembember, we'll proceed to test the following list of regression models:\n",
    "\n",
    "- [Ridge](https://scikit-learn.org/stable/modules/generated/sklearn.linear_model.Ridge.html)\n",
    "- [Lasso](https://scikit-learn.org/stable/modules/generated/sklearn.linear_model.Lasso.html)\n",
    "- [Elastic Net](https://scikit-learn.org/stable/modules/generated/sklearn.linear_model.ElasticNet.html)\n",
    "- [Bayesian](https://scikit-learn.org/stable/modules/generated/sklearn.linear_model.BayesianRidge.html)\n",
    "- [Random Forest](https://scikit-learn.org/stable/modules/generated/sklearn.ensemble.RandomForestRegressor.html)\n",
    "- [Extra Trees Regressor](https://scikit-learn.org/stable/modules/generated/sklearn.ensemble.ExtraTreesRegressor.html)\n",
    "- [XGBoost](https://xgboost.readthedocs.io/en/stable/)\n",
    "- [LightGBM](https://lightgbm.readthedocs.io/en/stable/)\n",
    "- [CatBoost Regressor](https://catboost.ai/)\n",
    "\n",
    "The evaluations will be executed for the property types in the follwing order:\n",
    "- **Residential Building**\n",
    "- **Penthouse**\n",
    "- **House**\n",
    "- **Two-story House**\n",
    "- **Apartment**\n",
    "- **Studio Apartment**\n",
    "- **Condominium**\n",
    "- **Flat**"
   ]
  },
  {
   "cell_type": "markdown",
   "metadata": {},
   "source": [
    "## Data Gathering\n",
    "\n",
    "To proceed to the models evaluation, we need first to collect all features and house prices for all proprties types."
   ]
  }
 ],
 "metadata": {
  "kernelspec": {
   "display_name": ".venv",
   "language": "python",
   "name": "python3"
  },
  "language_info": {
   "codemirror_mode": {
    "name": "ipython",
    "version": 3
   },
   "file_extension": ".py",
   "mimetype": "text/x-python",
   "name": "python",
   "nbconvert_exporter": "python",
   "pygments_lexer": "ipython3",
   "version": "3.10.9"
  },
  "orig_nbformat": 4
 },
 "nbformat": 4,
 "nbformat_minor": 2
}
