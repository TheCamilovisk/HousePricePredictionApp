{
 "cells": [
  {
   "cell_type": "markdown",
   "metadata": {},
   "source": [
    "# Hyper Parameter Tune\n",
    "\n",
    "In this notebook we'll close the cycle and find the best parameters for the model that we built in previously. This process is called **Hyper Parameter Optimization** and involves some steps:\n",
    "\n",
    "1. Choose a optimization metric.\n",
    "2. Create a objective function to minimize/maximize.\n",
    "3. Define a parameter search space.\n",
    "4. Execute the paramter search.\n",
    "5. Check the results. If the found parameters gives a satisfactory model performance, then we are done and proceed to use the model. Otherwise, get back to step 3 and repeat util you find a model that best suits your needs.\n",
    "\n",
    "In this project will the [Optuna Framework](https://optuna.org/), one of the best Hyper Parameter Optimization framework out there. Personally, I like Optana for its easy to use (I'll see it in a bit), but there are other great libraries that serves the same purposes very well. Some examples are:\n",
    "\n",
    "- [Hyperopt](http://hyperopt.github.io/hyperopt/)\n",
    "- [Ray Tune](https://docs.ray.io/en/latest/tune/index.html)\n",
    "- [Scikit-Optimize](https://scikit-optimize.github.io/stable/)\n",
    "- Scikit-learn itself, through [GridSearchCV](https://scikit-learn.org/stable/modules/generated/sklearn.model_selection.GridSearchCV.html) and [RandomizedSearchCV](https://scikit-learn.org/stable/modules/generated/sklearn.model_selection.RandomizedSearchCV.html).\n",
    "\n",
    "With some adjustments, the concepts that will be presented are easily extendable for other frameworks as well. So, feel free to use test what I will do here with any other framework you want.\n",
    "\n",
    "**OBSERVATION:** This notebook will certainly take a at least 2 hours to run if you run all the optimzation code. It's totally normal.\n",
    "\n",
    "**OBSERVATION 2:** If you want to save time and just train the final model, begin by running this notebook until section [Hyperparameter Optimization with Optuna](#hyperparameter-optimization-with-optuna). After that jump right into section [Voting Regressor Update](#voting-regressor-update) and run the remaining cells."
   ]
  },
  {
   "cell_type": "code",
   "execution_count": 10,
   "metadata": {
    "tags": []
   },
   "outputs": [],
   "source": [
    "import os.path as P\n",
    "import pickle\n",
    "\n",
    "import cloudpickle\n",
    "import matplotlib.pyplot as plt\n",
    "import numpy as np\n",
    "import optuna\n",
    "import pandas as pd\n",
    "import seaborn as sns\n",
    "import sklearn\n",
    "from catboost import CatBoostRegressor\n",
    "from lightgbm import LGBMRegressor\n",
    "from sklearn.ensemble import RandomForestRegressor, VotingRegressor\n",
    "from sklearn.metrics import make_scorer, mean_absolute_error, mean_squared_error\n",
    "from sklearn.model_selection import cross_val_score, train_test_split\n",
    "from xgboost import XGBRegressor"
   ]
  },
  {
   "cell_type": "code",
   "execution_count": 11,
   "metadata": {},
   "outputs": [],
   "source": [
    "sklearn.set_config(transform_output=\"pandas\")"
   ]
  },
  {
   "cell_type": "code",
   "execution_count": 12,
   "metadata": {},
   "outputs": [],
   "source": [
    "random_state = 42"
   ]
  },
  {
   "cell_type": "markdown",
   "metadata": {},
   "source": [
    "# Data Loading\n",
    "\n",
    "## Preprocessing Pipeline\n",
    "\n",
    "Let's first load our preprocessing pipeline:\n"
   ]
  },
  {
   "cell_type": "code",
   "execution_count": 13,
   "metadata": {},
   "outputs": [],
   "source": [
    "artifacts_root_dir = P.join(P.dirname(P.abspath(\"\")), \"artifacts\")\n"
   ]
  },
  {
   "cell_type": "code",
   "execution_count": 14,
   "metadata": {},
   "outputs": [
    {
     "data": {
      "text/html": [
       "<style>#sk-container-id-3 {color: black;}#sk-container-id-3 pre{padding: 0;}#sk-container-id-3 div.sk-toggleable {background-color: white;}#sk-container-id-3 label.sk-toggleable__label {cursor: pointer;display: block;width: 100%;margin-bottom: 0;padding: 0.3em;box-sizing: border-box;text-align: center;}#sk-container-id-3 label.sk-toggleable__label-arrow:before {content: \"▸\";float: left;margin-right: 0.25em;color: #696969;}#sk-container-id-3 label.sk-toggleable__label-arrow:hover:before {color: black;}#sk-container-id-3 div.sk-estimator:hover label.sk-toggleable__label-arrow:before {color: black;}#sk-container-id-3 div.sk-toggleable__content {max-height: 0;max-width: 0;overflow: hidden;text-align: left;background-color: #f0f8ff;}#sk-container-id-3 div.sk-toggleable__content pre {margin: 0.2em;color: black;border-radius: 0.25em;background-color: #f0f8ff;}#sk-container-id-3 input.sk-toggleable__control:checked~div.sk-toggleable__content {max-height: 200px;max-width: 100%;overflow: auto;}#sk-container-id-3 input.sk-toggleable__control:checked~label.sk-toggleable__label-arrow:before {content: \"▾\";}#sk-container-id-3 div.sk-estimator input.sk-toggleable__control:checked~label.sk-toggleable__label {background-color: #d4ebff;}#sk-container-id-3 div.sk-label input.sk-toggleable__control:checked~label.sk-toggleable__label {background-color: #d4ebff;}#sk-container-id-3 input.sk-hidden--visually {border: 0;clip: rect(1px 1px 1px 1px);clip: rect(1px, 1px, 1px, 1px);height: 1px;margin: -1px;overflow: hidden;padding: 0;position: absolute;width: 1px;}#sk-container-id-3 div.sk-estimator {font-family: monospace;background-color: #f0f8ff;border: 1px dotted black;border-radius: 0.25em;box-sizing: border-box;margin-bottom: 0.5em;}#sk-container-id-3 div.sk-estimator:hover {background-color: #d4ebff;}#sk-container-id-3 div.sk-parallel-item::after {content: \"\";width: 100%;border-bottom: 1px solid gray;flex-grow: 1;}#sk-container-id-3 div.sk-label:hover label.sk-toggleable__label {background-color: #d4ebff;}#sk-container-id-3 div.sk-serial::before {content: \"\";position: absolute;border-left: 1px solid gray;box-sizing: border-box;top: 0;bottom: 0;left: 50%;z-index: 0;}#sk-container-id-3 div.sk-serial {display: flex;flex-direction: column;align-items: center;background-color: white;padding-right: 0.2em;padding-left: 0.2em;position: relative;}#sk-container-id-3 div.sk-item {position: relative;z-index: 1;}#sk-container-id-3 div.sk-parallel {display: flex;align-items: stretch;justify-content: center;background-color: white;position: relative;}#sk-container-id-3 div.sk-item::before, #sk-container-id-3 div.sk-parallel-item::before {content: \"\";position: absolute;border-left: 1px solid gray;box-sizing: border-box;top: 0;bottom: 0;left: 50%;z-index: -1;}#sk-container-id-3 div.sk-parallel-item {display: flex;flex-direction: column;z-index: 1;position: relative;background-color: white;}#sk-container-id-3 div.sk-parallel-item:first-child::after {align-self: flex-end;width: 50%;}#sk-container-id-3 div.sk-parallel-item:last-child::after {align-self: flex-start;width: 50%;}#sk-container-id-3 div.sk-parallel-item:only-child::after {width: 0;}#sk-container-id-3 div.sk-dashed-wrapped {border: 1px dashed gray;margin: 0 0.4em 0.5em 0.4em;box-sizing: border-box;padding-bottom: 0.4em;background-color: white;}#sk-container-id-3 div.sk-label label {font-family: monospace;font-weight: bold;display: inline-block;line-height: 1.2em;}#sk-container-id-3 div.sk-label-container {text-align: center;}#sk-container-id-3 div.sk-container {/* jupyter's `normalize.less` sets `[hidden] { display: none; }` but bootstrap.min.css set `[hidden] { display: none !important; }` so we also need the `!important` here to be able to override the default hidden behavior on the sphinx rendered scikit-learn.org. See: https://github.com/scikit-learn/scikit-learn/issues/21755 */display: inline-block !important;position: relative;}#sk-container-id-3 div.sk-text-repr-fallback {display: none;}</style><div id=\"sk-container-id-3\" class=\"sk-top-container\"><div class=\"sk-text-repr-fallback\"><pre>Pipeline(steps=[(&#x27;columntransformer-1&#x27;,\n",
       "                 ColumnTransformer(remainder=&#x27;passthrough&#x27;,\n",
       "                                   transformers=[(&#x27;simpleimputer-1&#x27;,\n",
       "                                                  SimpleImputer(fill_value=0.0),\n",
       "                                                  [&#x27;condominium_fee&#x27;, &#x27;suites&#x27;,\n",
       "                                                   &#x27;parking_spots&#x27;, &#x27;bedrooms&#x27;,\n",
       "                                                   &#x27;bathrooms&#x27;]),\n",
       "                                                 (&#x27;simpleimputer-2&#x27;,\n",
       "                                                  SimpleImputer(),\n",
       "                                                  [&#x27;annual_iptu_tax&#x27;,\n",
       "                                                   &#x27;usable_area&#x27;])],\n",
       "                                   verbose_feature_names_out=False)),\n",
       "                (&#x27;featureunion-1&#x27;,\n",
       "                 FeatureUnion(t...\n",
       "                (&#x27;functiontransformer&#x27;,\n",
       "                 FunctionTransformer(func=&lt;function &lt;lambda&gt; at 0x7fe7d5fae320&gt;)),\n",
       "                (&#x27;columntransformer-2&#x27;,\n",
       "                 ColumnTransformer(remainder=MinMaxScaler(),\n",
       "                                   transformers=[(&#x27;onehotencoder&#x27;,\n",
       "                                                  OneHotEncoder(sparse_output=False),\n",
       "                                                  [&#x27;property_type&#x27;]),\n",
       "                                                 (&#x27;standardscaler&#x27;,\n",
       "                                                  StandardScaler(),\n",
       "                                                  [&#x27;usable_area&#x27;,\n",
       "                                                   &#x27;neighborhood_general_tax_score&#x27;])],\n",
       "                                   verbose_feature_names_out=False))])</pre><b>In a Jupyter environment, please rerun this cell to show the HTML representation or trust the notebook. <br />On GitHub, the HTML representation is unable to render, please try loading this page with nbviewer.org.</b></div><div class=\"sk-container\" hidden><div class=\"sk-item sk-dashed-wrapped\"><div class=\"sk-label-container\"><div class=\"sk-label sk-toggleable\"><input class=\"sk-toggleable__control sk-hidden--visually\" id=\"sk-estimator-id-30\" type=\"checkbox\" ><label for=\"sk-estimator-id-30\" class=\"sk-toggleable__label sk-toggleable__label-arrow\">Pipeline</label><div class=\"sk-toggleable__content\"><pre>Pipeline(steps=[(&#x27;columntransformer-1&#x27;,\n",
       "                 ColumnTransformer(remainder=&#x27;passthrough&#x27;,\n",
       "                                   transformers=[(&#x27;simpleimputer-1&#x27;,\n",
       "                                                  SimpleImputer(fill_value=0.0),\n",
       "                                                  [&#x27;condominium_fee&#x27;, &#x27;suites&#x27;,\n",
       "                                                   &#x27;parking_spots&#x27;, &#x27;bedrooms&#x27;,\n",
       "                                                   &#x27;bathrooms&#x27;]),\n",
       "                                                 (&#x27;simpleimputer-2&#x27;,\n",
       "                                                  SimpleImputer(),\n",
       "                                                  [&#x27;annual_iptu_tax&#x27;,\n",
       "                                                   &#x27;usable_area&#x27;])],\n",
       "                                   verbose_feature_names_out=False)),\n",
       "                (&#x27;featureunion-1&#x27;,\n",
       "                 FeatureUnion(t...\n",
       "                (&#x27;functiontransformer&#x27;,\n",
       "                 FunctionTransformer(func=&lt;function &lt;lambda&gt; at 0x7fe7d5fae320&gt;)),\n",
       "                (&#x27;columntransformer-2&#x27;,\n",
       "                 ColumnTransformer(remainder=MinMaxScaler(),\n",
       "                                   transformers=[(&#x27;onehotencoder&#x27;,\n",
       "                                                  OneHotEncoder(sparse_output=False),\n",
       "                                                  [&#x27;property_type&#x27;]),\n",
       "                                                 (&#x27;standardscaler&#x27;,\n",
       "                                                  StandardScaler(),\n",
       "                                                  [&#x27;usable_area&#x27;,\n",
       "                                                   &#x27;neighborhood_general_tax_score&#x27;])],\n",
       "                                   verbose_feature_names_out=False))])</pre></div></div></div><div class=\"sk-serial\"><div class=\"sk-item sk-dashed-wrapped\"><div class=\"sk-label-container\"><div class=\"sk-label sk-toggleable\"><input class=\"sk-toggleable__control sk-hidden--visually\" id=\"sk-estimator-id-31\" type=\"checkbox\" ><label for=\"sk-estimator-id-31\" class=\"sk-toggleable__label sk-toggleable__label-arrow\">columntransformer-1: ColumnTransformer</label><div class=\"sk-toggleable__content\"><pre>ColumnTransformer(remainder=&#x27;passthrough&#x27;,\n",
       "                  transformers=[(&#x27;simpleimputer-1&#x27;,\n",
       "                                 SimpleImputer(fill_value=0.0),\n",
       "                                 [&#x27;condominium_fee&#x27;, &#x27;suites&#x27;, &#x27;parking_spots&#x27;,\n",
       "                                  &#x27;bedrooms&#x27;, &#x27;bathrooms&#x27;]),\n",
       "                                (&#x27;simpleimputer-2&#x27;, SimpleImputer(),\n",
       "                                 [&#x27;annual_iptu_tax&#x27;, &#x27;usable_area&#x27;])],\n",
       "                  verbose_feature_names_out=False)</pre></div></div></div><div class=\"sk-parallel\"><div class=\"sk-parallel-item\"><div class=\"sk-item\"><div class=\"sk-label-container\"><div class=\"sk-label sk-toggleable\"><input class=\"sk-toggleable__control sk-hidden--visually\" id=\"sk-estimator-id-32\" type=\"checkbox\" ><label for=\"sk-estimator-id-32\" class=\"sk-toggleable__label sk-toggleable__label-arrow\">simpleimputer-1</label><div class=\"sk-toggleable__content\"><pre>[&#x27;condominium_fee&#x27;, &#x27;suites&#x27;, &#x27;parking_spots&#x27;, &#x27;bedrooms&#x27;, &#x27;bathrooms&#x27;]</pre></div></div></div><div class=\"sk-serial\"><div class=\"sk-item\"><div class=\"sk-estimator sk-toggleable\"><input class=\"sk-toggleable__control sk-hidden--visually\" id=\"sk-estimator-id-33\" type=\"checkbox\" ><label for=\"sk-estimator-id-33\" class=\"sk-toggleable__label sk-toggleable__label-arrow\">SimpleImputer</label><div class=\"sk-toggleable__content\"><pre>SimpleImputer(fill_value=0.0)</pre></div></div></div></div></div></div><div class=\"sk-parallel-item\"><div class=\"sk-item\"><div class=\"sk-label-container\"><div class=\"sk-label sk-toggleable\"><input class=\"sk-toggleable__control sk-hidden--visually\" id=\"sk-estimator-id-34\" type=\"checkbox\" ><label for=\"sk-estimator-id-34\" class=\"sk-toggleable__label sk-toggleable__label-arrow\">simpleimputer-2</label><div class=\"sk-toggleable__content\"><pre>[&#x27;annual_iptu_tax&#x27;, &#x27;usable_area&#x27;]</pre></div></div></div><div class=\"sk-serial\"><div class=\"sk-item\"><div class=\"sk-estimator sk-toggleable\"><input class=\"sk-toggleable__control sk-hidden--visually\" id=\"sk-estimator-id-35\" type=\"checkbox\" ><label for=\"sk-estimator-id-35\" class=\"sk-toggleable__label sk-toggleable__label-arrow\">SimpleImputer</label><div class=\"sk-toggleable__content\"><pre>SimpleImputer()</pre></div></div></div></div></div></div><div class=\"sk-parallel-item\"><div class=\"sk-item\"><div class=\"sk-label-container\"><div class=\"sk-label sk-toggleable\"><input class=\"sk-toggleable__control sk-hidden--visually\" id=\"sk-estimator-id-36\" type=\"checkbox\" ><label for=\"sk-estimator-id-36\" class=\"sk-toggleable__label sk-toggleable__label-arrow\">remainder</label><div class=\"sk-toggleable__content\"><pre>[&#x27;neighborhood&#x27;, &#x27;property_type&#x27;, &#x27;ad_date&#x27;]</pre></div></div></div><div class=\"sk-serial\"><div class=\"sk-item\"><div class=\"sk-estimator sk-toggleable\"><input class=\"sk-toggleable__control sk-hidden--visually\" id=\"sk-estimator-id-37\" type=\"checkbox\" ><label for=\"sk-estimator-id-37\" class=\"sk-toggleable__label sk-toggleable__label-arrow\">passthrough</label><div class=\"sk-toggleable__content\"><pre>passthrough</pre></div></div></div></div></div></div></div></div><div class=\"sk-item sk-dashed-wrapped\"><div class=\"sk-label-container\"><div class=\"sk-label sk-toggleable\"><input class=\"sk-toggleable__control sk-hidden--visually\" id=\"sk-estimator-id-38\" type=\"checkbox\" ><label for=\"sk-estimator-id-38\" class=\"sk-toggleable__label sk-toggleable__label-arrow\">featureunion-1: FeatureUnion</label><div class=\"sk-toggleable__content\"><pre>FeatureUnion(transformer_list=[(&#x27;passthrough&#x27;,\n",
       "                                FunctionTransformer(feature_names_out=&#x27;one-to-one&#x27;)),\n",
       "                               (&#x27;functiontransformer&#x27;,\n",
       "                                FunctionTransformer(func=&lt;function add_general_tax at 0x7fe86ae4d240&gt;))])</pre></div></div></div><div class=\"sk-parallel\"><div class=\"sk-parallel-item\"><div class=\"sk-item\"><div class=\"sk-label-container\"><div class=\"sk-label sk-toggleable\"><label>passthrough</label></div></div><div class=\"sk-serial\"><div class=\"sk-item\"><div class=\"sk-estimator sk-toggleable\"><input class=\"sk-toggleable__control sk-hidden--visually\" id=\"sk-estimator-id-39\" type=\"checkbox\" ><label for=\"sk-estimator-id-39\" class=\"sk-toggleable__label sk-toggleable__label-arrow\">FunctionTransformer</label><div class=\"sk-toggleable__content\"><pre>FunctionTransformer(feature_names_out=&#x27;one-to-one&#x27;)</pre></div></div></div></div></div></div><div class=\"sk-parallel-item\"><div class=\"sk-item\"><div class=\"sk-label-container\"><div class=\"sk-label sk-toggleable\"><label>functiontransformer</label></div></div><div class=\"sk-serial\"><div class=\"sk-item\"><div class=\"sk-estimator sk-toggleable\"><input class=\"sk-toggleable__control sk-hidden--visually\" id=\"sk-estimator-id-40\" type=\"checkbox\" ><label for=\"sk-estimator-id-40\" class=\"sk-toggleable__label sk-toggleable__label-arrow\">FunctionTransformer</label><div class=\"sk-toggleable__content\"><pre>FunctionTransformer(func=&lt;function add_general_tax at 0x7fe86ae4d240&gt;)</pre></div></div></div></div></div></div></div></div><div class=\"sk-item sk-dashed-wrapped\"><div class=\"sk-label-container\"><div class=\"sk-label sk-toggleable\"><input class=\"sk-toggleable__control sk-hidden--visually\" id=\"sk-estimator-id-41\" type=\"checkbox\" ><label for=\"sk-estimator-id-41\" class=\"sk-toggleable__label sk-toggleable__label-arrow\">featureunion-2: FeatureUnion</label><div class=\"sk-toggleable__content\"><pre>FeatureUnion(transformer_list=[(&#x27;passthrough&#x27;,\n",
       "                                FunctionTransformer(feature_names_out=&#x27;one-to-one&#x27;)),\n",
       "                               (&#x27;functiontransformer&#x27;,\n",
       "                                FunctionTransformer(func=&lt;function add_area_score at 0x7fe7d5c71750&gt;))])</pre></div></div></div><div class=\"sk-parallel\"><div class=\"sk-parallel-item\"><div class=\"sk-item\"><div class=\"sk-label-container\"><div class=\"sk-label sk-toggleable\"><label>passthrough</label></div></div><div class=\"sk-serial\"><div class=\"sk-item\"><div class=\"sk-estimator sk-toggleable\"><input class=\"sk-toggleable__control sk-hidden--visually\" id=\"sk-estimator-id-42\" type=\"checkbox\" ><label for=\"sk-estimator-id-42\" class=\"sk-toggleable__label sk-toggleable__label-arrow\">FunctionTransformer</label><div class=\"sk-toggleable__content\"><pre>FunctionTransformer(feature_names_out=&#x27;one-to-one&#x27;)</pre></div></div></div></div></div></div><div class=\"sk-parallel-item\"><div class=\"sk-item\"><div class=\"sk-label-container\"><div class=\"sk-label sk-toggleable\"><label>functiontransformer</label></div></div><div class=\"sk-serial\"><div class=\"sk-item\"><div class=\"sk-estimator sk-toggleable\"><input class=\"sk-toggleable__control sk-hidden--visually\" id=\"sk-estimator-id-43\" type=\"checkbox\" ><label for=\"sk-estimator-id-43\" class=\"sk-toggleable__label sk-toggleable__label-arrow\">FunctionTransformer</label><div class=\"sk-toggleable__content\"><pre>FunctionTransformer(func=&lt;function add_area_score at 0x7fe7d5c71750&gt;)</pre></div></div></div></div></div></div></div></div><div class=\"sk-item sk-dashed-wrapped\"><div class=\"sk-label-container\"><div class=\"sk-label sk-toggleable\"><input class=\"sk-toggleable__control sk-hidden--visually\" id=\"sk-estimator-id-44\" type=\"checkbox\" ><label for=\"sk-estimator-id-44\" class=\"sk-toggleable__label sk-toggleable__label-arrow\">featureunion-3: FeatureUnion</label><div class=\"sk-toggleable__content\"><pre>FeatureUnion(transformer_list=[(&#x27;passthrough&#x27;,\n",
       "                                FunctionTransformer(feature_names_out=&#x27;one-to-one&#x27;)),\n",
       "                               (&#x27;neighborhoodscores&#x27;, NeighborhoodScores())])</pre></div></div></div><div class=\"sk-parallel\"><div class=\"sk-parallel-item\"><div class=\"sk-item\"><div class=\"sk-label-container\"><div class=\"sk-label sk-toggleable\"><label>passthrough</label></div></div><div class=\"sk-serial\"><div class=\"sk-item\"><div class=\"sk-estimator sk-toggleable\"><input class=\"sk-toggleable__control sk-hidden--visually\" id=\"sk-estimator-id-45\" type=\"checkbox\" ><label for=\"sk-estimator-id-45\" class=\"sk-toggleable__label sk-toggleable__label-arrow\">FunctionTransformer</label><div class=\"sk-toggleable__content\"><pre>FunctionTransformer(feature_names_out=&#x27;one-to-one&#x27;)</pre></div></div></div></div></div></div><div class=\"sk-parallel-item\"><div class=\"sk-item\"><div class=\"sk-label-container\"><div class=\"sk-label sk-toggleable\"><label>neighborhoodscores</label></div></div><div class=\"sk-serial\"><div class=\"sk-item\"><div class=\"sk-estimator sk-toggleable\"><input class=\"sk-toggleable__control sk-hidden--visually\" id=\"sk-estimator-id-46\" type=\"checkbox\" ><label for=\"sk-estimator-id-46\" class=\"sk-toggleable__label sk-toggleable__label-arrow\">NeighborhoodScores</label><div class=\"sk-toggleable__content\"><pre>NeighborhoodScores()</pre></div></div></div></div></div></div></div></div><div class=\"sk-item sk-dashed-wrapped\"><div class=\"sk-label-container\"><div class=\"sk-label sk-toggleable\"><input class=\"sk-toggleable__control sk-hidden--visually\" id=\"sk-estimator-id-47\" type=\"checkbox\" ><label for=\"sk-estimator-id-47\" class=\"sk-toggleable__label sk-toggleable__label-arrow\">featureunion-4: FeatureUnion</label><div class=\"sk-toggleable__content\"><pre>FeatureUnion(transformer_list=[(&#x27;passthrough&#x27;,\n",
       "                                FunctionTransformer(feature_names_out=&#x27;one-to-one&#x27;)),\n",
       "                               (&#x27;functiontransformer&#x27;,\n",
       "                                FunctionTransformer(func=&lt;function add_number_of_features at 0x7fe7d5fae440&gt;))])</pre></div></div></div><div class=\"sk-parallel\"><div class=\"sk-parallel-item\"><div class=\"sk-item\"><div class=\"sk-label-container\"><div class=\"sk-label sk-toggleable\"><label>passthrough</label></div></div><div class=\"sk-serial\"><div class=\"sk-item\"><div class=\"sk-estimator sk-toggleable\"><input class=\"sk-toggleable__control sk-hidden--visually\" id=\"sk-estimator-id-48\" type=\"checkbox\" ><label for=\"sk-estimator-id-48\" class=\"sk-toggleable__label sk-toggleable__label-arrow\">FunctionTransformer</label><div class=\"sk-toggleable__content\"><pre>FunctionTransformer(feature_names_out=&#x27;one-to-one&#x27;)</pre></div></div></div></div></div></div><div class=\"sk-parallel-item\"><div class=\"sk-item\"><div class=\"sk-label-container\"><div class=\"sk-label sk-toggleable\"><label>functiontransformer</label></div></div><div class=\"sk-serial\"><div class=\"sk-item\"><div class=\"sk-estimator sk-toggleable\"><input class=\"sk-toggleable__control sk-hidden--visually\" id=\"sk-estimator-id-49\" type=\"checkbox\" ><label for=\"sk-estimator-id-49\" class=\"sk-toggleable__label sk-toggleable__label-arrow\">FunctionTransformer</label><div class=\"sk-toggleable__content\"><pre>FunctionTransformer(func=&lt;function add_number_of_features at 0x7fe7d5fae440&gt;)</pre></div></div></div></div></div></div></div></div><div class=\"sk-item\"><div class=\"sk-estimator sk-toggleable\"><input class=\"sk-toggleable__control sk-hidden--visually\" id=\"sk-estimator-id-50\" type=\"checkbox\" ><label for=\"sk-estimator-id-50\" class=\"sk-toggleable__label sk-toggleable__label-arrow\">FunctionTransformer</label><div class=\"sk-toggleable__content\"><pre>FunctionTransformer(func=&lt;function &lt;lambda&gt; at 0x7fe7d5fae320&gt;)</pre></div></div></div><div class=\"sk-item sk-dashed-wrapped\"><div class=\"sk-label-container\"><div class=\"sk-label sk-toggleable\"><input class=\"sk-toggleable__control sk-hidden--visually\" id=\"sk-estimator-id-51\" type=\"checkbox\" ><label for=\"sk-estimator-id-51\" class=\"sk-toggleable__label sk-toggleable__label-arrow\">columntransformer-2: ColumnTransformer</label><div class=\"sk-toggleable__content\"><pre>ColumnTransformer(remainder=MinMaxScaler(),\n",
       "                  transformers=[(&#x27;onehotencoder&#x27;,\n",
       "                                 OneHotEncoder(sparse_output=False),\n",
       "                                 [&#x27;property_type&#x27;]),\n",
       "                                (&#x27;standardscaler&#x27;, StandardScaler(),\n",
       "                                 [&#x27;usable_area&#x27;,\n",
       "                                  &#x27;neighborhood_general_tax_score&#x27;])],\n",
       "                  verbose_feature_names_out=False)</pre></div></div></div><div class=\"sk-parallel\"><div class=\"sk-parallel-item\"><div class=\"sk-item\"><div class=\"sk-label-container\"><div class=\"sk-label sk-toggleable\"><input class=\"sk-toggleable__control sk-hidden--visually\" id=\"sk-estimator-id-52\" type=\"checkbox\" ><label for=\"sk-estimator-id-52\" class=\"sk-toggleable__label sk-toggleable__label-arrow\">onehotencoder</label><div class=\"sk-toggleable__content\"><pre>[&#x27;property_type&#x27;]</pre></div></div></div><div class=\"sk-serial\"><div class=\"sk-item\"><div class=\"sk-estimator sk-toggleable\"><input class=\"sk-toggleable__control sk-hidden--visually\" id=\"sk-estimator-id-53\" type=\"checkbox\" ><label for=\"sk-estimator-id-53\" class=\"sk-toggleable__label sk-toggleable__label-arrow\">OneHotEncoder</label><div class=\"sk-toggleable__content\"><pre>OneHotEncoder(sparse_output=False)</pre></div></div></div></div></div></div><div class=\"sk-parallel-item\"><div class=\"sk-item\"><div class=\"sk-label-container\"><div class=\"sk-label sk-toggleable\"><input class=\"sk-toggleable__control sk-hidden--visually\" id=\"sk-estimator-id-54\" type=\"checkbox\" ><label for=\"sk-estimator-id-54\" class=\"sk-toggleable__label sk-toggleable__label-arrow\">standardscaler</label><div class=\"sk-toggleable__content\"><pre>[&#x27;usable_area&#x27;, &#x27;neighborhood_general_tax_score&#x27;]</pre></div></div></div><div class=\"sk-serial\"><div class=\"sk-item\"><div class=\"sk-estimator sk-toggleable\"><input class=\"sk-toggleable__control sk-hidden--visually\" id=\"sk-estimator-id-55\" type=\"checkbox\" ><label for=\"sk-estimator-id-55\" class=\"sk-toggleable__label sk-toggleable__label-arrow\">StandardScaler</label><div class=\"sk-toggleable__content\"><pre>StandardScaler()</pre></div></div></div></div></div></div><div class=\"sk-parallel-item\"><div class=\"sk-item\"><div class=\"sk-label-container\"><div class=\"sk-label sk-toggleable\"><input class=\"sk-toggleable__control sk-hidden--visually\" id=\"sk-estimator-id-56\" type=\"checkbox\" ><label for=\"sk-estimator-id-56\" class=\"sk-toggleable__label sk-toggleable__label-arrow\">remainder</label><div class=\"sk-toggleable__content\"><pre>[&#x27;suites&#x27;, &#x27;parking_spots&#x27;, &#x27;bedrooms&#x27;, &#x27;bathrooms&#x27;, &#x27;has_suites&#x27;, &#x27;has_parking_spots&#x27;, &#x27;has_bedrooms&#x27;, &#x27;has_bathrooms&#x27;, &#x27;n_features&#x27;]</pre></div></div></div><div class=\"sk-serial\"><div class=\"sk-item\"><div class=\"sk-estimator sk-toggleable\"><input class=\"sk-toggleable__control sk-hidden--visually\" id=\"sk-estimator-id-57\" type=\"checkbox\" ><label for=\"sk-estimator-id-57\" class=\"sk-toggleable__label sk-toggleable__label-arrow\">MinMaxScaler</label><div class=\"sk-toggleable__content\"><pre>MinMaxScaler()</pre></div></div></div></div></div></div></div></div></div></div></div></div>"
      ],
      "text/plain": [
       "Pipeline(steps=[('columntransformer-1',\n",
       "                 ColumnTransformer(remainder='passthrough',\n",
       "                                   transformers=[('simpleimputer-1',\n",
       "                                                  SimpleImputer(fill_value=0.0),\n",
       "                                                  ['condominium_fee', 'suites',\n",
       "                                                   'parking_spots', 'bedrooms',\n",
       "                                                   'bathrooms']),\n",
       "                                                 ('simpleimputer-2',\n",
       "                                                  SimpleImputer(),\n",
       "                                                  ['annual_iptu_tax',\n",
       "                                                   'usable_area'])],\n",
       "                                   verbose_feature_names_out=False)),\n",
       "                ('featureunion-1',\n",
       "                 FeatureUnion(t...\n",
       "                ('functiontransformer',\n",
       "                 FunctionTransformer(func=<function <lambda> at 0x7fe7d5fae320>)),\n",
       "                ('columntransformer-2',\n",
       "                 ColumnTransformer(remainder=MinMaxScaler(),\n",
       "                                   transformers=[('onehotencoder',\n",
       "                                                  OneHotEncoder(sparse_output=False),\n",
       "                                                  ['property_type']),\n",
       "                                                 ('standardscaler',\n",
       "                                                  StandardScaler(),\n",
       "                                                  ['usable_area',\n",
       "                                                   'neighborhood_general_tax_score'])],\n",
       "                                   verbose_feature_names_out=False))])"
      ]
     },
     "execution_count": 14,
     "metadata": {},
     "output_type": "execute_result"
    }
   ],
   "source": [
    "preprocessing_pipeline_path = P.join(\n",
    "    artifacts_root_dir, \"preprocessing_pipeline.pickle\"\n",
    ")\n",
    "\n",
    "with open(preprocessing_pipeline_path, \"rb\") as f:\n",
    "    preprocessing_pipeline = pickle.load(f)\n",
    "\n",
    "preprocessing_pipeline"
   ]
  },
  {
   "cell_type": "code",
   "execution_count": 15,
   "metadata": {},
   "outputs": [
    {
     "data": {
      "text/html": [
       "<style>#sk-container-id-4 {color: black;}#sk-container-id-4 pre{padding: 0;}#sk-container-id-4 div.sk-toggleable {background-color: white;}#sk-container-id-4 label.sk-toggleable__label {cursor: pointer;display: block;width: 100%;margin-bottom: 0;padding: 0.3em;box-sizing: border-box;text-align: center;}#sk-container-id-4 label.sk-toggleable__label-arrow:before {content: \"▸\";float: left;margin-right: 0.25em;color: #696969;}#sk-container-id-4 label.sk-toggleable__label-arrow:hover:before {color: black;}#sk-container-id-4 div.sk-estimator:hover label.sk-toggleable__label-arrow:before {color: black;}#sk-container-id-4 div.sk-toggleable__content {max-height: 0;max-width: 0;overflow: hidden;text-align: left;background-color: #f0f8ff;}#sk-container-id-4 div.sk-toggleable__content pre {margin: 0.2em;color: black;border-radius: 0.25em;background-color: #f0f8ff;}#sk-container-id-4 input.sk-toggleable__control:checked~div.sk-toggleable__content {max-height: 200px;max-width: 100%;overflow: auto;}#sk-container-id-4 input.sk-toggleable__control:checked~label.sk-toggleable__label-arrow:before {content: \"▾\";}#sk-container-id-4 div.sk-estimator input.sk-toggleable__control:checked~label.sk-toggleable__label {background-color: #d4ebff;}#sk-container-id-4 div.sk-label input.sk-toggleable__control:checked~label.sk-toggleable__label {background-color: #d4ebff;}#sk-container-id-4 input.sk-hidden--visually {border: 0;clip: rect(1px 1px 1px 1px);clip: rect(1px, 1px, 1px, 1px);height: 1px;margin: -1px;overflow: hidden;padding: 0;position: absolute;width: 1px;}#sk-container-id-4 div.sk-estimator {font-family: monospace;background-color: #f0f8ff;border: 1px dotted black;border-radius: 0.25em;box-sizing: border-box;margin-bottom: 0.5em;}#sk-container-id-4 div.sk-estimator:hover {background-color: #d4ebff;}#sk-container-id-4 div.sk-parallel-item::after {content: \"\";width: 100%;border-bottom: 1px solid gray;flex-grow: 1;}#sk-container-id-4 div.sk-label:hover label.sk-toggleable__label {background-color: #d4ebff;}#sk-container-id-4 div.sk-serial::before {content: \"\";position: absolute;border-left: 1px solid gray;box-sizing: border-box;top: 0;bottom: 0;left: 50%;z-index: 0;}#sk-container-id-4 div.sk-serial {display: flex;flex-direction: column;align-items: center;background-color: white;padding-right: 0.2em;padding-left: 0.2em;position: relative;}#sk-container-id-4 div.sk-item {position: relative;z-index: 1;}#sk-container-id-4 div.sk-parallel {display: flex;align-items: stretch;justify-content: center;background-color: white;position: relative;}#sk-container-id-4 div.sk-item::before, #sk-container-id-4 div.sk-parallel-item::before {content: \"\";position: absolute;border-left: 1px solid gray;box-sizing: border-box;top: 0;bottom: 0;left: 50%;z-index: -1;}#sk-container-id-4 div.sk-parallel-item {display: flex;flex-direction: column;z-index: 1;position: relative;background-color: white;}#sk-container-id-4 div.sk-parallel-item:first-child::after {align-self: flex-end;width: 50%;}#sk-container-id-4 div.sk-parallel-item:last-child::after {align-self: flex-start;width: 50%;}#sk-container-id-4 div.sk-parallel-item:only-child::after {width: 0;}#sk-container-id-4 div.sk-dashed-wrapped {border: 1px dashed gray;margin: 0 0.4em 0.5em 0.4em;box-sizing: border-box;padding-bottom: 0.4em;background-color: white;}#sk-container-id-4 div.sk-label label {font-family: monospace;font-weight: bold;display: inline-block;line-height: 1.2em;}#sk-container-id-4 div.sk-label-container {text-align: center;}#sk-container-id-4 div.sk-container {/* jupyter's `normalize.less` sets `[hidden] { display: none; }` but bootstrap.min.css set `[hidden] { display: none !important; }` so we also need the `!important` here to be able to override the default hidden behavior on the sphinx rendered scikit-learn.org. See: https://github.com/scikit-learn/scikit-learn/issues/21755 */display: inline-block !important;position: relative;}#sk-container-id-4 div.sk-text-repr-fallback {display: none;}</style><div id=\"sk-container-id-4\" class=\"sk-top-container\"><div class=\"sk-text-repr-fallback\"><pre>FunctionTransformer(func=&lt;ufunc &#x27;log&#x27;&gt;, inverse_func=&lt;ufunc &#x27;exp&#x27;&gt;)</pre><b>In a Jupyter environment, please rerun this cell to show the HTML representation or trust the notebook. <br />On GitHub, the HTML representation is unable to render, please try loading this page with nbviewer.org.</b></div><div class=\"sk-container\" hidden><div class=\"sk-item\"><div class=\"sk-estimator sk-toggleable\"><input class=\"sk-toggleable__control sk-hidden--visually\" id=\"sk-estimator-id-58\" type=\"checkbox\" checked><label for=\"sk-estimator-id-58\" class=\"sk-toggleable__label sk-toggleable__label-arrow\">FunctionTransformer</label><div class=\"sk-toggleable__content\"><pre>FunctionTransformer(func=&lt;ufunc &#x27;log&#x27;&gt;, inverse_func=&lt;ufunc &#x27;exp&#x27;&gt;)</pre></div></div></div></div></div>"
      ],
      "text/plain": [
       "FunctionTransformer(func=<ufunc 'log'>, inverse_func=<ufunc 'exp'>)"
      ]
     },
     "execution_count": 15,
     "metadata": {},
     "output_type": "execute_result"
    }
   ],
   "source": [
    "target_transform_path = P.join(artifacts_root_dir, \"target_transform.pickle\")\n",
    "\n",
    "with open(target_transform_path, \"rb\") as f:\n",
    "    target_transform = pickle.load(f)\n",
    "\n",
    "target_transform\n"
   ]
  },
  {
   "cell_type": "markdown",
   "metadata": {},
   "source": [
    "## Dataset\n",
    "\n",
    "Let's also load the dataset\n"
   ]
  },
  {
   "cell_type": "code",
   "execution_count": 16,
   "metadata": {},
   "outputs": [],
   "source": [
    "preprocessed_dataset_root_dir = P.join(P.dirname(P.abspath(\"\")), \"data\", \"processed\")\n"
   ]
  },
  {
   "cell_type": "code",
   "execution_count": 17,
   "metadata": {},
   "outputs": [
    {
     "data": {
      "text/html": [
       "<div>\n",
       "<style scoped>\n",
       "    .dataframe tbody tr th:only-of-type {\n",
       "        vertical-align: middle;\n",
       "    }\n",
       "\n",
       "    .dataframe tbody tr th {\n",
       "        vertical-align: top;\n",
       "    }\n",
       "\n",
       "    .dataframe thead th {\n",
       "        text-align: right;\n",
       "    }\n",
       "</style>\n",
       "<table border=\"1\" class=\"dataframe\">\n",
       "  <thead>\n",
       "    <tr style=\"text-align: right;\">\n",
       "      <th></th>\n",
       "      <th>neighborhood</th>\n",
       "      <th>property_type</th>\n",
       "      <th>usable_area</th>\n",
       "      <th>bathrooms</th>\n",
       "      <th>suites</th>\n",
       "      <th>bedrooms</th>\n",
       "      <th>parking_spots</th>\n",
       "      <th>ad_date</th>\n",
       "      <th>condominium_fee</th>\n",
       "      <th>annual_iptu_tax</th>\n",
       "    </tr>\n",
       "  </thead>\n",
       "  <tbody>\n",
       "    <tr>\n",
       "      <th>0</th>\n",
       "      <td>Jardim da Saude</td>\n",
       "      <td>Two-story House</td>\n",
       "      <td>388.0</td>\n",
       "      <td>3.0</td>\n",
       "      <td>1.0</td>\n",
       "      <td>4.0</td>\n",
       "      <td>6.0</td>\n",
       "      <td>2017-02-07</td>\n",
       "      <td>NaN</td>\n",
       "      <td>NaN</td>\n",
       "    </tr>\n",
       "    <tr>\n",
       "      <th>1</th>\n",
       "      <td>Vila Santa Teresa (Zona Sul)</td>\n",
       "      <td>House</td>\n",
       "      <td>129.0</td>\n",
       "      <td>2.0</td>\n",
       "      <td>1.0</td>\n",
       "      <td>3.0</td>\n",
       "      <td>2.0</td>\n",
       "      <td>2016-03-21</td>\n",
       "      <td>NaN</td>\n",
       "      <td>NaN</td>\n",
       "    </tr>\n",
       "    <tr>\n",
       "      <th>2</th>\n",
       "      <td>Vila Olimpia</td>\n",
       "      <td>Apartament</td>\n",
       "      <td>80.0</td>\n",
       "      <td>2.0</td>\n",
       "      <td>1.0</td>\n",
       "      <td>3.0</td>\n",
       "      <td>2.0</td>\n",
       "      <td>2018-10-26</td>\n",
       "      <td>686.0</td>\n",
       "      <td>1610.0</td>\n",
       "    </tr>\n",
       "    <tr>\n",
       "      <th>3</th>\n",
       "      <td>Pinheiros</td>\n",
       "      <td>Apartament</td>\n",
       "      <td>94.0</td>\n",
       "      <td>1.0</td>\n",
       "      <td>0.0</td>\n",
       "      <td>3.0</td>\n",
       "      <td>2.0</td>\n",
       "      <td>2018-05-29</td>\n",
       "      <td>1120.0</td>\n",
       "      <td>489.0</td>\n",
       "    </tr>\n",
       "    <tr>\n",
       "      <th>4</th>\n",
       "      <td>Vila Santa Clara</td>\n",
       "      <td>Condominium</td>\n",
       "      <td>110.0</td>\n",
       "      <td>1.0</td>\n",
       "      <td>1.0</td>\n",
       "      <td>3.0</td>\n",
       "      <td>2.0</td>\n",
       "      <td>2018-04-16</td>\n",
       "      <td>0.0</td>\n",
       "      <td>0.0</td>\n",
       "    </tr>\n",
       "    <tr>\n",
       "      <th>...</th>\n",
       "      <td>...</td>\n",
       "      <td>...</td>\n",
       "      <td>...</td>\n",
       "      <td>...</td>\n",
       "      <td>...</td>\n",
       "      <td>...</td>\n",
       "      <td>...</td>\n",
       "      <td>...</td>\n",
       "      <td>...</td>\n",
       "      <td>...</td>\n",
       "    </tr>\n",
       "    <tr>\n",
       "      <th>88742</th>\n",
       "      <td>Vila Carmosina</td>\n",
       "      <td>Apartament</td>\n",
       "      <td>48.0</td>\n",
       "      <td>1.0</td>\n",
       "      <td>0.0</td>\n",
       "      <td>2.0</td>\n",
       "      <td>1.0</td>\n",
       "      <td>2017-10-07</td>\n",
       "      <td>244.0</td>\n",
       "      <td>0.0</td>\n",
       "    </tr>\n",
       "    <tr>\n",
       "      <th>88743</th>\n",
       "      <td>Bela Vista</td>\n",
       "      <td>Apartament</td>\n",
       "      <td>60.0</td>\n",
       "      <td>1.0</td>\n",
       "      <td>NaN</td>\n",
       "      <td>1.0</td>\n",
       "      <td>1.0</td>\n",
       "      <td>2017-12-13</td>\n",
       "      <td>273.0</td>\n",
       "      <td>86.0</td>\n",
       "    </tr>\n",
       "    <tr>\n",
       "      <th>88744</th>\n",
       "      <td>Liberdade</td>\n",
       "      <td>Apartament</td>\n",
       "      <td>53.0</td>\n",
       "      <td>2.0</td>\n",
       "      <td>1.0</td>\n",
       "      <td>2.0</td>\n",
       "      <td>1.0</td>\n",
       "      <td>2018-11-28</td>\n",
       "      <td>210.0</td>\n",
       "      <td>0.0</td>\n",
       "    </tr>\n",
       "    <tr>\n",
       "      <th>88745</th>\n",
       "      <td>Vila Lageado</td>\n",
       "      <td>Apartament</td>\n",
       "      <td>20.0</td>\n",
       "      <td>3.0</td>\n",
       "      <td>2.0</td>\n",
       "      <td>3.0</td>\n",
       "      <td>2.0</td>\n",
       "      <td>2019-02-06</td>\n",
       "      <td>NaN</td>\n",
       "      <td>NaN</td>\n",
       "    </tr>\n",
       "    <tr>\n",
       "      <th>88746</th>\n",
       "      <td>Alto de Pinheiros</td>\n",
       "      <td>Two-story House</td>\n",
       "      <td>357.0</td>\n",
       "      <td>4.0</td>\n",
       "      <td>1.0</td>\n",
       "      <td>4.0</td>\n",
       "      <td>4.0</td>\n",
       "      <td>2018-04-14</td>\n",
       "      <td>0.0</td>\n",
       "      <td>665.0</td>\n",
       "    </tr>\n",
       "  </tbody>\n",
       "</table>\n",
       "<p>88747 rows × 10 columns</p>\n",
       "</div>"
      ],
      "text/plain": [
       "                       neighborhood    property_type  usable_area  bathrooms  \\\n",
       "0                   Jardim da Saude  Two-story House        388.0        3.0   \n",
       "1      Vila Santa Teresa (Zona Sul)            House        129.0        2.0   \n",
       "2                      Vila Olimpia       Apartament         80.0        2.0   \n",
       "3                         Pinheiros       Apartament         94.0        1.0   \n",
       "4                  Vila Santa Clara      Condominium        110.0        1.0   \n",
       "...                             ...              ...          ...        ...   \n",
       "88742                Vila Carmosina       Apartament         48.0        1.0   \n",
       "88743                    Bela Vista       Apartament         60.0        1.0   \n",
       "88744                     Liberdade       Apartament         53.0        2.0   \n",
       "88745                  Vila Lageado       Apartament         20.0        3.0   \n",
       "88746             Alto de Pinheiros  Two-story House        357.0        4.0   \n",
       "\n",
       "       suites  bedrooms  parking_spots    ad_date  condominium_fee  \\\n",
       "0         1.0       4.0            6.0 2017-02-07              NaN   \n",
       "1         1.0       3.0            2.0 2016-03-21              NaN   \n",
       "2         1.0       3.0            2.0 2018-10-26            686.0   \n",
       "3         0.0       3.0            2.0 2018-05-29           1120.0   \n",
       "4         1.0       3.0            2.0 2018-04-16              0.0   \n",
       "...       ...       ...            ...        ...              ...   \n",
       "88742     0.0       2.0            1.0 2017-10-07            244.0   \n",
       "88743     NaN       1.0            1.0 2017-12-13            273.0   \n",
       "88744     1.0       2.0            1.0 2018-11-28            210.0   \n",
       "88745     2.0       3.0            2.0 2019-02-06              NaN   \n",
       "88746     1.0       4.0            4.0 2018-04-14              0.0   \n",
       "\n",
       "       annual_iptu_tax  \n",
       "0                  NaN  \n",
       "1                  NaN  \n",
       "2               1610.0  \n",
       "3                489.0  \n",
       "4                  0.0  \n",
       "...                ...  \n",
       "88742              0.0  \n",
       "88743             86.0  \n",
       "88744              0.0  \n",
       "88745              NaN  \n",
       "88746            665.0  \n",
       "\n",
       "[88747 rows x 10 columns]"
      ]
     },
     "metadata": {},
     "output_type": "display_data"
    },
    {
     "data": {
      "text/plain": [
       "0         700000\n",
       "1         336000\n",
       "2         739643\n",
       "3         630700\n",
       "4         385000\n",
       "          ...   \n",
       "88742     171150\n",
       "88743     251999\n",
       "88744     249782\n",
       "88745     623000\n",
       "88746    1820000\n",
       "Name: sale_price, Length: 88747, dtype: int64"
      ]
     },
     "metadata": {},
     "output_type": "display_data"
    }
   ],
   "source": [
    "df_file = P.join(preprocessed_dataset_root_dir, \"sp_sales_data.parquet\")\n",
    "\n",
    "features = pd.read_parquet(df_file)\n",
    "target = features.pop(\"sale_price\")\n",
    "\n",
    "display(features)\n",
    "display(target)\n"
   ]
  },
  {
   "cell_type": "markdown",
   "metadata": {},
   "source": [
    "Let's also apply the data transformation pipeline.\n"
   ]
  },
  {
   "cell_type": "code",
   "execution_count": 18,
   "metadata": {},
   "outputs": [
    {
     "data": {
      "text/html": [
       "<div>\n",
       "<style scoped>\n",
       "    .dataframe tbody tr th:only-of-type {\n",
       "        vertical-align: middle;\n",
       "    }\n",
       "\n",
       "    .dataframe tbody tr th {\n",
       "        vertical-align: top;\n",
       "    }\n",
       "\n",
       "    .dataframe thead th {\n",
       "        text-align: right;\n",
       "    }\n",
       "</style>\n",
       "<table border=\"1\" class=\"dataframe\">\n",
       "  <thead>\n",
       "    <tr style=\"text-align: right;\">\n",
       "      <th></th>\n",
       "      <th>property_type_Apartament</th>\n",
       "      <th>property_type_Condominium</th>\n",
       "      <th>property_type_Flat</th>\n",
       "      <th>property_type_House</th>\n",
       "      <th>property_type_Penthouse</th>\n",
       "      <th>property_type_Residential Building</th>\n",
       "      <th>property_type_Studio Apartament</th>\n",
       "      <th>property_type_Two-story House</th>\n",
       "      <th>usable_area</th>\n",
       "      <th>neighborhood_general_tax_score</th>\n",
       "      <th>suites</th>\n",
       "      <th>parking_spots</th>\n",
       "      <th>bedrooms</th>\n",
       "      <th>bathrooms</th>\n",
       "      <th>has_suites</th>\n",
       "      <th>has_parking_spots</th>\n",
       "      <th>has_bedrooms</th>\n",
       "      <th>has_bathrooms</th>\n",
       "      <th>n_features</th>\n",
       "    </tr>\n",
       "  </thead>\n",
       "  <tbody>\n",
       "    <tr>\n",
       "      <th>0</th>\n",
       "      <td>0.0</td>\n",
       "      <td>0.0</td>\n",
       "      <td>0.0</td>\n",
       "      <td>0.0</td>\n",
       "      <td>0.0</td>\n",
       "      <td>0.0</td>\n",
       "      <td>0.0</td>\n",
       "      <td>1.0</td>\n",
       "      <td>4.039322</td>\n",
       "      <td>3.167133</td>\n",
       "      <td>0.166667</td>\n",
       "      <td>0.857143</td>\n",
       "      <td>0.8</td>\n",
       "      <td>0.428571</td>\n",
       "      <td>1.0</td>\n",
       "      <td>1.0</td>\n",
       "      <td>1.0</td>\n",
       "      <td>1.0</td>\n",
       "      <td>1.00</td>\n",
       "    </tr>\n",
       "    <tr>\n",
       "      <th>1</th>\n",
       "      <td>0.0</td>\n",
       "      <td>0.0</td>\n",
       "      <td>0.0</td>\n",
       "      <td>1.0</td>\n",
       "      <td>0.0</td>\n",
       "      <td>0.0</td>\n",
       "      <td>0.0</td>\n",
       "      <td>0.0</td>\n",
       "      <td>0.229577</td>\n",
       "      <td>-0.203310</td>\n",
       "      <td>0.166667</td>\n",
       "      <td>0.285714</td>\n",
       "      <td>0.6</td>\n",
       "      <td>0.285714</td>\n",
       "      <td>1.0</td>\n",
       "      <td>1.0</td>\n",
       "      <td>1.0</td>\n",
       "      <td>1.0</td>\n",
       "      <td>1.00</td>\n",
       "    </tr>\n",
       "    <tr>\n",
       "      <th>2</th>\n",
       "      <td>1.0</td>\n",
       "      <td>0.0</td>\n",
       "      <td>0.0</td>\n",
       "      <td>0.0</td>\n",
       "      <td>0.0</td>\n",
       "      <td>0.0</td>\n",
       "      <td>0.0</td>\n",
       "      <td>0.0</td>\n",
       "      <td>-0.491186</td>\n",
       "      <td>0.996450</td>\n",
       "      <td>0.166667</td>\n",
       "      <td>0.285714</td>\n",
       "      <td>0.6</td>\n",
       "      <td>0.285714</td>\n",
       "      <td>1.0</td>\n",
       "      <td>1.0</td>\n",
       "      <td>1.0</td>\n",
       "      <td>1.0</td>\n",
       "      <td>1.00</td>\n",
       "    </tr>\n",
       "    <tr>\n",
       "      <th>3</th>\n",
       "      <td>1.0</td>\n",
       "      <td>0.0</td>\n",
       "      <td>0.0</td>\n",
       "      <td>0.0</td>\n",
       "      <td>0.0</td>\n",
       "      <td>0.0</td>\n",
       "      <td>0.0</td>\n",
       "      <td>0.0</td>\n",
       "      <td>-0.285254</td>\n",
       "      <td>0.605658</td>\n",
       "      <td>0.000000</td>\n",
       "      <td>0.285714</td>\n",
       "      <td>0.6</td>\n",
       "      <td>0.142857</td>\n",
       "      <td>0.0</td>\n",
       "      <td>1.0</td>\n",
       "      <td>1.0</td>\n",
       "      <td>1.0</td>\n",
       "      <td>0.75</td>\n",
       "    </tr>\n",
       "    <tr>\n",
       "      <th>4</th>\n",
       "      <td>0.0</td>\n",
       "      <td>1.0</td>\n",
       "      <td>0.0</td>\n",
       "      <td>0.0</td>\n",
       "      <td>0.0</td>\n",
       "      <td>0.0</td>\n",
       "      <td>0.0</td>\n",
       "      <td>0.0</td>\n",
       "      <td>-0.049903</td>\n",
       "      <td>-0.336893</td>\n",
       "      <td>0.166667</td>\n",
       "      <td>0.285714</td>\n",
       "      <td>0.6</td>\n",
       "      <td>0.142857</td>\n",
       "      <td>1.0</td>\n",
       "      <td>1.0</td>\n",
       "      <td>1.0</td>\n",
       "      <td>1.0</td>\n",
       "      <td>1.00</td>\n",
       "    </tr>\n",
       "    <tr>\n",
       "      <th>...</th>\n",
       "      <td>...</td>\n",
       "      <td>...</td>\n",
       "      <td>...</td>\n",
       "      <td>...</td>\n",
       "      <td>...</td>\n",
       "      <td>...</td>\n",
       "      <td>...</td>\n",
       "      <td>...</td>\n",
       "      <td>...</td>\n",
       "      <td>...</td>\n",
       "      <td>...</td>\n",
       "      <td>...</td>\n",
       "      <td>...</td>\n",
       "      <td>...</td>\n",
       "      <td>...</td>\n",
       "      <td>...</td>\n",
       "      <td>...</td>\n",
       "      <td>...</td>\n",
       "      <td>...</td>\n",
       "    </tr>\n",
       "    <tr>\n",
       "      <th>88742</th>\n",
       "      <td>1.0</td>\n",
       "      <td>0.0</td>\n",
       "      <td>0.0</td>\n",
       "      <td>0.0</td>\n",
       "      <td>0.0</td>\n",
       "      <td>0.0</td>\n",
       "      <td>0.0</td>\n",
       "      <td>0.0</td>\n",
       "      <td>-0.961888</td>\n",
       "      <td>-0.350581</td>\n",
       "      <td>0.000000</td>\n",
       "      <td>0.142857</td>\n",
       "      <td>0.4</td>\n",
       "      <td>0.142857</td>\n",
       "      <td>0.0</td>\n",
       "      <td>1.0</td>\n",
       "      <td>1.0</td>\n",
       "      <td>1.0</td>\n",
       "      <td>0.75</td>\n",
       "    </tr>\n",
       "    <tr>\n",
       "      <th>88743</th>\n",
       "      <td>1.0</td>\n",
       "      <td>0.0</td>\n",
       "      <td>0.0</td>\n",
       "      <td>0.0</td>\n",
       "      <td>0.0</td>\n",
       "      <td>0.0</td>\n",
       "      <td>0.0</td>\n",
       "      <td>0.0</td>\n",
       "      <td>-0.785375</td>\n",
       "      <td>-0.147720</td>\n",
       "      <td>0.177136</td>\n",
       "      <td>0.142857</td>\n",
       "      <td>0.2</td>\n",
       "      <td>0.142857</td>\n",
       "      <td>1.0</td>\n",
       "      <td>1.0</td>\n",
       "      <td>1.0</td>\n",
       "      <td>1.0</td>\n",
       "      <td>1.00</td>\n",
       "    </tr>\n",
       "    <tr>\n",
       "      <th>88744</th>\n",
       "      <td>1.0</td>\n",
       "      <td>0.0</td>\n",
       "      <td>0.0</td>\n",
       "      <td>0.0</td>\n",
       "      <td>0.0</td>\n",
       "      <td>0.0</td>\n",
       "      <td>0.0</td>\n",
       "      <td>0.0</td>\n",
       "      <td>-0.888341</td>\n",
       "      <td>-0.193948</td>\n",
       "      <td>0.166667</td>\n",
       "      <td>0.142857</td>\n",
       "      <td>0.4</td>\n",
       "      <td>0.285714</td>\n",
       "      <td>1.0</td>\n",
       "      <td>1.0</td>\n",
       "      <td>1.0</td>\n",
       "      <td>1.0</td>\n",
       "      <td>1.00</td>\n",
       "    </tr>\n",
       "    <tr>\n",
       "      <th>88745</th>\n",
       "      <td>1.0</td>\n",
       "      <td>0.0</td>\n",
       "      <td>0.0</td>\n",
       "      <td>0.0</td>\n",
       "      <td>0.0</td>\n",
       "      <td>0.0</td>\n",
       "      <td>0.0</td>\n",
       "      <td>0.0</td>\n",
       "      <td>-1.373752</td>\n",
       "      <td>-0.187093</td>\n",
       "      <td>0.333333</td>\n",
       "      <td>0.285714</td>\n",
       "      <td>0.6</td>\n",
       "      <td>0.428571</td>\n",
       "      <td>1.0</td>\n",
       "      <td>1.0</td>\n",
       "      <td>1.0</td>\n",
       "      <td>1.0</td>\n",
       "      <td>1.00</td>\n",
       "    </tr>\n",
       "    <tr>\n",
       "      <th>88746</th>\n",
       "      <td>0.0</td>\n",
       "      <td>0.0</td>\n",
       "      <td>0.0</td>\n",
       "      <td>0.0</td>\n",
       "      <td>0.0</td>\n",
       "      <td>0.0</td>\n",
       "      <td>0.0</td>\n",
       "      <td>1.0</td>\n",
       "      <td>3.583329</td>\n",
       "      <td>-0.266913</td>\n",
       "      <td>0.166667</td>\n",
       "      <td>0.571429</td>\n",
       "      <td>0.8</td>\n",
       "      <td>0.571429</td>\n",
       "      <td>1.0</td>\n",
       "      <td>1.0</td>\n",
       "      <td>1.0</td>\n",
       "      <td>1.0</td>\n",
       "      <td>1.00</td>\n",
       "    </tr>\n",
       "  </tbody>\n",
       "</table>\n",
       "<p>88747 rows × 19 columns</p>\n",
       "</div>"
      ],
      "text/plain": [
       "       property_type_Apartament  property_type_Condominium  \\\n",
       "0                           0.0                        0.0   \n",
       "1                           0.0                        0.0   \n",
       "2                           1.0                        0.0   \n",
       "3                           1.0                        0.0   \n",
       "4                           0.0                        1.0   \n",
       "...                         ...                        ...   \n",
       "88742                       1.0                        0.0   \n",
       "88743                       1.0                        0.0   \n",
       "88744                       1.0                        0.0   \n",
       "88745                       1.0                        0.0   \n",
       "88746                       0.0                        0.0   \n",
       "\n",
       "       property_type_Flat  property_type_House  property_type_Penthouse  \\\n",
       "0                     0.0                  0.0                      0.0   \n",
       "1                     0.0                  1.0                      0.0   \n",
       "2                     0.0                  0.0                      0.0   \n",
       "3                     0.0                  0.0                      0.0   \n",
       "4                     0.0                  0.0                      0.0   \n",
       "...                   ...                  ...                      ...   \n",
       "88742                 0.0                  0.0                      0.0   \n",
       "88743                 0.0                  0.0                      0.0   \n",
       "88744                 0.0                  0.0                      0.0   \n",
       "88745                 0.0                  0.0                      0.0   \n",
       "88746                 0.0                  0.0                      0.0   \n",
       "\n",
       "       property_type_Residential Building  property_type_Studio Apartament  \\\n",
       "0                                     0.0                              0.0   \n",
       "1                                     0.0                              0.0   \n",
       "2                                     0.0                              0.0   \n",
       "3                                     0.0                              0.0   \n",
       "4                                     0.0                              0.0   \n",
       "...                                   ...                              ...   \n",
       "88742                                 0.0                              0.0   \n",
       "88743                                 0.0                              0.0   \n",
       "88744                                 0.0                              0.0   \n",
       "88745                                 0.0                              0.0   \n",
       "88746                                 0.0                              0.0   \n",
       "\n",
       "       property_type_Two-story House  usable_area  \\\n",
       "0                                1.0     4.039322   \n",
       "1                                0.0     0.229577   \n",
       "2                                0.0    -0.491186   \n",
       "3                                0.0    -0.285254   \n",
       "4                                0.0    -0.049903   \n",
       "...                              ...          ...   \n",
       "88742                            0.0    -0.961888   \n",
       "88743                            0.0    -0.785375   \n",
       "88744                            0.0    -0.888341   \n",
       "88745                            0.0    -1.373752   \n",
       "88746                            1.0     3.583329   \n",
       "\n",
       "       neighborhood_general_tax_score    suites  parking_spots  bedrooms  \\\n",
       "0                            3.167133  0.166667       0.857143       0.8   \n",
       "1                           -0.203310  0.166667       0.285714       0.6   \n",
       "2                            0.996450  0.166667       0.285714       0.6   \n",
       "3                            0.605658  0.000000       0.285714       0.6   \n",
       "4                           -0.336893  0.166667       0.285714       0.6   \n",
       "...                               ...       ...            ...       ...   \n",
       "88742                       -0.350581  0.000000       0.142857       0.4   \n",
       "88743                       -0.147720  0.177136       0.142857       0.2   \n",
       "88744                       -0.193948  0.166667       0.142857       0.4   \n",
       "88745                       -0.187093  0.333333       0.285714       0.6   \n",
       "88746                       -0.266913  0.166667       0.571429       0.8   \n",
       "\n",
       "       bathrooms  has_suites  has_parking_spots  has_bedrooms  has_bathrooms  \\\n",
       "0       0.428571         1.0                1.0           1.0            1.0   \n",
       "1       0.285714         1.0                1.0           1.0            1.0   \n",
       "2       0.285714         1.0                1.0           1.0            1.0   \n",
       "3       0.142857         0.0                1.0           1.0            1.0   \n",
       "4       0.142857         1.0                1.0           1.0            1.0   \n",
       "...          ...         ...                ...           ...            ...   \n",
       "88742   0.142857         0.0                1.0           1.0            1.0   \n",
       "88743   0.142857         1.0                1.0           1.0            1.0   \n",
       "88744   0.285714         1.0                1.0           1.0            1.0   \n",
       "88745   0.428571         1.0                1.0           1.0            1.0   \n",
       "88746   0.571429         1.0                1.0           1.0            1.0   \n",
       "\n",
       "       n_features  \n",
       "0            1.00  \n",
       "1            1.00  \n",
       "2            1.00  \n",
       "3            0.75  \n",
       "4            1.00  \n",
       "...           ...  \n",
       "88742        0.75  \n",
       "88743        1.00  \n",
       "88744        1.00  \n",
       "88745        1.00  \n",
       "88746        1.00  \n",
       "\n",
       "[88747 rows x 19 columns]"
      ]
     },
     "metadata": {},
     "output_type": "display_data"
    },
    {
     "data": {
      "text/plain": [
       "0        13.458836\n",
       "1        12.724866\n",
       "2        13.513923\n",
       "3        13.354586\n",
       "4        12.860999\n",
       "           ...    \n",
       "88742    12.050296\n",
       "88743    12.437180\n",
       "88744    12.428344\n",
       "88745    13.342302\n",
       "88746    14.414347\n",
       "Name: sale_price, Length: 88747, dtype: float64"
      ]
     },
     "metadata": {},
     "output_type": "display_data"
    }
   ],
   "source": [
    "transformed_features = preprocessing_pipeline.transform(features)\n",
    "transformed_target = target_transform.transform(target)\n",
    "\n",
    "display(transformed_features)\n",
    "display(transformed_target)\n"
   ]
  },
  {
   "cell_type": "markdown",
   "metadata": {},
   "source": [
    "## Train/Test Split\n",
    "\n",
    "As in the last notebook, we'll split the data into train (80% of the original data) and test (20% of the original data) sets.\n"
   ]
  },
  {
   "cell_type": "code",
   "execution_count": 19,
   "metadata": {},
   "outputs": [
    {
     "name": "stdout",
     "output_type": "stream",
     "text": [
      "[(70997, 19), (17750, 19), (70997,), (17750,)]\n"
     ]
    }
   ],
   "source": [
    "X_train, X_test, y_train, y_test = train_test_split(\n",
    "    transformed_features, transformed_target, test_size=0.2, random_state=random_state\n",
    ")\n",
    "\n",
    "print([t.shape for t in (X_train, X_test, y_train, y_test)])\n"
   ]
  },
  {
   "cell_type": "markdown",
   "metadata": {},
   "source": [
    "# Hyperparameter Optimization with Optuna\n",
    "\n",
    "Optuna uses a technique called [Bayesian Optimization](https://en.wikipedia.org/wiki/Bayesian_optimization) to find the best parameters for you model. To put it simply, it **learns** the best parameters combinations by, first, computing the value of an **objective function** given some random combination of parameters and, by checking the variation of the objetive function, finding the best optimization path. It them computes some new random combinations of hyperparameters that are closer to an optimal objective function value. This process is repeated some times until some stop criteria is met.\n",
    "\n",
    "Usually, the **objective function** is the value of the evaluation metric (in our case, the Mean Squared Logarithmic Error) of our model trained with the given set of hyperparameters.\n",
    "\n",
    "Now, we'll find the best parameters for each of the models that compose the **voting classifier** that we've trained in the last notebook.\n"
   ]
  },
  {
   "cell_type": "markdown",
   "metadata": {},
   "source": [
    "## CatBoost Regressor\n",
    "\n",
    "First, we need to choose which hyperparameters we want to optimize. Here's a description of the hyperparameters that I've chosen.\n"
   ]
  },
  {
   "cell_type": "markdown",
   "metadata": {},
   "source": [
    "### Hyperparameters Descriptions\n",
    "\n",
    "- **Number of Trees** (`iterations`): The maximum number of trees that can be built within the model. Represents the steps (or rounds of refinement) the algorithm takes to create a more accurate model that learns from the data. We'll use a fixed number, as we'll be also tuning the `learning_rate`.\n",
    "- **Learning Rate** (`learning_rate`): Technically, is used for reducing the gradient step. In other words, it scales the contribution of each decision tree to manage the overall balance and accuracy of the model. A range of 0.02 to 0.7 is a good starting point.\n",
    "- **Tree Depth** (`depth`): Depth of the tree. You can think as the complexity or “height” of decision trees in your CatBoost model. We'll try out values between 8 and 10\n",
    "- **Subsample** (`subsample`): is a technique used to randomly choose a fraction of the dataset when constructing each tree, promoting diversity among the trees and helping to reduce overfitting. We'll from 0.9 to 1.0.\n",
    "- **Feature Sampling by Level** (`colsample_bylevel`): The percentage of features to use at each split selection. The idea is the same as with `subsample`, but this time, we’re sampling features instead of rows. We'll use values between 0.5 and 0.7.\n",
    "- **Minimum Data in Leaf** (`min_data_in_leaf`): The minimum number of training samples in a leaf, effectively controlling the split creation process. We'll go for values between 220 and 230.\n"
   ]
  },
  {
   "cell_type": "markdown",
   "metadata": {},
   "source": [
    "### Objective function\n",
    "\n",
    "With the hyperparameters and search space chosen, it's time to define the objective function.\n"
   ]
  },
  {
   "cell_type": "code",
   "execution_count": 30,
   "metadata": {},
   "outputs": [],
   "source": [
    "def catboost_objective(trial):\n",
    "    params = {\n",
    "        \"iterations\": trial.suggest_categorical(\"iterations\", [1750, 2000, 2250]),\n",
    "        \"learning_rate\": trial.suggest_float(\"learning_rate\", 0.1, 0.3, log=True),\n",
    "        \"depth\": trial.suggest_categorical(\"depth\", [7, 8, 9]),\n",
    "        \"subsample\": trial.suggest_float(\"subsample\", 0.75, 0.9),\n",
    "        \"colsample_bylevel\": trial.suggest_float(\"colsample_bylevel\", 0.85, 1.0),\n",
    "        \"min_data_in_leaf\": trial.suggest_int(\"min_data_in_leaf\", 100, 125),\n",
    "    }\n",
    "\n",
    "    model = CatBoostRegressor(\n",
    "        **params, silent=True, allow_writing_files=False, random_seed=random_state\n",
    "    )\n",
    "\n",
    "    scorer = make_scorer(mean_squared_error)\n",
    "    scores = cross_val_score(model, X_train, y_train, cv=5, scoring=scorer)\n",
    "\n",
    "    avg_msle = scores.mean()\n",
    "    return avg_msle"
   ]
  },
  {
   "cell_type": "markdown",
   "metadata": {},
   "source": [
    "Let's take a minute to analyze this code.\n"
   ]
  },
  {
   "cell_type": "markdown",
   "metadata": {},
   "source": [
    "```python\n",
    "def catboost_objective(trial):\n",
    "```\n",
    "\n",
    "Every objective function in Optuna receives a **Trial** object, that will hold all relevant information for a specific run of the function. E.g.: The hyperparameter combination set, timestamp of the function call, id of the call, etc.\n"
   ]
  },
  {
   "cell_type": "markdown",
   "metadata": {},
   "source": [
    "```python\n",
    "    params = {\n",
    "        \"iterations\": trial.suggest_categorical(\"iterations\", [1750, 2000, 2250]),\n",
    "        \"learning_rate\": trial.suggest_float(\"learning_rate\", 0.1, 0.3, log=True),\n",
    "        \"depth\": trial.suggest_categorical(\"depth\", [7, 8, 9]),\n",
    "        \"subsample\": trial.suggest_float(\"subsample\", 0.75, 0.9),\n",
    "        \"colsample_bylevel\": trial.suggest_float(\"colsample_bylevel\", 0.85, 1.0),\n",
    "        \"min_data_in_leaf\": trial.suggest_int(\"min_data_in_leaf\", 100, 125),\n",
    "    }\n",
    "```\n",
    "\n",
    "The search spaces in Optuna are defined inside the objective function. The **Trial** object will take care of \"suggesting\" the hyperparameters combination for the function call.\n"
   ]
  },
  {
   "cell_type": "markdown",
   "metadata": {},
   "source": [
    "```python\n",
    "    model = cb.CatBoostRegressor(\n",
    "        **params, silent=True, allow_writing_files=False, random_seed=random_state\n",
    "    )\n",
    "```\n",
    "\n",
    "Here the hyperparameters combination is supplied to the model (the `**` unpacks the `dict` items as function parameters). We also supply the parameters `silent=True` and `allow_writing_files=False` (that instructs the CatBoost regressor to not generate the training output files, we don't them), and the `random_seed` as weel, to ensure the reproductibility of the results.\n"
   ]
  },
  {
   "cell_type": "markdown",
   "metadata": {},
   "source": [
    "```python\n",
    "    scorer = make_scorer(mean_squared_error)\n",
    "    scores = cross_val_score(model, X_train, y_train, cv=5, scoring=scorer)\n",
    "\n",
    "    avg_msle = scores.mean()\n",
    "    return avg_msle\n",
    "```\n",
    "\n",
    "Next we compute the cross validation scores for 5-folds using the trainning set, compute the average score and return it.\n"
   ]
  },
  {
   "cell_type": "markdown",
   "metadata": {},
   "source": [
    "### Optimization\n",
    "\n",
    "With the objective function defined, we'll proceed to create the **Study**. In Optuna, the **Study** represents an optimization session, which comprises, among other things, the set of **Trials** objects.\n",
    "\n",
    "The **Study** object also receives the `direction` parameter, that indicates if type of optimization we want: minimization or maximization. In our case, we want to minimize the error.\n",
    "\n",
    "The **Study** is also responsible for the optimization process, by calling `optimize`.\n"
   ]
  },
  {
   "cell_type": "code",
   "execution_count": 31,
   "metadata": {},
   "outputs": [
    {
     "name": "stderr",
     "output_type": "stream",
     "text": [
      "[I 2023-08-09 21:59:57,940] A new study created in memory with name: no-name-cdfc1afb-5721-4bd0-a51b-b8c4aec52bd4\n",
      "[I 2023-08-09 22:00:27,363] Trial 0 finished with value: 0.04545540166057831 and parameters: {'iterations': 2000, 'learning_rate': 0.19303350086293308, 'depth': 7, 'subsample': 0.8799264218662403, 'colsample_bylevel': 0.9401672517614813, 'min_data_in_leaf': 118}. Best is trial 0 with value: 0.04545540166057831.\n",
      "[I 2023-08-09 22:01:16,672] Trial 1 finished with value: 0.04524893893047423 and parameters: {'iterations': 2000, 'learning_rate': 0.1262732920146368, 'depth': 9, 'subsample': 0.8287134647448356, 'colsample_bylevel': 0.9147917527963173, 'min_data_in_leaf': 107}. Best is trial 1 with value: 0.04524893893047423.\n",
      "[I 2023-08-09 22:01:47,826] Trial 2 finished with value: 0.04532767090131781 and parameters: {'iterations': 1750, 'learning_rate': 0.14955434061021924, 'depth': 8, 'subsample': 0.8271351657620417, 'colsample_bylevel': 0.9388621853293063, 'min_data_in_leaf': 101}. Best is trial 1 with value: 0.04524893893047423.\n",
      "[I 2023-08-09 22:02:12,524] Trial 3 finished with value: 0.04597779979674391 and parameters: {'iterations': 1750, 'learning_rate': 0.2836177831555697, 'depth': 7, 'subsample': 0.7646508171009576, 'colsample_bylevel': 0.9526349539768235, 'min_data_in_leaf': 111}. Best is trial 1 with value: 0.04524893893047423.\n",
      "[I 2023-08-09 22:02:48,227] Trial 4 finished with value: 0.04578046915092877 and parameters: {'iterations': 2000, 'learning_rate': 0.27155392923951255, 'depth': 8, 'subsample': 0.8280102031766716, 'colsample_bylevel': 0.9320065419014919, 'min_data_in_leaf': 104}. Best is trial 1 with value: 0.04524893893047423.\n",
      "[I 2023-08-09 22:03:19,606] Trial 5 finished with value: 0.04578930920387646 and parameters: {'iterations': 1750, 'learning_rate': 0.26726442106520143, 'depth': 8, 'subsample': 0.7793974293628718, 'colsample_bylevel': 0.8567840933365807, 'min_data_in_leaf': 108}. Best is trial 1 with value: 0.04524893893047423.\n",
      "[I 2023-08-09 22:04:01,281] Trial 6 finished with value: 0.045280469933622065 and parameters: {'iterations': 2250, 'learning_rate': 0.14798394301211149, 'depth': 8, 'subsample': 0.870329547113106, 'colsample_bylevel': 0.8611825965519656, 'min_data_in_leaf': 125}. Best is trial 1 with value: 0.04524893893047423.\n",
      "[I 2023-08-09 22:04:44,099] Trial 7 finished with value: 0.04576637002711732 and parameters: {'iterations': 1750, 'learning_rate': 0.24494804632059974, 'depth': 9, 'subsample': 0.7611066977601135, 'colsample_bylevel': 0.9037698592816409, 'min_data_in_leaf': 103}. Best is trial 1 with value: 0.04524893893047423.\n",
      "[I 2023-08-09 22:05:27,235] Trial 8 finished with value: 0.04551906401505967 and parameters: {'iterations': 1750, 'learning_rate': 0.10723215646284966, 'depth': 9, 'subsample': 0.845633620703282, 'colsample_bylevel': 0.983081911386449, 'min_data_in_leaf': 112}. Best is trial 1 with value: 0.04524893893047423.\n",
      "[I 2023-08-09 22:06:00,158] Trial 9 finished with value: 0.04543795266656744 and parameters: {'iterations': 2250, 'learning_rate': 0.18526666369255212, 'depth': 7, 'subsample': 0.8141311527537824, 'colsample_bylevel': 0.8538128690116142, 'min_data_in_leaf': 102}. Best is trial 1 with value: 0.04524893893047423.\n",
      "[I 2023-08-09 22:06:48,999] Trial 10 finished with value: 0.045432732258307254 and parameters: {'iterations': 2000, 'learning_rate': 0.10066103313248616, 'depth': 9, 'subsample': 0.7955692995275916, 'colsample_bylevel': 0.8997426271671365, 'min_data_in_leaf': 117}. Best is trial 1 with value: 0.04524893893047423.\n",
      "[I 2023-08-09 22:07:30,476] Trial 11 finished with value: 0.04526641364298687 and parameters: {'iterations': 2250, 'learning_rate': 0.1316961193700972, 'depth': 8, 'subsample': 0.8992850734490146, 'colsample_bylevel': 0.8874912871226246, 'min_data_in_leaf': 124}. Best is trial 1 with value: 0.04524893893047423.\n",
      "[I 2023-08-09 22:08:27,111] Trial 12 finished with value: 0.04523908207860546 and parameters: {'iterations': 2250, 'learning_rate': 0.12254682185825969, 'depth': 9, 'subsample': 0.8919320060942749, 'colsample_bylevel': 0.8954106187446466, 'min_data_in_leaf': 125}. Best is trial 12 with value: 0.04523908207860546.\n",
      "[I 2023-08-09 22:09:22,596] Trial 13 finished with value: 0.045161089169738086 and parameters: {'iterations': 2250, 'learning_rate': 0.12042181946619421, 'depth': 9, 'subsample': 0.8547992799773406, 'colsample_bylevel': 0.909904638097402, 'min_data_in_leaf': 119}. Best is trial 13 with value: 0.045161089169738086.\n",
      "[I 2023-08-09 22:10:18,488] Trial 14 finished with value: 0.04507567952381386 and parameters: {'iterations': 2250, 'learning_rate': 0.11540701856608257, 'depth': 9, 'subsample': 0.8567966703320118, 'colsample_bylevel': 0.8815286672349768, 'min_data_in_leaf': 120}. Best is trial 14 with value: 0.04507567952381386.\n",
      "[I 2023-08-09 22:11:14,385] Trial 15 finished with value: 0.04529126673353674 and parameters: {'iterations': 2250, 'learning_rate': 0.11254569655143712, 'depth': 9, 'subsample': 0.8547347168445966, 'colsample_bylevel': 0.8806470338540969, 'min_data_in_leaf': 119}. Best is trial 14 with value: 0.04507567952381386.\n",
      "[I 2023-08-09 22:12:10,525] Trial 16 finished with value: 0.045283475877116244 and parameters: {'iterations': 2250, 'learning_rate': 0.10114898598146776, 'depth': 9, 'subsample': 0.8572896779219347, 'colsample_bylevel': 0.8788539817882594, 'min_data_in_leaf': 121}. Best is trial 14 with value: 0.04507567952381386.\n",
      "[I 2023-08-09 22:13:06,696] Trial 17 finished with value: 0.04521158926398008 and parameters: {'iterations': 2250, 'learning_rate': 0.11496569225116254, 'depth': 9, 'subsample': 0.8698791586048045, 'colsample_bylevel': 0.9185056245467733, 'min_data_in_leaf': 115}. Best is trial 14 with value: 0.04507567952381386.\n",
      "[I 2023-08-09 22:14:02,310] Trial 18 finished with value: 0.04533347602081467 and parameters: {'iterations': 2250, 'learning_rate': 0.14457380781045215, 'depth': 9, 'subsample': 0.8412997250645995, 'colsample_bylevel': 0.8712376362478527, 'min_data_in_leaf': 121}. Best is trial 14 with value: 0.04507567952381386.\n",
      "[I 2023-08-09 22:14:57,937] Trial 19 finished with value: 0.04528312035795889 and parameters: {'iterations': 2250, 'learning_rate': 0.16653088641785138, 'depth': 9, 'subsample': 0.8126301592792616, 'colsample_bylevel': 0.8703629095063906, 'min_data_in_leaf': 115}. Best is trial 14 with value: 0.04507567952381386.\n",
      "[I 2023-08-09 22:15:31,021] Trial 20 finished with value: 0.04562279623566347 and parameters: {'iterations': 2250, 'learning_rate': 0.11882051132719554, 'depth': 7, 'subsample': 0.8619358760641395, 'colsample_bylevel': 0.9093276418723928, 'min_data_in_leaf': 122}. Best is trial 14 with value: 0.04507567952381386.\n",
      "[I 2023-08-09 22:16:26,966] Trial 21 finished with value: 0.04524489411611037 and parameters: {'iterations': 2250, 'learning_rate': 0.112208497304887, 'depth': 9, 'subsample': 0.874068405428573, 'colsample_bylevel': 0.9194457305703219, 'min_data_in_leaf': 115}. Best is trial 14 with value: 0.04507567952381386.\n",
      "[I 2023-08-09 22:17:23,448] Trial 22 finished with value: 0.04517259244273777 and parameters: {'iterations': 2250, 'learning_rate': 0.13365757724383456, 'depth': 9, 'subsample': 0.882635742322672, 'colsample_bylevel': 0.8991215957788926, 'min_data_in_leaf': 115}. Best is trial 14 with value: 0.04507567952381386.\n",
      "[I 2023-08-09 22:18:20,064] Trial 23 finished with value: 0.045165685008123756 and parameters: {'iterations': 2250, 'learning_rate': 0.13627649659429314, 'depth': 9, 'subsample': 0.8843992959636567, 'colsample_bylevel': 0.8919944939569022, 'min_data_in_leaf': 117}. Best is trial 14 with value: 0.04507567952381386.\n",
      "[I 2023-08-09 22:19:16,583] Trial 24 finished with value: 0.04514083845325301 and parameters: {'iterations': 2250, 'learning_rate': 0.13474156608483098, 'depth': 9, 'subsample': 0.8855026690605873, 'colsample_bylevel': 0.8891350585634458, 'min_data_in_leaf': 119}. Best is trial 14 with value: 0.04507567952381386.\n",
      "[I 2023-08-09 22:20:12,128] Trial 25 finished with value: 0.045243941477650464 and parameters: {'iterations': 2250, 'learning_rate': 0.12229106625028864, 'depth': 9, 'subsample': 0.8482456575422767, 'colsample_bylevel': 0.8843832413635079, 'min_data_in_leaf': 120}. Best is trial 14 with value: 0.04507567952381386.\n",
      "[I 2023-08-09 22:21:08,055] Trial 26 finished with value: 0.04517085467226685 and parameters: {'iterations': 2250, 'learning_rate': 0.1089857359470727, 'depth': 9, 'subsample': 0.8662842418751406, 'colsample_bylevel': 0.903666708059497, 'min_data_in_leaf': 122}. Best is trial 14 with value: 0.04507567952381386.\n",
      "[I 2023-08-09 22:22:04,852] Trial 27 finished with value: 0.04510234669956118 and parameters: {'iterations': 2250, 'learning_rate': 0.1242573083630014, 'depth': 9, 'subsample': 0.8911089041159495, 'colsample_bylevel': 0.8707549755832898, 'min_data_in_leaf': 119}. Best is trial 14 with value: 0.04507567952381386.\n",
      "[I 2023-08-09 22:22:38,977] Trial 28 finished with value: 0.045437534808429964 and parameters: {'iterations': 2250, 'learning_rate': 0.13760648502640427, 'depth': 7, 'subsample': 0.8987070683591785, 'colsample_bylevel': 0.8667124204393417, 'min_data_in_leaf': 123}. Best is trial 14 with value: 0.04507567952381386.\n",
      "[I 2023-08-09 22:23:29,285] Trial 29 finished with value: 0.045227492179842926 and parameters: {'iterations': 2000, 'learning_rate': 0.15779637075794756, 'depth': 9, 'subsample': 0.8817663202331172, 'colsample_bylevel': 0.8746515478789254, 'min_data_in_leaf': 117}. Best is trial 14 with value: 0.04507567952381386.\n"
     ]
    }
   ],
   "source": [
    "catboost_study = optuna.create_study(\n",
    "    direction=\"minimize\", sampler=optuna.samplers.TPESampler(seed=random_state)\n",
    ")\n",
    "catboost_study.optimize(catboost_objective, n_trials=30)"
   ]
  },
  {
   "cell_type": "markdown",
   "metadata": {},
   "source": [
    "With the process finished, we can retrieve the found set of best parameters, as well of the optimizal value of the objective function.\n"
   ]
  },
  {
   "cell_type": "code",
   "execution_count": 32,
   "metadata": {},
   "outputs": [
    {
     "name": "stdout",
     "output_type": "stream",
     "text": [
      "Best hyperparameters:  {'iterations': 2250, 'learning_rate': 0.11540701856608257, 'depth': 9, 'subsample': 0.8567966703320118, 'colsample_bylevel': 0.8815286672349768, 'min_data_in_leaf': 120}\n",
      "Best MSLE 0.04507567952381386\n"
     ]
    }
   ],
   "source": [
    "print(\"Best hyperparameters: \", catboost_study.best_params)\n",
    "print(\"Best MSLE\", catboost_study.best_value)\n"
   ]
  },
  {
   "cell_type": "markdown",
   "metadata": {},
   "source": [
    "Now we can train the CatBoost regressor with the best hyperparameters and evaluate the resulting model error using the test set.\n"
   ]
  },
  {
   "cell_type": "code",
   "execution_count": 33,
   "metadata": {},
   "outputs": [
    {
     "data": {
      "text/plain": [
       "0.043878406988275116"
      ]
     },
     "execution_count": 33,
     "metadata": {},
     "output_type": "execute_result"
    }
   ],
   "source": [
    "catboost_model = CatBoostRegressor(\n",
    "    **catboost_study.best_params,\n",
    "    silent=True,\n",
    "    allow_writing_files=False,\n",
    "    random_seed=random_state\n",
    ")\n",
    "catboost_model.fit(X_train, y_train)\n",
    "catboost_predictions = catboost_model.predict(X_test)\n",
    "mean_squared_error(y_test, catboost_predictions)\n"
   ]
  },
  {
   "cell_type": "markdown",
   "metadata": {},
   "source": [
    "This is already an improvement of the voting classifier that we've trained in the last notebook.\n",
    "\n",
    "Next, we'll proceed to execute the same parameter optimization process for the **XGBoost**, **Random Forest** and **LightGBM** regression models.\n"
   ]
  },
  {
   "cell_type": "markdown",
   "metadata": {},
   "source": [
    "## XGBoost Regressor\n",
    "\n",
    "As we did with the CatBoost regressor, we'll describe the hyperparameters that we want to optimize.\n"
   ]
  },
  {
   "cell_type": "markdown",
   "metadata": {},
   "source": [
    "### Hyperparameters Descriptions\n",
    "\n",
    "- **Number of estimators** (`n_estimators`): Similar to CatBoostm, is the maximum number of trees that can be built within the model. We'll also use a fixed number.\n",
    "- **Max depth** (`max_depth`): Also similar to the CatBoost. We'll use values between 9 and 11.\n",
    "- **Subsample** (`subsample`): Also similar to the CatBoost. We'll use values between 0.7 to 1.\n",
    "- **Learning rate** (`learning_rate`): Also similar to the CatBoost. We'll use values between 0.001 to 0.1.\n",
    "- **ColSample by level** (`colsample_bylevel`): Also similar to the CatBoost. We'll use values between 0.4 to 0.65.\n",
    "- **Min child weight** (`min_child_weight`): That is the most different than those we've talked about. Defines the minimum sum of weights of all observations required in a child, and is used to control over-fitting. Higher values prevent a model from learning relations that might be highly specific to the particular sample selected for a tree.\n"
   ]
  },
  {
   "cell_type": "markdown",
   "metadata": {},
   "source": [
    "### Objective function\n"
   ]
  },
  {
   "cell_type": "code",
   "execution_count": 15,
   "metadata": {},
   "outputs": [],
   "source": [
    "def xgboost_objective(trial):\n",
    "    params = {\n",
    "        \"n_estimators\": 800,\n",
    "        \"learning_rate\": trial.suggest_float(\"learning_rate\", 0.03, 0.07, log=True),\n",
    "        \"max_depth\": trial.suggest_categorical(\"max_depth\", [9, 10, 11]),\n",
    "        \"subsample\": trial.suggest_float(\"subsample\", 0.7, 1.0),\n",
    "        \"min_child_weight\": trial.suggest_categorical(\"min_child_weight\", [1, 2, 6, 10]),\n",
    "        \"colsample_bylevel\": trial.suggest_float(\"colsample_bylevel\", 0.4, 0.65),\n",
    "    }\n",
    "\n",
    "    model = XGBRegressor(**params, random_state=random_state)\n",
    "\n",
    "    scorer = make_scorer(mean_squared_error)\n",
    "    scores = cross_val_score(model, X_train, y_train, cv=5, scoring=scorer)\n",
    "\n",
    "    avg_msle = scores.mean()\n",
    "    return avg_msle"
   ]
  },
  {
   "cell_type": "markdown",
   "metadata": {},
   "source": [
    "### Optimization\n"
   ]
  },
  {
   "cell_type": "code",
   "execution_count": 16,
   "metadata": {},
   "outputs": [
    {
     "name": "stderr",
     "output_type": "stream",
     "text": [
      "[I 2023-07-20 01:37:09,474] A new study created in memory with name: no-name-53479503-7f2a-45a8-953b-412369c76648\n",
      "[I 2023-07-20 01:37:59,439] Trial 0 finished with value: 0.03818054590837362 and parameters: {'n_estimators': 750, 'learning_rate': 0.049821142116210686, 'max_depth': 9, 'subsample': 0.9598528437324805, 'min_child_weight': 10, 'colsample_bylevel': 0.6081106602001054}. Best is trial 0 with value: 0.03818054590837362.\n",
      "[I 2023-07-20 01:38:45,852] Trial 1 finished with value: 0.038896721068480924 and parameters: {'n_estimators': 700, 'learning_rate': 0.038821770442787056, 'max_depth': 9, 'subsample': 0.8835558684167139, 'min_child_weight': 10, 'colsample_bylevel': 0.5962939903482534}. Best is trial 0 with value: 0.03818054590837362.\n",
      "[I 2023-07-20 01:39:41,512] Trial 2 finished with value: 0.03849831574633579 and parameters: {'n_estimators': 800, 'learning_rate': 0.031204262902541264, 'max_depth': 9, 'subsample': 0.984665661176, 'min_child_weight': 1, 'colsample_bylevel': 0.5710582566280392}. Best is trial 0 with value: 0.03818054590837362.\n",
      "[I 2023-07-20 01:40:34,329] Trial 3 finished with value: 0.03919752716299725 and parameters: {'n_estimators': 800, 'learning_rate': 0.030886978954207125, 'max_depth': 9, 'subsample': 0.7935133228268233, 'min_child_weight': 10, 'colsample_bylevel': 0.5937832058402787}. Best is trial 0 with value: 0.03818054590837362.\n",
      "[I 2023-07-20 01:41:25,466] Trial 4 finished with value: 0.038106194333665314 and parameters: {'n_estimators': 700, 'learning_rate': 0.06551633157228336, 'max_depth': 10, 'subsample': 0.7975990992289793, 'min_child_weight': 6, 'colsample_bylevel': 0.4702336274218452}. Best is trial 4 with value: 0.038106194333665314.\n",
      "[I 2023-07-20 01:42:16,821] Trial 5 finished with value: 0.03946006066313442 and parameters: {'n_estimators': 800, 'learning_rate': 0.03195612865264536, 'max_depth': 9, 'subsample': 0.7016566351370807, 'min_child_weight': 1, 'colsample_bylevel': 0.41851116293352264}. Best is trial 4 with value: 0.038106194333665314.\n",
      "[I 2023-07-20 01:43:07,660] Trial 6 finished with value: 0.03830742388162199 and parameters: {'n_estimators': 800, 'learning_rate': 0.05087219722814474, 'max_depth': 9, 'subsample': 0.7975549966080241, 'min_child_weight': 6, 'colsample_bylevel': 0.42989856148457545}. Best is trial 4 with value: 0.038106194333665314.\n",
      "[I 2023-07-20 01:44:05,240] Trial 7 finished with value: 0.0379627980883626 and parameters: {'n_estimators': 750, 'learning_rate': 0.05765265063217847, 'max_depth': 10, 'subsample': 0.7076257380232285, 'min_child_weight': 6, 'colsample_bylevel': 0.5271426727911757}. Best is trial 7 with value: 0.0379627980883626.\n",
      "[I 2023-07-20 01:45:16,117] Trial 8 finished with value: 0.03767713685850503 and parameters: {'n_estimators': 700, 'learning_rate': 0.056904489793704265, 'max_depth': 11, 'subsample': 0.7483663861762013, 'min_child_weight': 1, 'colsample_bylevel': 0.6009180192247786}. Best is trial 8 with value: 0.03767713685850503.\n",
      "[I 2023-07-20 01:46:06,183] Trial 9 finished with value: 0.0380042769347973 and parameters: {'n_estimators': 750, 'learning_rate': 0.05946213346030469, 'max_depth': 9, 'subsample': 0.7683805487625824, 'min_child_weight': 6, 'colsample_bylevel': 0.5276868256443914}. Best is trial 8 with value: 0.03767713685850503.\n",
      "[I 2023-07-20 01:47:13,356] Trial 10 finished with value: 0.037319492265073265 and parameters: {'n_estimators': 700, 'learning_rate': 0.044801723443120146, 'max_depth': 11, 'subsample': 0.865902801603546, 'min_child_weight': 2, 'colsample_bylevel': 0.6269161988206294}. Best is trial 10 with value: 0.037319492265073265.\n",
      "[I 2023-07-20 01:48:22,131] Trial 11 finished with value: 0.0372572583161067 and parameters: {'n_estimators': 700, 'learning_rate': 0.04308992118593271, 'max_depth': 11, 'subsample': 0.8678261942700731, 'min_child_weight': 2, 'colsample_bylevel': 0.6399103277113543}. Best is trial 11 with value: 0.0372572583161067.\n",
      "[I 2023-07-20 01:49:30,575] Trial 12 finished with value: 0.03719254581698792 and parameters: {'n_estimators': 700, 'learning_rate': 0.04334652425574159, 'max_depth': 11, 'subsample': 0.8713129273388969, 'min_child_weight': 2, 'colsample_bylevel': 0.6497202597797278}. Best is trial 12 with value: 0.03719254581698792.\n",
      "[I 2023-07-20 01:50:38,845] Trial 13 finished with value: 0.03719360071514527 and parameters: {'n_estimators': 700, 'learning_rate': 0.04166265322788135, 'max_depth': 11, 'subsample': 0.9068609803361926, 'min_child_weight': 2, 'colsample_bylevel': 0.6395233618182047}. Best is trial 12 with value: 0.03719254581698792.\n",
      "[I 2023-07-20 01:51:47,333] Trial 14 finished with value: 0.03718840549748026 and parameters: {'n_estimators': 700, 'learning_rate': 0.03880922457902363, 'max_depth': 11, 'subsample': 0.9135933406640234, 'min_child_weight': 2, 'colsample_bylevel': 0.6489490160228937}. Best is trial 14 with value: 0.03718840549748026.\n",
      "[I 2023-07-20 01:52:55,550] Trial 15 finished with value: 0.03734844632315808 and parameters: {'n_estimators': 700, 'learning_rate': 0.03725225780139456, 'max_depth': 11, 'subsample': 0.9269204603200286, 'min_child_weight': 2, 'colsample_bylevel': 0.6495062656250846}. Best is trial 14 with value: 0.03718840549748026.\n",
      "[I 2023-07-20 01:54:01,001] Trial 16 finished with value: 0.037514166923058166 and parameters: {'n_estimators': 700, 'learning_rate': 0.03624850224173727, 'max_depth': 11, 'subsample': 0.8363125283289499, 'min_child_weight': 2, 'colsample_bylevel': 0.5628069827605748}. Best is trial 14 with value: 0.03718840549748026.\n",
      "[I 2023-07-20 01:55:07,133] Trial 17 finished with value: 0.037238487700350736 and parameters: {'n_estimators': 700, 'learning_rate': 0.046886106021050186, 'max_depth': 11, 'subsample': 0.9274670851039222, 'min_child_weight': 2, 'colsample_bylevel': 0.5669775313017791}. Best is trial 14 with value: 0.03718840549748026.\n",
      "[I 2023-07-20 01:56:14,755] Trial 18 finished with value: 0.03739064831286919 and parameters: {'n_estimators': 700, 'learning_rate': 0.040408531179276175, 'max_depth': 11, 'subsample': 0.8392499488134854, 'min_child_weight': 2, 'colsample_bylevel': 0.6207323647361449}. Best is trial 14 with value: 0.03718840549748026.\n",
      "[I 2023-07-20 01:57:17,735] Trial 19 finished with value: 0.03754261037415613 and parameters: {'n_estimators': 750, 'learning_rate': 0.035080535474895855, 'max_depth': 10, 'subsample': 0.8952826316973217, 'min_child_weight': 2, 'colsample_bylevel': 0.6457885243296096}. Best is trial 14 with value: 0.03718840549748026.\n",
      "[I 2023-07-20 01:58:24,875] Trial 20 finished with value: 0.037250806012502934 and parameters: {'n_estimators': 700, 'learning_rate': 0.04006856238102624, 'max_depth': 11, 'subsample': 0.9363467549087205, 'min_child_weight': 2, 'colsample_bylevel': 0.608002051313409}. Best is trial 14 with value: 0.03718840549748026.\n",
      "[I 2023-07-20 01:59:33,563] Trial 21 finished with value: 0.037200176352058224 and parameters: {'n_estimators': 700, 'learning_rate': 0.042187567405769885, 'max_depth': 11, 'subsample': 0.903739700712625, 'min_child_weight': 2, 'colsample_bylevel': 0.6497249969427076}. Best is trial 14 with value: 0.03718840549748026.\n",
      "[I 2023-07-20 02:00:40,602] Trial 22 finished with value: 0.037260557905315385 and parameters: {'n_estimators': 700, 'learning_rate': 0.043183004200055095, 'max_depth': 11, 'subsample': 0.9177197669360622, 'min_child_weight': 2, 'colsample_bylevel': 0.6278482728666491}. Best is trial 14 with value: 0.03718840549748026.\n",
      "[I 2023-07-20 02:01:47,823] Trial 23 finished with value: 0.03724430715884462 and parameters: {'n_estimators': 700, 'learning_rate': 0.03870732515926723, 'max_depth': 11, 'subsample': 0.9493969418743878, 'min_child_weight': 2, 'colsample_bylevel': 0.6266402712456289}. Best is trial 14 with value: 0.03718840549748026.\n",
      "[I 2023-07-20 02:02:55,868] Trial 24 finished with value: 0.037347951067772604 and parameters: {'n_estimators': 700, 'learning_rate': 0.03499365024562348, 'max_depth': 11, 'subsample': 0.9049518185903763, 'min_child_weight': 2, 'colsample_bylevel': 0.6481483006702465}. Best is trial 14 with value: 0.03718840549748026.\n",
      "[I 2023-07-20 02:04:03,522] Trial 25 finished with value: 0.037139344721711 and parameters: {'n_estimators': 700, 'learning_rate': 0.046522820065157046, 'max_depth': 11, 'subsample': 0.8817653980843922, 'min_child_weight': 2, 'colsample_bylevel': 0.5847538289863934}. Best is trial 25 with value: 0.037139344721711.\n",
      "[I 2023-07-20 02:05:01,604] Trial 26 finished with value: 0.03752680154471391 and parameters: {'n_estimators': 700, 'learning_rate': 0.046599518178499964, 'max_depth': 10, 'subsample': 0.8778142246757894, 'min_child_weight': 2, 'colsample_bylevel': 0.585149472892235}. Best is trial 25 with value: 0.037139344721711.\n",
      "[I 2023-07-20 02:06:01,108] Trial 27 finished with value: 0.0376651625101891 and parameters: {'n_estimators': 700, 'learning_rate': 0.04916613089379395, 'max_depth': 11, 'subsample': 0.8514142828285605, 'min_child_weight': 10, 'colsample_bylevel': 0.6196567516457583}. Best is trial 25 with value: 0.037139344721711.\n",
      "[I 2023-07-20 02:07:19,863] Trial 28 finished with value: 0.037148880220765366 and parameters: {'n_estimators': 800, 'learning_rate': 0.0448927537664745, 'max_depth': 11, 'subsample': 0.886887569108407, 'min_child_weight': 1, 'colsample_bylevel': 0.5531428534173273}. Best is trial 25 with value: 0.037139344721711.\n",
      "[I 2023-07-20 02:08:38,258] Trial 29 finished with value: 0.037100172390475 and parameters: {'n_estimators': 800, 'learning_rate': 0.050785730089942624, 'max_depth': 11, 'subsample': 0.9628796517316951, 'min_child_weight': 1, 'colsample_bylevel': 0.5459237341141532}. Best is trial 29 with value: 0.037100172390475.\n"
     ]
    }
   ],
   "source": [
    "xgboost_study = optuna.create_study(\n",
    "    direction=\"minimize\", sampler=optuna.samplers.TPESampler(seed=random_state)\n",
    ")\n",
    "xgboost_study.optimize(xgboost_objective, n_trials=30)"
   ]
  },
  {
   "cell_type": "code",
   "execution_count": 17,
   "metadata": {},
   "outputs": [
    {
     "name": "stdout",
     "output_type": "stream",
     "text": [
      "Best hyperparameters:  {'n_estimators': 800, 'learning_rate': 0.050785730089942624, 'max_depth': 11, 'subsample': 0.9628796517316951, 'min_child_weight': 1, 'colsample_bylevel': 0.5459237341141532}\n",
      "Best MSLE 0.037100172390475\n"
     ]
    }
   ],
   "source": [
    "print(\"Best hyperparameters: \", xgboost_study.best_params)\n",
    "print(\"Best MSLE\", xgboost_study.best_value)"
   ]
  },
  {
   "cell_type": "code",
   "execution_count": 18,
   "metadata": {},
   "outputs": [
    {
     "data": {
      "text/plain": [
       "0.0360436848319693"
      ]
     },
     "execution_count": 18,
     "metadata": {},
     "output_type": "execute_result"
    }
   ],
   "source": [
    "xgboost_model = XGBRegressor(**xgboost_study.best_params, random_state=random_state)\n",
    "xgboost_model.fit(X_train, y_train)\n",
    "xgboost_predictions = xgboost_model.predict(X_test)\n",
    "mean_squared_error(y_test, xgboost_predictions)"
   ]
  },
  {
   "cell_type": "markdown",
   "metadata": {},
   "source": [
    "Wonderful! Now XGBoost regressor is also better than the voting regressor.\n"
   ]
  },
  {
   "cell_type": "markdown",
   "metadata": {},
   "source": [
    "## Random Forest Regressor\n"
   ]
  },
  {
   "cell_type": "markdown",
   "metadata": {},
   "source": [
    "### Hyperparameter Descriptions\n",
    "\n",
    "- **Number of estimators** (`n_estimators`):Similar to CatBoostm, is the maximum number of trees that can be built within the model.\n",
    "- **Depth** (`max_depth`): Also similar to the CatBoost.\n",
    "- **Min samples leaf** (`min_samples_leaf`): The minimum number of samples required to be at a leaf node.\n",
    "- **Min samples split** (`min_samples_split`): The minimum number of samples required to split an internal node"
   ]
  },
  {
   "cell_type": "markdown",
   "metadata": {},
   "source": [
    "### Objective Function\n"
   ]
  },
  {
   "cell_type": "code",
   "execution_count": 19,
   "metadata": {},
   "outputs": [],
   "source": [
    "def random_forest_objective(trial):\n",
    "    params = {\n",
    "        \"n_estimators\": trial.suggest_int(\"n_estimators\", 450, 550),\n",
    "        \"max_depth\": trial.suggest_int(\"max_depth\", 35, 45),\n",
    "        'min_samples_leaf': trial.suggest_categorical(\"min_samples_leaf\", [2, 3]),\n",
    "        'min_samples_split': trial.suggest_categorical(\"min_samples_split\", [2, 3]),\n",
    "    }\n",
    "\n",
    "    model = RandomForestRegressor(**params, n_jobs=-1, random_state=random_state)\n",
    "\n",
    "    scorer = make_scorer(mean_squared_error)\n",
    "    scores = cross_val_score(model, X_train, y_train, cv=5, scoring=scorer)\n",
    "\n",
    "    avg_msle = scores.mean()\n",
    "    return avg_msle\n"
   ]
  },
  {
   "cell_type": "markdown",
   "metadata": {},
   "source": [
    "### Optimization\n"
   ]
  },
  {
   "cell_type": "code",
   "execution_count": 20,
   "metadata": {},
   "outputs": [
    {
     "name": "stderr",
     "output_type": "stream",
     "text": [
      "[I 2023-07-20 02:08:57,040] A new study created in memory with name: no-name-cae6ad06-3b60-47ca-8e0b-0213d26391e5\n",
      "[I 2023-07-20 02:10:00,573] Trial 0 finished with value: 0.04733135751301269 and parameters: {'n_estimators': 487, 'max_depth': 45, 'min_samples_leaf': 2, 'min_samples_split': 2}. Best is trial 0 with value: 0.04733135751301269.\n",
      "[I 2023-07-20 02:10:56,130] Trial 1 finished with value: 0.0482183419476848 and parameters: {'n_estimators': 455, 'max_depth': 44, 'min_samples_leaf': 3, 'min_samples_split': 3}. Best is trial 0 with value: 0.04733135751301269.\n",
      "[I 2023-07-20 02:12:01,169] Trial 2 finished with value: 0.04818650881232302 and parameters: {'n_estimators': 534, 'max_depth': 37, 'min_samples_leaf': 3, 'min_samples_split': 3}. Best is trial 0 with value: 0.04733135751301269.\n",
      "[I 2023-07-20 02:13:05,515] Trial 3 finished with value: 0.04732983032898498 and parameters: {'n_estimators': 493, 'max_depth': 38, 'min_samples_leaf': 2, 'min_samples_split': 3}. Best is trial 3 with value: 0.04732983032898498.\n",
      "[I 2023-07-20 02:14:06,532] Trial 4 finished with value: 0.048201499510513085 and parameters: {'n_estimators': 496, 'max_depth': 43, 'min_samples_leaf': 3, 'min_samples_split': 2}. Best is trial 3 with value: 0.04732983032898498.\n",
      "[I 2023-07-20 02:15:08,909] Trial 5 finished with value: 0.0481992175432286 and parameters: {'n_estimators': 511, 'max_depth': 36, 'min_samples_leaf': 3, 'min_samples_split': 2}. Best is trial 3 with value: 0.04732983032898498.\n",
      "[I 2023-07-20 02:16:12,285] Trial 6 finished with value: 0.04733172524048073 and parameters: {'n_estimators': 480, 'max_depth': 36, 'min_samples_leaf': 2, 'min_samples_split': 3}. Best is trial 3 with value: 0.04732983032898498.\n",
      "[I 2023-07-20 02:17:07,695] Trial 7 finished with value: 0.048220152475872594 and parameters: {'n_estimators': 453, 'max_depth': 45, 'min_samples_leaf': 3, 'min_samples_split': 3}. Best is trial 3 with value: 0.04732983032898498.\n",
      "[I 2023-07-20 02:18:14,222] Trial 8 finished with value: 0.04732866805935128 and parameters: {'n_estimators': 505, 'max_depth': 37, 'min_samples_leaf': 2, 'min_samples_split': 2}. Best is trial 8 with value: 0.04732866805935128.\n",
      "[I 2023-07-20 02:19:16,043] Trial 9 finished with value: 0.0481975881775939 and parameters: {'n_estimators': 510, 'max_depth': 45, 'min_samples_leaf': 3, 'min_samples_split': 3}. Best is trial 8 with value: 0.04732866805935128.\n",
      "[I 2023-07-20 02:20:27,353] Trial 10 finished with value: 0.04731272854990083 and parameters: {'n_estimators': 545, 'max_depth': 40, 'min_samples_leaf': 2, 'min_samples_split': 2}. Best is trial 10 with value: 0.04731272854990083.\n",
      "[I 2023-07-20 02:21:38,996] Trial 11 finished with value: 0.047310811454454836 and parameters: {'n_estimators': 547, 'max_depth': 40, 'min_samples_leaf': 2, 'min_samples_split': 2}. Best is trial 11 with value: 0.047310811454454836.\n",
      "[I 2023-07-20 02:22:50,588] Trial 12 finished with value: 0.04731153228518083 and parameters: {'n_estimators': 547, 'max_depth': 41, 'min_samples_leaf': 2, 'min_samples_split': 2}. Best is trial 11 with value: 0.047310811454454836.\n",
      "[I 2023-07-20 02:24:00,152] Trial 13 finished with value: 0.04732064751070555 and parameters: {'n_estimators': 530, 'max_depth': 41, 'min_samples_leaf': 2, 'min_samples_split': 2}. Best is trial 11 with value: 0.047310811454454836.\n",
      "[I 2023-07-20 02:25:12,094] Trial 14 finished with value: 0.047313405097699546 and parameters: {'n_estimators': 550, 'max_depth': 41, 'min_samples_leaf': 2, 'min_samples_split': 2}. Best is trial 11 with value: 0.047310811454454836.\n",
      "[I 2023-07-20 02:26:21,072] Trial 15 finished with value: 0.047319902556999124 and parameters: {'n_estimators': 526, 'max_depth': 40, 'min_samples_leaf': 2, 'min_samples_split': 2}. Best is trial 11 with value: 0.047310811454454836.\n",
      "[I 2023-07-20 02:27:31,766] Trial 16 finished with value: 0.047313951896547315 and parameters: {'n_estimators': 539, 'max_depth': 42, 'min_samples_leaf': 2, 'min_samples_split': 2}. Best is trial 11 with value: 0.047310811454454836.\n",
      "[I 2023-07-20 02:28:39,675] Trial 17 finished with value: 0.04732152581412046 and parameters: {'n_estimators': 520, 'max_depth': 39, 'min_samples_leaf': 2, 'min_samples_split': 2}. Best is trial 11 with value: 0.047310811454454836.\n",
      "[I 2023-07-20 02:29:41,290] Trial 18 finished with value: 0.04733779338362752 and parameters: {'n_estimators': 472, 'max_depth': 42, 'min_samples_leaf': 2, 'min_samples_split': 2}. Best is trial 11 with value: 0.047310811454454836.\n",
      "[I 2023-07-20 02:30:49,082] Trial 19 finished with value: 0.04732448913952183 and parameters: {'n_estimators': 519, 'max_depth': 39, 'min_samples_leaf': 2, 'min_samples_split': 2}. Best is trial 11 with value: 0.047310811454454836.\n",
      "[I 2023-07-20 02:31:59,824] Trial 20 finished with value: 0.047314561676836425 and parameters: {'n_estimators': 538, 'max_depth': 42, 'min_samples_leaf': 2, 'min_samples_split': 2}. Best is trial 11 with value: 0.047310811454454836.\n",
      "[I 2023-07-20 02:33:11,053] Trial 21 finished with value: 0.047311426073357414 and parameters: {'n_estimators': 546, 'max_depth': 40, 'min_samples_leaf': 2, 'min_samples_split': 2}. Best is trial 11 with value: 0.047310811454454836.\n",
      "[I 2023-07-20 02:34:22,878] Trial 22 finished with value: 0.04730910423852842 and parameters: {'n_estimators': 548, 'max_depth': 39, 'min_samples_leaf': 2, 'min_samples_split': 2}. Best is trial 22 with value: 0.04730910423852842.\n",
      "[I 2023-07-20 02:35:33,824] Trial 23 finished with value: 0.04731162168528648 and parameters: {'n_estimators': 541, 'max_depth': 39, 'min_samples_leaf': 2, 'min_samples_split': 2}. Best is trial 22 with value: 0.04730910423852842.\n",
      "[I 2023-07-20 02:36:42,194] Trial 24 finished with value: 0.04732208339155608 and parameters: {'n_estimators': 524, 'max_depth': 38, 'min_samples_leaf': 2, 'min_samples_split': 2}. Best is trial 22 with value: 0.04730910423852842.\n",
      "[I 2023-07-20 02:37:54,075] Trial 25 finished with value: 0.047315789941308514 and parameters: {'n_estimators': 550, 'max_depth': 35, 'min_samples_leaf': 2, 'min_samples_split': 2}. Best is trial 22 with value: 0.04730910423852842.\n",
      "[I 2023-07-20 02:39:04,517] Trial 26 finished with value: 0.047312814275782475 and parameters: {'n_estimators': 535, 'max_depth': 38, 'min_samples_leaf': 2, 'min_samples_split': 2}. Best is trial 22 with value: 0.04730910423852842.\n",
      "[I 2023-07-20 02:40:13,986] Trial 27 finished with value: 0.04731995865897497 and parameters: {'n_estimators': 530, 'max_depth': 40, 'min_samples_leaf': 2, 'min_samples_split': 2}. Best is trial 22 with value: 0.04730910423852842.\n",
      "[I 2023-07-20 02:41:24,937] Trial 28 finished with value: 0.04731162168528648 and parameters: {'n_estimators': 541, 'max_depth': 39, 'min_samples_leaf': 2, 'min_samples_split': 2}. Best is trial 22 with value: 0.04730910423852842.\n",
      "[I 2023-07-20 02:42:33,125] Trial 29 finished with value: 0.047326886031357665 and parameters: {'n_estimators': 518, 'max_depth': 41, 'min_samples_leaf': 2, 'min_samples_split': 2}. Best is trial 22 with value: 0.04730910423852842.\n"
     ]
    }
   ],
   "source": [
    "random_forest_study = optuna.create_study(\n",
    "    direction=\"minimize\", sampler=optuna.samplers.TPESampler(seed=random_state)\n",
    ")\n",
    "random_forest_study.optimize(random_forest_objective, n_trials=30)"
   ]
  },
  {
   "cell_type": "code",
   "execution_count": 21,
   "metadata": {},
   "outputs": [
    {
     "name": "stdout",
     "output_type": "stream",
     "text": [
      "Best hyperparameters:  {'n_estimators': 548, 'max_depth': 39, 'min_samples_leaf': 2, 'min_samples_split': 2}\n",
      "Best MSLE 0.04730910423852842\n"
     ]
    }
   ],
   "source": [
    "print(\"Best hyperparameters: \", random_forest_study.best_params)\n",
    "print(\"Best MSLE\", random_forest_study.best_value)"
   ]
  },
  {
   "cell_type": "code",
   "execution_count": 22,
   "metadata": {},
   "outputs": [
    {
     "data": {
      "text/plain": [
       "0.04500350101877825"
      ]
     },
     "execution_count": 22,
     "metadata": {},
     "output_type": "execute_result"
    }
   ],
   "source": [
    "random_forest_model = RandomForestRegressor(\n",
    "    **random_forest_study.best_params, random_state=random_state\n",
    ")\n",
    "random_forest_model.fit(X_train, y_train)\n",
    "random_forest_model_predictions = random_forest_model.predict(X_test)\n",
    "mean_squared_error(y_test, random_forest_model_predictions)"
   ]
  },
  {
   "cell_type": "markdown",
   "metadata": {},
   "source": [
    "The improvement wasn't that much. Let's hope the improvement in other models be sufficient.\n"
   ]
  },
  {
   "cell_type": "markdown",
   "metadata": {},
   "source": [
    "## LightGbm Regressor\n",
    "\n",
    "At this point, the parameters that we'll optimize in the LightGBM regressor all have their respective counterparts in previous models and were already explained. So let's jump in the optimization function right away.\n"
   ]
  },
  {
   "cell_type": "markdown",
   "metadata": {},
   "source": [
    "### Optimization Function\n"
   ]
  },
  {
   "cell_type": "code",
   "execution_count": 23,
   "metadata": {},
   "outputs": [],
   "source": [
    "def lightgbm_objective(trial):\n",
    "    params = {\n",
    "        \"n_estimators\": trial.suggest_int(\"n_estimators\", 2230, 2260),\n",
    "        \"max_depth\": trial.suggest_int(\"max_depth\", 17, 23),\n",
    "        \"num_leaves\": trial.suggest_int(\"num_leaves\", 45, 55),\n",
    "        \"subsample\": trial.suggest_float(\"subsample\", 0.3, 0.6),\n",
    "        \"colsample_bytree\": trial.suggest_float(\"colsample_bytree\", 0.5, 0.75),\n",
    "    }\n",
    "\n",
    "    model = LGBMRegressor(**params, n_jobs=-1, random_state=random_state)\n",
    "\n",
    "    scorer = make_scorer(mean_squared_error)\n",
    "    scores = cross_val_score(model, X_train, y_train, cv=5, scoring=scorer)\n",
    "\n",
    "    avg_msle = scores.mean()\n",
    "    return avg_msle\n"
   ]
  },
  {
   "cell_type": "markdown",
   "metadata": {},
   "source": [
    "### Optimization\n"
   ]
  },
  {
   "cell_type": "code",
   "execution_count": 24,
   "metadata": {},
   "outputs": [
    {
     "name": "stderr",
     "output_type": "stream",
     "text": [
      "[I 2023-07-20 02:45:05,383] A new study created in memory with name: no-name-96222659-5076-4df0-a07b-f137a22efd1f\n",
      "[I 2023-07-20 02:45:26,305] Trial 0 finished with value: 0.03854269046915933 and parameters: {'n_estimators': 2241, 'max_depth': 23, 'num_leaves': 53, 'subsample': 0.47959754525911097, 'colsample_bytree': 0.5390046601106091}. Best is trial 0 with value: 0.03854269046915933.\n",
      "[I 2023-07-20 02:45:47,094] Trial 1 finished with value: 0.03860250977167544 and parameters: {'n_estimators': 2234, 'max_depth': 17, 'num_leaves': 54, 'subsample': 0.4803345035229626, 'colsample_bytree': 0.6770181444490113}. Best is trial 0 with value: 0.03854269046915933.\n",
      "[I 2023-07-20 02:46:07,391] Trial 2 finished with value: 0.03849363519097731 and parameters: {'n_estimators': 2230, 'max_depth': 23, 'num_leaves': 54, 'subsample': 0.3637017332034828, 'colsample_bytree': 0.5454562418017752}. Best is trial 2 with value: 0.03849363519097731.\n",
      "[I 2023-07-20 02:46:26,737] Trial 3 finished with value: 0.038583186873399254 and parameters: {'n_estimators': 2235, 'max_depth': 19, 'num_leaves': 50, 'subsample': 0.4295835055926347, 'colsample_bytree': 0.5728072850495105}. Best is trial 2 with value: 0.03849363519097731.\n",
      "[I 2023-07-20 02:46:46,067] Trial 4 finished with value: 0.03854464623743116 and parameters: {'n_estimators': 2248, 'max_depth': 17, 'num_leaves': 48, 'subsample': 0.40990855298810747, 'colsample_bytree': 0.614017496054259}. Best is trial 2 with value: 0.03849363519097731.\n",
      "[I 2023-07-20 02:47:06,033] Trial 5 finished with value: 0.03852351808631109 and parameters: {'n_estimators': 2254, 'max_depth': 18, 'num_leaves': 50, 'subsample': 0.47772437065861273, 'colsample_bytree': 0.5116126031799995}. Best is trial 2 with value: 0.03849363519097731.\n",
      "[I 2023-07-20 02:47:24,081] Trial 6 finished with value: 0.038597146693424664 and parameters: {'n_estimators': 2248, 'max_depth': 18, 'num_leaves': 45, 'subsample': 0.5846656611759999, 'colsample_bytree': 0.7414080082686398}. Best is trial 2 with value: 0.03849363519097731.\n",
      "[I 2023-07-20 02:47:42,860] Trial 7 finished with value: 0.03841543821668507 and parameters: {'n_estimators': 2255, 'max_depth': 19, 'num_leaves': 46, 'subsample': 0.505269907953647, 'colsample_bytree': 0.6100381234349004}. Best is trial 7 with value: 0.03841543821668507.\n",
      "[I 2023-07-20 02:48:01,286] Trial 8 finished with value: 0.038511171359390105 and parameters: {'n_estimators': 2233, 'max_depth': 20, 'num_leaves': 45, 'subsample': 0.5727961206236346, 'colsample_bytree': 0.5646949954000042}. Best is trial 7 with value: 0.03841543821668507.\n",
      "[I 2023-07-20 02:48:20,976] Trial 9 finished with value: 0.03855157914401729 and parameters: {'n_estimators': 2250, 'max_depth': 19, 'num_leaves': 50, 'subsample': 0.4640130838029839, 'colsample_bytree': 0.5462136138813818}. Best is trial 7 with value: 0.03841543821668507.\n",
      "[I 2023-07-20 02:48:40,114] Trial 10 finished with value: 0.03847704367921471 and parameters: {'n_estimators': 2260, 'max_depth': 21, 'num_leaves': 47, 'subsample': 0.3053885626844459, 'colsample_bytree': 0.6289052033485361}. Best is trial 7 with value: 0.03841543821668507.\n",
      "[I 2023-07-20 02:48:58,669] Trial 11 finished with value: 0.03847765776735917 and parameters: {'n_estimators': 2259, 'max_depth': 21, 'num_leaves': 47, 'subsample': 0.3256755205223966, 'colsample_bytree': 0.6246378622409239}. Best is trial 7 with value: 0.03841543821668507.\n",
      "[I 2023-07-20 02:49:16,436] Trial 12 finished with value: 0.03847704367921471 and parameters: {'n_estimators': 2260, 'max_depth': 21, 'num_leaves': 47, 'subsample': 0.31557594609166334, 'colsample_bytree': 0.6563631322163422}. Best is trial 7 with value: 0.03841543821668507.\n",
      "[I 2023-07-20 02:49:35,974] Trial 13 finished with value: 0.03858873765192925 and parameters: {'n_estimators': 2255, 'max_depth': 21, 'num_leaves': 48, 'subsample': 0.30475281314299363, 'colsample_bytree': 0.5968985510159902}. Best is trial 7 with value: 0.03841543821668507.\n",
      "[I 2023-07-20 02:49:52,991] Trial 14 finished with value: 0.03849110252405596 and parameters: {'n_estimators': 2255, 'max_depth': 22, 'num_leaves': 46, 'subsample': 0.5260209727085998, 'colsample_bytree': 0.6569107363139874}. Best is trial 7 with value: 0.03841543821668507.\n",
      "[I 2023-07-20 02:50:13,436] Trial 15 finished with value: 0.038654457078480454 and parameters: {'n_estimators': 2242, 'max_depth': 20, 'num_leaves': 52, 'subsample': 0.3833695456036994, 'colsample_bytree': 0.599886811762911}. Best is trial 7 with value: 0.03841543821668507.\n",
      "[I 2023-07-20 02:50:30,730] Trial 16 finished with value: 0.03852130282136247 and parameters: {'n_estimators': 2257, 'max_depth': 19, 'num_leaves': 48, 'subsample': 0.5232111965803814, 'colsample_bytree': 0.6435442468070937}. Best is trial 7 with value: 0.03841543821668507.\n",
      "[I 2023-07-20 02:50:48,003] Trial 17 finished with value: 0.03850576009010507 and parameters: {'n_estimators': 2252, 'max_depth': 22, 'num_leaves': 46, 'subsample': 0.35557792181522535, 'colsample_bytree': 0.6845245855315581}. Best is trial 7 with value: 0.03841543821668507.\n",
      "[I 2023-07-20 02:51:07,733] Trial 18 finished with value: 0.038508645313371906 and parameters: {'n_estimators': 2260, 'max_depth': 20, 'num_leaves': 49, 'subsample': 0.4154903709367159, 'colsample_bytree': 0.5802125446549542}. Best is trial 7 with value: 0.03841543821668507.\n",
      "[I 2023-07-20 02:51:26,409] Trial 19 finished with value: 0.03848964239828632 and parameters: {'n_estimators': 2244, 'max_depth': 22, 'num_leaves': 46, 'subsample': 0.44017541291084894, 'colsample_bytree': 0.6329630645784525}. Best is trial 7 with value: 0.03841543821668507.\n",
      "[I 2023-07-20 02:51:45,804] Trial 20 finished with value: 0.03858825629254217 and parameters: {'n_estimators': 2257, 'max_depth': 18, 'num_leaves': 51, 'subsample': 0.39302037918484567, 'colsample_bytree': 0.607047323314774}. Best is trial 7 with value: 0.03841543821668507.\n",
      "[I 2023-07-20 02:52:03,166] Trial 21 finished with value: 0.038477454406248286 and parameters: {'n_estimators': 2258, 'max_depth': 21, 'num_leaves': 47, 'subsample': 0.30073088210908305, 'colsample_bytree': 0.6442372934724194}. Best is trial 7 with value: 0.03841543821668507.\n",
      "[I 2023-07-20 02:52:19,774] Trial 22 finished with value: 0.03861146449885614 and parameters: {'n_estimators': 2260, 'max_depth': 21, 'num_leaves': 47, 'subsample': 0.3293594546420256, 'colsample_bytree': 0.6654119565956457}. Best is trial 7 with value: 0.03841543821668507.\n",
      "[I 2023-07-20 02:52:37,112] Trial 23 finished with value: 0.03856313820187636 and parameters: {'n_estimators': 2253, 'max_depth': 20, 'num_leaves': 45, 'subsample': 0.3484940393471695, 'colsample_bytree': 0.6228629060525462}. Best is trial 7 with value: 0.03841543821668507.\n",
      "[I 2023-07-20 02:52:55,181] Trial 24 finished with value: 0.03850011476020386 and parameters: {'n_estimators': 2257, 'max_depth': 19, 'num_leaves': 49, 'subsample': 0.379221109938711, 'colsample_bytree': 0.6815604582336625}. Best is trial 7 with value: 0.03841543821668507.\n",
      "[I 2023-07-20 02:53:13,626] Trial 25 finished with value: 0.03856198522773205 and parameters: {'n_estimators': 2251, 'max_depth': 22, 'num_leaves': 47, 'subsample': 0.32826581736613764, 'colsample_bytree': 0.5935085582264084}. Best is trial 7 with value: 0.03841543821668507.\n",
      "[I 2023-07-20 02:53:30,545] Trial 26 finished with value: 0.03838474741568773 and parameters: {'n_estimators': 2260, 'max_depth': 21, 'num_leaves': 49, 'subsample': 0.36040908627686485, 'colsample_bytree': 0.6476454445929042}. Best is trial 26 with value: 0.03838474741568773.\n",
      "[I 2023-07-20 02:53:49,465] Trial 27 finished with value: 0.03837866262574901 and parameters: {'n_estimators': 2256, 'max_depth': 20, 'num_leaves': 49, 'subsample': 0.3370342950671986, 'colsample_bytree': 0.6169156857265662}. Best is trial 27 with value: 0.03837866262574901.\n",
      "[I 2023-07-20 02:54:09,514] Trial 28 finished with value: 0.0385439265081666 and parameters: {'n_estimators': 2248, 'max_depth': 19, 'num_leaves': 51, 'subsample': 0.35213272459096545, 'colsample_bytree': 0.5827339543707114}. Best is trial 27 with value: 0.03837866262574901.\n",
      "[I 2023-07-20 02:54:28,054] Trial 29 finished with value: 0.038472771647631576 and parameters: {'n_estimators': 2239, 'max_depth': 23, 'num_leaves': 49, 'subsample': 0.4041071561413504, 'colsample_bytree': 0.6164082795712477}. Best is trial 27 with value: 0.03837866262574901.\n"
     ]
    }
   ],
   "source": [
    "lightgbm_study = optuna.create_study(\n",
    "    direction=\"minimize\", sampler=optuna.samplers.TPESampler(seed=random_state)\n",
    ")\n",
    "lightgbm_study.optimize(lightgbm_objective, n_trials=30)"
   ]
  },
  {
   "cell_type": "code",
   "execution_count": 25,
   "metadata": {},
   "outputs": [
    {
     "name": "stdout",
     "output_type": "stream",
     "text": [
      "Best hyperparameters:  {'n_estimators': 2256, 'max_depth': 20, 'num_leaves': 49, 'subsample': 0.3370342950671986, 'colsample_bytree': 0.6169156857265662}\n",
      "Best MSLE 0.03837866262574901\n"
     ]
    }
   ],
   "source": [
    "print(\"Best hyperparameters: \", lightgbm_study.best_params)\n",
    "print(\"Best MSLE\", lightgbm_study.best_value)"
   ]
  },
  {
   "cell_type": "code",
   "execution_count": 26,
   "metadata": {},
   "outputs": [
    {
     "data": {
      "text/plain": [
       "0.03771991159041149"
      ]
     },
     "execution_count": 26,
     "metadata": {},
     "output_type": "execute_result"
    }
   ],
   "source": [
    "lightgbm_model = LGBMRegressor(**lightgbm_study.best_params, random_state=random_state)\n",
    "lightgbm_model.fit(X_train, y_train)\n",
    "lightgbm_model_predictions = lightgbm_model.predict(X_test)\n",
    "mean_squared_error(y_test, lightgbm_model_predictions)"
   ]
  },
  {
   "cell_type": "markdown",
   "metadata": {},
   "source": [
    "How about that! LightGBM regressor, the least performant model of the previous notebook, for this experiment, is now the best one. Sure, our approach was rather simplistic, and is not sufficient to tell if this model is really the best one. But, to not extended this study more than necessary, we'll accept these results as they are.\n"
   ]
  },
  {
   "cell_type": "markdown",
   "metadata": {},
   "source": [
    "# Voting Regressor Update\n",
    "\n",
    "As before, we'll build our final final as a combination of the four models that we've discussed here, but, this time, they are optimized for our problem."
   ]
  },
  {
   "cell_type": "markdown",
   "metadata": {},
   "source": [
    "## Optimized Models\n",
    "\n",
    "For simplicity and time saving, I'll repost the all models with the optimal parameters that I found in my tests. Instead of  running all the optimization code above, you just need to run the following cell."
   ]
  },
  {
   "cell_type": "code",
   "execution_count": 11,
   "metadata": {},
   "outputs": [],
   "source": [
    "catboost_model = CatBoostRegressor(\n",
    "    **{\n",
    "        \"learning_rate\": 0.13425288328811075,\n",
    "        \"depth\": 9,\n",
    "        \"subsample\": 0.9199702825574229,\n",
    "        \"colsample_bylevel\": 0.572827994601722,\n",
    "        \"min_data_in_leaf\": 225.63038175724117,\n",
    "    },\n",
    "    allow_writing_files=False,\n",
    "    silent=True,\n",
    "    random_seed=random_state\n",
    ")\n",
    "\n",
    "xgboost_model = XGBRegressor(\n",
    "    **{\n",
    "        \"n_estimators\": 800,\n",
    "        \"learning_rate\": 0.050785730089942624,\n",
    "        \"max_depth\": 11,\n",
    "        \"subsample\": 0.9628796517316951,\n",
    "        \"min_child_weight\": 1,\n",
    "        \"colsample_bylevel\": 0.5459237341141532,\n",
    "    },\n",
    "    random_state=random_state\n",
    ")\n",
    "\n",
    "random_forest_model = RandomForestRegressor(\n",
    "    **{\n",
    "        \"n_estimators\": 548,\n",
    "        \"max_depth\": 39,\n",
    "        \"min_samples_leaf\": 2,\n",
    "        \"min_samples_split\": 2,\n",
    "    },\n",
    "    n_jobs=-1,\n",
    "    random_state=random_state\n",
    ")\n",
    "\n",
    "lightgbm_model = LGBMRegressor(\n",
    "    **{\n",
    "        \"n_estimators\": 2256,\n",
    "        \"max_depth\": 20,\n",
    "        \"num_leaves\": 49,\n",
    "        \"subsample\": 0.3370342950671986,\n",
    "        \"colsample_bytree\": 0.6169156857265662,\n",
    "    },\n",
    "    n_jobs=-1,\n",
    "    random_state=random_state\n",
    ")"
   ]
  },
  {
   "cell_type": "code",
   "execution_count": 12,
   "metadata": {},
   "outputs": [
    {
     "data": {
      "text/plain": [
       "0.03650454638989949"
      ]
     },
     "execution_count": 12,
     "metadata": {},
     "output_type": "execute_result"
    }
   ],
   "source": [
    "voting_regressor = VotingRegressor(\n",
    "    estimators=[\n",
    "        (model.__class__.__name__, model)\n",
    "        for model in (\n",
    "            catboost_model,\n",
    "            xgboost_model,\n",
    "            random_forest_model,\n",
    "            lightgbm_model,\n",
    "        )\n",
    "    ],\n",
    ")\n",
    "\n",
    "voting_regressor.fit(X_train, y_train)\n",
    "voting_regressor_predictions = voting_regressor.predict(X_test)\n",
    "mean_squared_error(y_test, voting_regressor_predictions)"
   ]
  },
  {
   "cell_type": "markdown",
   "metadata": {},
   "source": [
    "The error reduction wasn't that much this. Actually, if I were to choose, I would stick with the LightGBM Regressor or try different hyperparameter search spaces for the other models before using this model in a production environment, for example. But, for the sake of simplicity, we'll accept this model as the best one\n"
   ]
  },
  {
   "cell_type": "markdown",
   "metadata": {},
   "source": [
    "## Training with the whole dataset\n",
    "\n",
    "Now it's time to check how our regressor fares with the entire dataset.\n"
   ]
  },
  {
   "cell_type": "code",
   "execution_count": 13,
   "metadata": {},
   "outputs": [
    {
     "data": {
      "text/html": [
       "<style>#sk-container-id-3 {color: black;}#sk-container-id-3 pre{padding: 0;}#sk-container-id-3 div.sk-toggleable {background-color: white;}#sk-container-id-3 label.sk-toggleable__label {cursor: pointer;display: block;width: 100%;margin-bottom: 0;padding: 0.3em;box-sizing: border-box;text-align: center;}#sk-container-id-3 label.sk-toggleable__label-arrow:before {content: \"▸\";float: left;margin-right: 0.25em;color: #696969;}#sk-container-id-3 label.sk-toggleable__label-arrow:hover:before {color: black;}#sk-container-id-3 div.sk-estimator:hover label.sk-toggleable__label-arrow:before {color: black;}#sk-container-id-3 div.sk-toggleable__content {max-height: 0;max-width: 0;overflow: hidden;text-align: left;background-color: #f0f8ff;}#sk-container-id-3 div.sk-toggleable__content pre {margin: 0.2em;color: black;border-radius: 0.25em;background-color: #f0f8ff;}#sk-container-id-3 input.sk-toggleable__control:checked~div.sk-toggleable__content {max-height: 200px;max-width: 100%;overflow: auto;}#sk-container-id-3 input.sk-toggleable__control:checked~label.sk-toggleable__label-arrow:before {content: \"▾\";}#sk-container-id-3 div.sk-estimator input.sk-toggleable__control:checked~label.sk-toggleable__label {background-color: #d4ebff;}#sk-container-id-3 div.sk-label input.sk-toggleable__control:checked~label.sk-toggleable__label {background-color: #d4ebff;}#sk-container-id-3 input.sk-hidden--visually {border: 0;clip: rect(1px 1px 1px 1px);clip: rect(1px, 1px, 1px, 1px);height: 1px;margin: -1px;overflow: hidden;padding: 0;position: absolute;width: 1px;}#sk-container-id-3 div.sk-estimator {font-family: monospace;background-color: #f0f8ff;border: 1px dotted black;border-radius: 0.25em;box-sizing: border-box;margin-bottom: 0.5em;}#sk-container-id-3 div.sk-estimator:hover {background-color: #d4ebff;}#sk-container-id-3 div.sk-parallel-item::after {content: \"\";width: 100%;border-bottom: 1px solid gray;flex-grow: 1;}#sk-container-id-3 div.sk-label:hover label.sk-toggleable__label {background-color: #d4ebff;}#sk-container-id-3 div.sk-serial::before {content: \"\";position: absolute;border-left: 1px solid gray;box-sizing: border-box;top: 0;bottom: 0;left: 50%;z-index: 0;}#sk-container-id-3 div.sk-serial {display: flex;flex-direction: column;align-items: center;background-color: white;padding-right: 0.2em;padding-left: 0.2em;position: relative;}#sk-container-id-3 div.sk-item {position: relative;z-index: 1;}#sk-container-id-3 div.sk-parallel {display: flex;align-items: stretch;justify-content: center;background-color: white;position: relative;}#sk-container-id-3 div.sk-item::before, #sk-container-id-3 div.sk-parallel-item::before {content: \"\";position: absolute;border-left: 1px solid gray;box-sizing: border-box;top: 0;bottom: 0;left: 50%;z-index: -1;}#sk-container-id-3 div.sk-parallel-item {display: flex;flex-direction: column;z-index: 1;position: relative;background-color: white;}#sk-container-id-3 div.sk-parallel-item:first-child::after {align-self: flex-end;width: 50%;}#sk-container-id-3 div.sk-parallel-item:last-child::after {align-self: flex-start;width: 50%;}#sk-container-id-3 div.sk-parallel-item:only-child::after {width: 0;}#sk-container-id-3 div.sk-dashed-wrapped {border: 1px dashed gray;margin: 0 0.4em 0.5em 0.4em;box-sizing: border-box;padding-bottom: 0.4em;background-color: white;}#sk-container-id-3 div.sk-label label {font-family: monospace;font-weight: bold;display: inline-block;line-height: 1.2em;}#sk-container-id-3 div.sk-label-container {text-align: center;}#sk-container-id-3 div.sk-container {/* jupyter's `normalize.less` sets `[hidden] { display: none; }` but bootstrap.min.css set `[hidden] { display: none !important; }` so we also need the `!important` here to be able to override the default hidden behavior on the sphinx rendered scikit-learn.org. See: https://github.com/scikit-learn/scikit-learn/issues/21755 */display: inline-block !important;position: relative;}#sk-container-id-3 div.sk-text-repr-fallback {display: none;}</style><div id=\"sk-container-id-3\" class=\"sk-top-container\"><div class=\"sk-text-repr-fallback\"><pre>VotingRegressor(estimators=[(&#x27;CatBoostRegressor&#x27;,\n",
       "                             &lt;catboost.core.CatBoostRegressor object at 0x7f0d682cf6d0&gt;),\n",
       "                            (&#x27;XGBRegressor&#x27;,\n",
       "                             XGBRegressor(base_score=None, booster=None,\n",
       "                                          callbacks=None,\n",
       "                                          colsample_bylevel=0.5459237341141532,\n",
       "                                          colsample_bynode=None,\n",
       "                                          colsample_bytree=None,\n",
       "                                          early_stopping_rounds=None,\n",
       "                                          enable_categorical=False,\n",
       "                                          eval_metric=None, feature_types=None,\n",
       "                                          ga...\n",
       "                                          n_estimators=800, n_jobs=None,\n",
       "                                          num_parallel_tree=None,\n",
       "                                          predictor=None, random_state=42, ...)),\n",
       "                            (&#x27;RandomForestRegressor&#x27;,\n",
       "                             RandomForestRegressor(max_depth=39,\n",
       "                                                   min_samples_leaf=2,\n",
       "                                                   n_estimators=548, n_jobs=-1,\n",
       "                                                   random_state=42)),\n",
       "                            (&#x27;LGBMRegressor&#x27;,\n",
       "                             LGBMRegressor(colsample_bytree=0.6169156857265662,\n",
       "                                           max_depth=20, n_estimators=2256,\n",
       "                                           num_leaves=49, random_state=42,\n",
       "                                           subsample=0.3370342950671986))])</pre><b>In a Jupyter environment, please rerun this cell to show the HTML representation or trust the notebook. <br />On GitHub, the HTML representation is unable to render, please try loading this page with nbviewer.org.</b></div><div class=\"sk-container\" hidden><div class=\"sk-item sk-dashed-wrapped\"><div class=\"sk-label-container\"><div class=\"sk-label sk-toggleable\"><input class=\"sk-toggleable__control sk-hidden--visually\" id=\"sk-estimator-id-24\" type=\"checkbox\" ><label for=\"sk-estimator-id-24\" class=\"sk-toggleable__label sk-toggleable__label-arrow\">VotingRegressor</label><div class=\"sk-toggleable__content\"><pre>VotingRegressor(estimators=[(&#x27;CatBoostRegressor&#x27;,\n",
       "                             &lt;catboost.core.CatBoostRegressor object at 0x7f0d682cf6d0&gt;),\n",
       "                            (&#x27;XGBRegressor&#x27;,\n",
       "                             XGBRegressor(base_score=None, booster=None,\n",
       "                                          callbacks=None,\n",
       "                                          colsample_bylevel=0.5459237341141532,\n",
       "                                          colsample_bynode=None,\n",
       "                                          colsample_bytree=None,\n",
       "                                          early_stopping_rounds=None,\n",
       "                                          enable_categorical=False,\n",
       "                                          eval_metric=None, feature_types=None,\n",
       "                                          ga...\n",
       "                                          n_estimators=800, n_jobs=None,\n",
       "                                          num_parallel_tree=None,\n",
       "                                          predictor=None, random_state=42, ...)),\n",
       "                            (&#x27;RandomForestRegressor&#x27;,\n",
       "                             RandomForestRegressor(max_depth=39,\n",
       "                                                   min_samples_leaf=2,\n",
       "                                                   n_estimators=548, n_jobs=-1,\n",
       "                                                   random_state=42)),\n",
       "                            (&#x27;LGBMRegressor&#x27;,\n",
       "                             LGBMRegressor(colsample_bytree=0.6169156857265662,\n",
       "                                           max_depth=20, n_estimators=2256,\n",
       "                                           num_leaves=49, random_state=42,\n",
       "                                           subsample=0.3370342950671986))])</pre></div></div></div><div class=\"sk-parallel\"><div class=\"sk-parallel-item\"><div class=\"sk-item\"><div class=\"sk-label-container\"><div class=\"sk-label sk-toggleable\"><label>CatBoostRegressor</label></div></div><div class=\"sk-serial\"><div class=\"sk-item\"><div class=\"sk-estimator sk-toggleable\"><input class=\"sk-toggleable__control sk-hidden--visually\" id=\"sk-estimator-id-25\" type=\"checkbox\" ><label for=\"sk-estimator-id-25\" class=\"sk-toggleable__label sk-toggleable__label-arrow\">CatBoostRegressor</label><div class=\"sk-toggleable__content\"><pre>&lt;catboost.core.CatBoostRegressor object at 0x7f0d682cf6d0&gt;</pre></div></div></div></div></div></div><div class=\"sk-parallel-item\"><div class=\"sk-item\"><div class=\"sk-label-container\"><div class=\"sk-label sk-toggleable\"><label>XGBRegressor</label></div></div><div class=\"sk-serial\"><div class=\"sk-item\"><div class=\"sk-estimator sk-toggleable\"><input class=\"sk-toggleable__control sk-hidden--visually\" id=\"sk-estimator-id-26\" type=\"checkbox\" ><label for=\"sk-estimator-id-26\" class=\"sk-toggleable__label sk-toggleable__label-arrow\">XGBRegressor</label><div class=\"sk-toggleable__content\"><pre>XGBRegressor(base_score=None, booster=None, callbacks=None,\n",
       "             colsample_bylevel=0.5459237341141532, colsample_bynode=None,\n",
       "             colsample_bytree=None, early_stopping_rounds=None,\n",
       "             enable_categorical=False, eval_metric=None, feature_types=None,\n",
       "             gamma=None, gpu_id=None, grow_policy=None, importance_type=None,\n",
       "             interaction_constraints=None, learning_rate=0.050785730089942624,\n",
       "             max_bin=None, max_cat_threshold=None, max_cat_to_onehot=None,\n",
       "             max_delta_step=None, max_depth=11, max_leaves=None,\n",
       "             min_child_weight=1, missing=nan, monotone_constraints=None,\n",
       "             n_estimators=800, n_jobs=None, num_parallel_tree=None,\n",
       "             predictor=None, random_state=42, ...)</pre></div></div></div></div></div></div><div class=\"sk-parallel-item\"><div class=\"sk-item\"><div class=\"sk-label-container\"><div class=\"sk-label sk-toggleable\"><label>RandomForestRegressor</label></div></div><div class=\"sk-serial\"><div class=\"sk-item\"><div class=\"sk-estimator sk-toggleable\"><input class=\"sk-toggleable__control sk-hidden--visually\" id=\"sk-estimator-id-27\" type=\"checkbox\" ><label for=\"sk-estimator-id-27\" class=\"sk-toggleable__label sk-toggleable__label-arrow\">RandomForestRegressor</label><div class=\"sk-toggleable__content\"><pre>RandomForestRegressor(max_depth=39, min_samples_leaf=2, n_estimators=548,\n",
       "                      n_jobs=-1, random_state=42)</pre></div></div></div></div></div></div><div class=\"sk-parallel-item\"><div class=\"sk-item\"><div class=\"sk-label-container\"><div class=\"sk-label sk-toggleable\"><label>LGBMRegressor</label></div></div><div class=\"sk-serial\"><div class=\"sk-item\"><div class=\"sk-estimator sk-toggleable\"><input class=\"sk-toggleable__control sk-hidden--visually\" id=\"sk-estimator-id-28\" type=\"checkbox\" ><label for=\"sk-estimator-id-28\" class=\"sk-toggleable__label sk-toggleable__label-arrow\">LGBMRegressor</label><div class=\"sk-toggleable__content\"><pre>LGBMRegressor(colsample_bytree=0.6169156857265662, max_depth=20,\n",
       "              n_estimators=2256, num_leaves=49, random_state=42,\n",
       "              subsample=0.3370342950671986)</pre></div></div></div></div></div></div></div></div></div></div>"
      ],
      "text/plain": [
       "VotingRegressor(estimators=[('CatBoostRegressor',\n",
       "                             <catboost.core.CatBoostRegressor object at 0x7f0d682cf6d0>),\n",
       "                            ('XGBRegressor',\n",
       "                             XGBRegressor(base_score=None, booster=None,\n",
       "                                          callbacks=None,\n",
       "                                          colsample_bylevel=0.5459237341141532,\n",
       "                                          colsample_bynode=None,\n",
       "                                          colsample_bytree=None,\n",
       "                                          early_stopping_rounds=None,\n",
       "                                          enable_categorical=False,\n",
       "                                          eval_metric=None, feature_types=None,\n",
       "                                          ga...\n",
       "                                          n_estimators=800, n_jobs=None,\n",
       "                                          num_parallel_tree=None,\n",
       "                                          predictor=None, random_state=42, ...)),\n",
       "                            ('RandomForestRegressor',\n",
       "                             RandomForestRegressor(max_depth=39,\n",
       "                                                   min_samples_leaf=2,\n",
       "                                                   n_estimators=548, n_jobs=-1,\n",
       "                                                   random_state=42)),\n",
       "                            ('LGBMRegressor',\n",
       "                             LGBMRegressor(colsample_bytree=0.6169156857265662,\n",
       "                                           max_depth=20, n_estimators=2256,\n",
       "                                           num_leaves=49, random_state=42,\n",
       "                                           subsample=0.3370342950671986))])"
      ]
     },
     "execution_count": 13,
     "metadata": {},
     "output_type": "execute_result"
    }
   ],
   "source": [
    "voting_regressor.fit(transformed_features, transformed_target)\n"
   ]
  },
  {
   "cell_type": "code",
   "execution_count": 14,
   "metadata": {},
   "outputs": [
    {
     "data": {
      "text/plain": [
       "0.013201891396805714"
      ]
     },
     "execution_count": 14,
     "metadata": {},
     "output_type": "execute_result"
    }
   ],
   "source": [
    "all_predictions = voting_regressor.predict(transformed_features)\n",
    "mean_squared_error(transformed_target, all_predictions)"
   ]
  },
  {
   "cell_type": "markdown",
   "metadata": {},
   "source": [
    "OK. The error between the predictions and the transformed target is very small indeed. But we have to remember that the transformed target is, actually, the log value of the real house prices.\n",
    "\n",
    "So, let's check how the error really behaves if we apply the **inverse transform** to the target (in this case, exponential function).\n"
   ]
  },
  {
   "cell_type": "code",
   "execution_count": 15,
   "metadata": {},
   "outputs": [
    {
     "data": {
      "text/plain": [
       "46283.019718185635"
      ]
     },
     "execution_count": 15,
     "metadata": {},
     "output_type": "execute_result"
    }
   ],
   "source": [
    "transformed_predictions = target_transform.inverse_transform(all_predictions)\n",
    "mean_absolute_error(target, transformed_predictions)"
   ]
  },
  {
   "cell_type": "markdown",
   "metadata": {},
   "source": [
    "An average error of R$46283,02? Let's take a better look at the behavior of the error:"
   ]
  },
  {
   "cell_type": "code",
   "execution_count": 16,
   "metadata": {},
   "outputs": [
    {
     "data": {
      "text/html": [
       "<div>\n",
       "<style scoped>\n",
       "    .dataframe tbody tr th:only-of-type {\n",
       "        vertical-align: middle;\n",
       "    }\n",
       "\n",
       "    .dataframe tbody tr th {\n",
       "        vertical-align: top;\n",
       "    }\n",
       "\n",
       "    .dataframe thead th {\n",
       "        text-align: right;\n",
       "    }\n",
       "</style>\n",
       "<table border=\"1\" class=\"dataframe\">\n",
       "  <thead>\n",
       "    <tr style=\"text-align: right;\">\n",
       "      <th></th>\n",
       "      <th>property_type</th>\n",
       "      <th>error</th>\n",
       "    </tr>\n",
       "  </thead>\n",
       "  <tbody>\n",
       "    <tr>\n",
       "      <th>0</th>\n",
       "      <td>Two-story House</td>\n",
       "      <td>-67406.486467</td>\n",
       "    </tr>\n",
       "    <tr>\n",
       "      <th>1</th>\n",
       "      <td>House</td>\n",
       "      <td>-81263.927538</td>\n",
       "    </tr>\n",
       "    <tr>\n",
       "      <th>2</th>\n",
       "      <td>Apartament</td>\n",
       "      <td>16152.785139</td>\n",
       "    </tr>\n",
       "    <tr>\n",
       "      <th>3</th>\n",
       "      <td>Apartament</td>\n",
       "      <td>-38642.464728</td>\n",
       "    </tr>\n",
       "    <tr>\n",
       "      <th>4</th>\n",
       "      <td>Condominium</td>\n",
       "      <td>10690.010690</td>\n",
       "    </tr>\n",
       "    <tr>\n",
       "      <th>...</th>\n",
       "      <td>...</td>\n",
       "      <td>...</td>\n",
       "    </tr>\n",
       "    <tr>\n",
       "      <th>88742</th>\n",
       "      <td>Apartament</td>\n",
       "      <td>7720.245652</td>\n",
       "    </tr>\n",
       "    <tr>\n",
       "      <th>88743</th>\n",
       "      <td>Apartament</td>\n",
       "      <td>-53236.363523</td>\n",
       "    </tr>\n",
       "    <tr>\n",
       "      <th>88744</th>\n",
       "      <td>Apartament</td>\n",
       "      <td>-46696.713556</td>\n",
       "    </tr>\n",
       "    <tr>\n",
       "      <th>88745</th>\n",
       "      <td>Apartament</td>\n",
       "      <td>35867.578890</td>\n",
       "    </tr>\n",
       "    <tr>\n",
       "      <th>88746</th>\n",
       "      <td>Two-story House</td>\n",
       "      <td>144279.468273</td>\n",
       "    </tr>\n",
       "  </tbody>\n",
       "</table>\n",
       "<p>88747 rows × 2 columns</p>\n",
       "</div>"
      ],
      "text/plain": [
       "         property_type          error\n",
       "0      Two-story House  -67406.486467\n",
       "1                House  -81263.927538\n",
       "2           Apartament   16152.785139\n",
       "3           Apartament  -38642.464728\n",
       "4          Condominium   10690.010690\n",
       "...                ...            ...\n",
       "88742       Apartament    7720.245652\n",
       "88743       Apartament  -53236.363523\n",
       "88744       Apartament  -46696.713556\n",
       "88745       Apartament   35867.578890\n",
       "88746  Two-story House  144279.468273\n",
       "\n",
       "[88747 rows x 2 columns]"
      ]
     },
     "execution_count": 16,
     "metadata": {},
     "output_type": "execute_result"
    }
   ],
   "source": [
    "errors = pd.DataFrame()\n",
    "errors[\"property_type\"] = features[\"property_type\"]\n",
    "errors[\"error\"] = target - transformed_predictions\n",
    "errors\n"
   ]
  },
  {
   "cell_type": "code",
   "execution_count": 17,
   "metadata": {},
   "outputs": [
    {
     "data": {
      "image/png": "[encoded data removed]",
      "text/plain": [
       "<Figure size 1300x400 with 2 Axes>"
      ]
     },
     "metadata": {},
     "output_type": "display_data"
    }
   ],
   "source": [
    "fig, (ax1, ax2) = plt.subplots(ncols=2, figsize=(13, 4))\n",
    "\n",
    "sns.boxplot(x=\"error\", data=errors, ax=ax1)\n",
    "sns.histplot(x=\"error\", data=errors, ax=ax2)\n",
    "\n",
    "plt.tight_layout();"
   ]
  },
  {
   "cell_type": "markdown",
   "metadata": {},
   "source": [
    "as we can see, we still have some significant errors, but now their magnitudes  are a bit lower (both plot are \"squeezed\" with relation to the corresponding graph of the last notebook model).\n",
    "\n",
    "Let's take a better look at the error behavior with relation to the property types."
   ]
  },
  {
   "cell_type": "markdown",
   "metadata": {},
   "source": [
    "### Error Analysis by Property Type"
   ]
  },
  {
   "cell_type": "code",
   "execution_count": 18,
   "metadata": {},
   "outputs": [
    {
     "data": {
      "image/png": "[encoded data removed]",
      "text/plain": [
       "<Figure size 1500x500 with 3 Axes>"
      ]
     },
     "metadata": {},
     "output_type": "display_data"
    }
   ],
   "source": [
    "fig, (ax1, ax2, ax3) = plt.subplots(ncols=3,figsize=(15, 5))\n",
    "\n",
    "maes = errors.groupby(\"property_type\").agg(MAE=(\"error\", np.average)).sort_values(\"MAE\", ascending=False)\n",
    "sns.barplot(x=maes.index, y=\"MAE\", data=maes, ax=ax1)\n",
    "ax1.set_xticklabels(ax1.get_xticklabels(), rotation=45, ha=\"right\")\n",
    "\n",
    "sns.boxplot(x=\"error\", y=\"property_type\", data=errors, order=maes.index, ax=ax2)\n",
    "\n",
    "prices = pd.DataFrame()\n",
    "prices[\"property_type\"] = features[\"property_type\"]\n",
    "prices[\"prices\"] = target\n",
    "sns.boxplot(x=\"prices\", y=\"property_type\", order=maes.index, data=prices, ax=ax3)\n",
    "\n",
    "plt.tight_layout();"
   ]
  },
  {
   "cell_type": "markdown",
   "metadata": {},
   "source": [
    "- The overall errors have decreased, as the highest property type error (**Penthouses**) is now almost half of the highest property error of the last notebook.\n",
    "- The three higher average error continue to be **residential buildings**, **penthouses'** and **houses**.\n",
    "- Now, **houses** have the highest error variation."
   ]
  },
  {
   "cell_type": "markdown",
   "metadata": {},
   "source": [
    "# Exporting the Final Model\n",
    "\n",
    "We'reached the end of our data analysis and model design. With those steps we've followed we can tackle almost any Data Science project.\n",
    "\n",
    "Now it's time to export our final model, so we can use it in the API service that we'll build. For this, we'll use [cloudpickle](https://github.com/cloudpipe/cloudpickle) once again."
   ]
  },
  {
   "cell_type": "code",
   "execution_count": 19,
   "metadata": {},
   "outputs": [],
   "source": [
    "model_path = P.join(\n",
    "    artifacts_root_dir, \"regression_model.pickle\"\n",
    ")\n",
    "\n",
    "with open(model_path, \"wb\") as f:\n",
    "    cloudpickle.dump(voting_regressor, f)"
   ]
  },
  {
   "cell_type": "markdown",
   "metadata": {},
   "source": [
    "And that's it. With our model exporte, we can put it to good use."
   ]
  }
 ],
 "metadata": {
  "kernelspec": {
   "display_name": ".venv",
   "language": "python",
   "name": "python3"
  },
  "language_info": {
   "codemirror_mode": {
    "name": "ipython",
    "version": 3
   },
   "file_extension": ".py",
   "mimetype": "text/x-python",
   "name": "python",
   "nbconvert_exporter": "python",
   "pygments_lexer": "ipython3",
   "version": "3.10.9"
  },
  "orig_nbformat": 4
 },
 "nbformat": 4,
 "nbformat_minor": 2
}
