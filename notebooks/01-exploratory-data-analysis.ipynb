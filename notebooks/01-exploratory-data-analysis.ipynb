{
 "cells": [
  {
   "cell_type": "code",
   "execution_count": 1,
   "id": "ceb8bee1-5d3b-48c9-8ee3-a3a7618d2fbd",
   "metadata": {},
   "outputs": [],
   "source": [
    "import numpy as np\n",
    "import pandas as pd\n",
    "import matplotlib.pyplot as plt\n",
    "import seaborn as sns"
   ]
  },
  {
   "attachments": {},
   "cell_type": "markdown",
   "id": "6d4bead2",
   "metadata": {},
   "source": [
    "# São Paulo House Prices\n",
    "\n",
    "House prices are influenced by a variety of factors including location, size, age, condition, number of bedrooms and bathrooms, amenities, and neighborhood. The location of the house is particularly important, as it determines access to transportation, schools, shopping centers, and other amenities. Size and number of bedrooms and bathrooms also play a significant role in determining the price, as larger homes with more rooms are generally more expensive.\n",
    "\n",
    "In this notebook, we will perform an Exploratory Data Analysis (EDA) of the [Kaggle's São Paulo House Price dataset](https://www.kaggle.com/datasets/ex0ticone/house-prices-of-sao-paulo-city) containing information on various features of houses locate in Brazik's São Paulo state and their sale prices. Our goal is to get a better understanding of the dataset and identify any patterns or correlations between the features and the target variable (the house price). We will use various visualization techniques and statistical methods to explore the data and gain insights.\n",
    "\n",
    "Once we have a good understanding of the data, we will move on to training a regression machine learning model on the dataset, and evaluate its performance using various metrics."
   ]
  },
  {
   "attachments": {},
   "cell_type": "markdown",
   "id": "1c4cdec2",
   "metadata": {},
   "source": [
    "## The Dataset\n",
    "\n",
    "### Dataset description\n",
    "\n",
    "This is a dataset of real estate properties in São Paulo, Brazil. It includes information such as the address, type of property, number of bedrooms, bathrooms, and parking spots, sale or rental price, among other features. Some examples of the features are:\n",
    "\n",
    "|**Feature name**|**Description**|\n",
    "|---|---|\n",
    "|**logradouro (street):**| the name of the street where the property is located.|\n",
    "|**numero (number):**| the number of the building where the property is located.|\n",
    "|**bairro (neighborhood):**| the name of the neighborhood where the property is located.|\n",
    "|**cep (zip code):**| the zip code of the property.|\n",
    "|**cidade (city):**| the city where the property is located.|\n",
    "|**tipo_imovel (property type):**| the type of property (house, apartment, flat, etc.).|\n",
    "|**area_util (usable area):**| the usable area of the property in square meters.|\n",
    "|**banheiros (bathrooms):**| the number of bathrooms in the property.|\n",
    "|**suites (suites):**| the number of suites in the property.|\n",
    "|**quartos (bedrooms):**| the number of bedrooms in the property.|\n",
    "|**vagas_garagem (parking spots):**| the number of parking spots in the property.|\n",
    "|**anuncio_criado (created ad):**| the date when the ad was created.|\n",
    "|**tipo_anuncio (ad type):**| the type of ad (sale or rental).|\n",
    "|**preco_venda (sale price):**| the price of the property if it is for sale.|\n",
    "|**taxa_condominio (condominium fee):**| the monthly fee charged by the condominium, if the property is a condominium.|\n",
    "|**periodicidade (periodicity):**| the frequency with which the rental price is charged (monthly, weekly, daily, etc.).|\n",
    "|**preco_aluguel (rental price):**| the rental price of the property.|\n",
    "|**iptu_ano (annual IPTU tax):**| the annual tax charged by the municipality.|"
   ]
  },
  {
   "cell_type": "markdown",
   "id": "768835bf",
   "metadata": {},
   "source": []
  }
 ],
 "metadata": {
  "kernelspec": {
   "display_name": "Python 3 (ipykernel)",
   "language": "python",
   "name": "python3"
  },
  "language_info": {
   "codemirror_mode": {
    "name": "ipython",
    "version": 3
   },
   "file_extension": ".py",
   "mimetype": "text/x-python",
   "name": "python",
   "nbconvert_exporter": "python",
   "pygments_lexer": "ipython3",
   "version": "3.10.9"
  }
 },
 "nbformat": 4,
 "nbformat_minor": 5
}
