{
 "cells": [
  {
   "cell_type": "markdown",
   "metadata": {},
   "source": [
    "# Hyper Parameter Tune\n",
    "\n",
    "In this notebook we'll close the cycle the best parameters for the model that we built in previously. This process is called **Hyper Parameter Optimization** and involves some steps:\n",
    "\n",
    "1. Choose a optimization metric.\n",
    "2. Create a objective function to minimize/maximize.\n",
    "3. Define a parameter search space.\n",
    "4. Execute the paramter search.\n",
    "5. Check the results. If the found parameters gives a satisfactory model performance, then we are done and proceed to use the model. Otherwise, get back to step 3 and repeat util you find a model that best suits your needs.\n",
    "\n",
    "In this project will the [Optuna Framework](https://optuna.org/), one of the best Hyper Parameter Optimization framework out there. Personally, I like Optana for its easy to use (I'll see it in a bit), but there are other great libraries that serves the same purposes very well. Some examples are:\n",
    "- [Hyperopt](http://hyperopt.github.io/hyperopt/)\n",
    "- [Ray Tune](https://docs.ray.io/en/latest/tune/index.html)\n",
    "- [Scikit-Optimize](https://scikit-optimize.github.io/stable/)\n",
    "- Scikit-learn itself, through [GridSearchCV](https://scikit-learn.org/stable/modules/generated/sklearn.model_selection.GridSearchCV.html) and [RandomizedSearchCV](https://scikit-learn.org/stable/modules/generated/sklearn.model_selection.RandomizedSearchCV.html).\n",
    "\n",
    "With some adjustments, the concepts that will be presented are easily extendable for other frameworks as well. So, feel free to use test what I will do here with any other framework you want."
   ]
  },
  {
   "cell_type": "markdown",
   "metadata": {},
   "source": []
  }
 ],
 "metadata": {
  "language_info": {
   "name": "python"
  },
  "orig_nbformat": 4
 },
 "nbformat": 4,
 "nbformat_minor": 2
}
