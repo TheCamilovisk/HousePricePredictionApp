{
 "cells": [
  {
   "cell_type": "markdown",
   "metadata": {},
   "source": [
    "# Hyper Parameter Tune\n",
    "\n",
    "In this notebook we'll close the cycle and find the best parameters for the model that we built in previously. This process is called **Hyper Parameter Optimization** and involves some steps:\n",
    "\n",
    "1. Choose a optimization metric.\n",
    "2. Create a objective function to minimize/maximize.\n",
    "3. Define a parameter search space.\n",
    "4. Execute the paramter search.\n",
    "5. Check the results. If the found parameters gives a satisfactory model performance, then we are done and proceed to use the model. Otherwise, get back to step 3 and repeat util you find a model that best suits your needs.\n",
    "\n",
    "In this project will the [Optuna Framework](https://optuna.org/), one of the best Hyper Parameter Optimization framework out there. Personally, I like Optana for its easy to use (I'll see it in a bit), but there are other great libraries that serves the same purposes very well. Some examples are:\n",
    "- [Hyperopt](http://hyperopt.github.io/hyperopt/)\n",
    "- [Ray Tune](https://docs.ray.io/en/latest/tune/index.html)\n",
    "- [Scikit-Optimize](https://scikit-optimize.github.io/stable/)\n",
    "- Scikit-learn itself, through [GridSearchCV](https://scikit-learn.org/stable/modules/generated/sklearn.model_selection.GridSearchCV.html) and [RandomizedSearchCV](https://scikit-learn.org/stable/modules/generated/sklearn.model_selection.RandomizedSearchCV.html).\n",
    "\n",
    "With some adjustments, the concepts that will be presented are easily extendable for other frameworks as well. So, feel free to use test what I will do here with any other framework you want."
   ]
  },
  {
   "cell_type": "code",
   "execution_count": 1,
   "metadata": {
    "tags": []
   },
   "outputs": [
    {
     "name": "stderr",
     "output_type": "stream",
     "text": [
      "/mnt/3273eabb-9e14-47b4-8ddd-ddb77dddcd30/workspace/HousePricePredictionApp/.venv/lib/python3.10/site-packages/tqdm/auto.py:21: TqdmWarning: IProgress not found. Please update jupyter and ipywidgets. See https://ipywidgets.readthedocs.io/en/stable/user_install.html\n",
      "  from .autonotebook import tqdm as notebook_tqdm\n"
     ]
    }
   ],
   "source": [
    "import catboost as cb\n",
    "import sklearn\n",
    "import optuna\n",
    "import pandas as pd\n",
    "import pickle\n",
    "import os.path as P\n",
    "from sklearn.metrics import mean_squared_log_error, make_scorer\n",
    "from sklearn.model_selection import train_test_split, cross_val_score\n",
    "from sklearn.ensemble import RandomForestRegressor\n",
    "from xgboost import XGBRegressor"
   ]
  },
  {
   "cell_type": "code",
   "execution_count": 2,
   "metadata": {},
   "outputs": [],
   "source": [
    "sklearn.set_config(transform_output=\"pandas\")"
   ]
  },
  {
   "cell_type": "code",
   "execution_count": 3,
   "metadata": {},
   "outputs": [],
   "source": [
    "random_state = 42"
   ]
  },
  {
   "cell_type": "markdown",
   "metadata": {},
   "source": [
    "# Data Loading\n",
    "\n",
    "## Preprocessing Pipeline\n",
    "Let's first load our preprocessing pipeline:"
   ]
  },
  {
   "cell_type": "code",
   "execution_count": 4,
   "metadata": {},
   "outputs": [],
   "source": [
    "artifacts_root_dir = P.join(P.dirname(P.abspath(\"\")), \"artifacts\")"
   ]
  },
  {
   "cell_type": "code",
   "execution_count": 5,
   "metadata": {},
   "outputs": [
    {
     "data": {
      "text/html": [
       "<style>#sk-container-id-1 {color: black;}#sk-container-id-1 pre{padding: 0;}#sk-container-id-1 div.sk-toggleable {background-color: white;}#sk-container-id-1 label.sk-toggleable__label {cursor: pointer;display: block;width: 100%;margin-bottom: 0;padding: 0.3em;box-sizing: border-box;text-align: center;}#sk-container-id-1 label.sk-toggleable__label-arrow:before {content: \"▸\";float: left;margin-right: 0.25em;color: #696969;}#sk-container-id-1 label.sk-toggleable__label-arrow:hover:before {color: black;}#sk-container-id-1 div.sk-estimator:hover label.sk-toggleable__label-arrow:before {color: black;}#sk-container-id-1 div.sk-toggleable__content {max-height: 0;max-width: 0;overflow: hidden;text-align: left;background-color: #f0f8ff;}#sk-container-id-1 div.sk-toggleable__content pre {margin: 0.2em;color: black;border-radius: 0.25em;background-color: #f0f8ff;}#sk-container-id-1 input.sk-toggleable__control:checked~div.sk-toggleable__content {max-height: 200px;max-width: 100%;overflow: auto;}#sk-container-id-1 input.sk-toggleable__control:checked~label.sk-toggleable__label-arrow:before {content: \"▾\";}#sk-container-id-1 div.sk-estimator input.sk-toggleable__control:checked~label.sk-toggleable__label {background-color: #d4ebff;}#sk-container-id-1 div.sk-label input.sk-toggleable__control:checked~label.sk-toggleable__label {background-color: #d4ebff;}#sk-container-id-1 input.sk-hidden--visually {border: 0;clip: rect(1px 1px 1px 1px);clip: rect(1px, 1px, 1px, 1px);height: 1px;margin: -1px;overflow: hidden;padding: 0;position: absolute;width: 1px;}#sk-container-id-1 div.sk-estimator {font-family: monospace;background-color: #f0f8ff;border: 1px dotted black;border-radius: 0.25em;box-sizing: border-box;margin-bottom: 0.5em;}#sk-container-id-1 div.sk-estimator:hover {background-color: #d4ebff;}#sk-container-id-1 div.sk-parallel-item::after {content: \"\";width: 100%;border-bottom: 1px solid gray;flex-grow: 1;}#sk-container-id-1 div.sk-label:hover label.sk-toggleable__label {background-color: #d4ebff;}#sk-container-id-1 div.sk-serial::before {content: \"\";position: absolute;border-left: 1px solid gray;box-sizing: border-box;top: 0;bottom: 0;left: 50%;z-index: 0;}#sk-container-id-1 div.sk-serial {display: flex;flex-direction: column;align-items: center;background-color: white;padding-right: 0.2em;padding-left: 0.2em;position: relative;}#sk-container-id-1 div.sk-item {position: relative;z-index: 1;}#sk-container-id-1 div.sk-parallel {display: flex;align-items: stretch;justify-content: center;background-color: white;position: relative;}#sk-container-id-1 div.sk-item::before, #sk-container-id-1 div.sk-parallel-item::before {content: \"\";position: absolute;border-left: 1px solid gray;box-sizing: border-box;top: 0;bottom: 0;left: 50%;z-index: -1;}#sk-container-id-1 div.sk-parallel-item {display: flex;flex-direction: column;z-index: 1;position: relative;background-color: white;}#sk-container-id-1 div.sk-parallel-item:first-child::after {align-self: flex-end;width: 50%;}#sk-container-id-1 div.sk-parallel-item:last-child::after {align-self: flex-start;width: 50%;}#sk-container-id-1 div.sk-parallel-item:only-child::after {width: 0;}#sk-container-id-1 div.sk-dashed-wrapped {border: 1px dashed gray;margin: 0 0.4em 0.5em 0.4em;box-sizing: border-box;padding-bottom: 0.4em;background-color: white;}#sk-container-id-1 div.sk-label label {font-family: monospace;font-weight: bold;display: inline-block;line-height: 1.2em;}#sk-container-id-1 div.sk-label-container {text-align: center;}#sk-container-id-1 div.sk-container {/* jupyter's `normalize.less` sets `[hidden] { display: none; }` but bootstrap.min.css set `[hidden] { display: none !important; }` so we also need the `!important` here to be able to override the default hidden behavior on the sphinx rendered scikit-learn.org. See: https://github.com/scikit-learn/scikit-learn/issues/21755 */display: inline-block !important;position: relative;}#sk-container-id-1 div.sk-text-repr-fallback {display: none;}</style><div id=\"sk-container-id-1\" class=\"sk-top-container\"><div class=\"sk-text-repr-fallback\"><pre>Pipeline(steps=[(&#x27;columntransformer-1&#x27;,\n",
       "                 ColumnTransformer(remainder=&#x27;passthrough&#x27;,\n",
       "                                   transformers=[(&#x27;simpleimputer-1&#x27;,\n",
       "                                                  SimpleImputer(fill_value=0.0),\n",
       "                                                  [&#x27;condominium_fee&#x27;, &#x27;suites&#x27;,\n",
       "                                                   &#x27;parking_spots&#x27;, &#x27;bedrooms&#x27;,\n",
       "                                                   &#x27;bathrooms&#x27;]),\n",
       "                                                 (&#x27;simpleimputer-2&#x27;,\n",
       "                                                  SimpleImputer(),\n",
       "                                                  [&#x27;annual_iptu_tax&#x27;,\n",
       "                                                   &#x27;usable_area&#x27;])],\n",
       "                                   verbose_feature_names_out=False)),\n",
       "                (&#x27;featureunion-1&#x27;,\n",
       "                 FeatureUnion(t...\n",
       "                 ColumnTransformer(remainder=MinMaxScaler(),\n",
       "                                   transformers=[(&#x27;onehotencoder&#x27;,\n",
       "                                                  OneHotEncoder(sparse_output=False),\n",
       "                                                  [&#x27;property_type&#x27;]),\n",
       "                                                 (&#x27;standardscaler&#x27;,\n",
       "                                                  StandardScaler(),\n",
       "                                                  [&#x27;usable_area&#x27;,\n",
       "                                                   &#x27;condominium_fee&#x27;,\n",
       "                                                   &#x27;annual_iptu_tax&#x27;,\n",
       "                                                   &#x27;condominium_per_area&#x27;,\n",
       "                                                   &#x27;iptu_per_area&#x27;,\n",
       "                                                   &#x27;neighborhood_condominium_per_area&#x27;,\n",
       "                                                   &#x27;neighborhood_iptu_per_area&#x27;])],\n",
       "                                   verbose_feature_names_out=False))])</pre><b>In a Jupyter environment, please rerun this cell to show the HTML representation or trust the notebook. <br />On GitHub, the HTML representation is unable to render, please try loading this page with nbviewer.org.</b></div><div class=\"sk-container\" hidden><div class=\"sk-item sk-dashed-wrapped\"><div class=\"sk-label-container\"><div class=\"sk-label sk-toggleable\"><input class=\"sk-toggleable__control sk-hidden--visually\" id=\"sk-estimator-id-1\" type=\"checkbox\" ><label for=\"sk-estimator-id-1\" class=\"sk-toggleable__label sk-toggleable__label-arrow\">Pipeline</label><div class=\"sk-toggleable__content\"><pre>Pipeline(steps=[(&#x27;columntransformer-1&#x27;,\n",
       "                 ColumnTransformer(remainder=&#x27;passthrough&#x27;,\n",
       "                                   transformers=[(&#x27;simpleimputer-1&#x27;,\n",
       "                                                  SimpleImputer(fill_value=0.0),\n",
       "                                                  [&#x27;condominium_fee&#x27;, &#x27;suites&#x27;,\n",
       "                                                   &#x27;parking_spots&#x27;, &#x27;bedrooms&#x27;,\n",
       "                                                   &#x27;bathrooms&#x27;]),\n",
       "                                                 (&#x27;simpleimputer-2&#x27;,\n",
       "                                                  SimpleImputer(),\n",
       "                                                  [&#x27;annual_iptu_tax&#x27;,\n",
       "                                                   &#x27;usable_area&#x27;])],\n",
       "                                   verbose_feature_names_out=False)),\n",
       "                (&#x27;featureunion-1&#x27;,\n",
       "                 FeatureUnion(t...\n",
       "                 ColumnTransformer(remainder=MinMaxScaler(),\n",
       "                                   transformers=[(&#x27;onehotencoder&#x27;,\n",
       "                                                  OneHotEncoder(sparse_output=False),\n",
       "                                                  [&#x27;property_type&#x27;]),\n",
       "                                                 (&#x27;standardscaler&#x27;,\n",
       "                                                  StandardScaler(),\n",
       "                                                  [&#x27;usable_area&#x27;,\n",
       "                                                   &#x27;condominium_fee&#x27;,\n",
       "                                                   &#x27;annual_iptu_tax&#x27;,\n",
       "                                                   &#x27;condominium_per_area&#x27;,\n",
       "                                                   &#x27;iptu_per_area&#x27;,\n",
       "                                                   &#x27;neighborhood_condominium_per_area&#x27;,\n",
       "                                                   &#x27;neighborhood_iptu_per_area&#x27;])],\n",
       "                                   verbose_feature_names_out=False))])</pre></div></div></div><div class=\"sk-serial\"><div class=\"sk-item sk-dashed-wrapped\"><div class=\"sk-label-container\"><div class=\"sk-label sk-toggleable\"><input class=\"sk-toggleable__control sk-hidden--visually\" id=\"sk-estimator-id-2\" type=\"checkbox\" ><label for=\"sk-estimator-id-2\" class=\"sk-toggleable__label sk-toggleable__label-arrow\">columntransformer-1: ColumnTransformer</label><div class=\"sk-toggleable__content\"><pre>ColumnTransformer(remainder=&#x27;passthrough&#x27;,\n",
       "                  transformers=[(&#x27;simpleimputer-1&#x27;,\n",
       "                                 SimpleImputer(fill_value=0.0),\n",
       "                                 [&#x27;condominium_fee&#x27;, &#x27;suites&#x27;, &#x27;parking_spots&#x27;,\n",
       "                                  &#x27;bedrooms&#x27;, &#x27;bathrooms&#x27;]),\n",
       "                                (&#x27;simpleimputer-2&#x27;, SimpleImputer(),\n",
       "                                 [&#x27;annual_iptu_tax&#x27;, &#x27;usable_area&#x27;])],\n",
       "                  verbose_feature_names_out=False)</pre></div></div></div><div class=\"sk-parallel\"><div class=\"sk-parallel-item\"><div class=\"sk-item\"><div class=\"sk-label-container\"><div class=\"sk-label sk-toggleable\"><input class=\"sk-toggleable__control sk-hidden--visually\" id=\"sk-estimator-id-3\" type=\"checkbox\" ><label for=\"sk-estimator-id-3\" class=\"sk-toggleable__label sk-toggleable__label-arrow\">simpleimputer-1</label><div class=\"sk-toggleable__content\"><pre>[&#x27;condominium_fee&#x27;, &#x27;suites&#x27;, &#x27;parking_spots&#x27;, &#x27;bedrooms&#x27;, &#x27;bathrooms&#x27;]</pre></div></div></div><div class=\"sk-serial\"><div class=\"sk-item\"><div class=\"sk-estimator sk-toggleable\"><input class=\"sk-toggleable__control sk-hidden--visually\" id=\"sk-estimator-id-4\" type=\"checkbox\" ><label for=\"sk-estimator-id-4\" class=\"sk-toggleable__label sk-toggleable__label-arrow\">SimpleImputer</label><div class=\"sk-toggleable__content\"><pre>SimpleImputer(fill_value=0.0)</pre></div></div></div></div></div></div><div class=\"sk-parallel-item\"><div class=\"sk-item\"><div class=\"sk-label-container\"><div class=\"sk-label sk-toggleable\"><input class=\"sk-toggleable__control sk-hidden--visually\" id=\"sk-estimator-id-5\" type=\"checkbox\" ><label for=\"sk-estimator-id-5\" class=\"sk-toggleable__label sk-toggleable__label-arrow\">simpleimputer-2</label><div class=\"sk-toggleable__content\"><pre>[&#x27;annual_iptu_tax&#x27;, &#x27;usable_area&#x27;]</pre></div></div></div><div class=\"sk-serial\"><div class=\"sk-item\"><div class=\"sk-estimator sk-toggleable\"><input class=\"sk-toggleable__control sk-hidden--visually\" id=\"sk-estimator-id-6\" type=\"checkbox\" ><label for=\"sk-estimator-id-6\" class=\"sk-toggleable__label sk-toggleable__label-arrow\">SimpleImputer</label><div class=\"sk-toggleable__content\"><pre>SimpleImputer()</pre></div></div></div></div></div></div><div class=\"sk-parallel-item\"><div class=\"sk-item\"><div class=\"sk-label-container\"><div class=\"sk-label sk-toggleable\"><input class=\"sk-toggleable__control sk-hidden--visually\" id=\"sk-estimator-id-7\" type=\"checkbox\" ><label for=\"sk-estimator-id-7\" class=\"sk-toggleable__label sk-toggleable__label-arrow\">remainder</label><div class=\"sk-toggleable__content\"><pre>[&#x27;neighborhood&#x27;, &#x27;property_type&#x27;, &#x27;ad_date&#x27;]</pre></div></div></div><div class=\"sk-serial\"><div class=\"sk-item\"><div class=\"sk-estimator sk-toggleable\"><input class=\"sk-toggleable__control sk-hidden--visually\" id=\"sk-estimator-id-8\" type=\"checkbox\" ><label for=\"sk-estimator-id-8\" class=\"sk-toggleable__label sk-toggleable__label-arrow\">passthrough</label><div class=\"sk-toggleable__content\"><pre>passthrough</pre></div></div></div></div></div></div></div></div><div class=\"sk-item sk-dashed-wrapped\"><div class=\"sk-label-container\"><div class=\"sk-label sk-toggleable\"><input class=\"sk-toggleable__control sk-hidden--visually\" id=\"sk-estimator-id-9\" type=\"checkbox\" ><label for=\"sk-estimator-id-9\" class=\"sk-toggleable__label sk-toggleable__label-arrow\">featureunion-1: FeatureUnion</label><div class=\"sk-toggleable__content\"><pre>FeatureUnion(transformer_list=[(&#x27;passthrough&#x27;,\n",
       "                                FunctionTransformer(feature_names_out=&#x27;one-to-one&#x27;)),\n",
       "                               (&#x27;functiontransformer&#x27;,\n",
       "                                FunctionTransformer(func=&lt;function add_area_scores at 0x7f5fba0c7520&gt;))])</pre></div></div></div><div class=\"sk-parallel\"><div class=\"sk-parallel-item\"><div class=\"sk-item\"><div class=\"sk-label-container\"><div class=\"sk-label sk-toggleable\"><label>passthrough</label></div></div><div class=\"sk-serial\"><div class=\"sk-item\"><div class=\"sk-estimator sk-toggleable\"><input class=\"sk-toggleable__control sk-hidden--visually\" id=\"sk-estimator-id-10\" type=\"checkbox\" ><label for=\"sk-estimator-id-10\" class=\"sk-toggleable__label sk-toggleable__label-arrow\">FunctionTransformer</label><div class=\"sk-toggleable__content\"><pre>FunctionTransformer(feature_names_out=&#x27;one-to-one&#x27;)</pre></div></div></div></div></div></div><div class=\"sk-parallel-item\"><div class=\"sk-item\"><div class=\"sk-label-container\"><div class=\"sk-label sk-toggleable\"><label>functiontransformer</label></div></div><div class=\"sk-serial\"><div class=\"sk-item\"><div class=\"sk-estimator sk-toggleable\"><input class=\"sk-toggleable__control sk-hidden--visually\" id=\"sk-estimator-id-11\" type=\"checkbox\" ><label for=\"sk-estimator-id-11\" class=\"sk-toggleable__label sk-toggleable__label-arrow\">FunctionTransformer</label><div class=\"sk-toggleable__content\"><pre>FunctionTransformer(func=&lt;function add_area_scores at 0x7f5fba0c7520&gt;)</pre></div></div></div></div></div></div></div></div><div class=\"sk-item sk-dashed-wrapped\"><div class=\"sk-label-container\"><div class=\"sk-label sk-toggleable\"><input class=\"sk-toggleable__control sk-hidden--visually\" id=\"sk-estimator-id-12\" type=\"checkbox\" ><label for=\"sk-estimator-id-12\" class=\"sk-toggleable__label sk-toggleable__label-arrow\">featureunion-2: FeatureUnion</label><div class=\"sk-toggleable__content\"><pre>FeatureUnion(transformer_list=[(&#x27;passthrough&#x27;,\n",
       "                                FunctionTransformer(feature_names_out=&#x27;one-to-one&#x27;)),\n",
       "                               (&#x27;neighborhoodscores&#x27;, NeighborhoodScores())])</pre></div></div></div><div class=\"sk-parallel\"><div class=\"sk-parallel-item\"><div class=\"sk-item\"><div class=\"sk-label-container\"><div class=\"sk-label sk-toggleable\"><label>passthrough</label></div></div><div class=\"sk-serial\"><div class=\"sk-item\"><div class=\"sk-estimator sk-toggleable\"><input class=\"sk-toggleable__control sk-hidden--visually\" id=\"sk-estimator-id-13\" type=\"checkbox\" ><label for=\"sk-estimator-id-13\" class=\"sk-toggleable__label sk-toggleable__label-arrow\">FunctionTransformer</label><div class=\"sk-toggleable__content\"><pre>FunctionTransformer(feature_names_out=&#x27;one-to-one&#x27;)</pre></div></div></div></div></div></div><div class=\"sk-parallel-item\"><div class=\"sk-item\"><div class=\"sk-label-container\"><div class=\"sk-label sk-toggleable\"><label>neighborhoodscores</label></div></div><div class=\"sk-serial\"><div class=\"sk-item\"><div class=\"sk-estimator sk-toggleable\"><input class=\"sk-toggleable__control sk-hidden--visually\" id=\"sk-estimator-id-14\" type=\"checkbox\" ><label for=\"sk-estimator-id-14\" class=\"sk-toggleable__label sk-toggleable__label-arrow\">NeighborhoodScores</label><div class=\"sk-toggleable__content\"><pre>NeighborhoodScores()</pre></div></div></div></div></div></div></div></div><div class=\"sk-item\"><div class=\"sk-estimator sk-toggleable\"><input class=\"sk-toggleable__control sk-hidden--visually\" id=\"sk-estimator-id-15\" type=\"checkbox\" ><label for=\"sk-estimator-id-15\" class=\"sk-toggleable__label sk-toggleable__label-arrow\">FunctionTransformer</label><div class=\"sk-toggleable__content\"><pre>FunctionTransformer(func=&lt;function &lt;lambda&gt; at 0x7f5f273924d0&gt;)</pre></div></div></div><div class=\"sk-item sk-dashed-wrapped\"><div class=\"sk-label-container\"><div class=\"sk-label sk-toggleable\"><input class=\"sk-toggleable__control sk-hidden--visually\" id=\"sk-estimator-id-16\" type=\"checkbox\" ><label for=\"sk-estimator-id-16\" class=\"sk-toggleable__label sk-toggleable__label-arrow\">columntransformer-2: ColumnTransformer</label><div class=\"sk-toggleable__content\"><pre>ColumnTransformer(remainder=MinMaxScaler(),\n",
       "                  transformers=[(&#x27;onehotencoder&#x27;,\n",
       "                                 OneHotEncoder(sparse_output=False),\n",
       "                                 [&#x27;property_type&#x27;]),\n",
       "                                (&#x27;standardscaler&#x27;, StandardScaler(),\n",
       "                                 [&#x27;usable_area&#x27;, &#x27;condominium_fee&#x27;,\n",
       "                                  &#x27;annual_iptu_tax&#x27;, &#x27;condominium_per_area&#x27;,\n",
       "                                  &#x27;iptu_per_area&#x27;,\n",
       "                                  &#x27;neighborhood_condominium_per_area&#x27;,\n",
       "                                  &#x27;neighborhood_iptu_per_area&#x27;])],\n",
       "                  verbose_feature_names_out=False)</pre></div></div></div><div class=\"sk-parallel\"><div class=\"sk-parallel-item\"><div class=\"sk-item\"><div class=\"sk-label-container\"><div class=\"sk-label sk-toggleable\"><input class=\"sk-toggleable__control sk-hidden--visually\" id=\"sk-estimator-id-17\" type=\"checkbox\" ><label for=\"sk-estimator-id-17\" class=\"sk-toggleable__label sk-toggleable__label-arrow\">onehotencoder</label><div class=\"sk-toggleable__content\"><pre>[&#x27;property_type&#x27;]</pre></div></div></div><div class=\"sk-serial\"><div class=\"sk-item\"><div class=\"sk-estimator sk-toggleable\"><input class=\"sk-toggleable__control sk-hidden--visually\" id=\"sk-estimator-id-18\" type=\"checkbox\" ><label for=\"sk-estimator-id-18\" class=\"sk-toggleable__label sk-toggleable__label-arrow\">OneHotEncoder</label><div class=\"sk-toggleable__content\"><pre>OneHotEncoder(sparse_output=False)</pre></div></div></div></div></div></div><div class=\"sk-parallel-item\"><div class=\"sk-item\"><div class=\"sk-label-container\"><div class=\"sk-label sk-toggleable\"><input class=\"sk-toggleable__control sk-hidden--visually\" id=\"sk-estimator-id-19\" type=\"checkbox\" ><label for=\"sk-estimator-id-19\" class=\"sk-toggleable__label sk-toggleable__label-arrow\">standardscaler</label><div class=\"sk-toggleable__content\"><pre>[&#x27;usable_area&#x27;, &#x27;condominium_fee&#x27;, &#x27;annual_iptu_tax&#x27;, &#x27;condominium_per_area&#x27;, &#x27;iptu_per_area&#x27;, &#x27;neighborhood_condominium_per_area&#x27;, &#x27;neighborhood_iptu_per_area&#x27;]</pre></div></div></div><div class=\"sk-serial\"><div class=\"sk-item\"><div class=\"sk-estimator sk-toggleable\"><input class=\"sk-toggleable__control sk-hidden--visually\" id=\"sk-estimator-id-20\" type=\"checkbox\" ><label for=\"sk-estimator-id-20\" class=\"sk-toggleable__label sk-toggleable__label-arrow\">StandardScaler</label><div class=\"sk-toggleable__content\"><pre>StandardScaler()</pre></div></div></div></div></div></div><div class=\"sk-parallel-item\"><div class=\"sk-item\"><div class=\"sk-label-container\"><div class=\"sk-label sk-toggleable\"><input class=\"sk-toggleable__control sk-hidden--visually\" id=\"sk-estimator-id-21\" type=\"checkbox\" ><label for=\"sk-estimator-id-21\" class=\"sk-toggleable__label sk-toggleable__label-arrow\">remainder</label><div class=\"sk-toggleable__content\"><pre>[&#x27;suites&#x27;, &#x27;parking_spots&#x27;, &#x27;bedrooms&#x27;, &#x27;bathrooms&#x27;]</pre></div></div></div><div class=\"sk-serial\"><div class=\"sk-item\"><div class=\"sk-estimator sk-toggleable\"><input class=\"sk-toggleable__control sk-hidden--visually\" id=\"sk-estimator-id-22\" type=\"checkbox\" ><label for=\"sk-estimator-id-22\" class=\"sk-toggleable__label sk-toggleable__label-arrow\">MinMaxScaler</label><div class=\"sk-toggleable__content\"><pre>MinMaxScaler()</pre></div></div></div></div></div></div></div></div></div></div></div></div>"
      ],
      "text/plain": [
       "Pipeline(steps=[('columntransformer-1',\n",
       "                 ColumnTransformer(remainder='passthrough',\n",
       "                                   transformers=[('simpleimputer-1',\n",
       "                                                  SimpleImputer(fill_value=0.0),\n",
       "                                                  ['condominium_fee', 'suites',\n",
       "                                                   'parking_spots', 'bedrooms',\n",
       "                                                   'bathrooms']),\n",
       "                                                 ('simpleimputer-2',\n",
       "                                                  SimpleImputer(),\n",
       "                                                  ['annual_iptu_tax',\n",
       "                                                   'usable_area'])],\n",
       "                                   verbose_feature_names_out=False)),\n",
       "                ('featureunion-1',\n",
       "                 FeatureUnion(t...\n",
       "                 ColumnTransformer(remainder=MinMaxScaler(),\n",
       "                                   transformers=[('onehotencoder',\n",
       "                                                  OneHotEncoder(sparse_output=False),\n",
       "                                                  ['property_type']),\n",
       "                                                 ('standardscaler',\n",
       "                                                  StandardScaler(),\n",
       "                                                  ['usable_area',\n",
       "                                                   'condominium_fee',\n",
       "                                                   'annual_iptu_tax',\n",
       "                                                   'condominium_per_area',\n",
       "                                                   'iptu_per_area',\n",
       "                                                   'neighborhood_condominium_per_area',\n",
       "                                                   'neighborhood_iptu_per_area'])],\n",
       "                                   verbose_feature_names_out=False))])"
      ]
     },
     "execution_count": 5,
     "metadata": {},
     "output_type": "execute_result"
    }
   ],
   "source": [
    "preprocessing_pipeline_path = P.join(\n",
    "    artifacts_root_dir, \"preprocessing_pipeline.pickle\"\n",
    ")\n",
    "\n",
    "with open(preprocessing_pipeline_path, \"rb\") as f:\n",
    "    preprocessing_pipeline = pickle.load(f)\n",
    "\n",
    "preprocessing_pipeline\n"
   ]
  },
  {
   "cell_type": "code",
   "execution_count": 6,
   "metadata": {},
   "outputs": [
    {
     "data": {
      "text/html": [
       "<style>#sk-container-id-2 {color: black;}#sk-container-id-2 pre{padding: 0;}#sk-container-id-2 div.sk-toggleable {background-color: white;}#sk-container-id-2 label.sk-toggleable__label {cursor: pointer;display: block;width: 100%;margin-bottom: 0;padding: 0.3em;box-sizing: border-box;text-align: center;}#sk-container-id-2 label.sk-toggleable__label-arrow:before {content: \"▸\";float: left;margin-right: 0.25em;color: #696969;}#sk-container-id-2 label.sk-toggleable__label-arrow:hover:before {color: black;}#sk-container-id-2 div.sk-estimator:hover label.sk-toggleable__label-arrow:before {color: black;}#sk-container-id-2 div.sk-toggleable__content {max-height: 0;max-width: 0;overflow: hidden;text-align: left;background-color: #f0f8ff;}#sk-container-id-2 div.sk-toggleable__content pre {margin: 0.2em;color: black;border-radius: 0.25em;background-color: #f0f8ff;}#sk-container-id-2 input.sk-toggleable__control:checked~div.sk-toggleable__content {max-height: 200px;max-width: 100%;overflow: auto;}#sk-container-id-2 input.sk-toggleable__control:checked~label.sk-toggleable__label-arrow:before {content: \"▾\";}#sk-container-id-2 div.sk-estimator input.sk-toggleable__control:checked~label.sk-toggleable__label {background-color: #d4ebff;}#sk-container-id-2 div.sk-label input.sk-toggleable__control:checked~label.sk-toggleable__label {background-color: #d4ebff;}#sk-container-id-2 input.sk-hidden--visually {border: 0;clip: rect(1px 1px 1px 1px);clip: rect(1px, 1px, 1px, 1px);height: 1px;margin: -1px;overflow: hidden;padding: 0;position: absolute;width: 1px;}#sk-container-id-2 div.sk-estimator {font-family: monospace;background-color: #f0f8ff;border: 1px dotted black;border-radius: 0.25em;box-sizing: border-box;margin-bottom: 0.5em;}#sk-container-id-2 div.sk-estimator:hover {background-color: #d4ebff;}#sk-container-id-2 div.sk-parallel-item::after {content: \"\";width: 100%;border-bottom: 1px solid gray;flex-grow: 1;}#sk-container-id-2 div.sk-label:hover label.sk-toggleable__label {background-color: #d4ebff;}#sk-container-id-2 div.sk-serial::before {content: \"\";position: absolute;border-left: 1px solid gray;box-sizing: border-box;top: 0;bottom: 0;left: 50%;z-index: 0;}#sk-container-id-2 div.sk-serial {display: flex;flex-direction: column;align-items: center;background-color: white;padding-right: 0.2em;padding-left: 0.2em;position: relative;}#sk-container-id-2 div.sk-item {position: relative;z-index: 1;}#sk-container-id-2 div.sk-parallel {display: flex;align-items: stretch;justify-content: center;background-color: white;position: relative;}#sk-container-id-2 div.sk-item::before, #sk-container-id-2 div.sk-parallel-item::before {content: \"\";position: absolute;border-left: 1px solid gray;box-sizing: border-box;top: 0;bottom: 0;left: 50%;z-index: -1;}#sk-container-id-2 div.sk-parallel-item {display: flex;flex-direction: column;z-index: 1;position: relative;background-color: white;}#sk-container-id-2 div.sk-parallel-item:first-child::after {align-self: flex-end;width: 50%;}#sk-container-id-2 div.sk-parallel-item:last-child::after {align-self: flex-start;width: 50%;}#sk-container-id-2 div.sk-parallel-item:only-child::after {width: 0;}#sk-container-id-2 div.sk-dashed-wrapped {border: 1px dashed gray;margin: 0 0.4em 0.5em 0.4em;box-sizing: border-box;padding-bottom: 0.4em;background-color: white;}#sk-container-id-2 div.sk-label label {font-family: monospace;font-weight: bold;display: inline-block;line-height: 1.2em;}#sk-container-id-2 div.sk-label-container {text-align: center;}#sk-container-id-2 div.sk-container {/* jupyter's `normalize.less` sets `[hidden] { display: none; }` but bootstrap.min.css set `[hidden] { display: none !important; }` so we also need the `!important` here to be able to override the default hidden behavior on the sphinx rendered scikit-learn.org. See: https://github.com/scikit-learn/scikit-learn/issues/21755 */display: inline-block !important;position: relative;}#sk-container-id-2 div.sk-text-repr-fallback {display: none;}</style><div id=\"sk-container-id-2\" class=\"sk-top-container\"><div class=\"sk-text-repr-fallback\"><pre>FunctionTransformer(func=&lt;ufunc &#x27;log&#x27;&gt;, inverse_func=&lt;ufunc &#x27;exp&#x27;&gt;)</pre><b>In a Jupyter environment, please rerun this cell to show the HTML representation or trust the notebook. <br />On GitHub, the HTML representation is unable to render, please try loading this page with nbviewer.org.</b></div><div class=\"sk-container\" hidden><div class=\"sk-item\"><div class=\"sk-estimator sk-toggleable\"><input class=\"sk-toggleable__control sk-hidden--visually\" id=\"sk-estimator-id-23\" type=\"checkbox\" checked><label for=\"sk-estimator-id-23\" class=\"sk-toggleable__label sk-toggleable__label-arrow\">FunctionTransformer</label><div class=\"sk-toggleable__content\"><pre>FunctionTransformer(func=&lt;ufunc &#x27;log&#x27;&gt;, inverse_func=&lt;ufunc &#x27;exp&#x27;&gt;)</pre></div></div></div></div></div>"
      ],
      "text/plain": [
       "FunctionTransformer(func=<ufunc 'log'>, inverse_func=<ufunc 'exp'>)"
      ]
     },
     "execution_count": 6,
     "metadata": {},
     "output_type": "execute_result"
    }
   ],
   "source": [
    "target_transform_path = P.join(artifacts_root_dir, \"target_transform.pickle\")\n",
    "\n",
    "with open(target_transform_path, \"rb\") as f:\n",
    "    target_transform = pickle.load(f)\n",
    "\n",
    "target_transform"
   ]
  },
  {
   "cell_type": "markdown",
   "metadata": {},
   "source": [
    "## Dataset\n",
    "\n",
    "Let's also load the dataset"
   ]
  },
  {
   "cell_type": "code",
   "execution_count": 7,
   "metadata": {},
   "outputs": [],
   "source": [
    "preprocessed_dataset_root_dir = P.join(P.dirname(P.abspath(\"\")), \"data\", \"processed\")"
   ]
  },
  {
   "cell_type": "code",
   "execution_count": 8,
   "metadata": {},
   "outputs": [
    {
     "data": {
      "text/html": [
       "<div>\n",
       "<style scoped>\n",
       "    .dataframe tbody tr th:only-of-type {\n",
       "        vertical-align: middle;\n",
       "    }\n",
       "\n",
       "    .dataframe tbody tr th {\n",
       "        vertical-align: top;\n",
       "    }\n",
       "\n",
       "    .dataframe thead th {\n",
       "        text-align: right;\n",
       "    }\n",
       "</style>\n",
       "<table border=\"1\" class=\"dataframe\">\n",
       "  <thead>\n",
       "    <tr style=\"text-align: right;\">\n",
       "      <th></th>\n",
       "      <th>neighborhood</th>\n",
       "      <th>property_type</th>\n",
       "      <th>usable_area</th>\n",
       "      <th>bathrooms</th>\n",
       "      <th>suites</th>\n",
       "      <th>bedrooms</th>\n",
       "      <th>parking_spots</th>\n",
       "      <th>ad_date</th>\n",
       "      <th>condominium_fee</th>\n",
       "      <th>annual_iptu_tax</th>\n",
       "    </tr>\n",
       "  </thead>\n",
       "  <tbody>\n",
       "    <tr>\n",
       "      <th>0</th>\n",
       "      <td>Jardim da Saude</td>\n",
       "      <td>Two-story House</td>\n",
       "      <td>388.0</td>\n",
       "      <td>3.0</td>\n",
       "      <td>1.0</td>\n",
       "      <td>4.0</td>\n",
       "      <td>6.0</td>\n",
       "      <td>2017-02-07</td>\n",
       "      <td>NaN</td>\n",
       "      <td>NaN</td>\n",
       "    </tr>\n",
       "    <tr>\n",
       "      <th>1</th>\n",
       "      <td>Vila Santa Teresa (Zona Sul)</td>\n",
       "      <td>House</td>\n",
       "      <td>129.0</td>\n",
       "      <td>2.0</td>\n",
       "      <td>1.0</td>\n",
       "      <td>3.0</td>\n",
       "      <td>2.0</td>\n",
       "      <td>2016-03-21</td>\n",
       "      <td>NaN</td>\n",
       "      <td>NaN</td>\n",
       "    </tr>\n",
       "    <tr>\n",
       "      <th>2</th>\n",
       "      <td>Vila Olimpia</td>\n",
       "      <td>Apartament</td>\n",
       "      <td>80.0</td>\n",
       "      <td>2.0</td>\n",
       "      <td>1.0</td>\n",
       "      <td>3.0</td>\n",
       "      <td>2.0</td>\n",
       "      <td>2018-10-26</td>\n",
       "      <td>686.0</td>\n",
       "      <td>1610.0</td>\n",
       "    </tr>\n",
       "    <tr>\n",
       "      <th>3</th>\n",
       "      <td>Pinheiros</td>\n",
       "      <td>Apartament</td>\n",
       "      <td>94.0</td>\n",
       "      <td>1.0</td>\n",
       "      <td>0.0</td>\n",
       "      <td>3.0</td>\n",
       "      <td>2.0</td>\n",
       "      <td>2018-05-29</td>\n",
       "      <td>1120.0</td>\n",
       "      <td>489.0</td>\n",
       "    </tr>\n",
       "    <tr>\n",
       "      <th>4</th>\n",
       "      <td>Vila Santa Clara</td>\n",
       "      <td>Condominium</td>\n",
       "      <td>110.0</td>\n",
       "      <td>1.0</td>\n",
       "      <td>1.0</td>\n",
       "      <td>3.0</td>\n",
       "      <td>2.0</td>\n",
       "      <td>2018-04-16</td>\n",
       "      <td>0.0</td>\n",
       "      <td>0.0</td>\n",
       "    </tr>\n",
       "    <tr>\n",
       "      <th>...</th>\n",
       "      <td>...</td>\n",
       "      <td>...</td>\n",
       "      <td>...</td>\n",
       "      <td>...</td>\n",
       "      <td>...</td>\n",
       "      <td>...</td>\n",
       "      <td>...</td>\n",
       "      <td>...</td>\n",
       "      <td>...</td>\n",
       "      <td>...</td>\n",
       "    </tr>\n",
       "    <tr>\n",
       "      <th>88742</th>\n",
       "      <td>Vila Carmosina</td>\n",
       "      <td>Apartament</td>\n",
       "      <td>48.0</td>\n",
       "      <td>1.0</td>\n",
       "      <td>0.0</td>\n",
       "      <td>2.0</td>\n",
       "      <td>1.0</td>\n",
       "      <td>2017-10-07</td>\n",
       "      <td>244.0</td>\n",
       "      <td>0.0</td>\n",
       "    </tr>\n",
       "    <tr>\n",
       "      <th>88743</th>\n",
       "      <td>Bela Vista</td>\n",
       "      <td>Apartament</td>\n",
       "      <td>60.0</td>\n",
       "      <td>1.0</td>\n",
       "      <td>NaN</td>\n",
       "      <td>1.0</td>\n",
       "      <td>1.0</td>\n",
       "      <td>2017-12-13</td>\n",
       "      <td>273.0</td>\n",
       "      <td>86.0</td>\n",
       "    </tr>\n",
       "    <tr>\n",
       "      <th>88744</th>\n",
       "      <td>Liberdade</td>\n",
       "      <td>Apartament</td>\n",
       "      <td>53.0</td>\n",
       "      <td>2.0</td>\n",
       "      <td>1.0</td>\n",
       "      <td>2.0</td>\n",
       "      <td>1.0</td>\n",
       "      <td>2018-11-28</td>\n",
       "      <td>210.0</td>\n",
       "      <td>0.0</td>\n",
       "    </tr>\n",
       "    <tr>\n",
       "      <th>88745</th>\n",
       "      <td>Vila Lageado</td>\n",
       "      <td>Apartament</td>\n",
       "      <td>20.0</td>\n",
       "      <td>3.0</td>\n",
       "      <td>2.0</td>\n",
       "      <td>3.0</td>\n",
       "      <td>2.0</td>\n",
       "      <td>2019-02-06</td>\n",
       "      <td>NaN</td>\n",
       "      <td>NaN</td>\n",
       "    </tr>\n",
       "    <tr>\n",
       "      <th>88746</th>\n",
       "      <td>Alto de Pinheiros</td>\n",
       "      <td>Two-story House</td>\n",
       "      <td>357.0</td>\n",
       "      <td>4.0</td>\n",
       "      <td>1.0</td>\n",
       "      <td>4.0</td>\n",
       "      <td>4.0</td>\n",
       "      <td>2018-04-14</td>\n",
       "      <td>0.0</td>\n",
       "      <td>665.0</td>\n",
       "    </tr>\n",
       "  </tbody>\n",
       "</table>\n",
       "<p>88747 rows × 10 columns</p>\n",
       "</div>"
      ],
      "text/plain": [
       "                       neighborhood    property_type  usable_area  bathrooms  \\\n",
       "0                   Jardim da Saude  Two-story House        388.0        3.0   \n",
       "1      Vila Santa Teresa (Zona Sul)            House        129.0        2.0   \n",
       "2                      Vila Olimpia       Apartament         80.0        2.0   \n",
       "3                         Pinheiros       Apartament         94.0        1.0   \n",
       "4                  Vila Santa Clara      Condominium        110.0        1.0   \n",
       "...                             ...              ...          ...        ...   \n",
       "88742                Vila Carmosina       Apartament         48.0        1.0   \n",
       "88743                    Bela Vista       Apartament         60.0        1.0   \n",
       "88744                     Liberdade       Apartament         53.0        2.0   \n",
       "88745                  Vila Lageado       Apartament         20.0        3.0   \n",
       "88746             Alto de Pinheiros  Two-story House        357.0        4.0   \n",
       "\n",
       "       suites  bedrooms  parking_spots    ad_date  condominium_fee  \\\n",
       "0         1.0       4.0            6.0 2017-02-07              NaN   \n",
       "1         1.0       3.0            2.0 2016-03-21              NaN   \n",
       "2         1.0       3.0            2.0 2018-10-26            686.0   \n",
       "3         0.0       3.0            2.0 2018-05-29           1120.0   \n",
       "4         1.0       3.0            2.0 2018-04-16              0.0   \n",
       "...       ...       ...            ...        ...              ...   \n",
       "88742     0.0       2.0            1.0 2017-10-07            244.0   \n",
       "88743     NaN       1.0            1.0 2017-12-13            273.0   \n",
       "88744     1.0       2.0            1.0 2018-11-28            210.0   \n",
       "88745     2.0       3.0            2.0 2019-02-06              NaN   \n",
       "88746     1.0       4.0            4.0 2018-04-14              0.0   \n",
       "\n",
       "       annual_iptu_tax  \n",
       "0                  NaN  \n",
       "1                  NaN  \n",
       "2               1610.0  \n",
       "3                489.0  \n",
       "4                  0.0  \n",
       "...                ...  \n",
       "88742              0.0  \n",
       "88743             86.0  \n",
       "88744              0.0  \n",
       "88745              NaN  \n",
       "88746            665.0  \n",
       "\n",
       "[88747 rows x 10 columns]"
      ]
     },
     "metadata": {},
     "output_type": "display_data"
    },
    {
     "data": {
      "text/plain": [
       "0         700000\n",
       "1         336000\n",
       "2         739643\n",
       "3         630700\n",
       "4         385000\n",
       "          ...   \n",
       "88742     171150\n",
       "88743     251999\n",
       "88744     249782\n",
       "88745     623000\n",
       "88746    1820000\n",
       "Name: sale_price, Length: 88747, dtype: int64"
      ]
     },
     "metadata": {},
     "output_type": "display_data"
    }
   ],
   "source": [
    "df_file = P.join(preprocessed_dataset_root_dir, \"sp_sales_data.parquet\")\n",
    "\n",
    "features = pd.read_parquet(df_file)\n",
    "target = features.pop(\"sale_price\")\n",
    "\n",
    "display(features)\n",
    "display(target)"
   ]
  },
  {
   "cell_type": "markdown",
   "metadata": {},
   "source": [
    "Let's also apply the data transformation pipeline."
   ]
  },
  {
   "cell_type": "code",
   "execution_count": 9,
   "metadata": {},
   "outputs": [
    {
     "data": {
      "text/html": [
       "<div>\n",
       "<style scoped>\n",
       "    .dataframe tbody tr th:only-of-type {\n",
       "        vertical-align: middle;\n",
       "    }\n",
       "\n",
       "    .dataframe tbody tr th {\n",
       "        vertical-align: top;\n",
       "    }\n",
       "\n",
       "    .dataframe thead th {\n",
       "        text-align: right;\n",
       "    }\n",
       "</style>\n",
       "<table border=\"1\" class=\"dataframe\">\n",
       "  <thead>\n",
       "    <tr style=\"text-align: right;\">\n",
       "      <th></th>\n",
       "      <th>property_type_Apartament</th>\n",
       "      <th>property_type_Condominium</th>\n",
       "      <th>property_type_Flat</th>\n",
       "      <th>property_type_House</th>\n",
       "      <th>property_type_Penthouse</th>\n",
       "      <th>property_type_Residential Building</th>\n",
       "      <th>property_type_Studio Apartament</th>\n",
       "      <th>property_type_Two-story House</th>\n",
       "      <th>usable_area</th>\n",
       "      <th>condominium_fee</th>\n",
       "      <th>annual_iptu_tax</th>\n",
       "      <th>condominium_per_area</th>\n",
       "      <th>iptu_per_area</th>\n",
       "      <th>neighborhood_condominium_per_area</th>\n",
       "      <th>neighborhood_iptu_per_area</th>\n",
       "      <th>suites</th>\n",
       "      <th>parking_spots</th>\n",
       "      <th>bedrooms</th>\n",
       "      <th>bathrooms</th>\n",
       "    </tr>\n",
       "  </thead>\n",
       "  <tbody>\n",
       "    <tr>\n",
       "      <th>0</th>\n",
       "      <td>0.0</td>\n",
       "      <td>0.0</td>\n",
       "      <td>0.0</td>\n",
       "      <td>0.0</td>\n",
       "      <td>0.0</td>\n",
       "      <td>0.0</td>\n",
       "      <td>0.0</td>\n",
       "      <td>1.0</td>\n",
       "      <td>4.039322</td>\n",
       "      <td>4.616727e-18</td>\n",
       "      <td>0.000000</td>\n",
       "      <td>-0.031827</td>\n",
       "      <td>-0.015712</td>\n",
       "      <td>3.180273</td>\n",
       "      <td>0.073782</td>\n",
       "      <td>0.166667</td>\n",
       "      <td>0.857143</td>\n",
       "      <td>0.8</td>\n",
       "      <td>0.428571</td>\n",
       "    </tr>\n",
       "    <tr>\n",
       "      <th>1</th>\n",
       "      <td>0.0</td>\n",
       "      <td>0.0</td>\n",
       "      <td>0.0</td>\n",
       "      <td>1.0</td>\n",
       "      <td>0.0</td>\n",
       "      <td>0.0</td>\n",
       "      <td>0.0</td>\n",
       "      <td>0.0</td>\n",
       "      <td>0.229577</td>\n",
       "      <td>4.616727e-18</td>\n",
       "      <td>0.000000</td>\n",
       "      <td>-0.010645</td>\n",
       "      <td>-0.000007</td>\n",
       "      <td>-0.216482</td>\n",
       "      <td>0.135286</td>\n",
       "      <td>0.166667</td>\n",
       "      <td>0.285714</td>\n",
       "      <td>0.6</td>\n",
       "      <td>0.285714</td>\n",
       "    </tr>\n",
       "    <tr>\n",
       "      <th>2</th>\n",
       "      <td>1.0</td>\n",
       "      <td>0.0</td>\n",
       "      <td>0.0</td>\n",
       "      <td>0.0</td>\n",
       "      <td>0.0</td>\n",
       "      <td>0.0</td>\n",
       "      <td>0.0</td>\n",
       "      <td>0.0</td>\n",
       "      <td>-0.491186</td>\n",
       "      <td>-1.225603e-02</td>\n",
       "      <td>0.019209</td>\n",
       "      <td>-0.006842</td>\n",
       "      <td>0.059671</td>\n",
       "      <td>1.011119</td>\n",
       "      <td>-0.096446</td>\n",
       "      <td>0.166667</td>\n",
       "      <td>0.285714</td>\n",
       "      <td>0.6</td>\n",
       "      <td>0.285714</td>\n",
       "    </tr>\n",
       "    <tr>\n",
       "      <th>3</th>\n",
       "      <td>1.0</td>\n",
       "      <td>0.0</td>\n",
       "      <td>0.0</td>\n",
       "      <td>0.0</td>\n",
       "      <td>0.0</td>\n",
       "      <td>0.0</td>\n",
       "      <td>0.0</td>\n",
       "      <td>0.0</td>\n",
       "      <td>-0.285254</td>\n",
       "      <td>5.368350e-03</td>\n",
       "      <td>-0.005375</td>\n",
       "      <td>0.006999</td>\n",
       "      <td>-0.002027</td>\n",
       "      <td>0.616780</td>\n",
       "      <td>-0.083665</td>\n",
       "      <td>0.000000</td>\n",
       "      <td>0.285714</td>\n",
       "      <td>0.6</td>\n",
       "      <td>0.142857</td>\n",
       "    </tr>\n",
       "    <tr>\n",
       "      <th>4</th>\n",
       "      <td>0.0</td>\n",
       "      <td>1.0</td>\n",
       "      <td>0.0</td>\n",
       "      <td>0.0</td>\n",
       "      <td>0.0</td>\n",
       "      <td>0.0</td>\n",
       "      <td>0.0</td>\n",
       "      <td>0.0</td>\n",
       "      <td>-0.049903</td>\n",
       "      <td>-4.011391e-02</td>\n",
       "      <td>-0.016099</td>\n",
       "      <td>-0.042378</td>\n",
       "      <td>-0.023535</td>\n",
       "      <td>-0.325976</td>\n",
       "      <td>-0.147722</td>\n",
       "      <td>0.166667</td>\n",
       "      <td>0.285714</td>\n",
       "      <td>0.6</td>\n",
       "      <td>0.142857</td>\n",
       "    </tr>\n",
       "    <tr>\n",
       "      <th>...</th>\n",
       "      <td>...</td>\n",
       "      <td>...</td>\n",
       "      <td>...</td>\n",
       "      <td>...</td>\n",
       "      <td>...</td>\n",
       "      <td>...</td>\n",
       "      <td>...</td>\n",
       "      <td>...</td>\n",
       "      <td>...</td>\n",
       "      <td>...</td>\n",
       "      <td>...</td>\n",
       "      <td>...</td>\n",
       "      <td>...</td>\n",
       "      <td>...</td>\n",
       "      <td>...</td>\n",
       "      <td>...</td>\n",
       "      <td>...</td>\n",
       "      <td>...</td>\n",
       "      <td>...</td>\n",
       "    </tr>\n",
       "    <tr>\n",
       "      <th>88742</th>\n",
       "      <td>1.0</td>\n",
       "      <td>0.0</td>\n",
       "      <td>0.0</td>\n",
       "      <td>0.0</td>\n",
       "      <td>0.0</td>\n",
       "      <td>0.0</td>\n",
       "      <td>0.0</td>\n",
       "      <td>0.0</td>\n",
       "      <td>-0.961888</td>\n",
       "      <td>-3.020527e-02</td>\n",
       "      <td>-0.016099</td>\n",
       "      <td>-0.021312</td>\n",
       "      <td>-0.023535</td>\n",
       "      <td>-0.338419</td>\n",
       "      <td>-0.162822</td>\n",
       "      <td>0.000000</td>\n",
       "      <td>0.142857</td>\n",
       "      <td>0.4</td>\n",
       "      <td>0.142857</td>\n",
       "    </tr>\n",
       "    <tr>\n",
       "      <th>88743</th>\n",
       "      <td>1.0</td>\n",
       "      <td>0.0</td>\n",
       "      <td>0.0</td>\n",
       "      <td>0.0</td>\n",
       "      <td>0.0</td>\n",
       "      <td>0.0</td>\n",
       "      <td>0.0</td>\n",
       "      <td>0.0</td>\n",
       "      <td>-0.785375</td>\n",
       "      <td>-2.902761e-02</td>\n",
       "      <td>-0.014213</td>\n",
       "      <td>-0.023522</td>\n",
       "      <td>-0.017609</td>\n",
       "      <td>-0.139360</td>\n",
       "      <td>-0.105350</td>\n",
       "      <td>0.177136</td>\n",
       "      <td>0.142857</td>\n",
       "      <td>0.2</td>\n",
       "      <td>0.142857</td>\n",
       "    </tr>\n",
       "    <tr>\n",
       "      <th>88744</th>\n",
       "      <td>1.0</td>\n",
       "      <td>0.0</td>\n",
       "      <td>0.0</td>\n",
       "      <td>0.0</td>\n",
       "      <td>0.0</td>\n",
       "      <td>0.0</td>\n",
       "      <td>0.0</td>\n",
       "      <td>0.0</td>\n",
       "      <td>-0.888341</td>\n",
       "      <td>-3.158599e-02</td>\n",
       "      <td>-0.016099</td>\n",
       "      <td>-0.025958</td>\n",
       "      <td>-0.023535</td>\n",
       "      <td>-0.189627</td>\n",
       "      <td>-0.062737</td>\n",
       "      <td>0.166667</td>\n",
       "      <td>0.142857</td>\n",
       "      <td>0.4</td>\n",
       "      <td>0.285714</td>\n",
       "    </tr>\n",
       "    <tr>\n",
       "      <th>88745</th>\n",
       "      <td>1.0</td>\n",
       "      <td>0.0</td>\n",
       "      <td>0.0</td>\n",
       "      <td>0.0</td>\n",
       "      <td>0.0</td>\n",
       "      <td>0.0</td>\n",
       "      <td>0.0</td>\n",
       "      <td>0.0</td>\n",
       "      <td>-1.373752</td>\n",
       "      <td>4.616727e-18</td>\n",
       "      <td>0.000000</td>\n",
       "      <td>0.162300</td>\n",
       "      <td>0.128216</td>\n",
       "      <td>-0.181446</td>\n",
       "      <td>-0.077305</td>\n",
       "      <td>0.333333</td>\n",
       "      <td>0.285714</td>\n",
       "      <td>0.6</td>\n",
       "      <td>0.428571</td>\n",
       "    </tr>\n",
       "    <tr>\n",
       "      <th>88746</th>\n",
       "      <td>0.0</td>\n",
       "      <td>0.0</td>\n",
       "      <td>0.0</td>\n",
       "      <td>0.0</td>\n",
       "      <td>0.0</td>\n",
       "      <td>0.0</td>\n",
       "      <td>0.0</td>\n",
       "      <td>1.0</td>\n",
       "      <td>3.583329</td>\n",
       "      <td>-4.011391e-02</td>\n",
       "      <td>-0.001515</td>\n",
       "      <td>-0.042378</td>\n",
       "      <td>-0.015833</td>\n",
       "      <td>-0.264162</td>\n",
       "      <td>-0.050042</td>\n",
       "      <td>0.166667</td>\n",
       "      <td>0.571429</td>\n",
       "      <td>0.8</td>\n",
       "      <td>0.571429</td>\n",
       "    </tr>\n",
       "  </tbody>\n",
       "</table>\n",
       "<p>88747 rows × 19 columns</p>\n",
       "</div>"
      ],
      "text/plain": [
       "       property_type_Apartament  property_type_Condominium  \\\n",
       "0                           0.0                        0.0   \n",
       "1                           0.0                        0.0   \n",
       "2                           1.0                        0.0   \n",
       "3                           1.0                        0.0   \n",
       "4                           0.0                        1.0   \n",
       "...                         ...                        ...   \n",
       "88742                       1.0                        0.0   \n",
       "88743                       1.0                        0.0   \n",
       "88744                       1.0                        0.0   \n",
       "88745                       1.0                        0.0   \n",
       "88746                       0.0                        0.0   \n",
       "\n",
       "       property_type_Flat  property_type_House  property_type_Penthouse  \\\n",
       "0                     0.0                  0.0                      0.0   \n",
       "1                     0.0                  1.0                      0.0   \n",
       "2                     0.0                  0.0                      0.0   \n",
       "3                     0.0                  0.0                      0.0   \n",
       "4                     0.0                  0.0                      0.0   \n",
       "...                   ...                  ...                      ...   \n",
       "88742                 0.0                  0.0                      0.0   \n",
       "88743                 0.0                  0.0                      0.0   \n",
       "88744                 0.0                  0.0                      0.0   \n",
       "88745                 0.0                  0.0                      0.0   \n",
       "88746                 0.0                  0.0                      0.0   \n",
       "\n",
       "       property_type_Residential Building  property_type_Studio Apartament  \\\n",
       "0                                     0.0                              0.0   \n",
       "1                                     0.0                              0.0   \n",
       "2                                     0.0                              0.0   \n",
       "3                                     0.0                              0.0   \n",
       "4                                     0.0                              0.0   \n",
       "...                                   ...                              ...   \n",
       "88742                                 0.0                              0.0   \n",
       "88743                                 0.0                              0.0   \n",
       "88744                                 0.0                              0.0   \n",
       "88745                                 0.0                              0.0   \n",
       "88746                                 0.0                              0.0   \n",
       "\n",
       "       property_type_Two-story House  usable_area  condominium_fee  \\\n",
       "0                                1.0     4.039322     4.616727e-18   \n",
       "1                                0.0     0.229577     4.616727e-18   \n",
       "2                                0.0    -0.491186    -1.225603e-02   \n",
       "3                                0.0    -0.285254     5.368350e-03   \n",
       "4                                0.0    -0.049903    -4.011391e-02   \n",
       "...                              ...          ...              ...   \n",
       "88742                            0.0    -0.961888    -3.020527e-02   \n",
       "88743                            0.0    -0.785375    -2.902761e-02   \n",
       "88744                            0.0    -0.888341    -3.158599e-02   \n",
       "88745                            0.0    -1.373752     4.616727e-18   \n",
       "88746                            1.0     3.583329    -4.011391e-02   \n",
       "\n",
       "       annual_iptu_tax  condominium_per_area  iptu_per_area  \\\n",
       "0             0.000000             -0.031827      -0.015712   \n",
       "1             0.000000             -0.010645      -0.000007   \n",
       "2             0.019209             -0.006842       0.059671   \n",
       "3            -0.005375              0.006999      -0.002027   \n",
       "4            -0.016099             -0.042378      -0.023535   \n",
       "...                ...                   ...            ...   \n",
       "88742        -0.016099             -0.021312      -0.023535   \n",
       "88743        -0.014213             -0.023522      -0.017609   \n",
       "88744        -0.016099             -0.025958      -0.023535   \n",
       "88745         0.000000              0.162300       0.128216   \n",
       "88746        -0.001515             -0.042378      -0.015833   \n",
       "\n",
       "       neighborhood_condominium_per_area  neighborhood_iptu_per_area  \\\n",
       "0                               3.180273                    0.073782   \n",
       "1                              -0.216482                    0.135286   \n",
       "2                               1.011119                   -0.096446   \n",
       "3                               0.616780                   -0.083665   \n",
       "4                              -0.325976                   -0.147722   \n",
       "...                                  ...                         ...   \n",
       "88742                          -0.338419                   -0.162822   \n",
       "88743                          -0.139360                   -0.105350   \n",
       "88744                          -0.189627                   -0.062737   \n",
       "88745                          -0.181446                   -0.077305   \n",
       "88746                          -0.264162                   -0.050042   \n",
       "\n",
       "         suites  parking_spots  bedrooms  bathrooms  \n",
       "0      0.166667       0.857143       0.8   0.428571  \n",
       "1      0.166667       0.285714       0.6   0.285714  \n",
       "2      0.166667       0.285714       0.6   0.285714  \n",
       "3      0.000000       0.285714       0.6   0.142857  \n",
       "4      0.166667       0.285714       0.6   0.142857  \n",
       "...         ...            ...       ...        ...  \n",
       "88742  0.000000       0.142857       0.4   0.142857  \n",
       "88743  0.177136       0.142857       0.2   0.142857  \n",
       "88744  0.166667       0.142857       0.4   0.285714  \n",
       "88745  0.333333       0.285714       0.6   0.428571  \n",
       "88746  0.166667       0.571429       0.8   0.571429  \n",
       "\n",
       "[88747 rows x 19 columns]"
      ]
     },
     "metadata": {},
     "output_type": "display_data"
    },
    {
     "data": {
      "text/plain": [
       "0        13.458836\n",
       "1        12.724866\n",
       "2        13.513923\n",
       "3        13.354586\n",
       "4        12.860999\n",
       "           ...    \n",
       "88742    12.050296\n",
       "88743    12.437180\n",
       "88744    12.428344\n",
       "88745    13.342302\n",
       "88746    14.414347\n",
       "Name: sale_price, Length: 88747, dtype: float64"
      ]
     },
     "metadata": {},
     "output_type": "display_data"
    }
   ],
   "source": [
    "transformed_features = preprocessing_pipeline.transform(features)\n",
    "transformed_target = target_transform.transform(target)\n",
    "\n",
    "display(transformed_features)\n",
    "display(transformed_target)"
   ]
  },
  {
   "cell_type": "markdown",
   "metadata": {},
   "source": [
    "## Train/Test Split\n",
    "\n",
    "As in the last notebook, we'll split the data into train (80% of the original data) and test (20% of the original data) sets."
   ]
  },
  {
   "cell_type": "code",
   "execution_count": 10,
   "metadata": {},
   "outputs": [
    {
     "name": "stdout",
     "output_type": "stream",
     "text": [
      "[(70997, 19), (17750, 19), (70997,), (17750,)]\n"
     ]
    }
   ],
   "source": [
    "X_train, X_test, y_train, y_test = train_test_split(\n",
    "    transformed_features, transformed_target, test_size=0.2, random_state=random_state\n",
    ")\n",
    "\n",
    "print([t.shape for t in (X_train, X_test, y_train, y_test)])"
   ]
  },
  {
   "cell_type": "markdown",
   "metadata": {},
   "source": [
    "# Hyperparameter Optimization with Optuna\n",
    "\n",
    "Optuna uses a technique called [Bayesian Optimization](https://en.wikipedia.org/wiki/Bayesian_optimization) to find the best parameters for you model. To put it simply, it **learns** the best parameters combinations by, first, computing the value of an **objective function** given some random combination of parameters and, by checking the variation of the objetive function, finding the best optimization path. It them computes some new random combinations of hyperparameters that are closer to an optimal objective function value. This process is repeated some times until some stop criteria is met.\n",
    "\n",
    "Usually, the **objective function** is the value of the evaluation metric (in our case, the Mean Squared Logarithmic Error) of our model trained with the given set of hyperparameters.\n",
    "\n",
    "Now, we'll find the best parameters for each of the models that compose the **voting classifier** that we've trained in the last notebook."
   ]
  },
  {
   "cell_type": "markdown",
   "metadata": {},
   "source": [
    "## CatBoost Regressor\n",
    "\n",
    "First, we need to choose which hyperparameters we want to optimize. Here's a description of the hyperparameters that I've chosen."
   ]
  },
  {
   "cell_type": "markdown",
   "metadata": {},
   "source": [
    "### Hyperparameters Descriptions\n",
    "\n",
    "- **Number of Trees** (`iterations`): The maximum number of trees that can be built within the model. Represents the steps (or rounds of refinement) the algorithm takes to create a more accurate model that learns from the data. We'll use a fixed number, as we'll be also tuning the `learning_rate`.\n",
    "- **Learning Rate** (`learning_rate`): Technically, is used for reducing the gradient step. In other words, it scales the contribution of each decision tree to manage the overall balance and accuracy of the model. A range of 0.001 to 0.1 is a good starting point.\n",
    "- **Tree Depth** (`depth`): Depth of the tree. You can think as the complexity or “height” of decision trees in your CatBoost model. It’s a good idea to try out values between 1 and 10\n",
    "- **Subsample** (`subsample`): is a technique used to randomly choose a fraction of the dataset when constructing each tree, promoting diversity among the trees and helping to reduce overfitting. We'll from 0.05 to 1.\n",
    "- **Feature Sampling by Level** (`colsample_bylevel`): The percentage of features to use at each split selection. The idea is the same as with `subsample`, but this time, we’re sampling features instead of rows. We'll use values between 0.05 and 1.0.\n",
    "- **Minimum Data in Leaf** (`min_data_in_leaf`): The minimum number of training samples in a leaf, effectively controlling the split creation process. We'll go for values between 1 and 100."
   ]
  },
  {
   "cell_type": "markdown",
   "metadata": {},
   "source": [
    "### Objective function\n",
    "\n",
    "With the hyperparameters and search space chosen, it's time to define the objective function."
   ]
  },
  {
   "cell_type": "code",
   "execution_count": 22,
   "metadata": {},
   "outputs": [],
   "source": [
    "def catboost_objective(trial):\n",
    "    params = {\n",
    "        \"iterations\": 1000,\n",
    "        \"learning_rate\": trial.suggest_float(\"learning_rate\", 1e-3, 0.1, log=True),\n",
    "        \"depth\": trial.suggest_int(\"depth\", 1, 10),\n",
    "        \"subsample\": trial.suggest_float(\"subsample\", 0.05, 1.0),\n",
    "        \"colsample_bylevel\": trial.suggest_float(\"colsample_bylevel\", 0.05, 1.0),\n",
    "        \"min_data_in_leaf\": trial.suggest_int(\"min_data_in_leaf\", 1, 100),\n",
    "    }\n",
    "\n",
    "    model = cb.CatBoostRegressor(\n",
    "        **params, silent=True, allow_writing_files=False, random_seed=random_state\n",
    "    )\n",
    "\n",
    "    scorer = make_scorer(mean_squared_log_error)\n",
    "    scores = cross_val_score(model, X_train, y_train, cv=5, scoring=scorer)\n",
    "\n",
    "    avg_msle = scores.mean()\n",
    "    return avg_msle"
   ]
  },
  {
   "cell_type": "markdown",
   "metadata": {},
   "source": [
    "Let's take a minute to analyze this code."
   ]
  },
  {
   "cell_type": "markdown",
   "metadata": {},
   "source": [
    "```python\n",
    "def catboost_objective(trial):\n",
    "```\n",
    "Every objective function in Optuna receives a **Trial** object, that will hold all relevant information for a specific run of the function. E.g.: The hyperparameter combination set, timestamp of the function call, id of the call, etc."
   ]
  },
  {
   "cell_type": "markdown",
   "metadata": {},
   "source": [
    "```python\n",
    "    params = {\n",
    "        \"iterations\": 1000,\n",
    "        \"learning_rate\": trial.suggest_float(\"learning_rate\", 1e-3, 0.1, log=True),\n",
    "        \"depth\": trial.suggest_int(\"depth\", 1, 10),\n",
    "        \"subsample\": trial.suggest_float(\"subsample\", 0.05, 1.0),\n",
    "        \"colsample_bylevel\": trial.suggest_float(\"colsample_bylevel\", 0.05, 1.0),\n",
    "        \"min_data_in_leaf\": trial.suggest_int(\"min_data_in_leaf\", 1, 100),\n",
    "    }\n",
    "```\n",
    "The search spaces in Optuna are defined inside the objective function. The **Trial** object will take care of \"suggesting\" the hyperparameters combination for the function call."
   ]
  },
  {
   "cell_type": "markdown",
   "metadata": {},
   "source": [
    "```python\n",
    "    model = cb.CatBoostRegressor(\n",
    "        **params, silent=True, allow_writing_files=False, random_seed=random_state\n",
    "    )\n",
    "```\n",
    "Here the hyperparameters combination is supplied to the model (the `**` unpacks the `dict` items as function parameters). We also supply the parameters `silent=True` and `allow_writing_files=False` (that instructs the CatBoost regressor to not generate the training output files, we don't them), and the `random_seed` as weel, to ensure the reproductibility of the results."
   ]
  },
  {
   "cell_type": "markdown",
   "metadata": {},
   "source": [
    "```python\n",
    "    scorer = make_scorer(mean_squared_log_error)\n",
    "    scores = cross_val_score(model, X_train, y_train, cv=5, scoring=scorer)\n",
    "\n",
    "    avg_msle = scores.mean()\n",
    "    return avg_msle\n",
    "```\n",
    "Next we compute the cross validation scores for 5-folds using the trainning set, compute the average score and return it."
   ]
  },
  {
   "cell_type": "markdown",
   "metadata": {},
   "source": [
    "### Optimization\n",
    "\n",
    "With the objective function defined, we'll proceed to create the **Study**. In Optuna, the **Study** represents an optimization session, which comprises, among other things, the set of **Trials** objects.\n",
    "\n",
    "The **Study** object also receives the `direction` parameter, that indicates if type of optimization we want: minimization or maximization. In our case, we want to minimize the error.\n",
    "\n",
    "The **Study** is also responsible for the optimization process, by calling `optimize`."
   ]
  },
  {
   "cell_type": "code",
   "execution_count": 17,
   "metadata": {},
   "outputs": [
    {
     "name": "stderr",
     "output_type": "stream",
     "text": [
      "[I 2023-07-11 19:22:45,257] A new study created in memory with name: no-name-16148528-d483-40bb-b2e8-f3f528a40aa5\n",
      "[I 2023-07-11 19:22:52,052] Trial 0 finished with value: 0.0004762874517409778 and parameters: {'learning_rate': 0.010939529799571657, 'depth': 1, 'subsample': 0.8203932474610771, 'colsample_bylevel': 0.8017866713035482, 'min_data_in_leaf': 51}. Best is trial 0 with value: 0.0004762874517409778.\n",
      "[I 2023-07-11 19:23:06,571] Trial 1 finished with value: 0.00024754260692170924 and parameters: {'learning_rate': 0.03526378691431389, 'depth': 7, 'subsample': 0.6502480712402945, 'colsample_bylevel': 0.27709693845832384, 'min_data_in_leaf': 62}. Best is trial 1 with value: 0.00024754260692170924.\n",
      "[I 2023-07-11 19:23:24,654] Trial 2 finished with value: 0.0003645644835250124 and parameters: {'learning_rate': 0.0035193848219394305, 'depth': 8, 'subsample': 0.2029087330554441, 'colsample_bylevel': 0.8849167500038724, 'min_data_in_leaf': 48}. Best is trial 1 with value: 0.00024754260692170924.\n",
      "[I 2023-07-11 19:23:42,092] Trial 3 finished with value: 0.0003106669711349757 and parameters: {'learning_rate': 0.008648701847061596, 'depth': 8, 'subsample': 0.47717275995334435, 'colsample_bylevel': 0.3485237623751613, 'min_data_in_leaf': 69}. Best is trial 1 with value: 0.00024754260692170924.\n",
      "[I 2023-07-11 19:23:52,445] Trial 4 finished with value: 0.0003808903114537429 and parameters: {'learning_rate': 0.004047646518540761, 'depth': 7, 'subsample': 0.09264358056091147, 'colsample_bylevel': 0.24099389015553874, 'min_data_in_leaf': 75}. Best is trial 1 with value: 0.00024754260692170924.\n",
      "[I 2023-07-11 19:24:00,230] Trial 5 finished with value: 0.00039200291004257495 and parameters: {'learning_rate': 0.015502722453650601, 'depth': 2, 'subsample': 0.779844049950261, 'colsample_bylevel': 0.7364825936306655, 'min_data_in_leaf': 6}. Best is trial 1 with value: 0.00024754260692170924.\n",
      "[I 2023-07-11 19:24:36,230] Trial 6 finished with value: 0.0003858254443119732 and parameters: {'learning_rate': 0.002751813224838591, 'depth': 9, 'subsample': 0.9364351863478723, 'colsample_bylevel': 0.4070759899937815, 'min_data_in_leaf': 37}. Best is trial 1 with value: 0.00024754260692170924.\n",
      "[I 2023-07-11 19:24:51,072] Trial 7 finished with value: 0.0002982467904830576 and parameters: {'learning_rate': 0.013922964223379904, 'depth': 7, 'subsample': 0.8193342256963017, 'colsample_bylevel': 0.23706213274197752, 'min_data_in_leaf': 47}. Best is trial 1 with value: 0.00024754260692170924.\n",
      "[I 2023-07-11 19:24:56,539] Trial 8 finished with value: 0.0005077460181963072 and parameters: {'learning_rate': 0.005280806087582446, 'depth': 2, 'subsample': 0.1254793922404885, 'colsample_bylevel': 0.2073918051132771, 'min_data_in_leaf': 6}. Best is trial 1 with value: 0.00024754260692170924.\n",
      "[I 2023-07-11 19:25:17,143] Trial 9 finished with value: 0.0003337699318755953 and parameters: {'learning_rate': 0.005134884071236882, 'depth': 8, 'subsample': 0.5123369258301605, 'colsample_bylevel': 0.8093914456138751, 'min_data_in_leaf': 37}. Best is trial 1 with value: 0.00024754260692170924.\n",
      "[I 2023-07-11 19:25:24,245] Trial 10 finished with value: 0.00033630889113469415 and parameters: {'learning_rate': 0.060544556424204525, 'depth': 5, 'subsample': 0.6466556073230348, 'colsample_bylevel': 0.06333935829225198, 'min_data_in_leaf': 84}. Best is trial 1 with value: 0.00024754260692170924.\n",
      "[I 2023-07-11 19:25:36,949] Trial 11 finished with value: 0.0007308340278880758 and parameters: {'learning_rate': 0.0010674479395323543, 'depth': 5, 'subsample': 0.976874991063634, 'colsample_bylevel': 0.5284061939419575, 'min_data_in_leaf': 60}. Best is trial 1 with value: 0.00024754260692170924.\n",
      "[I 2023-07-11 19:25:44,827] Trial 12 finished with value: 0.0003497998873275407 and parameters: {'learning_rate': 0.02953566533952092, 'depth': 6, 'subsample': 0.6748550463930176, 'colsample_bylevel': 0.07481835208958773, 'min_data_in_leaf': 32}. Best is trial 1 with value: 0.00024754260692170924.\n",
      "[I 2023-07-11 19:26:30,799] Trial 13 finished with value: 0.00020581933883343423 and parameters: {'learning_rate': 0.09365069861247115, 'depth': 10, 'subsample': 0.6417003804735676, 'colsample_bylevel': 0.5214210141622353, 'min_data_in_leaf': 94}. Best is trial 13 with value: 0.00020581933883343423.\n",
      "[I 2023-07-11 19:27:14,807] Trial 14 finished with value: 0.00020905479991835976 and parameters: {'learning_rate': 0.09083485423398038, 'depth': 10, 'subsample': 0.4075811722224949, 'colsample_bylevel': 0.5591889002900362, 'min_data_in_leaf': 100}. Best is trial 13 with value: 0.00020581933883343423.\n",
      "[I 2023-07-11 19:27:59,009] Trial 15 finished with value: 0.00020847928272365958 and parameters: {'learning_rate': 0.09653525990915345, 'depth': 10, 'subsample': 0.3843641348631799, 'colsample_bylevel': 0.5964690551199008, 'min_data_in_leaf': 100}. Best is trial 13 with value: 0.00020581933883343423.\n",
      "[I 2023-07-11 19:28:45,371] Trial 16 finished with value: 0.00020999975726879297 and parameters: {'learning_rate': 0.0798621002353853, 'depth': 10, 'subsample': 0.36014786973979707, 'colsample_bylevel': 0.6707675759739593, 'min_data_in_leaf': 95}. Best is trial 13 with value: 0.00020581933883343423.\n",
      "[I 2023-07-11 19:29:18,949] Trial 17 finished with value: 0.00021937698476171447 and parameters: {'learning_rate': 0.048686607182127105, 'depth': 9, 'subsample': 0.31422978954674974, 'colsample_bylevel': 0.9956436146663554, 'min_data_in_leaf': 88}. Best is trial 13 with value: 0.00020581933883343423.\n",
      "[I 2023-07-11 19:29:28,666] Trial 18 finished with value: 0.00023922927516991445 and parameters: {'learning_rate': 0.0953949782122164, 'depth': 4, 'subsample': 0.5814242547010723, 'colsample_bylevel': 0.6261106597626771, 'min_data_in_leaf': 80}. Best is trial 13 with value: 0.00020581933883343423.\n",
      "[I 2023-07-11 19:30:10,132] Trial 19 finished with value: 0.00023562472520289525 and parameters: {'learning_rate': 0.024667669562663766, 'depth': 10, 'subsample': 0.45521355429724975, 'colsample_bylevel': 0.44788058092960303, 'min_data_in_leaf': 92}. Best is trial 13 with value: 0.00020581933883343423.\n",
      "[I 2023-07-11 19:30:41,108] Trial 20 finished with value: 0.00022116890374949648 and parameters: {'learning_rate': 0.05167061351666799, 'depth': 9, 'subsample': 0.3146408796211762, 'colsample_bylevel': 0.48820727761201443, 'min_data_in_leaf': 100}. Best is trial 13 with value: 0.00020581933883343423.\n",
      "[I 2023-07-11 19:31:25,487] Trial 21 finished with value: 0.00020893982841408768 and parameters: {'learning_rate': 0.09622992486360253, 'depth': 10, 'subsample': 0.3925290092770498, 'colsample_bylevel': 0.59726907159495, 'min_data_in_leaf': 100}. Best is trial 13 with value: 0.00020581933883343423.\n",
      "[I 2023-07-11 19:32:10,598] Trial 22 finished with value: 0.00021001563839184498 and parameters: {'learning_rate': 0.06610576457523666, 'depth': 10, 'subsample': 0.5267165739373634, 'colsample_bylevel': 0.5879786462332944, 'min_data_in_leaf': 83}. Best is trial 13 with value: 0.00020581933883343423.\n",
      "[I 2023-07-11 19:32:43,242] Trial 23 finished with value: 0.00021338332444443574 and parameters: {'learning_rate': 0.09358517440238948, 'depth': 9, 'subsample': 0.262842263465864, 'colsample_bylevel': 0.651723443660088, 'min_data_in_leaf': 92}. Best is trial 13 with value: 0.00020581933883343423.\n",
      "[I 2023-07-11 19:33:26,089] Trial 24 finished with value: 0.00021893131020197758 and parameters: {'learning_rate': 0.04700998432373892, 'depth': 10, 'subsample': 0.3873695993653846, 'colsample_bylevel': 0.520549418241462, 'min_data_in_leaf': 72}. Best is trial 13 with value: 0.00020581933883343423.\n",
      "[I 2023-07-11 19:33:59,786] Trial 25 finished with value: 0.00021327737146056361 and parameters: {'learning_rate': 0.06731377536616703, 'depth': 9, 'subsample': 0.4185302638811842, 'colsample_bylevel': 0.581817644036158, 'min_data_in_leaf': 99}. Best is trial 13 with value: 0.00020581933883343423.\n",
      "[I 2023-07-11 19:34:19,628] Trial 26 finished with value: 0.00022949840763408742 and parameters: {'learning_rate': 0.03955862712523705, 'depth': 8, 'subsample': 0.5533681498741487, 'colsample_bylevel': 0.4652781303412111, 'min_data_in_leaf': 21}. Best is trial 13 with value: 0.00020581933883343423.\n",
      "[I 2023-07-11 19:35:07,192] Trial 27 finished with value: 0.00020601145271167414 and parameters: {'learning_rate': 0.09915762903855578, 'depth': 10, 'subsample': 0.4780591221890951, 'colsample_bylevel': 0.6927941061056886, 'min_data_in_leaf': 89}. Best is trial 13 with value: 0.00020581933883343423.\n",
      "[I 2023-07-11 19:35:19,265] Trial 28 finished with value: 0.00022775872153016986 and parameters: {'learning_rate': 0.06560281170782485, 'depth': 6, 'subsample': 0.4678947696415999, 'colsample_bylevel': 0.6335931698342285, 'min_data_in_leaf': 78}. Best is trial 13 with value: 0.00020581933883343423.\n",
      "[I 2023-07-11 19:35:27,718] Trial 29 finished with value: 0.00032194100596329324 and parameters: {'learning_rate': 0.024331917883325636, 'depth': 3, 'subsample': 0.5962524419905018, 'colsample_bylevel': 0.7155729460290765, 'min_data_in_leaf': 63}. Best is trial 13 with value: 0.00020581933883343423.\n"
     ]
    }
   ],
   "source": [
    "\n",
    "catboost_study = optuna.create_study(direction=\"minimize\")\n",
    "catboost_study.optimize(catboost_objective, n_trials=30)"
   ]
  },
  {
   "cell_type": "markdown",
   "metadata": {},
   "source": [
    "With the process finished, we can retrieve the found set of best parameters, as well of the optimizal value of the objective function."
   ]
  },
  {
   "cell_type": "code",
   "execution_count": 18,
   "metadata": {},
   "outputs": [
    {
     "name": "stdout",
     "output_type": "stream",
     "text": [
      "Best hyperparameters:  {'learning_rate': 0.09365069861247115, 'depth': 10, 'subsample': 0.6417003804735676, 'colsample_bylevel': 0.5214210141622353, 'min_data_in_leaf': 94}\n",
      "Best MSLE 0.00020581933883343423\n"
     ]
    }
   ],
   "source": [
    "print(\"Best hyperparameters: \", catboost_study.best_params)\n",
    "print(\"Best MSLE\", catboost_study.best_value)"
   ]
  },
  {
   "cell_type": "markdown",
   "metadata": {},
   "source": [
    "Now we can train the CatBoost regressor with the best hyperparameters and evaluate the resulting model error using the test set."
   ]
  },
  {
   "cell_type": "code",
   "execution_count": 20,
   "metadata": {},
   "outputs": [
    {
     "data": {
      "text/plain": [
       "0.00019927099196797581"
      ]
     },
     "execution_count": 20,
     "metadata": {},
     "output_type": "execute_result"
    }
   ],
   "source": [
    "catboost_model = cb.CatBoostRegressor(\n",
    "    **catboost_study.best_params, silent=True, random_seed=random_state\n",
    ")\n",
    "catboost_model.fit(X_train, y_train)\n",
    "catboost_predictions = catboost_model.predict(X_test)\n",
    "mean_squared_log_error(y_test, catboost_predictions)"
   ]
  },
  {
   "cell_type": "markdown",
   "metadata": {},
   "source": [
    "This is already an improvement of the voting classifier that we've trained in the last notebook.\n",
    "\n",
    "Next, we'll proceed to execute the same parameter optimization process for the **XGBoost**, **Random Forest** and **LightGBM** regression models."
   ]
  },
  {
   "cell_type": "markdown",
   "metadata": {},
   "source": [
    "## XGBoost Regressor\n",
    "\n",
    "As we did with the CatBoost regressor, we'll describe the hyperparameters that we want to optimize."
   ]
  },
  {
   "cell_type": "markdown",
   "metadata": {},
   "source": [
    "### Hyperparameters Descriptions\n",
    "\n",
    "- **Number of estimators** (`n_estimators`): Similar to CatBoostm, is the maximum number of trees that can be built within the model. We'll also use a fixed number.\n",
    "- **Max depth** (`max_depth`): Also similar to the CatBoost. We'll use values between 1 and 10.\n",
    "- **Subsample** (`subsample`): Also similar to the CatBoost. We'll use values between 0.05 to 1.\n",
    "- **Learning rate** (`learning_rate`): Also similar to the CatBoost. We'll use values between 0.001 to 0.1.\n",
    "- **ColSample by level** (`colsample_bylevel`): Also similar to the CatBoost. We'll use values between 0.05 to 1.\n",
    "- **Min child weight** (`min_child_weight`): That is the most different than those we've talked about. Defines the minimum sum of weights of all observations required in a child, and is used to control over-fitting. Higher values prevent a model from learning relations that might be highly specific to the particular sample selected for a tree. We'll use values between 1 and 10."
   ]
  },
  {
   "cell_type": "markdown",
   "metadata": {},
   "source": [
    "### Objective function"
   ]
  },
  {
   "cell_type": "code",
   "execution_count": 36,
   "metadata": {},
   "outputs": [],
   "source": [
    "def xgboost_objective(trial):\n",
    "    params = {\n",
    "        \"n_estimators\": trial.suggest_int(\"n_estimators\", 100, 500),\n",
    "        \"learning_rate\": trial.suggest_float(\"learning_rate\", 1e-3, 0.1, log=True),\n",
    "        \"max_depth\": trial.suggest_int(\"max_depth\", 1, 10),\n",
    "        \"subsample\": trial.suggest_float(\"subsample\", 0.05, 1.0),\n",
    "        \"min_child_weight\": trial.suggest_int(\"min_child_weight\", 1, 10),\n",
    "        \"colsample_bylevel\": trial.suggest_float(\"colsample_bylevel\", 0.05, 1.0),\n",
    "    }\n",
    "\n",
    "    model = XGBRegressor(\n",
    "        **params, random_state=random_state\n",
    "    )\n",
    "\n",
    "    scorer = make_scorer(mean_squared_log_error)\n",
    "    scores = cross_val_score(model, X_train, y_train, cv=5, scoring=scorer)\n",
    "\n",
    "    avg_msle = scores.mean()\n",
    "    return avg_msle"
   ]
  },
  {
   "cell_type": "markdown",
   "metadata": {},
   "source": [
    "### Optimization"
   ]
  },
  {
   "cell_type": "code",
   "execution_count": 37,
   "metadata": {},
   "outputs": [
    {
     "name": "stderr",
     "output_type": "stream",
     "text": [
      "[I 2023-07-12 21:52:58,791] A new study created in memory with name: no-name-1959d5e3-3e56-4b79-b399-15c4c502b343\n",
      "[I 2023-07-12 21:53:04,995] Trial 0 finished with value: 0.016088573906070977 and parameters: {'n_estimators': 393, 'learning_rate': 0.005158606265529596, 'max_depth': 1, 'subsample': 0.8133215684130123, 'min_child_weight': 5, 'colsample_bylevel': 0.6324014618497815}. Best is trial 0 with value: 0.016088573906070977.\n",
      "[I 2023-07-12 21:53:15,661] Trial 1 finished with value: 0.00032644413528221176 and parameters: {'n_estimators': 289, 'learning_rate': 0.02060201512003209, 'max_depth': 5, 'subsample': 0.25720542212839775, 'min_child_weight': 8, 'colsample_bylevel': 0.7833911374052128}. Best is trial 1 with value: 0.00032644413528221176.\n",
      "[I 2023-07-12 21:53:24,060] Trial 2 finished with value: 0.00026919178659423707 and parameters: {'n_estimators': 249, 'learning_rate': 0.0922355413739139, 'max_depth': 4, 'subsample': 0.32250429513896295, 'min_child_weight': 10, 'colsample_bylevel': 0.7336689710484328}. Best is trial 2 with value: 0.00026919178659423707.\n",
      "[I 2023-07-12 21:53:28,402] Trial 3 finished with value: 0.0005658820678293952 and parameters: {'n_estimators': 111, 'learning_rate': 0.0364089416922605, 'max_depth': 5, 'subsample': 0.4720531235330262, 'min_child_weight': 10, 'colsample_bylevel': 0.3365191417898012}. Best is trial 2 with value: 0.00026919178659423707.\n",
      "[I 2023-07-12 21:53:34,515] Trial 4 finished with value: 0.10668527573312594 and parameters: {'n_estimators': 346, 'learning_rate': 0.0033666610246024025, 'max_depth': 2, 'subsample': 0.06371277137337683, 'min_child_weight': 6, 'colsample_bylevel': 0.9735527408674153}. Best is trial 2 with value: 0.00026919178659423707.\n",
      "[I 2023-07-12 21:53:37,511] Trial 5 finished with value: 0.16190041141352193 and parameters: {'n_estimators': 142, 'learning_rate': 0.006966348544628814, 'max_depth': 10, 'subsample': 0.12068625597254787, 'min_child_weight': 10, 'colsample_bylevel': 0.37595750636816877}. Best is trial 2 with value: 0.00026919178659423707.\n",
      "[I 2023-07-12 21:53:51,847] Trial 6 finished with value: 0.1388783361932432 and parameters: {'n_estimators': 430, 'learning_rate': 0.0024510676468750357, 'max_depth': 5, 'subsample': 0.5009471398479362, 'min_child_weight': 5, 'colsample_bylevel': 0.30936863796683217}. Best is trial 2 with value: 0.00026919178659423707.\n",
      "[I 2023-07-12 21:53:55,959] Trial 7 finished with value: 0.5872517858582018 and parameters: {'n_estimators': 104, 'learning_rate': 0.004908532446341494, 'max_depth': 7, 'subsample': 0.6492722376017918, 'min_child_weight': 2, 'colsample_bylevel': 0.5988952485271389}. Best is trial 2 with value: 0.00026919178659423707.\n",
      "[I 2023-07-12 21:54:04,146] Trial 8 finished with value: 0.4959197108587531 and parameters: {'n_estimators': 423, 'learning_rate': 0.0013448499168036035, 'max_depth': 10, 'subsample': 0.08998774954963723, 'min_child_weight': 5, 'colsample_bylevel': 0.6415469944023753}. Best is trial 2 with value: 0.00026919178659423707.\n",
      "[I 2023-07-12 21:54:06,692] Trial 9 finished with value: 0.43333522478609315 and parameters: {'n_estimators': 146, 'learning_rate': 0.004211037932269792, 'max_depth': 2, 'subsample': 0.22059550817719492, 'min_child_weight': 2, 'colsample_bylevel': 0.23951615459968134}. Best is trial 2 with value: 0.00026919178659423707.\n",
      "[I 2023-07-12 21:54:14,038] Trial 10 finished with value: 0.00031139187685344413 and parameters: {'n_estimators': 237, 'learning_rate': 0.09698711089657418, 'max_depth': 7, 'subsample': 0.9932013495942482, 'min_child_weight': 8, 'colsample_bylevel': 0.060593467898318376}. Best is trial 2 with value: 0.00026919178659423707.\n",
      "[I 2023-07-12 21:54:21,479] Trial 11 finished with value: 0.0003127502479821534 and parameters: {'n_estimators': 240, 'learning_rate': 0.09528167868188722, 'max_depth': 7, 'subsample': 0.9718756308686499, 'min_child_weight': 8, 'colsample_bylevel': 0.062107162540424934}. Best is trial 2 with value: 0.00026919178659423707.\n",
      "[I 2023-07-12 21:54:29,231] Trial 12 finished with value: 0.00031449947414582057 and parameters: {'n_estimators': 225, 'learning_rate': 0.09873989977808083, 'max_depth': 7, 'subsample': 0.9817984132671866, 'min_child_weight': 8, 'colsample_bylevel': 0.09346314488282956}. Best is trial 2 with value: 0.00026919178659423707.\n",
      "[I 2023-07-12 21:54:35,174] Trial 13 finished with value: 0.00035291540497038137 and parameters: {'n_estimators': 222, 'learning_rate': 0.0454452314098953, 'max_depth': 3, 'subsample': 0.39134661559279976, 'min_child_weight': 9, 'colsample_bylevel': 0.4519413027262448}. Best is trial 2 with value: 0.00026919178659423707.\n",
      "[I 2023-07-12 21:54:54,724] Trial 14 finished with value: 0.00031848350648634613 and parameters: {'n_estimators': 318, 'learning_rate': 0.015619292458210993, 'max_depth': 8, 'subsample': 0.7333242585741658, 'min_child_weight': 7, 'colsample_bylevel': 0.498004629625031}. Best is trial 2 with value: 0.00026919178659423707.\n",
      "[I 2023-07-12 21:55:04,630] Trial 15 finished with value: 0.00028598603461664273 and parameters: {'n_estimators': 267, 'learning_rate': 0.05446244781577236, 'max_depth': 4, 'subsample': 0.5709774794043455, 'min_child_weight': 10, 'colsample_bylevel': 0.7871265054715495}. Best is trial 2 with value: 0.00026919178659423707.\n",
      "[I 2023-07-12 21:55:21,694] Trial 16 finished with value: 0.0002737678913188541 and parameters: {'n_estimators': 488, 'learning_rate': 0.03846359400663439, 'max_depth': 4, 'subsample': 0.369158257776727, 'min_child_weight': 10, 'colsample_bylevel': 0.7885192587890303}. Best is trial 2 with value: 0.00026919178659423707.\n",
      "[I 2023-07-12 21:55:35,697] Trial 17 finished with value: 0.00032723074873746127 and parameters: {'n_estimators': 487, 'learning_rate': 0.026851195152294876, 'max_depth': 3, 'subsample': 0.36374102979491996, 'min_child_weight': 3, 'colsample_bylevel': 0.8045193233354642}. Best is trial 2 with value: 0.00026919178659423707.\n",
      "[I 2023-07-12 21:55:48,726] Trial 18 finished with value: 0.00035780236221299224 and parameters: {'n_estimators': 353, 'learning_rate': 0.015742582462002684, 'max_depth': 4, 'subsample': 0.32121651304480925, 'min_child_weight': 9, 'colsample_bylevel': 0.9958573329988394}. Best is trial 2 with value: 0.00026919178659423707.\n",
      "[I 2023-07-12 21:56:06,865] Trial 19 finished with value: 0.00025762557268447204 and parameters: {'n_estimators': 495, 'learning_rate': 0.05495978767185402, 'max_depth': 4, 'subsample': 0.43717278179141245, 'min_child_weight': 6, 'colsample_bylevel': 0.7121769951763677}. Best is trial 19 with value: 0.00025762557268447204.\n",
      "[I 2023-07-12 21:56:16,026] Trial 20 finished with value: 0.0002615968436761415 and parameters: {'n_estimators': 182, 'learning_rate': 0.05847263751456765, 'max_depth': 6, 'subsample': 0.45286257320204537, 'min_child_weight': 3, 'colsample_bylevel': 0.6774764188566691}. Best is trial 19 with value: 0.00025762557268447204.\n",
      "[I 2023-07-12 21:56:25,223] Trial 21 finished with value: 0.00025818093328212834 and parameters: {'n_estimators': 185, 'learning_rate': 0.06042158949521833, 'max_depth': 6, 'subsample': 0.44113703626540224, 'min_child_weight': 3, 'colsample_bylevel': 0.6667196946550016}. Best is trial 19 with value: 0.00025762557268447204.\n",
      "[I 2023-07-12 21:56:34,701] Trial 22 finished with value: 0.0002607557216113778 and parameters: {'n_estimators': 194, 'learning_rate': 0.058138129609414994, 'max_depth': 6, 'subsample': 0.4539361805251836, 'min_child_weight': 3, 'colsample_bylevel': 0.5617552993751618}. Best is trial 19 with value: 0.00025762557268447204.\n",
      "[I 2023-07-12 21:56:44,181] Trial 23 finished with value: 0.00025785880216175913 and parameters: {'n_estimators': 190, 'learning_rate': 0.06127223402990755, 'max_depth': 6, 'subsample': 0.5595844979531819, 'min_child_weight': 1, 'colsample_bylevel': 0.562247731685509}. Best is trial 19 with value: 0.00025762557268447204.\n",
      "[I 2023-07-12 21:56:55,139] Trial 24 finished with value: 0.00032736884174823023 and parameters: {'n_estimators': 176, 'learning_rate': 0.02757643163374864, 'max_depth': 8, 'subsample': 0.5770381760548076, 'min_child_weight': 1, 'colsample_bylevel': 0.5382031381150516}. Best is trial 19 with value: 0.00025762557268447204.\n",
      "[I 2023-07-12 21:57:03,138] Trial 25 finished with value: 0.00026550084382522216 and parameters: {'n_estimators': 148, 'learning_rate': 0.06502922462608232, 'max_depth': 6, 'subsample': 0.5644988496808768, 'min_child_weight': 1, 'colsample_bylevel': 0.6933027147373727}. Best is trial 19 with value: 0.00025762557268447204.\n",
      "[I 2023-07-12 21:57:22,548] Trial 26 finished with value: 0.00023817211433611144 and parameters: {'n_estimators': 305, 'learning_rate': 0.03452396493757689, 'max_depth': 8, 'subsample': 0.6243766697459201, 'min_child_weight': 4, 'colsample_bylevel': 0.46691465592634596}. Best is trial 26 with value: 0.00023817211433611144.\n",
      "[I 2023-07-12 21:57:55,595] Trial 27 finished with value: 0.00021568294536994324 and parameters: {'n_estimators': 452, 'learning_rate': 0.03215735426888183, 'max_depth': 9, 'subsample': 0.6340800688863539, 'min_child_weight': 4, 'colsample_bylevel': 0.45440483434810286}. Best is trial 27 with value: 0.00021568294536994324.\n",
      "[I 2023-07-12 21:58:25,745] Trial 28 finished with value: 0.00030623345558451667 and parameters: {'n_estimators': 466, 'learning_rate': 0.010816232839300938, 'max_depth': 9, 'subsample': 0.6268051175316657, 'min_child_weight': 4, 'colsample_bylevel': 0.45722220084647713}. Best is trial 27 with value: 0.00021568294536994324.\n",
      "[I 2023-07-12 21:58:53,694] Trial 29 finished with value: 0.0002236031425321887 and parameters: {'n_estimators': 397, 'learning_rate': 0.030442091608934456, 'max_depth': 9, 'subsample': 0.7053385927421258, 'min_child_weight': 6, 'colsample_bylevel': 0.4162447805744116}. Best is trial 27 with value: 0.00021568294536994324.\n"
     ]
    }
   ],
   "source": [
    "xgboost_study = optuna.create_study(direction=\"minimize\")\n",
    "xgboost_study.optimize(xgboost_objective, n_trials=30)"
   ]
  },
  {
   "cell_type": "code",
   "execution_count": 38,
   "metadata": {},
   "outputs": [
    {
     "name": "stdout",
     "output_type": "stream",
     "text": [
      "Best hyperparameters:  {'n_estimators': 452, 'learning_rate': 0.03215735426888183, 'max_depth': 9, 'subsample': 0.6340800688863539, 'min_child_weight': 4, 'colsample_bylevel': 0.45440483434810286}\n",
      "Best MSLE 0.00021568294536994324\n"
     ]
    }
   ],
   "source": [
    "print(\"Best hyperparameters: \", xgboost_study.best_params)\n",
    "print(\"Best MSLE\", xgboost_study.best_value)"
   ]
  },
  {
   "cell_type": "code",
   "execution_count": 39,
   "metadata": {},
   "outputs": [
    {
     "data": {
      "text/plain": [
       "0.00020921901142607533"
      ]
     },
     "execution_count": 39,
     "metadata": {},
     "output_type": "execute_result"
    }
   ],
   "source": [
    "xgboost_model = XGBRegressor(\n",
    "        **xgboost_study.best_params, random_state=random_state\n",
    "    )\n",
    "xgboost_model.fit(X_train, y_train)\n",
    "xgboost_predictions = xgboost_model.predict(X_test)\n",
    "mean_squared_log_error(y_test, xgboost_predictions)"
   ]
  },
  {
   "cell_type": "markdown",
   "metadata": {},
   "source": [
    "Wonderful! Now XGBoost regressor is also better than the voting regressor."
   ]
  },
  {
   "cell_type": "markdown",
   "metadata": {},
   "source": [
    "## Random Forest Regressor"
   ]
  },
  {
   "cell_type": "markdown",
   "metadata": {},
   "source": [
    "### Hyperparameter Descriptions\n",
    "\n",
    "For this model I could not find any other combinations of hyperparameters that could improve upon the vanilla model. So I'll just use to following two.\n",
    "\n",
    "- **Number of estimators** (`n_estimators`):Similar to CatBoostm, is the maximum number of trees that can be built within the model. We'll  values between 100 a 500.\n",
    "- **Depth** (`max_depth`): Also similar to the CatBoost. We'll use values between 1 and 10."
   ]
  },
  {
   "cell_type": "markdown",
   "metadata": {},
   "source": [
    "### Objective Function"
   ]
  },
  {
   "cell_type": "code",
   "execution_count": 107,
   "metadata": {},
   "outputs": [],
   "source": [
    "def random_forest_objective(trial):\n",
    "    params = {\n",
    "        \"n_estimators\": trial.suggest_int(\"n_estimators\", 70, 120),\n",
    "        \"max_depth\": trial.suggest_int(\"max_depth\", 1, 100),\n",
    "        # \"max_features\": trial.suggest_float(\"max_features\", 0.7, 1.0),\n",
    "    }\n",
    "\n",
    "    model = RandomForestRegressor(**params, n_jobs=-1, random_state=random_state)\n",
    "\n",
    "    scorer = make_scorer(mean_squared_log_error)\n",
    "    scores = cross_val_score(model, X_train, y_train, cv=5, scoring=scorer)\n",
    "\n",
    "    avg_msle = scores.mean()\n",
    "    return avg_msle"
   ]
  },
  {
   "cell_type": "markdown",
   "metadata": {},
   "source": [
    "### Optimization"
   ]
  },
  {
   "cell_type": "code",
   "execution_count": 108,
   "metadata": {},
   "outputs": [
    {
     "name": "stderr",
     "output_type": "stream",
     "text": [
      "[I 2023-07-13 22:17:42,040] A new study created in memory with name: no-name-85ebd399-80e1-4ba3-9610-e1cf62dce214\n",
      "[I 2023-07-13 22:17:54,706] Trial 0 finished with value: 0.0002405071476581513 and parameters: {'n_estimators': 76, 'max_depth': 43}. Best is trial 0 with value: 0.0002405071476581513.\n",
      "[I 2023-07-13 22:18:06,941] Trial 1 finished with value: 0.00024063044368127616 and parameters: {'n_estimators': 73, 'max_depth': 55}. Best is trial 0 with value: 0.0002405071476581513.\n",
      "[I 2023-07-13 22:18:21,324] Trial 2 finished with value: 0.00024002142435783114 and parameters: {'n_estimators': 87, 'max_depth': 38}. Best is trial 2 with value: 0.00024002142435783114.\n",
      "[I 2023-07-13 22:18:37,427] Trial 3 finished with value: 0.0002396708158978298 and parameters: {'n_estimators': 99, 'max_depth': 100}. Best is trial 3 with value: 0.0002396708158978298.\n",
      "[I 2023-07-13 22:18:53,563] Trial 4 finished with value: 0.0002450791908380493 and parameters: {'n_estimators': 118, 'max_depth': 17}. Best is trial 3 with value: 0.0002396708158978298.\n",
      "[I 2023-07-13 22:19:05,938] Trial 5 finished with value: 0.0002403209388257793 and parameters: {'n_estimators': 75, 'max_depth': 29}. Best is trial 3 with value: 0.0002396708158978298.\n",
      "[I 2023-07-13 22:19:18,141] Trial 6 finished with value: 0.00024044770321138292 and parameters: {'n_estimators': 73, 'max_depth': 29}. Best is trial 3 with value: 0.0002396708158978298.\n",
      "[I 2023-07-13 22:19:32,493] Trial 7 finished with value: 0.00024010138804953594 and parameters: {'n_estimators': 87, 'max_depth': 43}. Best is trial 3 with value: 0.0002396708158978298.\n",
      "[I 2023-07-13 22:19:50,911] Trial 8 finished with value: 0.00023927718858971118 and parameters: {'n_estimators': 115, 'max_depth': 81}. Best is trial 8 with value: 0.00023927718858971118.\n",
      "[I 2023-07-13 22:20:05,145] Trial 9 finished with value: 0.00024008326054448249 and parameters: {'n_estimators': 87, 'max_depth': 58}. Best is trial 8 with value: 0.00023927718858971118.\n",
      "[I 2023-07-13 22:20:24,092] Trial 10 finished with value: 0.00023915227192271814 and parameters: {'n_estimators': 119, 'max_depth': 86}. Best is trial 10 with value: 0.00023915227192271814.\n",
      "[I 2023-07-13 22:20:43,323] Trial 11 finished with value: 0.00023915518498671525 and parameters: {'n_estimators': 120, 'max_depth': 84}. Best is trial 10 with value: 0.00023915227192271814.\n",
      "[I 2023-07-13 22:21:00,661] Trial 12 finished with value: 0.0002394656558810009 and parameters: {'n_estimators': 107, 'max_depth': 76}. Best is trial 10 with value: 0.00023915227192271814.\n",
      "[I 2023-07-13 22:21:18,542] Trial 13 finished with value: 0.0002394189939794141 and parameters: {'n_estimators': 110, 'max_depth': 99}. Best is trial 10 with value: 0.00023915227192271814.\n",
      "[I 2023-07-13 22:21:37,898] Trial 14 finished with value: 0.00023915518498671527 and parameters: {'n_estimators': 120, 'max_depth': 75}. Best is trial 10 with value: 0.00023915227192271814.\n",
      "[I 2023-07-13 22:21:54,507] Trial 15 finished with value: 0.0002394790610659475 and parameters: {'n_estimators': 103, 'max_depth': 90}. Best is trial 10 with value: 0.00023915227192271814.\n",
      "[I 2023-07-13 22:22:12,775] Trial 16 finished with value: 0.00023933027149837259 and parameters: {'n_estimators': 112, 'max_depth': 66}. Best is trial 10 with value: 0.00023915227192271814.\n",
      "[I 2023-07-13 22:22:28,025] Trial 17 finished with value: 0.0002398510785787303 and parameters: {'n_estimators': 95, 'max_depth': 84}. Best is trial 10 with value: 0.00023915227192271814.\n",
      "[I 2023-07-13 22:22:30,056] Trial 18 finished with value: 0.0010996594459958778 and parameters: {'n_estimators': 120, 'max_depth': 1}. Best is trial 10 with value: 0.00023915227192271814.\n",
      "[I 2023-07-13 22:22:47,468] Trial 19 finished with value: 0.0002394656558810009 and parameters: {'n_estimators': 107, 'max_depth': 68}. Best is trial 10 with value: 0.00023915227192271814.\n",
      "[I 2023-07-13 22:23:05,950] Trial 20 finished with value: 0.00023927718858971124 and parameters: {'n_estimators': 115, 'max_depth': 90}. Best is trial 10 with value: 0.00023915227192271814.\n",
      "[I 2023-07-13 22:23:24,958] Trial 21 finished with value: 0.0002391559723132877 and parameters: {'n_estimators': 118, 'max_depth': 72}. Best is trial 10 with value: 0.00023915227192271814.\n",
      "[I 2023-07-13 22:23:44,283] Trial 22 finished with value: 0.00023915518498671525 and parameters: {'n_estimators': 120, 'max_depth': 89}. Best is trial 10 with value: 0.00023915227192271814.\n",
      "[I 2023-07-13 22:24:02,364] Trial 23 finished with value: 0.00023933027149837253 and parameters: {'n_estimators': 112, 'max_depth': 90}. Best is trial 10 with value: 0.00023915227192271814.\n",
      "[I 2023-07-13 22:24:20,964] Trial 24 finished with value: 0.00023926524080488616 and parameters: {'n_estimators': 114, 'max_depth': 86}. Best is trial 10 with value: 0.00023915227192271814.\n",
      "[I 2023-07-13 22:24:38,545] Trial 25 finished with value: 0.00023948123867093633 and parameters: {'n_estimators': 108, 'max_depth': 62}. Best is trial 10 with value: 0.00023915227192271814.\n",
      "[I 2023-07-13 22:24:53,932] Trial 26 finished with value: 0.00023985107857873032 and parameters: {'n_estimators': 95, 'max_depth': 96}. Best is trial 10 with value: 0.00023915227192271814.\n",
      "[I 2023-07-13 22:25:10,662] Trial 27 finished with value: 0.00023947906106594756 and parameters: {'n_estimators': 103, 'max_depth': 79}. Best is trial 10 with value: 0.00023915227192271814.\n",
      "[I 2023-07-13 22:25:29,255] Trial 28 finished with value: 0.00023926502124369805 and parameters: {'n_estimators': 116, 'max_depth': 93}. Best is trial 10 with value: 0.00023915227192271814.\n",
      "[I 2023-07-13 22:25:42,731] Trial 29 finished with value: 0.0002402615485852 and parameters: {'n_estimators': 81, 'max_depth': 49}. Best is trial 10 with value: 0.00023915227192271814.\n"
     ]
    }
   ],
   "source": [
    "random_forest_study = optuna.create_study(direction=\"minimize\")\n",
    "random_forest_study.optimize(random_forest_objective, n_trials=30)"
   ]
  },
  {
   "cell_type": "code",
   "execution_count": 109,
   "metadata": {},
   "outputs": [
    {
     "name": "stdout",
     "output_type": "stream",
     "text": [
      "Best hyperparameters:  {'n_estimators': 119, 'max_depth': 86}\n",
      "Best MSLE 0.00023915227192271814\n"
     ]
    }
   ],
   "source": [
    "print(\"Best hyperparameters: \", random_forest_study.best_params)\n",
    "print(\"Best MSLE\", random_forest_study.best_value)"
   ]
  },
  {
   "cell_type": "code",
   "execution_count": 110,
   "metadata": {},
   "outputs": [
    {
     "data": {
      "text/plain": [
       "0.0002276042588944481"
      ]
     },
     "execution_count": 110,
     "metadata": {},
     "output_type": "execute_result"
    }
   ],
   "source": [
    "random_forest_model = RandomForestRegressor(\n",
    "        **random_forest_study.best_params, random_state=random_state\n",
    "    )\n",
    "random_forest_model.fit(X_train, y_train)\n",
    "random_forest_model_predictions = random_forest_model.predict(X_test)\n",
    "mean_squared_log_error(y_test, random_forest_model_predictions)"
   ]
  },
  {
   "cell_type": "code",
   "execution_count": null,
   "metadata": {},
   "outputs": [],
   "source": []
  }
 ],
 "metadata": {
  "kernelspec": {
   "display_name": ".venv",
   "language": "python",
   "name": "python3"
  },
  "language_info": {
   "codemirror_mode": {
    "name": "ipython",
    "version": 3
   },
   "file_extension": ".py",
   "mimetype": "text/x-python",
   "name": "python",
   "nbconvert_exporter": "python",
   "pygments_lexer": "ipython3",
   "version": "3.10.9"
  },
  "orig_nbformat": 4
 },
 "nbformat": 4,
 "nbformat_minor": 2
}
