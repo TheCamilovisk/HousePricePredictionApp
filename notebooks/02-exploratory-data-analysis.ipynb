{
 "cells": [
  {
   "cell_type": "code",
   "execution_count": 1,
   "metadata": {},
   "outputs": [],
   "source": [
    "import os\n",
    "\n",
    "import matplotlib.pyplot as plt\n",
    "import numpy as np\n",
    "import pandas as pd\n",
    "import seaborn as sns"
   ]
  },
  {
   "attachments": {},
   "cell_type": "markdown",
   "metadata": {},
   "source": [
    "# Exploratory Data Analysis\n",
    "\n",
    "The last notebook was responsible for downloading the [Kaggle's São Paulo House Price dataset](https://www.kaggle.com/datasets/ex0ticone/house-prices-of-sao-paulo-city), filter irrelevant data (rentals, outliers) and saving it to \".parquet\", a more convenient file format.\n",
    "\n",
    "In this notebook, we will perform an Exploratory Data Analysis (EDA) of our dataset. Our goal is to get a better understanding of the dataset and identify any patterns or correlations between the features and the target variable (the house price). We will use various visualization techniques and statistical methods to explore the data and gain insights."
   ]
  },
  {
   "attachments": {},
   "cell_type": "markdown",
   "metadata": {},
   "source": [
    "## Dataset Loading\n",
    "\n",
    "Lets load our already processed dataset and check it."
   ]
  },
  {
   "cell_type": "code",
   "execution_count": 2,
   "metadata": {},
   "outputs": [],
   "source": [
    "processed_dataset_root_dir = os.path.join(os.path.dirname(os.path.abspath(\"\")), \"data\", \"processed\")"
   ]
  },
  {
   "cell_type": "code",
   "execution_count": 3,
   "metadata": {},
   "outputs": [
    {
     "data": {
      "text/html": [
       "<div>\n",
       "<style scoped>\n",
       "    .dataframe tbody tr th:only-of-type {\n",
       "        vertical-align: middle;\n",
       "    }\n",
       "\n",
       "    .dataframe tbody tr th {\n",
       "        vertical-align: top;\n",
       "    }\n",
       "\n",
       "    .dataframe thead th {\n",
       "        text-align: right;\n",
       "    }\n",
       "</style>\n",
       "<table border=\"1\" class=\"dataframe\">\n",
       "  <thead>\n",
       "    <tr style=\"text-align: right;\">\n",
       "      <th></th>\n",
       "      <th>bairro</th>\n",
       "      <th>tipo_imovel</th>\n",
       "      <th>area_util</th>\n",
       "      <th>banheiros</th>\n",
       "      <th>suites</th>\n",
       "      <th>quartos</th>\n",
       "      <th>vagas_garagem</th>\n",
       "      <th>anuncio_criado</th>\n",
       "      <th>preco_venda</th>\n",
       "      <th>taxa_condominio</th>\n",
       "      <th>iptu_ano</th>\n",
       "    </tr>\n",
       "  </thead>\n",
       "  <tbody>\n",
       "    <tr>\n",
       "      <th>0</th>\n",
       "      <td>Jardim da Saude</td>\n",
       "      <td>Casa de dois andares</td>\n",
       "      <td>388.0</td>\n",
       "      <td>3.0</td>\n",
       "      <td>1.0</td>\n",
       "      <td>4.0</td>\n",
       "      <td>6.0</td>\n",
       "      <td>2017-02-07</td>\n",
       "      <td>700000</td>\n",
       "      <td>NaN</td>\n",
       "      <td>NaN</td>\n",
       "    </tr>\n",
       "    <tr>\n",
       "      <th>1</th>\n",
       "      <td>Vila Santa Teresa (Zona Sul)</td>\n",
       "      <td>Casa</td>\n",
       "      <td>129.0</td>\n",
       "      <td>2.0</td>\n",
       "      <td>1.0</td>\n",
       "      <td>3.0</td>\n",
       "      <td>2.0</td>\n",
       "      <td>2016-03-21</td>\n",
       "      <td>336000</td>\n",
       "      <td>NaN</td>\n",
       "      <td>NaN</td>\n",
       "    </tr>\n",
       "    <tr>\n",
       "      <th>2</th>\n",
       "      <td>Vila Olimpia</td>\n",
       "      <td>Apartamento</td>\n",
       "      <td>80.0</td>\n",
       "      <td>2.0</td>\n",
       "      <td>1.0</td>\n",
       "      <td>3.0</td>\n",
       "      <td>2.0</td>\n",
       "      <td>2018-10-26</td>\n",
       "      <td>739643</td>\n",
       "      <td>686.0</td>\n",
       "      <td>1610.0</td>\n",
       "    </tr>\n",
       "    <tr>\n",
       "      <th>3</th>\n",
       "      <td>Pinheiros</td>\n",
       "      <td>Apartamento</td>\n",
       "      <td>94.0</td>\n",
       "      <td>1.0</td>\n",
       "      <td>0.0</td>\n",
       "      <td>3.0</td>\n",
       "      <td>2.0</td>\n",
       "      <td>2018-05-29</td>\n",
       "      <td>630700</td>\n",
       "      <td>1120.0</td>\n",
       "      <td>489.0</td>\n",
       "    </tr>\n",
       "    <tr>\n",
       "      <th>4</th>\n",
       "      <td>Vila Santa Clara</td>\n",
       "      <td>Condominio</td>\n",
       "      <td>110.0</td>\n",
       "      <td>1.0</td>\n",
       "      <td>1.0</td>\n",
       "      <td>3.0</td>\n",
       "      <td>2.0</td>\n",
       "      <td>2018-04-16</td>\n",
       "      <td>385000</td>\n",
       "      <td>0.0</td>\n",
       "      <td>0.0</td>\n",
       "    </tr>\n",
       "    <tr>\n",
       "      <th>...</th>\n",
       "      <td>...</td>\n",
       "      <td>...</td>\n",
       "      <td>...</td>\n",
       "      <td>...</td>\n",
       "      <td>...</td>\n",
       "      <td>...</td>\n",
       "      <td>...</td>\n",
       "      <td>...</td>\n",
       "      <td>...</td>\n",
       "      <td>...</td>\n",
       "      <td>...</td>\n",
       "    </tr>\n",
       "    <tr>\n",
       "      <th>89437</th>\n",
       "      <td>Vila Carmosina</td>\n",
       "      <td>Apartamento</td>\n",
       "      <td>48.0</td>\n",
       "      <td>1.0</td>\n",
       "      <td>0.0</td>\n",
       "      <td>2.0</td>\n",
       "      <td>1.0</td>\n",
       "      <td>2017-10-07</td>\n",
       "      <td>171150</td>\n",
       "      <td>244.0</td>\n",
       "      <td>0.0</td>\n",
       "    </tr>\n",
       "    <tr>\n",
       "      <th>89438</th>\n",
       "      <td>Bela Vista</td>\n",
       "      <td>Apartamento</td>\n",
       "      <td>60.0</td>\n",
       "      <td>1.0</td>\n",
       "      <td>NaN</td>\n",
       "      <td>1.0</td>\n",
       "      <td>1.0</td>\n",
       "      <td>2017-12-13</td>\n",
       "      <td>251999</td>\n",
       "      <td>273.0</td>\n",
       "      <td>86.0</td>\n",
       "    </tr>\n",
       "    <tr>\n",
       "      <th>89439</th>\n",
       "      <td>Liberdade</td>\n",
       "      <td>Apartamento</td>\n",
       "      <td>53.0</td>\n",
       "      <td>2.0</td>\n",
       "      <td>1.0</td>\n",
       "      <td>2.0</td>\n",
       "      <td>1.0</td>\n",
       "      <td>2018-11-28</td>\n",
       "      <td>249782</td>\n",
       "      <td>210.0</td>\n",
       "      <td>0.0</td>\n",
       "    </tr>\n",
       "    <tr>\n",
       "      <th>89440</th>\n",
       "      <td>Vila Lageado</td>\n",
       "      <td>Apartamento</td>\n",
       "      <td>20.0</td>\n",
       "      <td>3.0</td>\n",
       "      <td>2.0</td>\n",
       "      <td>3.0</td>\n",
       "      <td>2.0</td>\n",
       "      <td>2019-02-06</td>\n",
       "      <td>623000</td>\n",
       "      <td>NaN</td>\n",
       "      <td>NaN</td>\n",
       "    </tr>\n",
       "    <tr>\n",
       "      <th>89441</th>\n",
       "      <td>Alto de Pinheiros</td>\n",
       "      <td>Casa de dois andares</td>\n",
       "      <td>357.0</td>\n",
       "      <td>4.0</td>\n",
       "      <td>1.0</td>\n",
       "      <td>4.0</td>\n",
       "      <td>4.0</td>\n",
       "      <td>2018-04-14</td>\n",
       "      <td>1820000</td>\n",
       "      <td>0.0</td>\n",
       "      <td>665.0</td>\n",
       "    </tr>\n",
       "  </tbody>\n",
       "</table>\n",
       "<p>89442 rows × 11 columns</p>\n",
       "</div>"
      ],
      "text/plain": [
       "                             bairro           tipo_imovel  area_util  \\\n",
       "0                   Jardim da Saude  Casa de dois andares      388.0   \n",
       "1      Vila Santa Teresa (Zona Sul)                  Casa      129.0   \n",
       "2                      Vila Olimpia           Apartamento       80.0   \n",
       "3                         Pinheiros           Apartamento       94.0   \n",
       "4                  Vila Santa Clara            Condominio      110.0   \n",
       "...                             ...                   ...        ...   \n",
       "89437                Vila Carmosina           Apartamento       48.0   \n",
       "89438                    Bela Vista           Apartamento       60.0   \n",
       "89439                     Liberdade           Apartamento       53.0   \n",
       "89440                  Vila Lageado           Apartamento       20.0   \n",
       "89441             Alto de Pinheiros  Casa de dois andares      357.0   \n",
       "\n",
       "       banheiros  suites  quartos  vagas_garagem anuncio_criado  preco_venda  \\\n",
       "0            3.0     1.0      4.0            6.0     2017-02-07       700000   \n",
       "1            2.0     1.0      3.0            2.0     2016-03-21       336000   \n",
       "2            2.0     1.0      3.0            2.0     2018-10-26       739643   \n",
       "3            1.0     0.0      3.0            2.0     2018-05-29       630700   \n",
       "4            1.0     1.0      3.0            2.0     2018-04-16       385000   \n",
       "...          ...     ...      ...            ...            ...          ...   \n",
       "89437        1.0     0.0      2.0            1.0     2017-10-07       171150   \n",
       "89438        1.0     NaN      1.0            1.0     2017-12-13       251999   \n",
       "89439        2.0     1.0      2.0            1.0     2018-11-28       249782   \n",
       "89440        3.0     2.0      3.0            2.0     2019-02-06       623000   \n",
       "89441        4.0     1.0      4.0            4.0     2018-04-14      1820000   \n",
       "\n",
       "       taxa_condominio  iptu_ano  \n",
       "0                  NaN       NaN  \n",
       "1                  NaN       NaN  \n",
       "2                686.0    1610.0  \n",
       "3               1120.0     489.0  \n",
       "4                  0.0       0.0  \n",
       "...                ...       ...  \n",
       "89437            244.0       0.0  \n",
       "89438            273.0      86.0  \n",
       "89439            210.0       0.0  \n",
       "89440              NaN       NaN  \n",
       "89441              0.0     665.0  \n",
       "\n",
       "[89442 rows x 11 columns]"
      ]
     },
     "execution_count": 3,
     "metadata": {},
     "output_type": "execute_result"
    }
   ],
   "source": [
    "sp_house_price = pd.read_parquet(os.path.join(processed_dataset_root_dir, \"sp_sales_data.parquet\"))\n",
    "sp_house_price"
   ]
  },
  {
   "cell_type": "code",
   "execution_count": 4,
   "metadata": {},
   "outputs": [
    {
     "name": "stdout",
     "output_type": "stream",
     "text": [
      "<class 'pandas.core.frame.DataFrame'>\n",
      "RangeIndex: 89442 entries, 0 to 89441\n",
      "Data columns (total 11 columns):\n",
      " #   Column           Non-Null Count  Dtype         \n",
      "---  ------           --------------  -----         \n",
      " 0   bairro           89442 non-null  object        \n",
      " 1   tipo_imovel      89442 non-null  object        \n",
      " 2   area_util        87770 non-null  float64       \n",
      " 3   banheiros        89437 non-null  float64       \n",
      " 4   suites           81521 non-null  float64       \n",
      " 5   quartos          89439 non-null  float64       \n",
      " 6   vagas_garagem    87797 non-null  float64       \n",
      " 7   anuncio_criado   89442 non-null  datetime64[ns]\n",
      " 8   preco_venda      89442 non-null  int64         \n",
      " 9   taxa_condominio  78703 non-null  float64       \n",
      " 10  iptu_ano         73994 non-null  float64       \n",
      "dtypes: datetime64[ns](1), float64(7), int64(1), object(2)\n",
      "memory usage: 7.5+ MB\n"
     ]
    }
   ],
   "source": [
    "\n",
    "sp_house_price.info()"
   ]
  },
  {
   "attachments": {},
   "cell_type": "markdown",
   "metadata": {},
   "source": [
    "Our dataset now has 89441 entries and 10 features, including the target feature `preco_venda`. For the feature type we have `bairro` and `tipo_movel` as *objects*, `anuncio_criado` as *datetime*, `preco_venda` as an *integer* and the remaining features as *floats*, but don't let these types misguide you.\n",
    "\n",
    "First of all, as it's own name sugests, `preco_venda` is in *monetary units* (**Reais** in this case), so it would be wise to consider those values as *floats*, and the decimal places would account for **cents**.\n",
    "\n",
    "`banheiros`, `suites`, `quartos` and `vagas_garagem` as *floats* doesn't sounds good too. e.g.: 0.75 bathroom doesn't make sense. It's more likely that these features were considered *floats* by Pandas by the occurences of *missing values* in them, as these are represented by `nan` (a float value).\n",
    "\n",
    "Speaking of *missing values*, they occur in some features. Let's how the features are affected by this."
   ]
  },
  {
   "cell_type": "code",
   "execution_count": 5,
   "metadata": {},
   "outputs": [
    {
     "data": {
      "image/png": "[encoded data removed]",
      "text/plain": [
       "<Figure size 500x500 with 1 Axes>"
      ]
     },
     "metadata": {},
     "output_type": "display_data"
    }
   ],
   "source": [
    "na_counts = sp_house_price.isna().sum(axis=\"rows\").sort_values(ascending=False)\n",
    "\n",
    "_, ax = plt.subplots(figsize=(5, 5))\n",
    "sns.barplot(x=na_counts, y=na_counts.index, ax=ax)\n",
    "\n",
    "for p in ax.patches:\n",
    "    x = p.get_x()\n",
    "    y = p.get_y()\n",
    "    width = p.get_width()\n",
    "    height = p.get_height()\n",
    "    ax.annotate(f\"{int(width)}\", (width + x, y + height * 0.65), ha=\"left\")\n",
    "\n",
    "ax.set_xlim([0, int(1.15 * na_counts.values[0])])\n",
    "ax.axes.get_xaxis().set_visible(False)\n",
    "ax.set_title(\"Missing values counts by feature\");"
   ]
  },
  {
   "attachments": {},
   "cell_type": "markdown",
   "metadata": {},
   "source": [
    "`iptu_ano` is the feature with most *missing values*, followed by `taxa_condominio` and `suites`. Some of those missing values seems to be erros, as the lack of values would not make sense for `area_util`, `banheiros` and `quartos`. We'll deal with those values after our analysis, that will bring us some insights on how to handle them."
   ]
  },
  {
   "attachments": {},
   "cell_type": "markdown",
   "metadata": {},
   "source": [
    "# Univariate Analysis\n",
    "\n",
    "Now we'll conduct our analysis by checking each features individually, starting with our target feature."
   ]
  },
  {
   "attachments": {},
   "cell_type": "markdown",
   "metadata": {},
   "source": [
    "## preco_venda"
   ]
  },
  {
   "cell_type": "code",
   "execution_count": 6,
   "metadata": {},
   "outputs": [
    {
     "data": {
      "image/png": "[encoded data removed]",
      "text/plain": [
       "<Figure size 700x500 with 2 Axes>"
      ]
     },
     "metadata": {},
     "output_type": "display_data"
    }
   ],
   "source": [
    "_, (ax1, ax2) = plt.subplots(nrows=2, figsize=(7, 5))\n",
    "sns.boxplot(x=\"preco_venda\", data=sp_house_price, ax=ax1);\n",
    "sns.histplot(x=\"preco_venda\", data=sp_house_price, ax=ax2);\n",
    "\n",
    "plt.tight_layout()"
   ]
  },
  {
   "cell_type": "code",
   "execution_count": null,
   "metadata": {},
   "outputs": [],
   "source": []
  }
 ],
 "metadata": {
  "kernelspec": {
   "display_name": ".venv",
   "language": "python",
   "name": "python3"
  },
  "language_info": {
   "codemirror_mode": {
    "name": "ipython",
    "version": 3
   },
   "file_extension": ".py",
   "mimetype": "text/x-python",
   "name": "python",
   "nbconvert_exporter": "python",
   "pygments_lexer": "ipython3",
   "version": "3.10.9"
  },
  "orig_nbformat": 4
 },
 "nbformat": 4,
 "nbformat_minor": 2
}
